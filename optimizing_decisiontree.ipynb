{
  "nbformat": 4,
  "nbformat_minor": 0,
  "metadata": {
    "colab": {
      "provenance": [],
      "gpuType": "T4"
    },
    "kernelspec": {
      "name": "python3",
      "display_name": "Python 3"
    },
    "language_info": {
      "name": "python"
    },
    "accelerator": "GPU"
  },
  "cells": [
    {
      "cell_type": "code",
      "source": [
        "!pip install optuna"
      ],
      "metadata": {
        "colab": {
          "base_uri": "https://localhost:8080/"
        },
        "id": "Cca5m0Eza6Hw",
        "outputId": "dd8a166d-f374-444a-f049-c82da2140290"
      },
      "execution_count": 2,
      "outputs": [
        {
          "output_type": "stream",
          "name": "stdout",
          "text": [
            "Collecting optuna\n",
            "  Downloading optuna-3.6.1-py3-none-any.whl (380 kB)\n",
            "\u001b[2K     \u001b[90m━━━━━━━━━━━━━━━━━━━━━━━━━━━━━━━━━━━━━━━━\u001b[0m \u001b[32m380.1/380.1 kB\u001b[0m \u001b[31m8.3 MB/s\u001b[0m eta \u001b[36m0:00:00\u001b[0m\n",
            "\u001b[?25hCollecting alembic>=1.5.0 (from optuna)\n",
            "  Downloading alembic-1.13.1-py3-none-any.whl (233 kB)\n",
            "\u001b[2K     \u001b[90m━━━━━━━━━━━━━━━━━━━━━━━━━━━━━━━━━━━━━━━━\u001b[0m \u001b[32m233.4/233.4 kB\u001b[0m \u001b[31m13.3 MB/s\u001b[0m eta \u001b[36m0:00:00\u001b[0m\n",
            "\u001b[?25hCollecting colorlog (from optuna)\n",
            "  Downloading colorlog-6.8.2-py3-none-any.whl (11 kB)\n",
            "Requirement already satisfied: numpy in /usr/local/lib/python3.10/dist-packages (from optuna) (1.25.2)\n",
            "Requirement already satisfied: packaging>=20.0 in /usr/local/lib/python3.10/dist-packages (from optuna) (24.0)\n",
            "Requirement already satisfied: sqlalchemy>=1.3.0 in /usr/local/lib/python3.10/dist-packages (from optuna) (2.0.29)\n",
            "Requirement already satisfied: tqdm in /usr/local/lib/python3.10/dist-packages (from optuna) (4.66.2)\n",
            "Requirement already satisfied: PyYAML in /usr/local/lib/python3.10/dist-packages (from optuna) (6.0.1)\n",
            "Collecting Mako (from alembic>=1.5.0->optuna)\n",
            "  Downloading Mako-1.3.2-py3-none-any.whl (78 kB)\n",
            "\u001b[2K     \u001b[90m━━━━━━━━━━━━━━━━━━━━━━━━━━━━━━━━━━━━━━━━\u001b[0m \u001b[32m78.7/78.7 kB\u001b[0m \u001b[31m12.6 MB/s\u001b[0m eta \u001b[36m0:00:00\u001b[0m\n",
            "\u001b[?25hRequirement already satisfied: typing-extensions>=4 in /usr/local/lib/python3.10/dist-packages (from alembic>=1.5.0->optuna) (4.10.0)\n",
            "Requirement already satisfied: greenlet!=0.4.17 in /usr/local/lib/python3.10/dist-packages (from sqlalchemy>=1.3.0->optuna) (3.0.3)\n",
            "Requirement already satisfied: MarkupSafe>=0.9.2 in /usr/local/lib/python3.10/dist-packages (from Mako->alembic>=1.5.0->optuna) (2.1.5)\n",
            "Installing collected packages: Mako, colorlog, alembic, optuna\n",
            "Successfully installed Mako-1.3.2 alembic-1.13.1 colorlog-6.8.2 optuna-3.6.1\n"
          ]
        }
      ]
    },
    {
      "cell_type": "code",
      "execution_count": 3,
      "metadata": {
        "id": "r6_Q3KO7aeFA"
      },
      "outputs": [],
      "source": [
        "import pandas as pd\n",
        "import matplotlib.pyplot as plt\n",
        "import numpy as np\n",
        "import re\n",
        "from sklearn.model_selection import train_test_split\n",
        "from sklearn.tree import DecisionTreeClassifier\n",
        "from sklearn.feature_extraction import DictVectorizer\n",
        "from sklearn.metrics import f1_score,classification_report,accuracy_score\n",
        "import optuna\n",
        "from optuna.samplers import TPESampler\n",
        "%matplotlib inline"
      ]
    },
    {
      "cell_type": "code",
      "source": [
        "df=pd.read_csv(\"/content/data_sample.csv\")\n",
        "df.shape"
      ],
      "metadata": {
        "colab": {
          "base_uri": "https://localhost:8080/"
        },
        "id": "NbWxe4SQdjqc",
        "outputId": "ac0de0f3-670f-4923-ade7-bd83a18e6f46"
      },
      "execution_count": 5,
      "outputs": [
        {
          "output_type": "execute_result",
          "data": {
            "text/plain": [
              "(3079, 294)"
            ]
          },
          "metadata": {},
          "execution_count": 5
        }
      ]
    },
    {
      "cell_type": "code",
      "source": [
        "df['target'] = np.where(df['ResponseRate'] == 0, 'B1',\n",
        "                        np.where((df['ResponseRate'] > 0) & (df['ResponseRate'] < 0.15), 'B2',\n",
        "                                 np.where(df['ResponseRate'] >= 0.15, 'B3', 'Not Specified')))"
      ],
      "metadata": {
        "id": "7WMyq1SVidCW"
      },
      "execution_count": 6,
      "outputs": []
    },
    {
      "cell_type": "code",
      "source": [
        "df['target'].value_counts()"
      ],
      "metadata": {
        "colab": {
          "base_uri": "https://localhost:8080/"
        },
        "id": "egAMoLp8lNYj",
        "outputId": "2011cf37-b1c0-44b8-bd49-8db7ea31ccd0"
      },
      "execution_count": 7,
      "outputs": [
        {
          "output_type": "execute_result",
          "data": {
            "text/plain": [
              "B1    1635\n",
              "B3     855\n",
              "B2     589\n",
              "Name: target, dtype: int64"
            ]
          },
          "metadata": {},
          "execution_count": 7
        }
      ]
    },
    {
      "cell_type": "code",
      "source": [
        "# List the columns to remove\n",
        "columns_to_remove = ['OfferHistoryID', 'ResponseRate']\n",
        "# Drop the specified columns from the DataFrame\n",
        "df.drop(columns=columns_to_remove, inplace=True)"
      ],
      "metadata": {
        "id": "A_knsLi1idHz"
      },
      "execution_count": 8,
      "outputs": []
    },
    {
      "cell_type": "code",
      "source": [
        "df=df.fillna(0)"
      ],
      "metadata": {
        "id": "t7rret99x1TA"
      },
      "execution_count": 9,
      "outputs": []
    },
    {
      "cell_type": "code",
      "source": [
        "df.shape"
      ],
      "metadata": {
        "colab": {
          "base_uri": "https://localhost:8080/"
        },
        "id": "M6gdMg7MidKj",
        "outputId": "7ed5dd4f-ba8b-4546-e3ad-eaa7ca351d54"
      },
      "execution_count": 10,
      "outputs": [
        {
          "output_type": "execute_result",
          "data": {
            "text/plain": [
              "(3079, 293)"
            ]
          },
          "metadata": {},
          "execution_count": 10
        }
      ]
    },
    {
      "cell_type": "code",
      "source": [
        "# Splitting the dataset into X and y\n",
        "X = df.drop('target', axis=1)  # Features: all columns except 'target'\n",
        "y = df['target']"
      ],
      "metadata": {
        "id": "dkaZZXA5m0-6"
      },
      "execution_count": 11,
      "outputs": []
    },
    {
      "cell_type": "code",
      "source": [
        "# Splitting dataset into training and testing set\n",
        "X_train, X_test, y_train, y_test = train_test_split(X, y, test_size=0.2, random_state=42)"
      ],
      "metadata": {
        "id": "xhQNu-qBm1Bh"
      },
      "execution_count": 12,
      "outputs": []
    },
    {
      "cell_type": "markdown",
      "source": [
        "**HYPERPARAMETER_TUNING**"
      ],
      "metadata": {
        "id": "YQ6gbNm5bhxi"
      }
    },
    {
      "cell_type": "code",
      "source": [
        "def objective(trial):\n",
        "    params = {\n",
        "        #\"iterations\":500,\n",
        "        #\"learning_rate\": 0.01,\n",
        "        \"max_depth\": trial.suggest_int(\"max_depth\", 3,10),\n",
        "        \"min_samples_leaf\": trial.suggest_int(\"min_samples_leaf\", 1,10),\n",
        "        \"min_samples_split\":trial.suggest_int(\"min_samples_split\",2,10),\n",
        "        \"random_state\": 42,\n",
        "        # \"subsample\": trial.suggest_uniform('subsample', 0.5, 1.0),\n",
        "        #\"min_samples_leaf\": 1,\n",
        "    }\n",
        "\n",
        "    model = DecisionTreeClassifier(**params)\n",
        "    model.fit(X_train, y_train)\n",
        "    y_pred_test = model.predict(X_test)\n",
        "    f1 = f1_score(y_test, y_pred_test,average='weighted')\n",
        "    return f1\n",
        "\n",
        "sampler = TPESampler(seed=42)\n",
        "study = optuna.create_study(direction='maximize',sampler=sampler)\n",
        "study.optimize(objective, n_trials=200)\n",
        "\n",
        "print('Best hyperparameters:', study.best_params)\n",
        "print('Best F1:', study.best_value)"
      ],
      "metadata": {
        "colab": {
          "base_uri": "https://localhost:8080/"
        },
        "id": "5SmIIdUhaoz9",
        "outputId": "af439f20-45b0-41e5-b156-7253aa6ec673"
      },
      "execution_count": 15,
      "outputs": [
        {
          "output_type": "stream",
          "name": "stderr",
          "text": [
            "[I 2024-04-02 12:45:47,468] A new study created in memory with name: no-name-0db46f1c-b045-45b2-a624-3c95074eb3a6\n",
            "[I 2024-04-02 12:45:47,514] Trial 0 finished with value: 0.9439589171457409 and parameters: {'max_depth': 5, 'min_samples_leaf': 10, 'min_samples_split': 8}. Best is trial 0 with value: 0.9439589171457409.\n",
            "[I 2024-04-02 12:45:47,560] Trial 1 finished with value: 0.9342350668955507 and parameters: {'max_depth': 7, 'min_samples_leaf': 2, 'min_samples_split': 3}. Best is trial 0 with value: 0.9439589171457409.\n",
            "[I 2024-04-02 12:45:47,599] Trial 2 finished with value: 0.9356675495945435 and parameters: {'max_depth': 3, 'min_samples_leaf': 9, 'min_samples_split': 7}. Best is trial 0 with value: 0.9439589171457409.\n",
            "[I 2024-04-02 12:45:47,639] Trial 3 finished with value: 0.9283687019859084 and parameters: {'max_depth': 8, 'min_samples_leaf': 1, 'min_samples_split': 10}. Best is trial 0 with value: 0.9439589171457409.\n",
            "[I 2024-04-02 12:45:47,679] Trial 4 finished with value: 0.9114110837013875 and parameters: {'max_depth': 9, 'min_samples_leaf': 3, 'min_samples_split': 3}. Best is trial 0 with value: 0.9439589171457409.\n",
            "[I 2024-04-02 12:45:47,716] Trial 5 finished with value: 0.9188193839654846 and parameters: {'max_depth': 4, 'min_samples_leaf': 4, 'min_samples_split': 6}. Best is trial 0 with value: 0.9439589171457409.\n",
            "[I 2024-04-02 12:45:47,739] Trial 6 finished with value: 0.9391594958533698 and parameters: {'max_depth': 6, 'min_samples_leaf': 3, 'min_samples_split': 7}. Best is trial 0 with value: 0.9439589171457409.\n",
            "[I 2024-04-02 12:45:47,761] Trial 7 finished with value: 0.9188193839654846 and parameters: {'max_depth': 4, 'min_samples_leaf': 3, 'min_samples_split': 5}. Best is trial 0 with value: 0.9439589171457409.\n",
            "[I 2024-04-02 12:45:47,783] Trial 8 finished with value: 0.9375742049404648 and parameters: {'max_depth': 6, 'min_samples_leaf': 8, 'min_samples_split': 3}. Best is trial 0 with value: 0.9439589171457409.\n",
            "[I 2024-04-02 12:45:47,806] Trial 9 finished with value: 0.9235355142527532 and parameters: {'max_depth': 7, 'min_samples_leaf': 6, 'min_samples_split': 2}. Best is trial 0 with value: 0.9439589171457409.\n",
            "[I 2024-04-02 12:45:47,850] Trial 10 finished with value: 0.910026937505157 and parameters: {'max_depth': 10, 'min_samples_leaf': 10, 'min_samples_split': 10}. Best is trial 0 with value: 0.9439589171457409.\n",
            "[I 2024-04-02 12:45:47,885] Trial 11 finished with value: 0.9455457690068224 and parameters: {'max_depth': 5, 'min_samples_leaf': 6, 'min_samples_split': 8}. Best is trial 11 with value: 0.9455457690068224.\n",
            "[I 2024-04-02 12:45:47,924] Trial 12 finished with value: 0.9455457690068224 and parameters: {'max_depth': 5, 'min_samples_leaf': 7, 'min_samples_split': 8}. Best is trial 11 with value: 0.9455457690068224.\n",
            "[I 2024-04-02 12:45:47,960] Trial 13 finished with value: 0.9455457690068224 and parameters: {'max_depth': 5, 'min_samples_leaf': 7, 'min_samples_split': 9}. Best is trial 11 with value: 0.9455457690068224.\n",
            "[I 2024-04-02 12:45:47,994] Trial 14 finished with value: 0.9356675495945435 and parameters: {'max_depth': 3, 'min_samples_leaf': 5, 'min_samples_split': 8}. Best is trial 11 with value: 0.9455457690068224.\n",
            "[I 2024-04-02 12:45:48,030] Trial 15 finished with value: 0.9455457690068224 and parameters: {'max_depth': 5, 'min_samples_leaf': 6, 'min_samples_split': 5}. Best is trial 11 with value: 0.9455457690068224.\n",
            "[I 2024-04-02 12:45:48,065] Trial 16 finished with value: 0.9136847637184844 and parameters: {'max_depth': 4, 'min_samples_leaf': 8, 'min_samples_split': 8}. Best is trial 11 with value: 0.9455457690068224.\n",
            "[I 2024-04-02 12:45:48,103] Trial 17 finished with value: 0.9423139300356452 and parameters: {'max_depth': 6, 'min_samples_leaf': 5, 'min_samples_split': 9}. Best is trial 11 with value: 0.9455457690068224.\n",
            "[I 2024-04-02 12:45:48,141] Trial 18 finished with value: 0.9267804016229291 and parameters: {'max_depth': 8, 'min_samples_leaf': 7, 'min_samples_split': 6}. Best is trial 11 with value: 0.9455457690068224.\n",
            "[I 2024-04-02 12:45:48,178] Trial 19 finished with value: 0.9455457690068224 and parameters: {'max_depth': 5, 'min_samples_leaf': 7, 'min_samples_split': 9}. Best is trial 11 with value: 0.9455457690068224.\n",
            "[I 2024-04-02 12:45:48,215] Trial 20 finished with value: 0.9136847637184844 and parameters: {'max_depth': 4, 'min_samples_leaf': 8, 'min_samples_split': 7}. Best is trial 11 with value: 0.9455457690068224.\n",
            "[I 2024-04-02 12:45:48,253] Trial 21 finished with value: 0.9455457690068224 and parameters: {'max_depth': 5, 'min_samples_leaf': 7, 'min_samples_split': 9}. Best is trial 11 with value: 0.9455457690068224.\n",
            "[I 2024-04-02 12:45:48,293] Trial 22 finished with value: 0.9455457690068224 and parameters: {'max_depth': 5, 'min_samples_leaf': 6, 'min_samples_split': 9}. Best is trial 11 with value: 0.9455457690068224.\n",
            "[I 2024-04-02 12:45:48,329] Trial 23 finished with value: 0.9423139300356452 and parameters: {'max_depth': 6, 'min_samples_leaf': 5, 'min_samples_split': 10}. Best is trial 11 with value: 0.9455457690068224.\n",
            "[I 2024-04-02 12:45:48,366] Trial 24 finished with value: 0.927599268150449 and parameters: {'max_depth': 7, 'min_samples_leaf': 9, 'min_samples_split': 8}. Best is trial 11 with value: 0.9455457690068224.\n",
            "[I 2024-04-02 12:45:48,403] Trial 25 finished with value: 0.9356675495945435 and parameters: {'max_depth': 3, 'min_samples_leaf': 7, 'min_samples_split': 7}. Best is trial 11 with value: 0.9455457690068224.\n",
            "[I 2024-04-02 12:45:48,440] Trial 26 finished with value: 0.9188193839654846 and parameters: {'max_depth': 4, 'min_samples_leaf': 4, 'min_samples_split': 9}. Best is trial 11 with value: 0.9455457690068224.\n",
            "[I 2024-04-02 12:45:48,475] Trial 27 finished with value: 0.9439589171457409 and parameters: {'max_depth': 5, 'min_samples_leaf': 9, 'min_samples_split': 8}. Best is trial 11 with value: 0.9455457690068224.\n",
            "[I 2024-04-02 12:45:48,516] Trial 28 finished with value: 0.9423139300356452 and parameters: {'max_depth': 6, 'min_samples_leaf': 6, 'min_samples_split': 6}. Best is trial 11 with value: 0.9455457690068224.\n",
            "[I 2024-04-02 12:45:48,554] Trial 29 finished with value: 0.9439589171457409 and parameters: {'max_depth': 5, 'min_samples_leaf': 8, 'min_samples_split': 5}. Best is trial 11 with value: 0.9455457690068224.\n",
            "[I 2024-04-02 12:45:48,593] Trial 30 finished with value: 0.9136847637184844 and parameters: {'max_depth': 4, 'min_samples_leaf': 10, 'min_samples_split': 8}. Best is trial 11 with value: 0.9455457690068224.\n",
            "[I 2024-04-02 12:45:48,634] Trial 31 finished with value: 0.9455457690068224 and parameters: {'max_depth': 5, 'min_samples_leaf': 6, 'min_samples_split': 5}. Best is trial 11 with value: 0.9455457690068224.\n",
            "[I 2024-04-02 12:45:48,676] Trial 32 finished with value: 0.9423139300356452 and parameters: {'max_depth': 6, 'min_samples_leaf': 7, 'min_samples_split': 4}. Best is trial 11 with value: 0.9455457690068224.\n",
            "[I 2024-04-02 12:45:48,718] Trial 33 finished with value: 0.9455457690068224 and parameters: {'max_depth': 5, 'min_samples_leaf': 6, 'min_samples_split': 6}. Best is trial 11 with value: 0.9455457690068224.\n",
            "[I 2024-04-02 12:45:48,758] Trial 34 finished with value: 0.9356675495945435 and parameters: {'max_depth': 3, 'min_samples_leaf': 4, 'min_samples_split': 4}. Best is trial 11 with value: 0.9455457690068224.\n",
            "[I 2024-04-02 12:45:48,797] Trial 35 finished with value: 0.9235355142527532 and parameters: {'max_depth': 7, 'min_samples_leaf': 5, 'min_samples_split': 7}. Best is trial 11 with value: 0.9455457690068224.\n",
            "[I 2024-04-02 12:45:48,834] Trial 36 finished with value: 0.9455457690068224 and parameters: {'max_depth': 5, 'min_samples_leaf': 7, 'min_samples_split': 10}. Best is trial 11 with value: 0.9455457690068224.\n",
            "[I 2024-04-02 12:45:48,881] Trial 37 finished with value: 0.9136847637184844 and parameters: {'max_depth': 4, 'min_samples_leaf': 9, 'min_samples_split': 4}. Best is trial 11 with value: 0.9455457690068224.\n",
            "[I 2024-04-02 12:45:48,920] Trial 38 finished with value: 0.9249714586886043 and parameters: {'max_depth': 8, 'min_samples_leaf': 1, 'min_samples_split': 7}. Best is trial 11 with value: 0.9455457690068224.\n",
            "[I 2024-04-02 12:45:48,958] Trial 39 finished with value: 0.9423139300356452 and parameters: {'max_depth': 6, 'min_samples_leaf': 6, 'min_samples_split': 8}. Best is trial 11 with value: 0.9455457690068224.\n",
            "[I 2024-04-02 12:45:48,999] Trial 40 finished with value: 0.9188193839654846 and parameters: {'max_depth': 4, 'min_samples_leaf': 2, 'min_samples_split': 5}. Best is trial 11 with value: 0.9455457690068224.\n",
            "[I 2024-04-02 12:45:49,045] Trial 41 finished with value: 0.9455457690068224 and parameters: {'max_depth': 5, 'min_samples_leaf': 7, 'min_samples_split': 9}. Best is trial 11 with value: 0.9455457690068224.\n",
            "[I 2024-04-02 12:45:49,086] Trial 42 finished with value: 0.9439589171457409 and parameters: {'max_depth': 5, 'min_samples_leaf': 8, 'min_samples_split': 9}. Best is trial 11 with value: 0.9455457690068224.\n",
            "[I 2024-04-02 12:45:49,126] Trial 43 finished with value: 0.9423139300356452 and parameters: {'max_depth': 6, 'min_samples_leaf': 7, 'min_samples_split': 10}. Best is trial 11 with value: 0.9455457690068224.\n",
            "[I 2024-04-02 12:45:49,165] Trial 44 finished with value: 0.9455457690068224 and parameters: {'max_depth': 5, 'min_samples_leaf': 5, 'min_samples_split': 9}. Best is trial 11 with value: 0.9455457690068224.\n",
            "[I 2024-04-02 12:45:49,202] Trial 45 finished with value: 0.9188193839654846 and parameters: {'max_depth': 4, 'min_samples_leaf': 6, 'min_samples_split': 10}. Best is trial 11 with value: 0.9455457690068224.\n",
            "[I 2024-04-02 12:45:49,243] Trial 46 finished with value: 0.9202480311764101 and parameters: {'max_depth': 7, 'min_samples_leaf': 8, 'min_samples_split': 8}. Best is trial 11 with value: 0.9455457690068224.\n",
            "[I 2024-04-02 12:45:49,284] Trial 47 finished with value: 0.9016603536033357 and parameters: {'max_depth': 10, 'min_samples_leaf': 4, 'min_samples_split': 7}. Best is trial 11 with value: 0.9455457690068224.\n",
            "[I 2024-04-02 12:45:49,326] Trial 48 finished with value: 0.9423139300356452 and parameters: {'max_depth': 6, 'min_samples_leaf': 7, 'min_samples_split': 6}. Best is trial 11 with value: 0.9455457690068224.\n",
            "[I 2024-04-02 12:45:49,367] Trial 49 finished with value: 0.9356675495945435 and parameters: {'max_depth': 3, 'min_samples_leaf': 8, 'min_samples_split': 8}. Best is trial 11 with value: 0.9455457690068224.\n",
            "[I 2024-04-02 12:45:49,407] Trial 50 finished with value: 0.9188193839654846 and parameters: {'max_depth': 4, 'min_samples_leaf': 6, 'min_samples_split': 9}. Best is trial 11 with value: 0.9455457690068224.\n",
            "[I 2024-04-02 12:45:49,446] Trial 51 finished with value: 0.9455457690068224 and parameters: {'max_depth': 5, 'min_samples_leaf': 7, 'min_samples_split': 9}. Best is trial 11 with value: 0.9455457690068224.\n",
            "[I 2024-04-02 12:45:49,485] Trial 52 finished with value: 0.9455457690068224 and parameters: {'max_depth': 5, 'min_samples_leaf': 7, 'min_samples_split': 9}. Best is trial 11 with value: 0.9455457690068224.\n",
            "[I 2024-04-02 12:45:49,524] Trial 53 finished with value: 0.9455457690068224 and parameters: {'max_depth': 5, 'min_samples_leaf': 5, 'min_samples_split': 10}. Best is trial 11 with value: 0.9455457690068224.\n",
            "[I 2024-04-02 12:45:49,564] Trial 54 finished with value: 0.9423139300356452 and parameters: {'max_depth': 6, 'min_samples_leaf': 6, 'min_samples_split': 8}. Best is trial 11 with value: 0.9455457690068224.\n",
            "[I 2024-04-02 12:45:49,603] Trial 55 finished with value: 0.9439589171457409 and parameters: {'max_depth': 5, 'min_samples_leaf': 8, 'min_samples_split': 9}. Best is trial 11 with value: 0.9455457690068224.\n",
            "[I 2024-04-02 12:45:49,648] Trial 56 finished with value: 0.9423139300356452 and parameters: {'max_depth': 6, 'min_samples_leaf': 7, 'min_samples_split': 2}. Best is trial 11 with value: 0.9455457690068224.\n",
            "[I 2024-04-02 12:45:49,687] Trial 57 finished with value: 0.9188193839654846 and parameters: {'max_depth': 4, 'min_samples_leaf': 6, 'min_samples_split': 10}. Best is trial 11 with value: 0.9455457690068224.\n",
            "[I 2024-04-02 12:45:49,724] Trial 58 finished with value: 0.9136847637184844 and parameters: {'max_depth': 4, 'min_samples_leaf': 9, 'min_samples_split': 8}. Best is trial 11 with value: 0.9455457690068224.\n",
            "[I 2024-04-02 12:45:49,769] Trial 59 finished with value: 0.9439589171457409 and parameters: {'max_depth': 5, 'min_samples_leaf': 8, 'min_samples_split': 9}. Best is trial 11 with value: 0.9455457690068224.\n",
            "[I 2024-04-02 12:45:49,808] Trial 60 finished with value: 0.9423139300356452 and parameters: {'max_depth': 6, 'min_samples_leaf': 5, 'min_samples_split': 7}. Best is trial 11 with value: 0.9455457690068224.\n",
            "[I 2024-04-02 12:45:49,847] Trial 61 finished with value: 0.9455457690068224 and parameters: {'max_depth': 5, 'min_samples_leaf': 6, 'min_samples_split': 9}. Best is trial 11 with value: 0.9455457690068224.\n",
            "[I 2024-04-02 12:45:49,894] Trial 62 finished with value: 0.9455457690068224 and parameters: {'max_depth': 5, 'min_samples_leaf': 7, 'min_samples_split': 8}. Best is trial 11 with value: 0.9455457690068224.\n",
            "[I 2024-04-02 12:45:49,934] Trial 63 finished with value: 0.9188193839654846 and parameters: {'max_depth': 4, 'min_samples_leaf': 6, 'min_samples_split': 9}. Best is trial 11 with value: 0.9455457690068224.\n",
            "[I 2024-04-02 12:45:49,972] Trial 64 finished with value: 0.9455457690068224 and parameters: {'max_depth': 5, 'min_samples_leaf': 7, 'min_samples_split': 5}. Best is trial 11 with value: 0.9455457690068224.\n",
            "[I 2024-04-02 12:45:50,023] Trial 65 finished with value: 0.9455457690068224 and parameters: {'max_depth': 5, 'min_samples_leaf': 6, 'min_samples_split': 10}. Best is trial 11 with value: 0.9455457690068224.\n",
            "[I 2024-04-02 12:45:50,069] Trial 66 finished with value: 0.9423139300356452 and parameters: {'max_depth': 6, 'min_samples_leaf': 5, 'min_samples_split': 9}. Best is trial 11 with value: 0.9455457690068224.\n",
            "[I 2024-04-02 12:45:50,109] Trial 67 finished with value: 0.9188193839654846 and parameters: {'max_depth': 4, 'min_samples_leaf': 7, 'min_samples_split': 8}. Best is trial 11 with value: 0.9455457690068224.\n",
            "[I 2024-04-02 12:45:50,148] Trial 68 finished with value: 0.9455457690068224 and parameters: {'max_depth': 5, 'min_samples_leaf': 6, 'min_samples_split': 10}. Best is trial 11 with value: 0.9455457690068224.\n",
            "[I 2024-04-02 12:45:50,189] Trial 69 finished with value: 0.9272170903139402 and parameters: {'max_depth': 9, 'min_samples_leaf': 7, 'min_samples_split': 3}. Best is trial 11 with value: 0.9455457690068224.\n",
            "[I 2024-04-02 12:45:50,229] Trial 70 finished with value: 0.9375742049404648 and parameters: {'max_depth': 6, 'min_samples_leaf': 8, 'min_samples_split': 9}. Best is trial 11 with value: 0.9455457690068224.\n",
            "[I 2024-04-02 12:45:50,268] Trial 71 finished with value: 0.9455457690068224 and parameters: {'max_depth': 5, 'min_samples_leaf': 6, 'min_samples_split': 5}. Best is trial 11 with value: 0.9455457690068224.\n",
            "[I 2024-04-02 12:45:50,310] Trial 72 finished with value: 0.9455457690068224 and parameters: {'max_depth': 5, 'min_samples_leaf': 6, 'min_samples_split': 4}. Best is trial 11 with value: 0.9455457690068224.\n",
            "[I 2024-04-02 12:45:50,348] Trial 73 finished with value: 0.9455457690068224 and parameters: {'max_depth': 5, 'min_samples_leaf': 7, 'min_samples_split': 5}. Best is trial 11 with value: 0.9455457690068224.\n",
            "[I 2024-04-02 12:45:50,386] Trial 74 finished with value: 0.9188193839654846 and parameters: {'max_depth': 4, 'min_samples_leaf': 5, 'min_samples_split': 6}. Best is trial 11 with value: 0.9455457690068224.\n",
            "[I 2024-04-02 12:45:50,425] Trial 75 finished with value: 0.9455457690068224 and parameters: {'max_depth': 5, 'min_samples_leaf': 6, 'min_samples_split': 5}. Best is trial 11 with value: 0.9455457690068224.\n",
            "[I 2024-04-02 12:45:50,462] Trial 76 finished with value: 0.9188193839654846 and parameters: {'max_depth': 4, 'min_samples_leaf': 5, 'min_samples_split': 4}. Best is trial 11 with value: 0.9455457690068224.\n",
            "[I 2024-04-02 12:45:50,502] Trial 77 finished with value: 0.9455457690068224 and parameters: {'max_depth': 5, 'min_samples_leaf': 7, 'min_samples_split': 8}. Best is trial 11 with value: 0.9455457690068224.\n",
            "[I 2024-04-02 12:45:50,546] Trial 78 finished with value: 0.9423139300356452 and parameters: {'max_depth': 6, 'min_samples_leaf': 7, 'min_samples_split': 7}. Best is trial 11 with value: 0.9455457690068224.\n",
            "[I 2024-04-02 12:45:50,600] Trial 79 finished with value: 0.9455457690068224 and parameters: {'max_depth': 5, 'min_samples_leaf': 6, 'min_samples_split': 6}. Best is trial 11 with value: 0.9455457690068224.\n",
            "[I 2024-04-02 12:45:50,646] Trial 80 finished with value: 0.9188193839654846 and parameters: {'max_depth': 4, 'min_samples_leaf': 4, 'min_samples_split': 9}. Best is trial 11 with value: 0.9455457690068224.\n",
            "[I 2024-04-02 12:45:50,693] Trial 81 finished with value: 0.9455457690068224 and parameters: {'max_depth': 5, 'min_samples_leaf': 6, 'min_samples_split': 6}. Best is trial 11 with value: 0.9455457690068224.\n",
            "[I 2024-04-02 12:45:50,740] Trial 82 finished with value: 0.9455457690068224 and parameters: {'max_depth': 5, 'min_samples_leaf': 5, 'min_samples_split': 6}. Best is trial 11 with value: 0.9455457690068224.\n",
            "[I 2024-04-02 12:45:50,782] Trial 83 finished with value: 0.9423139300356452 and parameters: {'max_depth': 6, 'min_samples_leaf': 7, 'min_samples_split': 6}. Best is trial 11 with value: 0.9455457690068224.\n",
            "[I 2024-04-02 12:45:50,821] Trial 84 finished with value: 0.9439589171457409 and parameters: {'max_depth': 5, 'min_samples_leaf': 8, 'min_samples_split': 5}. Best is trial 11 with value: 0.9455457690068224.\n",
            "[I 2024-04-02 12:45:50,861] Trial 85 finished with value: 0.9455457690068224 and parameters: {'max_depth': 5, 'min_samples_leaf': 6, 'min_samples_split': 7}. Best is trial 11 with value: 0.9455457690068224.\n",
            "[I 2024-04-02 12:45:50,908] Trial 86 finished with value: 0.9423139300356452 and parameters: {'max_depth': 6, 'min_samples_leaf': 7, 'min_samples_split': 5}. Best is trial 11 with value: 0.9455457690068224.\n",
            "[I 2024-04-02 12:45:50,950] Trial 87 finished with value: 0.9188193839654846 and parameters: {'max_depth': 4, 'min_samples_leaf': 6, 'min_samples_split': 8}. Best is trial 11 with value: 0.9455457690068224.\n",
            "[I 2024-04-02 12:45:50,990] Trial 88 finished with value: 0.9455457690068224 and parameters: {'max_depth': 5, 'min_samples_leaf': 6, 'min_samples_split': 4}. Best is trial 11 with value: 0.9455457690068224.\n",
            "[I 2024-04-02 12:45:51,028] Trial 89 finished with value: 0.9455457690068224 and parameters: {'max_depth': 5, 'min_samples_leaf': 7, 'min_samples_split': 10}. Best is trial 11 with value: 0.9455457690068224.\n",
            "[I 2024-04-02 12:45:51,069] Trial 90 finished with value: 0.9423139300356452 and parameters: {'max_depth': 6, 'min_samples_leaf': 5, 'min_samples_split': 9}. Best is trial 11 with value: 0.9455457690068224.\n",
            "[I 2024-04-02 12:45:51,110] Trial 91 finished with value: 0.9455457690068224 and parameters: {'max_depth': 5, 'min_samples_leaf': 7, 'min_samples_split': 10}. Best is trial 11 with value: 0.9455457690068224.\n",
            "[I 2024-04-02 12:45:51,154] Trial 92 finished with value: 0.9455457690068224 and parameters: {'max_depth': 5, 'min_samples_leaf': 7, 'min_samples_split': 10}. Best is trial 11 with value: 0.9455457690068224.\n",
            "[I 2024-04-02 12:45:51,196] Trial 93 finished with value: 0.9439589171457409 and parameters: {'max_depth': 5, 'min_samples_leaf': 8, 'min_samples_split': 9}. Best is trial 11 with value: 0.9455457690068224.\n",
            "[I 2024-04-02 12:45:51,236] Trial 94 finished with value: 0.9455457690068224 and parameters: {'max_depth': 5, 'min_samples_leaf': 6, 'min_samples_split': 10}. Best is trial 11 with value: 0.9455457690068224.\n",
            "[I 2024-04-02 12:45:51,278] Trial 95 finished with value: 0.9188193839654846 and parameters: {'max_depth': 4, 'min_samples_leaf': 6, 'min_samples_split': 9}. Best is trial 11 with value: 0.9455457690068224.\n",
            "[I 2024-04-02 12:45:51,320] Trial 96 finished with value: 0.9455457690068224 and parameters: {'max_depth': 5, 'min_samples_leaf': 7, 'min_samples_split': 8}. Best is trial 11 with value: 0.9455457690068224.\n",
            "[I 2024-04-02 12:45:51,359] Trial 97 finished with value: 0.9423139300356452 and parameters: {'max_depth': 6, 'min_samples_leaf': 7, 'min_samples_split': 10}. Best is trial 11 with value: 0.9455457690068224.\n",
            "[I 2024-04-02 12:45:51,399] Trial 98 finished with value: 0.9439589171457409 and parameters: {'max_depth': 5, 'min_samples_leaf': 8, 'min_samples_split': 7}. Best is trial 11 with value: 0.9455457690068224.\n",
            "[I 2024-04-02 12:45:51,439] Trial 99 finished with value: 0.9188193839654846 and parameters: {'max_depth': 4, 'min_samples_leaf': 6, 'min_samples_split': 9}. Best is trial 11 with value: 0.9455457690068224.\n",
            "[I 2024-04-02 12:45:51,480] Trial 100 finished with value: 0.9251867624857284 and parameters: {'max_depth': 7, 'min_samples_leaf': 7, 'min_samples_split': 8}. Best is trial 11 with value: 0.9455457690068224.\n",
            "[I 2024-04-02 12:45:51,520] Trial 101 finished with value: 0.9455457690068224 and parameters: {'max_depth': 5, 'min_samples_leaf': 7, 'min_samples_split': 9}. Best is trial 11 with value: 0.9455457690068224.\n",
            "[I 2024-04-02 12:45:51,561] Trial 102 finished with value: 0.9455457690068224 and parameters: {'max_depth': 5, 'min_samples_leaf': 6, 'min_samples_split': 9}. Best is trial 11 with value: 0.9455457690068224.\n",
            "[I 2024-04-02 12:45:51,605] Trial 103 finished with value: 0.9455457690068224 and parameters: {'max_depth': 5, 'min_samples_leaf': 7, 'min_samples_split': 9}. Best is trial 11 with value: 0.9455457690068224.\n",
            "[I 2024-04-02 12:45:51,648] Trial 104 finished with value: 0.9439589171457409 and parameters: {'max_depth': 5, 'min_samples_leaf': 8, 'min_samples_split': 9}. Best is trial 11 with value: 0.9455457690068224.\n",
            "[I 2024-04-02 12:45:51,689] Trial 105 finished with value: 0.9455457690068224 and parameters: {'max_depth': 5, 'min_samples_leaf': 6, 'min_samples_split': 8}. Best is trial 11 with value: 0.9455457690068224.\n",
            "[I 2024-04-02 12:45:51,730] Trial 106 finished with value: 0.9455457690068224 and parameters: {'max_depth': 5, 'min_samples_leaf': 7, 'min_samples_split': 5}. Best is trial 11 with value: 0.9455457690068224.\n",
            "[I 2024-04-02 12:45:51,775] Trial 107 finished with value: 0.9423139300356452 and parameters: {'max_depth': 6, 'min_samples_leaf': 6, 'min_samples_split': 9}. Best is trial 11 with value: 0.9455457690068224.\n",
            "[I 2024-04-02 12:45:51,818] Trial 108 finished with value: 0.9188193839654846 and parameters: {'max_depth': 4, 'min_samples_leaf': 7, 'min_samples_split': 10}. Best is trial 11 with value: 0.9455457690068224.\n",
            "[I 2024-04-02 12:45:51,858] Trial 109 finished with value: 0.9098058581732841 and parameters: {'max_depth': 9, 'min_samples_leaf': 2, 'min_samples_split': 8}. Best is trial 11 with value: 0.9455457690068224.\n",
            "[I 2024-04-02 12:45:51,899] Trial 110 finished with value: 0.9455457690068224 and parameters: {'max_depth': 5, 'min_samples_leaf': 5, 'min_samples_split': 10}. Best is trial 11 with value: 0.9455457690068224.\n",
            "[I 2024-04-02 12:45:51,951] Trial 111 finished with value: 0.9455457690068224 and parameters: {'max_depth': 5, 'min_samples_leaf': 5, 'min_samples_split': 9}. Best is trial 11 with value: 0.9455457690068224.\n",
            "[I 2024-04-02 12:45:51,990] Trial 112 finished with value: 0.9471465266704984 and parameters: {'max_depth': 5, 'min_samples_leaf': 3, 'min_samples_split': 9}. Best is trial 112 with value: 0.9471465266704984.\n",
            "[I 2024-04-02 12:45:52,029] Trial 113 finished with value: 0.9471465266704984 and parameters: {'max_depth': 5, 'min_samples_leaf': 1, 'min_samples_split': 9}. Best is trial 112 with value: 0.9471465266704984.\n",
            "[I 2024-04-02 12:45:52,070] Trial 114 finished with value: 0.9471465266704984 and parameters: {'max_depth': 5, 'min_samples_leaf': 1, 'min_samples_split': 9}. Best is trial 112 with value: 0.9471465266704984.\n",
            "[I 2024-04-02 12:45:52,113] Trial 115 finished with value: 0.9471465266704984 and parameters: {'max_depth': 5, 'min_samples_leaf': 1, 'min_samples_split': 9}. Best is trial 112 with value: 0.9471465266704984.\n",
            "[I 2024-04-02 12:45:52,152] Trial 116 finished with value: 0.9471465266704984 and parameters: {'max_depth': 5, 'min_samples_leaf': 1, 'min_samples_split': 9}. Best is trial 112 with value: 0.9471465266704984.\n",
            "[I 2024-04-02 12:45:52,194] Trial 117 finished with value: 0.9471465266704984 and parameters: {'max_depth': 5, 'min_samples_leaf': 1, 'min_samples_split': 9}. Best is trial 112 with value: 0.9471465266704984.\n",
            "[I 2024-04-02 12:45:52,235] Trial 118 finished with value: 0.9471465266704984 and parameters: {'max_depth': 5, 'min_samples_leaf': 1, 'min_samples_split': 9}. Best is trial 112 with value: 0.9471465266704984.\n",
            "[I 2024-04-02 12:45:52,278] Trial 119 finished with value: 0.9471465266704984 and parameters: {'max_depth': 5, 'min_samples_leaf': 1, 'min_samples_split': 9}. Best is trial 112 with value: 0.9471465266704984.\n",
            "[I 2024-04-02 12:45:52,322] Trial 120 finished with value: 0.9471465266704984 and parameters: {'max_depth': 5, 'min_samples_leaf': 1, 'min_samples_split': 9}. Best is trial 112 with value: 0.9471465266704984.\n",
            "[I 2024-04-02 12:45:52,366] Trial 121 finished with value: 0.9471465266704984 and parameters: {'max_depth': 5, 'min_samples_leaf': 1, 'min_samples_split': 9}. Best is trial 112 with value: 0.9471465266704984.\n",
            "[I 2024-04-02 12:45:52,408] Trial 122 finished with value: 0.9471465266704984 and parameters: {'max_depth': 5, 'min_samples_leaf': 1, 'min_samples_split': 9}. Best is trial 112 with value: 0.9471465266704984.\n",
            "[I 2024-04-02 12:45:52,448] Trial 123 finished with value: 0.9471465266704984 and parameters: {'max_depth': 5, 'min_samples_leaf': 1, 'min_samples_split': 9}. Best is trial 112 with value: 0.9471465266704984.\n",
            "[I 2024-04-02 12:45:52,498] Trial 124 finished with value: 0.9471465266704984 and parameters: {'max_depth': 5, 'min_samples_leaf': 1, 'min_samples_split': 9}. Best is trial 112 with value: 0.9471465266704984.\n",
            "[I 2024-04-02 12:45:52,540] Trial 125 finished with value: 0.9471465266704984 and parameters: {'max_depth': 5, 'min_samples_leaf': 1, 'min_samples_split': 9}. Best is trial 112 with value: 0.9471465266704984.\n",
            "[I 2024-04-02 12:45:52,582] Trial 126 finished with value: 0.9471465266704984 and parameters: {'max_depth': 5, 'min_samples_leaf': 1, 'min_samples_split': 9}. Best is trial 112 with value: 0.9471465266704984.\n",
            "[I 2024-04-02 12:45:52,623] Trial 127 finished with value: 0.9471465266704984 and parameters: {'max_depth': 5, 'min_samples_leaf': 1, 'min_samples_split': 9}. Best is trial 112 with value: 0.9471465266704984.\n",
            "[I 2024-04-02 12:45:52,666] Trial 128 finished with value: 0.9471465266704984 and parameters: {'max_depth': 5, 'min_samples_leaf': 2, 'min_samples_split': 9}. Best is trial 112 with value: 0.9471465266704984.\n",
            "[I 2024-04-02 12:45:52,708] Trial 129 finished with value: 0.9471465266704984 and parameters: {'max_depth': 5, 'min_samples_leaf': 1, 'min_samples_split': 9}. Best is trial 112 with value: 0.9471465266704984.\n",
            "[I 2024-04-02 12:45:52,752] Trial 130 finished with value: 0.9471465266704984 and parameters: {'max_depth': 5, 'min_samples_leaf': 1, 'min_samples_split': 9}. Best is trial 112 with value: 0.9471465266704984.\n",
            "[I 2024-04-02 12:45:52,798] Trial 131 finished with value: 0.9471465266704984 and parameters: {'max_depth': 5, 'min_samples_leaf': 1, 'min_samples_split': 9}. Best is trial 112 with value: 0.9471465266704984.\n",
            "[I 2024-04-02 12:45:52,850] Trial 132 finished with value: 0.9471465266704984 and parameters: {'max_depth': 5, 'min_samples_leaf': 1, 'min_samples_split': 9}. Best is trial 112 with value: 0.9471465266704984.\n",
            "[I 2024-04-02 12:45:52,895] Trial 133 finished with value: 0.9471465266704984 and parameters: {'max_depth': 5, 'min_samples_leaf': 2, 'min_samples_split': 9}. Best is trial 112 with value: 0.9471465266704984.\n",
            "[I 2024-04-02 12:45:52,945] Trial 134 finished with value: 0.9471465266704984 and parameters: {'max_depth': 5, 'min_samples_leaf': 1, 'min_samples_split': 9}. Best is trial 112 with value: 0.9471465266704984.\n",
            "[I 2024-04-02 12:45:52,996] Trial 135 finished with value: 0.9471465266704984 and parameters: {'max_depth': 5, 'min_samples_leaf': 1, 'min_samples_split': 9}. Best is trial 112 with value: 0.9471465266704984.\n",
            "[I 2024-04-02 12:45:53,038] Trial 136 finished with value: 0.9471465266704984 and parameters: {'max_depth': 5, 'min_samples_leaf': 2, 'min_samples_split': 9}. Best is trial 112 with value: 0.9471465266704984.\n",
            "[I 2024-04-02 12:45:53,083] Trial 137 finished with value: 0.9188193839654846 and parameters: {'max_depth': 4, 'min_samples_leaf': 1, 'min_samples_split': 9}. Best is trial 112 with value: 0.9471465266704984.\n",
            "[I 2024-04-02 12:45:53,128] Trial 138 finished with value: 0.9391594958533698 and parameters: {'max_depth': 6, 'min_samples_leaf': 2, 'min_samples_split': 9}. Best is trial 112 with value: 0.9471465266704984.\n",
            "[I 2024-04-02 12:45:53,170] Trial 139 finished with value: 0.9471465266704984 and parameters: {'max_depth': 5, 'min_samples_leaf': 1, 'min_samples_split': 9}. Best is trial 112 with value: 0.9471465266704984.\n",
            "[I 2024-04-02 12:45:53,215] Trial 140 finished with value: 0.940764379377288 and parameters: {'max_depth': 6, 'min_samples_leaf': 1, 'min_samples_split': 9}. Best is trial 112 with value: 0.9471465266704984.\n",
            "[I 2024-04-02 12:45:53,265] Trial 141 finished with value: 0.9471465266704984 and parameters: {'max_depth': 5, 'min_samples_leaf': 1, 'min_samples_split': 9}. Best is trial 112 with value: 0.9471465266704984.\n",
            "[I 2024-04-02 12:45:53,341] Trial 142 finished with value: 0.9471465266704984 and parameters: {'max_depth': 5, 'min_samples_leaf': 1, 'min_samples_split': 9}. Best is trial 112 with value: 0.9471465266704984.\n",
            "[I 2024-04-02 12:45:53,408] Trial 143 finished with value: 0.9471465266704984 and parameters: {'max_depth': 5, 'min_samples_leaf': 1, 'min_samples_split': 9}. Best is trial 112 with value: 0.9471465266704984.\n",
            "[I 2024-04-02 12:45:53,480] Trial 144 finished with value: 0.9471465266704984 and parameters: {'max_depth': 5, 'min_samples_leaf': 1, 'min_samples_split': 9}. Best is trial 112 with value: 0.9471465266704984.\n",
            "[I 2024-04-02 12:45:53,555] Trial 145 finished with value: 0.9471465266704984 and parameters: {'max_depth': 5, 'min_samples_leaf': 2, 'min_samples_split': 9}. Best is trial 112 with value: 0.9471465266704984.\n",
            "[I 2024-04-02 12:45:53,630] Trial 146 finished with value: 0.9471465266704984 and parameters: {'max_depth': 5, 'min_samples_leaf': 1, 'min_samples_split': 9}. Best is trial 112 with value: 0.9471465266704984.\n",
            "[I 2024-04-02 12:45:53,699] Trial 147 finished with value: 0.9471465266704984 and parameters: {'max_depth': 5, 'min_samples_leaf': 1, 'min_samples_split': 10}. Best is trial 112 with value: 0.9471465266704984.\n",
            "[I 2024-04-02 12:45:53,765] Trial 148 finished with value: 0.9471465266704984 and parameters: {'max_depth': 5, 'min_samples_leaf': 3, 'min_samples_split': 9}. Best is trial 112 with value: 0.9471465266704984.\n",
            "[I 2024-04-02 12:45:53,829] Trial 149 finished with value: 0.9471465266704984 and parameters: {'max_depth': 5, 'min_samples_leaf': 1, 'min_samples_split': 8}. Best is trial 112 with value: 0.9471465266704984.\n",
            "[I 2024-04-02 12:45:53,897] Trial 150 finished with value: 0.9283687019859084 and parameters: {'max_depth': 8, 'min_samples_leaf': 1, 'min_samples_split': 9}. Best is trial 112 with value: 0.9471465266704984.\n",
            "[I 2024-04-02 12:45:53,965] Trial 151 finished with value: 0.9471465266704984 and parameters: {'max_depth': 5, 'min_samples_leaf': 1, 'min_samples_split': 9}. Best is trial 112 with value: 0.9471465266704984.\n",
            "[I 2024-04-02 12:45:54,042] Trial 152 finished with value: 0.9471465266704984 and parameters: {'max_depth': 5, 'min_samples_leaf': 2, 'min_samples_split': 9}. Best is trial 112 with value: 0.9471465266704984.\n",
            "[I 2024-04-02 12:45:54,111] Trial 153 finished with value: 0.9471465266704984 and parameters: {'max_depth': 5, 'min_samples_leaf': 1, 'min_samples_split': 9}. Best is trial 112 with value: 0.9471465266704984.\n",
            "[I 2024-04-02 12:45:54,180] Trial 154 finished with value: 0.9471465266704984 and parameters: {'max_depth': 5, 'min_samples_leaf': 1, 'min_samples_split': 9}. Best is trial 112 with value: 0.9471465266704984.\n",
            "[I 2024-04-02 12:45:54,245] Trial 155 finished with value: 0.9471465266704984 and parameters: {'max_depth': 5, 'min_samples_leaf': 1, 'min_samples_split': 9}. Best is trial 112 with value: 0.9471465266704984.\n",
            "[I 2024-04-02 12:45:54,309] Trial 156 finished with value: 0.9471465266704984 and parameters: {'max_depth': 5, 'min_samples_leaf': 2, 'min_samples_split': 9}. Best is trial 112 with value: 0.9471465266704984.\n",
            "[I 2024-04-02 12:45:54,374] Trial 157 finished with value: 0.9471465266704984 and parameters: {'max_depth': 5, 'min_samples_leaf': 1, 'min_samples_split': 8}. Best is trial 112 with value: 0.9471465266704984.\n",
            "[I 2024-04-02 12:45:54,441] Trial 158 finished with value: 0.9471465266704984 and parameters: {'max_depth': 5, 'min_samples_leaf': 1, 'min_samples_split': 9}. Best is trial 112 with value: 0.9471465266704984.\n",
            "[I 2024-04-02 12:45:54,515] Trial 159 finished with value: 0.9471465266704984 and parameters: {'max_depth': 5, 'min_samples_leaf': 1, 'min_samples_split': 10}. Best is trial 112 with value: 0.9471465266704984.\n",
            "[I 2024-04-02 12:45:54,581] Trial 160 finished with value: 0.9188193839654846 and parameters: {'max_depth': 4, 'min_samples_leaf': 2, 'min_samples_split': 9}. Best is trial 112 with value: 0.9471465266704984.\n",
            "[I 2024-04-02 12:45:54,652] Trial 161 finished with value: 0.9471465266704984 and parameters: {'max_depth': 5, 'min_samples_leaf': 3, 'min_samples_split': 9}. Best is trial 112 with value: 0.9471465266704984.\n",
            "[I 2024-04-02 12:45:54,724] Trial 162 finished with value: 0.9471465266704984 and parameters: {'max_depth': 5, 'min_samples_leaf': 1, 'min_samples_split': 9}. Best is trial 112 with value: 0.9471465266704984.\n",
            "[I 2024-04-02 12:45:54,799] Trial 163 finished with value: 0.9471465266704984 and parameters: {'max_depth': 5, 'min_samples_leaf': 2, 'min_samples_split': 9}. Best is trial 112 with value: 0.9471465266704984.\n",
            "[I 2024-04-02 12:45:54,872] Trial 164 finished with value: 0.9471465266704984 and parameters: {'max_depth': 5, 'min_samples_leaf': 1, 'min_samples_split': 9}. Best is trial 112 with value: 0.9471465266704984.\n",
            "[I 2024-04-02 12:45:54,951] Trial 165 finished with value: 0.9471465266704984 and parameters: {'max_depth': 5, 'min_samples_leaf': 1, 'min_samples_split': 9}. Best is trial 112 with value: 0.9471465266704984.\n",
            "[I 2024-04-02 12:45:55,025] Trial 166 finished with value: 0.9471465266704984 and parameters: {'max_depth': 5, 'min_samples_leaf': 1, 'min_samples_split': 9}. Best is trial 112 with value: 0.9471465266704984.\n",
            "[I 2024-04-02 12:45:55,106] Trial 167 finished with value: 0.9471465266704984 and parameters: {'max_depth': 5, 'min_samples_leaf': 1, 'min_samples_split': 9}. Best is trial 112 with value: 0.9471465266704984.\n",
            "[I 2024-04-02 12:45:55,176] Trial 168 finished with value: 0.9471465266704984 and parameters: {'max_depth': 5, 'min_samples_leaf': 2, 'min_samples_split': 9}. Best is trial 112 with value: 0.9471465266704984.\n",
            "[I 2024-04-02 12:45:55,248] Trial 169 finished with value: 0.9471465266704984 and parameters: {'max_depth': 5, 'min_samples_leaf': 1, 'min_samples_split': 8}. Best is trial 112 with value: 0.9471465266704984.\n",
            "[I 2024-04-02 12:45:55,319] Trial 170 finished with value: 0.9356675495945435 and parameters: {'max_depth': 3, 'min_samples_leaf': 2, 'min_samples_split': 10}. Best is trial 112 with value: 0.9471465266704984.\n",
            "[I 2024-04-02 12:45:55,394] Trial 171 finished with value: 0.9471465266704984 and parameters: {'max_depth': 5, 'min_samples_leaf': 1, 'min_samples_split': 9}. Best is trial 112 with value: 0.9471465266704984.\n",
            "[I 2024-04-02 12:45:55,464] Trial 172 finished with value: 0.9471465266704984 and parameters: {'max_depth': 5, 'min_samples_leaf': 1, 'min_samples_split': 9}. Best is trial 112 with value: 0.9471465266704984.\n",
            "[I 2024-04-02 12:45:55,509] Trial 173 finished with value: 0.9471465266704984 and parameters: {'max_depth': 5, 'min_samples_leaf': 1, 'min_samples_split': 9}. Best is trial 112 with value: 0.9471465266704984.\n",
            "[I 2024-04-02 12:45:55,555] Trial 174 finished with value: 0.9471465266704984 and parameters: {'max_depth': 5, 'min_samples_leaf': 1, 'min_samples_split': 9}. Best is trial 112 with value: 0.9471465266704984.\n",
            "[I 2024-04-02 12:45:55,601] Trial 175 finished with value: 0.9471465266704984 and parameters: {'max_depth': 5, 'min_samples_leaf': 1, 'min_samples_split': 9}. Best is trial 112 with value: 0.9471465266704984.\n",
            "[I 2024-04-02 12:45:55,647] Trial 176 finished with value: 0.9471465266704984 and parameters: {'max_depth': 5, 'min_samples_leaf': 1, 'min_samples_split': 9}. Best is trial 112 with value: 0.9471465266704984.\n",
            "[I 2024-04-02 12:45:55,695] Trial 177 finished with value: 0.9471465266704984 and parameters: {'max_depth': 5, 'min_samples_leaf': 1, 'min_samples_split': 9}. Best is trial 112 with value: 0.9471465266704984.\n",
            "[I 2024-04-02 12:45:55,741] Trial 178 finished with value: 0.940764379377288 and parameters: {'max_depth': 6, 'min_samples_leaf': 1, 'min_samples_split': 9}. Best is trial 112 with value: 0.9471465266704984.\n",
            "[I 2024-04-02 12:45:55,788] Trial 179 finished with value: 0.9471465266704984 and parameters: {'max_depth': 5, 'min_samples_leaf': 1, 'min_samples_split': 9}. Best is trial 112 with value: 0.9471465266704984.\n",
            "[I 2024-04-02 12:45:55,833] Trial 180 finished with value: 0.9471465266704984 and parameters: {'max_depth': 5, 'min_samples_leaf': 2, 'min_samples_split': 9}. Best is trial 112 with value: 0.9471465266704984.\n",
            "[I 2024-04-02 12:45:55,875] Trial 181 finished with value: 0.9471465266704984 and parameters: {'max_depth': 5, 'min_samples_leaf': 1, 'min_samples_split': 9}. Best is trial 112 with value: 0.9471465266704984.\n",
            "[I 2024-04-02 12:45:55,920] Trial 182 finished with value: 0.9471465266704984 and parameters: {'max_depth': 5, 'min_samples_leaf': 1, 'min_samples_split': 9}. Best is trial 112 with value: 0.9471465266704984.\n",
            "[I 2024-04-02 12:45:55,963] Trial 183 finished with value: 0.9471465266704984 and parameters: {'max_depth': 5, 'min_samples_leaf': 1, 'min_samples_split': 9}. Best is trial 112 with value: 0.9471465266704984.\n",
            "[I 2024-04-02 12:45:56,006] Trial 184 finished with value: 0.9471465266704984 and parameters: {'max_depth': 5, 'min_samples_leaf': 1, 'min_samples_split': 9}. Best is trial 112 with value: 0.9471465266704984.\n",
            "[I 2024-04-02 12:45:56,051] Trial 185 finished with value: 0.9471465266704984 and parameters: {'max_depth': 5, 'min_samples_leaf': 1, 'min_samples_split': 9}. Best is trial 112 with value: 0.9471465266704984.\n",
            "[I 2024-04-02 12:45:56,107] Trial 186 finished with value: 0.9471465266704984 and parameters: {'max_depth': 5, 'min_samples_leaf': 1, 'min_samples_split': 9}. Best is trial 112 with value: 0.9471465266704984.\n",
            "[I 2024-04-02 12:45:56,153] Trial 187 finished with value: 0.9471465266704984 and parameters: {'max_depth': 5, 'min_samples_leaf': 1, 'min_samples_split': 8}. Best is trial 112 with value: 0.9471465266704984.\n",
            "[I 2024-04-02 12:45:56,198] Trial 188 finished with value: 0.9471465266704984 and parameters: {'max_depth': 5, 'min_samples_leaf': 1, 'min_samples_split': 9}. Best is trial 112 with value: 0.9471465266704984.\n",
            "[I 2024-04-02 12:45:56,242] Trial 189 finished with value: 0.9471465266704984 and parameters: {'max_depth': 5, 'min_samples_leaf': 2, 'min_samples_split': 9}. Best is trial 112 with value: 0.9471465266704984.\n",
            "[I 2024-04-02 12:45:56,287] Trial 190 finished with value: 0.9188193839654846 and parameters: {'max_depth': 4, 'min_samples_leaf': 3, 'min_samples_split': 10}. Best is trial 112 with value: 0.9471465266704984.\n",
            "[I 2024-04-02 12:45:56,331] Trial 191 finished with value: 0.9471465266704984 and parameters: {'max_depth': 5, 'min_samples_leaf': 1, 'min_samples_split': 9}. Best is trial 112 with value: 0.9471465266704984.\n",
            "[I 2024-04-02 12:45:56,378] Trial 192 finished with value: 0.9471465266704984 and parameters: {'max_depth': 5, 'min_samples_leaf': 1, 'min_samples_split': 9}. Best is trial 112 with value: 0.9471465266704984.\n",
            "[I 2024-04-02 12:45:56,422] Trial 193 finished with value: 0.9471465266704984 and parameters: {'max_depth': 5, 'min_samples_leaf': 1, 'min_samples_split': 9}. Best is trial 112 with value: 0.9471465266704984.\n",
            "[I 2024-04-02 12:45:56,465] Trial 194 finished with value: 0.9471465266704984 and parameters: {'max_depth': 5, 'min_samples_leaf': 1, 'min_samples_split': 9}. Best is trial 112 with value: 0.9471465266704984.\n",
            "[I 2024-04-02 12:45:56,507] Trial 195 finished with value: 0.9471465266704984 and parameters: {'max_depth': 5, 'min_samples_leaf': 1, 'min_samples_split': 9}. Best is trial 112 with value: 0.9471465266704984.\n",
            "[I 2024-04-02 12:45:56,550] Trial 196 finished with value: 0.9471465266704984 and parameters: {'max_depth': 5, 'min_samples_leaf': 1, 'min_samples_split': 9}. Best is trial 112 with value: 0.9471465266704984.\n",
            "[I 2024-04-02 12:45:56,594] Trial 197 finished with value: 0.9471465266704984 and parameters: {'max_depth': 5, 'min_samples_leaf': 1, 'min_samples_split': 9}. Best is trial 112 with value: 0.9471465266704984.\n",
            "[I 2024-04-02 12:45:56,637] Trial 198 finished with value: 0.9471465266704984 and parameters: {'max_depth': 5, 'min_samples_leaf': 2, 'min_samples_split': 9}. Best is trial 112 with value: 0.9471465266704984.\n",
            "[I 2024-04-02 12:45:56,680] Trial 199 finished with value: 0.9471465266704984 and parameters: {'max_depth': 5, 'min_samples_leaf': 1, 'min_samples_split': 9}. Best is trial 112 with value: 0.9471465266704984.\n"
          ]
        },
        {
          "output_type": "stream",
          "name": "stdout",
          "text": [
            "Best hyperparameters: {'max_depth': 5, 'min_samples_leaf': 3, 'min_samples_split': 9}\n",
            "Best F1: 0.9471465266704984\n"
          ]
        }
      ]
    },
    {
      "cell_type": "code",
      "source": [],
      "metadata": {
        "id": "47HYBeNvx7Ra"
      },
      "execution_count": null,
      "outputs": []
    }
  ]
}