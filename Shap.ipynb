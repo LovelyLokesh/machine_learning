{
  "nbformat": 4,
  "nbformat_minor": 0,
  "metadata": {
    "colab": {
      "provenance": []
    },
    "kernelspec": {
      "name": "python3",
      "display_name": "Python 3"
    },
    "language_info": {
      "name": "python"
    }
  },
  "cells": [
    {
      "cell_type": "code",
      "source": [
        "!pip install catboost\n",
        "!pip install shap"
      ],
      "metadata": {
        "colab": {
          "base_uri": "https://localhost:8080/"
        },
        "id": "9gI7ikAsRdzC",
        "outputId": "714b078f-bf4d-4c45-ea8e-7822889954e9"
      },
      "execution_count": 2,
      "outputs": [
        {
          "output_type": "stream",
          "name": "stdout",
          "text": [
            "Collecting catboost\n",
            "  Downloading catboost-1.2.5-cp310-cp310-manylinux2014_x86_64.whl (98.2 MB)\n",
            "\u001b[2K     \u001b[90m━━━━━━━━━━━━━━━━━━━━━━━━━━━━━━━━━━━━━━━━\u001b[0m \u001b[32m98.2/98.2 MB\u001b[0m \u001b[31m6.1 MB/s\u001b[0m eta \u001b[36m0:00:00\u001b[0m\n",
            "\u001b[?25hRequirement already satisfied: graphviz in /usr/local/lib/python3.10/dist-packages (from catboost) (0.20.3)\n",
            "Requirement already satisfied: matplotlib in /usr/local/lib/python3.10/dist-packages (from catboost) (3.7.1)\n",
            "Requirement already satisfied: numpy>=1.16.0 in /usr/local/lib/python3.10/dist-packages (from catboost) (1.25.2)\n",
            "Requirement already satisfied: pandas>=0.24 in /usr/local/lib/python3.10/dist-packages (from catboost) (2.0.3)\n",
            "Requirement already satisfied: scipy in /usr/local/lib/python3.10/dist-packages (from catboost) (1.11.4)\n",
            "Requirement already satisfied: plotly in /usr/local/lib/python3.10/dist-packages (from catboost) (5.15.0)\n",
            "Requirement already satisfied: six in /usr/local/lib/python3.10/dist-packages (from catboost) (1.16.0)\n",
            "Requirement already satisfied: python-dateutil>=2.8.2 in /usr/local/lib/python3.10/dist-packages (from pandas>=0.24->catboost) (2.8.2)\n",
            "Requirement already satisfied: pytz>=2020.1 in /usr/local/lib/python3.10/dist-packages (from pandas>=0.24->catboost) (2023.4)\n",
            "Requirement already satisfied: tzdata>=2022.1 in /usr/local/lib/python3.10/dist-packages (from pandas>=0.24->catboost) (2024.1)\n",
            "Requirement already satisfied: contourpy>=1.0.1 in /usr/local/lib/python3.10/dist-packages (from matplotlib->catboost) (1.2.1)\n",
            "Requirement already satisfied: cycler>=0.10 in /usr/local/lib/python3.10/dist-packages (from matplotlib->catboost) (0.12.1)\n",
            "Requirement already satisfied: fonttools>=4.22.0 in /usr/local/lib/python3.10/dist-packages (from matplotlib->catboost) (4.52.4)\n",
            "Requirement already satisfied: kiwisolver>=1.0.1 in /usr/local/lib/python3.10/dist-packages (from matplotlib->catboost) (1.4.5)\n",
            "Requirement already satisfied: packaging>=20.0 in /usr/local/lib/python3.10/dist-packages (from matplotlib->catboost) (24.0)\n",
            "Requirement already satisfied: pillow>=6.2.0 in /usr/local/lib/python3.10/dist-packages (from matplotlib->catboost) (9.4.0)\n",
            "Requirement already satisfied: pyparsing>=2.3.1 in /usr/local/lib/python3.10/dist-packages (from matplotlib->catboost) (3.1.2)\n",
            "Requirement already satisfied: tenacity>=6.2.0 in /usr/local/lib/python3.10/dist-packages (from plotly->catboost) (8.3.0)\n",
            "Installing collected packages: catboost\n",
            "Successfully installed catboost-1.2.5\n",
            "Collecting shap\n",
            "  Downloading shap-0.45.1-cp310-cp310-manylinux_2_12_x86_64.manylinux2010_x86_64.manylinux_2_17_x86_64.manylinux2014_x86_64.whl (540 kB)\n",
            "\u001b[2K     \u001b[90m━━━━━━━━━━━━━━━━━━━━━━━━━━━━━━━━━━━━━━━━\u001b[0m \u001b[32m540.5/540.5 kB\u001b[0m \u001b[31m4.5 MB/s\u001b[0m eta \u001b[36m0:00:00\u001b[0m\n",
            "\u001b[?25hRequirement already satisfied: numpy in /usr/local/lib/python3.10/dist-packages (from shap) (1.25.2)\n",
            "Requirement already satisfied: scipy in /usr/local/lib/python3.10/dist-packages (from shap) (1.11.4)\n",
            "Requirement already satisfied: scikit-learn in /usr/local/lib/python3.10/dist-packages (from shap) (1.2.2)\n",
            "Requirement already satisfied: pandas in /usr/local/lib/python3.10/dist-packages (from shap) (2.0.3)\n",
            "Requirement already satisfied: tqdm>=4.27.0 in /usr/local/lib/python3.10/dist-packages (from shap) (4.66.4)\n",
            "Requirement already satisfied: packaging>20.9 in /usr/local/lib/python3.10/dist-packages (from shap) (24.0)\n",
            "Collecting slicer==0.0.8 (from shap)\n",
            "  Downloading slicer-0.0.8-py3-none-any.whl (15 kB)\n",
            "Requirement already satisfied: numba in /usr/local/lib/python3.10/dist-packages (from shap) (0.58.1)\n",
            "Requirement already satisfied: cloudpickle in /usr/local/lib/python3.10/dist-packages (from shap) (2.2.1)\n",
            "Requirement already satisfied: llvmlite<0.42,>=0.41.0dev0 in /usr/local/lib/python3.10/dist-packages (from numba->shap) (0.41.1)\n",
            "Requirement already satisfied: python-dateutil>=2.8.2 in /usr/local/lib/python3.10/dist-packages (from pandas->shap) (2.8.2)\n",
            "Requirement already satisfied: pytz>=2020.1 in /usr/local/lib/python3.10/dist-packages (from pandas->shap) (2023.4)\n",
            "Requirement already satisfied: tzdata>=2022.1 in /usr/local/lib/python3.10/dist-packages (from pandas->shap) (2024.1)\n",
            "Requirement already satisfied: joblib>=1.1.1 in /usr/local/lib/python3.10/dist-packages (from scikit-learn->shap) (1.4.2)\n",
            "Requirement already satisfied: threadpoolctl>=2.0.0 in /usr/local/lib/python3.10/dist-packages (from scikit-learn->shap) (3.5.0)\n",
            "Requirement already satisfied: six>=1.5 in /usr/local/lib/python3.10/dist-packages (from python-dateutil>=2.8.2->pandas->shap) (1.16.0)\n",
            "Installing collected packages: slicer, shap\n",
            "Successfully installed shap-0.45.1 slicer-0.0.8\n"
          ]
        }
      ]
    },
    {
      "cell_type": "code",
      "execution_count": 3,
      "metadata": {
        "id": "sbYW1rTOROSE"
      },
      "outputs": [],
      "source": [
        "import pandas as pd\n",
        "import pickle\n",
        "from catboost import CatBoostClassifier, Pool\n",
        "import shap\n",
        "\n"
      ]
    },
    {
      "cell_type": "code",
      "source": [
        "# Assuming lst is the list of features the model was trained on\n",
        "lst = ['os_103_ ',\n",
        " 'os_103_20 Pct Off Living Room',\n",
        " 'os_103_BBQ Party Time',\n",
        " 'os_103_Black Friday Sale',\n",
        " 'os_103_Bring More Light to Your Living Room and Save!',\n",
        " 'os_103_Decorate Your Living Room!',\n",
        " 'os_103_Eat well be well',\n",
        " 'os_103_Featured Dressers',\n",
        " 'os_103_Featured Furniture',\n",
        " 'os_103_Fresh Catfish Fillets',\n",
        " 'os_103_Fresh Cod Fillets',\n",
        " 'os_103_Fresh Juice',\n",
        " 'os_103_Fresh Walleye Fillets',\n",
        " 'os_103_Garden Gloves',\n",
        " \"os_103_Get Better Night's Rest!\",\n",
        " 'os_103_Get the Emerald Credit Card!',\n",
        " 'os_103_Get the app!',\n",
        " 'os_103_Get your beef on today',\n",
        " 'os_103_Ironport - Fresh',\n",
        " 'os_103_Modernize Your Living Room and Save!',\n",
        " 'os_103_New Arrivals Beds',\n",
        " 'os_103_New Arrivals Decor',\n",
        " 'os_103_Organize Your Stuff and Save!',\n",
        " 'os_103_Salmon',\n",
        " 'os_103_Tailor made cap',\n",
        " 'os_103_The right vitamins for you',\n",
        " 'os_103_Turkey Time',\n",
        " 'os_103_Vegan - burger',\n",
        " 'os_104_ ',\n",
        " 'os_104_10% off all modern style beds! Hurry, this deal will not last!',\n",
        " 'os_104_10% off all modern style dressers! Hurry, this deal will not last!',\n",
        " 'os_104_10% off all modern style lighting fixtures! Hurry, this deal will not last!',\n",
        " 'os_104_10% off all modern style sofas! Hurry, this deal will not last!',\n",
        " 'os_104_Apply for Emerald no annual fee Credit Card and start earning point and discounts toward your next purchase right away! right ',\n",
        " 'os_104_BBQ meat and special sauces ready for kick-start your next party. Pork ribs $9.95 / LB Beef ribs $4.99 / LB Ground chuck $5.20 / LB Chicken legs $5.20 Order online or with the GeoFlex application and we delivery to your home. Purchase $50 or more and choose from our selection of specialty rubs and sauces at ½ price.',\n",
        " 'os_104_Beautiful chairs, couches & tables that fit any decor',\n",
        " 'os_104_Beyond Meat Plant Based Patties 8 OZ box $6.89 Available online or us the GeoFlex mobile app.  Find in store in the frozen food section',\n",
        " 'os_104_Bring warmth and comfort to your living room with wide selection of decor items on sale!',\n",
        " 'os_104_Customize this year’s stocking cap. Enter your design online and in the GeoFlex mobile app.  See our new section in store Kisok where you can customize the cap and have it shipped to you anywhere.',\n",
        " 'os_104_Frozen Farm Fresh Walleye, 2 lb bag Now: $43.00 $21.50  LB Order online of with the GeoFlex mobile app and receive an additional $2 off Present this code – I LOVE Walleye  and get $1 off at the counter',\n",
        " 'os_104_Frozen Raw Atlantic Cod Fillets, 2 lb bag Now: $9.96 $4.98/ LB Order online of with the GeoFlex mobile app and receive an additional $2 off  Present this code – I LOVE COD  and get $1 off at the counter',\n",
        " 'os_104_Frozen Raw US Corn-Feed  Catfish Fillets, 4 lb bag Now: $29.94  $7.47/ LB Order online or with the GeoFlex mobile app and receive an additional $2 off  Present this code – I LOVE CATFISH and get $1 off at the counter',\n",
        " 'os_104_Frozen Wild Alaskan King Salmon 6 – 4 Oz portions $93.95 Order online of with the GeoFlex mobile app and pick-up in-store to receive an additional $2 off  Present this code – I LOVE SAMON  and get $1 off at the counter',\n",
        " 'os_104_Functional and space-saving beds to extend any sleeping space',\n",
        " 'os_104_Grass fed beef and special cuts by our butchers to fit your  needs.  Ribeye: $18.90 LB Tenderloin $24.92 LB New York Strip $29.00 LB Pre-order online or with the GeoFlex application and we delivery to your home.  Ask our butcher to slice and trim to your specification. ',\n",
        " 'os_104_Great savings this holiday season starting Nov 26',\n",
        " 'os_104_Highly-functional dressers that maximize both storage space and function',\n",
        " 'os_104_Living room for a limited time. Online only.',\n",
        " 'os_104_Select the right type of vitamins for you. Capsules, chewable, and drinks. Order online or with the GeoFlex application for guidelines and recommendations based on age and personal needs.  Come in the store and use or new in-store health and well being Kisok.',\n",
        " 'os_104_Select the right wellness recipe for your lifestyle. We box recipes based on your needs. Prices range from $5 – 25. Order online or with the GeoFlex application and we delivery to your home.  Come in the store and order from our Kisok and we will box up for you as you shop.',\n",
        " 'os_104_Shop at the Emerald store on your smartphone!',\n",
        " 'os_104_Stop by our Deli fountain and enjoy a fresh made Ironport. $3.50   Try our Ironport syrup and delight your guest. $19.00 / 1 GAL Come in the store stop by our Deli fountain.  Order the Ironport syrup online or with the GeoFlex application. We ship free for orders over $75',\n",
        " 'os_104_Stop by our Deli fountain and enjoy a fresh pressed juices. Carrot, Peach, Apple $ 3.50  per glass  Come in the store stop by our Deli fountain.',\n",
        " 'os_104_Touch screen sensitive Bamboo gloves are lightweight and durable. $9.99 Available online and in the GeoFlex mobile app. See our new section of gardening supplies and shop in-store. Order 1 and get the $1.50 off the second pare. ',\n",
        " 'os_104_Versatile pieces to accent all your surfaces & walls',\n",
        " 'os_104_We have the best smoked turkey ready for you. Sizes from 12 to 32 lbs.  / $4 LB Pre-order online or with the GeoFlex application and we delivery to your home.  Order in-store for future delivery date. In time for the holidays.',\n",
        " 'os_105_ ',\n",
        " 'os_105_Apply Now!',\n",
        " 'os_105_Download Now!',\n",
        " 'os_105_Go to GeoFlex mobile app',\n",
        " 'os_105_Learn More',\n",
        " 'os_105_Learn More!',\n",
        " 'os_105_Shop Now!',\n",
        " 'os_106_https://dx.sbx0094.play.hclsofy.com/dx/api/dam/v1/collections/16366735-10b9-4a07-884c-ced46b548f36/items/07a2c216-2c59-4b9a-bcf6-388ea14069cc/renditions/e67613fa-06ad-4b9f-b0f5-00d168d1353b?binary=true&lastModified=1709761892860',\n",
        " 'os_106_https://dx.sbx0094.play.hclsofy.com/dx/api/dam/v1/collections/16366735-10b9-4a07-884c-ced46b548f36/items/29e6c22c-52d4-45b4-8453-561e936d7da5/renditions/1ecad6cb-4983-4595-ab82-afe345607c9d?thumbnail=true&lastModified=1709761892058',\n",
        " 'os_106_https://dx.sbx0094.play.hclsofy.com/dx/api/dam/v1/collections/16366735-10b9-4a07-884c-ced46b548f36/items/379fe39f-df00-45fe-9539-b835cceab621/renditions/93adb17b-d204-4eb0-aa26-f587d1f9b9d7?thumbnail=true&lastModified=1709761889184',\n",
        " 'os_106_https://dx.sbx0094.play.hclsofy.com/dx/api/dam/v1/collections/16366735-10b9-4a07-884c-ced46b548f36/items/37e899ad-90d5-48f0-bd1f-bd47cbb11a44/renditions/f69d36c8-8e3b-403b-8d48-ed08bfeb0f29?thumbnail=true&lastModified=1709761889206',\n",
        " 'os_106_https://dx.sbx0094.play.hclsofy.com/dx/api/dam/v1/collections/16366735-10b9-4a07-884c-ced46b548f36/items/415f8800-8436-48ca-9e25-d1636a33a37b/renditions/85b37065-1619-4328-b00a-ca346cc2b2d2?binary=true&lastModified=1709761888559',\n",
        " 'os_106_https://dx.sbx0094.play.hclsofy.com/dx/api/dam/v1/collections/16366735-10b9-4a07-884c-ced46b548f36/items/6464f7a6-fbb3-41a5-8ae9-6691e9f1353a/renditions/2ca84e19-5abf-4330-bbd5-d108cd8f62ac?thumbnail=true&lastModified=1709761889073',\n",
        " 'os_106_https://dx.sbx0094.play.hclsofy.com/dx/api/dam/v1/collections/16366735-10b9-4a07-884c-ced46b548f36/items/66e04abf-851e-43d5-b988-db6efc4a8c52/renditions/0990405d-00d9-404e-bad8-a90c43e54bff?thumbnail=true&lastModified=1709761894557',\n",
        " 'os_106_https://dx.sbx0094.play.hclsofy.com/dx/api/dam/v1/collections/16366735-10b9-4a07-884c-ced46b548f36/items/7872172a-8f8f-42bb-95cf-728fc58a4d20/renditions/09988c62-1438-4dfc-9470-be5546ef0ec4?binary=true&lastModified=1709761889138',\n",
        " 'os_106_https://dx.sbx0094.play.hclsofy.com/dx/api/dam/v1/collections/16366735-10b9-4a07-884c-ced46b548f36/items/832e0bf6-702a-4583-9772-ab140c54ff86/renditions/1f22ec10-764a-4a6b-a679-9e87a5937b14?thumbnail=true&lastModified=1709761892262',\n",
        " 'os_106_https://dx.sbx0094.play.hclsofy.com/dx/api/dam/v1/collections/16366735-10b9-4a07-884c-ced46b548f36/items/8c11daf5-14d6-4ed7-9463-3325322f1022/renditions/ec3f478e-4416-4d35-8335-47d3b55a3709?thumbnail=true&lastModified=1709761888690',\n",
        " 'os_106_https://dx.sbx0094.play.hclsofy.com/dx/api/dam/v1/collections/16366735-10b9-4a07-884c-ced46b548f36/items/b47151a8-56c2-480d-92be-95d2572c3e80/renditions/96045300-9688-4711-bf88-6df4758278b2?thumbnail=true&lastModified=1709761894570',\n",
        " 'os_106_https://dx.sbx0094.play.hclsofy.com/dx/api/dam/v1/collections/16366735-10b9-4a07-884c-ced46b548f36/items/b9fc8389-9bba-40a7-b5a1-e62db81fcb41/renditions/1146eca0-314e-40c8-92ef-42c95ca903d1?binary=true&lastModified=1709761892459',\n",
        " 'os_106_https://dx.sbx0094.play.hclsofy.com/dx/api/dam/v1/collections/16366735-10b9-4a07-884c-ced46b548f36/items/f7ebd9b4-04ee-4588-8253-9733364807dd/renditions/6e0bbf7c-6e32-4bd6-970c-fb117ae0d831?thumbnail=true&lastModified=1709761894668',\n",
        " 'os_106_https://dx.sbx0094.play.hclsofy.com/dx/api/dam/v1/collections/16366735-10b9-4a07-884c-ced46b548f36/items/fd1337d9-053a-4b26-996e-e69fd45fd420/renditions/997f99b6-e684-4594-9eba-01e513fcefef?thumbnail=true&lastModified=1709761889098',\n",
        " 'os_106_https://unicacx-demo-1.hcltechsw.com/images/Emerald_Bedroom.png',\n",
        " 'os_106_https://unicacx-demo-1.hcltechsw.com/images/Emerald_Black_Friday.png',\n",
        " 'os_106_https://unicacx-demo-1.hcltechsw.com/images/Emerald_Credit_Card.png',\n",
        " 'os_106_https://unicacx-demo-1.hcltechsw.com/images/Emerald_Decorating.png',\n",
        " 'os_106_https://unicacx-demo-1.hcltechsw.com/images/Emerald_Dressers.png',\n",
        " 'os_106_https://unicacx-demo-1.hcltechsw.com/images/Emerald_Gift.png',\n",
        " 'os_106_https://unicacx-demo-1.hcltechsw.com/images/Emerald_LR_Decor.png',\n",
        " 'os_106_https://unicacx-demo-1.hcltechsw.com/images/Emerald_LR_Furniture.png',\n",
        " 'os_106_https://unicacx-demo-1.hcltechsw.com/images/Emerald_Living_Room.png',\n",
        " 'os_106_https://unicacx-demo-1.hcltechsw.com/images/Emerald_Mobile_App.png',\n",
        " 'os_106_https://unicacx-demo-1.hcltechsw.com/images/emerald/bedroom/beds/bed2_a1_350.jpg',\n",
        " 'os_106_https://unicacx-demo-1.hcltechsw.com/images/emerald/bedroom/dressers/beddress3_a1_350.jpg',\n",
        " 'os_106_https://unicacx-demo-1.hcltechsw.com/images/emerald/livingroom/decoration/rug3_a1_350.jpg',\n",
        " 'os_106_https://unicacx-demo-1.hcltechsw.com/images/emerald/livingroom/furniture/couch1_a1_350.jpg',\n",
        " 'os_106_https://unicacx-demo-1.hcltechsw.com/images/emerald/livingroom/lighting/light6_a1_350.jpg',\n",
        " 'os_106_https://unicacx-demo-1.hcltechsw.com/images/furniture_sale_40.png',\n",
        " 'os_108_ EAST',\n",
        " 'os_108_ NCEN',\n",
        " 'os_108_ TOLA',\n",
        " 'os_108_ WEST',\n",
        " 'os_108_ tags',\n",
        " 'os_108_EAST',\n",
        " 'os_108_NCEN',\n",
        " 'os_108_Subject: Retail, Keyword: Bedrooms, Keyword: New Arrival, Sentiment: neutral',\n",
        " 'os_108_Subject: Retail, Keyword: New Arrival, Sentiment: positive',\n",
        " 'os_108_Subject: Undetermined, Keyword: Bedrooms, Keyword: Style, Sentiment: positive',\n",
        " 'os_108_Subject: Undetermined, Keyword: Choice, Keyword: Comfort, Sentiment: positive',\n",
        " 'os_108_Subject: Undetermined, Keyword: Holiday, Keyword: Savings, Keyword: Season, Bucket: Days of the Week [Friday] [Tag: Savings] savings: Friday, Bucket: Days of the Week [Friday] [Tag: Season] season: Friday, Bucket: Holidays [US-->Black Friday] [Tag: Savings] savings: Black Friday, Bucket: Holidays [US-->Black Friday] [Tag: Season] season: Black Friday, Sentiment: positive',\n",
        " 'os_108_Subject: Undetermined, Keyword: Limited Time, Keyword: Online Offer, Image: Couch, Image: Cushion, Image: Furniture, Image: Home Decor, Image: Indoors, Image: Living Room, Image: Room, Sentiment: negative',\n",
        " 'os_108_Subject: Undetermined, Keyword: Style, Bucket: Product [Site-->Apparel-->Women-->Dress] [Tag: All] all: dressers, Bucket: Product [Site-->Apparel-->Women-->Dress] [Tag: Discount] off: dressers, Bucket: Product [Site-->Apparel-->Women-->Dress] [Tag: Life Style] stylesers: dressers, Bucket: Product [Site-->Apparel-->Women-->Dress] [Tag: Style] stylesers: dressers, Sentiment: positive',\n",
        " 'os_108_Subject: Undetermined, Keyword: Style, Sentiment: positive',\n",
        " 'os_108_Subject: Undetermined, Sentiment: positive',\n",
        " 'os_108_TOLA',\n",
        " 'os_109_Beef',\n",
        " 'os_109_Clothing',\n",
        " 'os_109_Digital media',\n",
        " 'os_109_Emerald',\n",
        " 'os_109_Fish',\n",
        " 'os_109_Frozen meals',\n",
        " 'os_109_Health care',\n",
        " 'os_109_Juices',\n",
        " 'os_109_Prepared meals',\n",
        " 'os_109_Soft drinks',\n",
        " 'os_109_bed',\n",
        " 'os_109_decor',\n",
        " 'os_109_dresser',\n",
        " 'os_109_furniture',\n",
        " 'os_109_lighting',\n",
        " 'os_109_living room',\n",
        " 'os_109_sofa',\n",
        " 'os_110_1',\n",
        " 'os_110_2',\n",
        " 'os_111_Brand',\n",
        " 'os_111_Clothing',\n",
        " 'os_111_Cold drinks',\n",
        " 'os_111_Deli',\n",
        " 'os_111_Frozen foods',\n",
        " 'os_111_Health and beauty',\n",
        " 'os_111_Health foods',\n",
        " 'os_111_Home and garden',\n",
        " 'os_111_Meat',\n",
        " 'os_111_Seafood',\n",
        " 'os_111_bedroom',\n",
        " 'os_111_decor',\n",
        " 'os_111_furniture',\n",
        " 'os_112_ ',\n",
        " 'os_112_ 1',\n",
        " 's_239_7',\n",
        " 's_239_8',\n",
        " 's_239_9',\n",
        " 's_239_10',\n",
        " 's_241_11',\n",
        " 's_241_12',\n",
        " 's_241_13',\n",
        " 's_241_14',\n",
        " 's_241_15',\n",
        " 's_241_16',\n",
        " 's_258_36',\n",
        " 's_258_37',\n",
        " 's_258_38',\n",
        " 's_258_39',\n",
        " 's_241_67',\n",
        " 's_241_68',\n",
        " 's_241_69',\n",
        " 's_248_70',\n",
        " 's_247_71',\n",
        " 's_248_72',\n",
        " 's_247_73',\n",
        " 's_248_74',\n",
        " 's_247_75',\n",
        " 's_248_76',\n",
        " 's_247_77',\n",
        " 's_247_78',\n",
        " 's_305_87',\n",
        " 's_305_88',\n",
        " 's_305_89',\n",
        " 's_306_90',\n",
        " 's_306_91',\n",
        " 's_306_92']\n"
      ],
      "metadata": {
        "id": "bUuYL68MRpeh"
      },
      "execution_count": 25,
      "outputs": []
    },
    {
      "cell_type": "code",
      "source": [
        "# Load the model\n",
        "with open('catboost_model_dataset4.pkl', 'rb') as f:\n",
        "    model = pickle.load(f)\n",
        "\n",
        "\n",
        "# Assuming df is the dataframe that needs to be scored\n",
        "df = pd.read_csv('check.csv')"
      ],
      "metadata": {
        "id": "dgZt2SqSRoLj"
      },
      "execution_count": 26,
      "outputs": []
    },
    {
      "cell_type": "code",
      "source": [
        "# Ensure that df only contains the features the model was trained on\n",
        "df = df[lst]\n",
        "df.shape"
      ],
      "metadata": {
        "colab": {
          "base_uri": "https://localhost:8080/"
        },
        "id": "cioG3G82Rz3L",
        "outputId": "bbf1c9f8-7754-4191-dfe7-a2fa55885f65"
      },
      "execution_count": 27,
      "outputs": [
        {
          "output_type": "execute_result",
          "data": {
            "text/plain": [
              "(10, 176)"
            ]
          },
          "metadata": {},
          "execution_count": 27
        }
      ]
    },
    {
      "cell_type": "code",
      "source": [
        "for feature in lst:\n",
        "    df[feature] = df[feature].astype(str).astype('category')"
      ],
      "metadata": {
        "id": "vaCIvNcFR41y"
      },
      "execution_count": 28,
      "outputs": []
    },
    {
      "cell_type": "code",
      "source": [
        "\n",
        "# Predict the target variable\n",
        "df['prediction'] = model.predict(df)"
      ],
      "metadata": {
        "id": "ZHpa1DnLR2xR"
      },
      "execution_count": 29,
      "outputs": []
    },
    {
      "cell_type": "code",
      "source": [
        "# Initialize the SHAP explainer\n",
        "explainer = shap.Explainer(model)"
      ],
      "metadata": {
        "id": "eHZ5eSvLSU8K"
      },
      "execution_count": 30,
      "outputs": []
    },
    {
      "cell_type": "code",
      "source": [
        "shap_values = explainer.shap_values(Pool(df, label=df['prediction'],cat_features=lst))"
      ],
      "metadata": {
        "id": "KEd5m3zQSjDi"
      },
      "execution_count": 34,
      "outputs": []
    },
    {
      "cell_type": "code",
      "source": [
        "shap_values[0].shape"
      ],
      "metadata": {
        "colab": {
          "base_uri": "https://localhost:8080/"
        },
        "id": "if8S4zVTRRw7",
        "outputId": "ae6210cd-839c-4bc9-f91b-61b27f01306c"
      },
      "execution_count": 37,
      "outputs": [
        {
          "output_type": "execute_result",
          "data": {
            "text/plain": [
              "(177,)"
            ]
          },
          "metadata": {},
          "execution_count": 37
        }
      ]
    },
    {
      "cell_type": "code",
      "source": [],
      "metadata": {
        "id": "x0Qeam8iRhpr"
      },
      "execution_count": null,
      "outputs": []
    }
  ]
}