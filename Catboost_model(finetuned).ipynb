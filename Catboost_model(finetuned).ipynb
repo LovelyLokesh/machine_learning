{
 "cells": [
  {
   "cell_type": "code",
   "execution_count": 12,
   "id": "d64a277c-eb9b-42f0-9b79-04cd32241ad5",
   "metadata": {},
   "outputs": [],
   "source": [
    "# ! pip install pandas\n",
    "# ! pip install numpy\n",
    "# ! pip install catboost\n",
    "# ! pip install seaborn\n",
    "# ! pip install scikit-learn"
   ]
  },
  {
   "cell_type": "code",
   "execution_count": 1,
   "id": "70ac44b6",
   "metadata": {},
   "outputs": [],
   "source": [
    "import numpy as np\n",
    "import pandas as pd\n",
    "import seaborn as sns\n",
    "import re\n",
    "import catboost\n",
    "from sklearn.model_selection import train_test_split\n",
    "from catboost import CatBoostClassifier\n",
    "from sklearn.metrics import f1_score,confusion_matrix,accuracy_score"
   ]
  },
  {
   "cell_type": "code",
   "execution_count": 2,
   "id": "15fdf591-5fb6-45bf-ac53-c8a10429cd6f",
   "metadata": {},
   "outputs": [
    {
     "data": {
      "text/plain": [
       "'/azusers/work/UNICA/Catboost'"
      ]
     },
     "execution_count": 2,
     "metadata": {},
     "output_type": "execute_result"
    }
   ],
   "source": [
    "import os\n",
    "os.getcwd()"
   ]
  },
  {
   "cell_type": "code",
   "execution_count": 3,
   "id": "47d51df5",
   "metadata": {},
   "outputs": [
    {
     "data": {
      "text/plain": [
       "(335113, 538)"
      ]
     },
     "execution_count": 3,
     "metadata": {},
     "output_type": "execute_result"
    }
   ],
   "source": [
    "df= pd.read_csv(\"/azusers/work/UNICA/Preprocessed_df.csv\")\n",
    "df.shape"
   ]
  },
  {
   "cell_type": "markdown",
   "id": "c97199bd",
   "metadata": {},
   "source": [
    "### We have to make our dataset for binary classification"
   ]
  },
  {
   "cell_type": "code",
   "execution_count": 4,
   "id": "ba84a661-66f4-48c6-98a2-d97b0e0a61dd",
   "metadata": {},
   "outputs": [
    {
     "data": {
      "text/plain": [
       "Response\n",
       "0.00    317173\n",
       "0.05     17138\n",
       "0.20       738\n",
       "1.05        64\n",
       "Name: count, dtype: int64"
      ]
     },
     "execution_count": 4,
     "metadata": {},
     "output_type": "execute_result"
    }
   ],
   "source": [
    "df['Response'].value_counts()"
   ]
  },
  {
   "cell_type": "code",
   "execution_count": 5,
   "id": "7371efa5",
   "metadata": {},
   "outputs": [],
   "source": [
    "df['target'] = np.where(df['Response'] == 0,0,1)"
   ]
  },
  {
   "cell_type": "code",
   "execution_count": 6,
   "id": "5d33ae6f",
   "metadata": {},
   "outputs": [
    {
     "data": {
      "text/plain": [
       "(335113, 539)"
      ]
     },
     "execution_count": 6,
     "metadata": {},
     "output_type": "execute_result"
    }
   ],
   "source": [
    "df.shape"
   ]
  },
  {
   "cell_type": "code",
   "execution_count": 7,
   "id": "2c4e9d8a-78a7-49da-bb77-8fa81131e6fe",
   "metadata": {},
   "outputs": [
    {
     "data": {
      "text/plain": [
       "target\n",
       "0    0.946466\n",
       "1    0.053534\n",
       "Name: proportion, dtype: float64"
      ]
     },
     "execution_count": 7,
     "metadata": {},
     "output_type": "execute_result"
    }
   ],
   "source": [
    "df['target'].value_counts(normalize=True)"
   ]
  },
  {
   "cell_type": "markdown",
   "id": "70649b6c",
   "metadata": {},
   "source": [
    "### Removing the unwanted coloums"
   ]
  },
  {
   "cell_type": "code",
   "execution_count": 8,
   "id": "e358cd94",
   "metadata": {},
   "outputs": [],
   "source": [
    "# List the columns to remove\n",
    "columns_to_remove = ['indiv_id', 'Response']\n",
    "\n",
    "# Drop the specified columns from the DataFrame\n",
    "df.drop(columns=columns_to_remove, inplace=True)"
   ]
  },
  {
   "cell_type": "code",
   "execution_count": 9,
   "id": "85a71d28",
   "metadata": {},
   "outputs": [
    {
     "data": {
      "text/plain": [
       "(335113, 537)"
      ]
     },
     "execution_count": 9,
     "metadata": {},
     "output_type": "execute_result"
    }
   ],
   "source": [
    "df.shape"
   ]
  },
  {
   "cell_type": "markdown",
   "id": "3067b8b1",
   "metadata": {},
   "source": [
    "### Splitting the dataset into X and y"
   ]
  },
  {
   "cell_type": "code",
   "execution_count": 10,
   "id": "4e951bca",
   "metadata": {},
   "outputs": [],
   "source": [
    "# Splitting the dataset into X and y\n",
    "X = df.drop('target', axis=1)  # Features: all columns except 'target'\n",
    "y = df['target']"
   ]
  },
  {
   "cell_type": "code",
   "execution_count": 11,
   "id": "292954d3",
   "metadata": {},
   "outputs": [],
   "source": [
    "# Splitting dataset into training and testing set\n",
    "X_train, X_test, y_train, y_test = train_test_split(X, y, test_size=0.2, random_state=42)"
   ]
  },
  {
   "cell_type": "markdown",
   "id": "90be3806",
   "metadata": {},
   "source": [
    "### Training"
   ]
  },
  {
   "cell_type": "code",
   "execution_count": 12,
   "id": "e11223e2",
   "metadata": {},
   "outputs": [
    {
     "name": "stdout",
     "output_type": "stream",
     "text": [
      "0:\tlearn: 0.6778849\ttest: 0.6779358\tbest: 0.6779358 (0)\ttotal: 130ms\tremaining: 2m 10s\n",
      "10:\tlearn: 0.5268309\ttest: 0.5272485\tbest: 0.5272485 (10)\ttotal: 997ms\tremaining: 1m 29s\n",
      "20:\tlearn: 0.4300052\ttest: 0.4305185\tbest: 0.4305185 (20)\ttotal: 1.76s\tremaining: 1m 22s\n",
      "30:\tlearn: 0.3375692\ttest: 0.3380677\tbest: 0.3380677 (30)\ttotal: 2.69s\tremaining: 1m 24s\n",
      "40:\tlearn: 0.2852832\ttest: 0.2857567\tbest: 0.2857567 (40)\ttotal: 3.63s\tremaining: 1m 24s\n",
      "50:\tlearn: 0.2550473\ttest: 0.2554853\tbest: 0.2554853 (50)\ttotal: 4.57s\tremaining: 1m 25s\n",
      "60:\tlearn: 0.2357676\ttest: 0.2361653\tbest: 0.2361653 (60)\ttotal: 5.56s\tremaining: 1m 25s\n",
      "70:\tlearn: 0.2225763\ttest: 0.2229431\tbest: 0.2229431 (70)\ttotal: 6.55s\tremaining: 1m 25s\n",
      "80:\tlearn: 0.2130701\ttest: 0.2134127\tbest: 0.2134127 (80)\ttotal: 7.42s\tremaining: 1m 24s\n",
      "90:\tlearn: 0.2059906\ttest: 0.2063115\tbest: 0.2063115 (90)\ttotal: 8.33s\tremaining: 1m 23s\n",
      "100:\tlearn: 0.2005559\ttest: 0.2008639\tbest: 0.2008639 (100)\ttotal: 9.3s\tremaining: 1m 22s\n",
      "110:\tlearn: 0.1963376\ttest: 0.1966289\tbest: 0.1966289 (110)\ttotal: 10.4s\tremaining: 1m 23s\n",
      "120:\tlearn: 0.1930224\ttest: 0.1933065\tbest: 0.1933065 (120)\ttotal: 11.4s\tremaining: 1m 22s\n",
      "130:\tlearn: 0.1903912\ttest: 0.1906788\tbest: 0.1906788 (130)\ttotal: 12.5s\tremaining: 1m 23s\n",
      "140:\tlearn: 0.1883315\ttest: 0.1885958\tbest: 0.1885958 (140)\ttotal: 13.6s\tremaining: 1m 23s\n",
      "150:\tlearn: 0.1866781\ttest: 0.1869313\tbest: 0.1869313 (150)\ttotal: 14.6s\tremaining: 1m 22s\n",
      "160:\tlearn: 0.1853331\ttest: 0.1855962\tbest: 0.1855962 (160)\ttotal: 15.6s\tremaining: 1m 21s\n",
      "170:\tlearn: 0.1842747\ttest: 0.1845283\tbest: 0.1845283 (170)\ttotal: 16.5s\tremaining: 1m 19s\n",
      "180:\tlearn: 0.1834132\ttest: 0.1836674\tbest: 0.1836674 (180)\ttotal: 17.4s\tremaining: 1m 18s\n",
      "190:\tlearn: 0.1827275\ttest: 0.1829757\tbest: 0.1829757 (190)\ttotal: 18.4s\tremaining: 1m 17s\n",
      "200:\tlearn: 0.1821715\ttest: 0.1824181\tbest: 0.1824181 (200)\ttotal: 19.4s\tremaining: 1m 16s\n",
      "210:\tlearn: 0.1817227\ttest: 0.1819666\tbest: 0.1819666 (210)\ttotal: 20.3s\tremaining: 1m 15s\n",
      "220:\tlearn: 0.1813609\ttest: 0.1816020\tbest: 0.1816020 (220)\ttotal: 21.2s\tremaining: 1m 14s\n",
      "230:\tlearn: 0.1810682\ttest: 0.1813062\tbest: 0.1813062 (230)\ttotal: 22.2s\tremaining: 1m 13s\n",
      "240:\tlearn: 0.1808279\ttest: 0.1810612\tbest: 0.1810612 (240)\ttotal: 23.1s\tremaining: 1m 12s\n",
      "250:\tlearn: 0.1806258\ttest: 0.1808575\tbest: 0.1808575 (250)\ttotal: 24.1s\tremaining: 1m 11s\n",
      "260:\tlearn: 0.1804603\ttest: 0.1806907\tbest: 0.1806907 (260)\ttotal: 25s\tremaining: 1m 10s\n",
      "270:\tlearn: 0.1803283\ttest: 0.1805577\tbest: 0.1805577 (270)\ttotal: 26s\tremaining: 1m 9s\n",
      "280:\tlearn: 0.1802183\ttest: 0.1804486\tbest: 0.1804486 (280)\ttotal: 26.9s\tremaining: 1m 8s\n",
      "290:\tlearn: 0.1801260\ttest: 0.1803562\tbest: 0.1803562 (290)\ttotal: 27.8s\tremaining: 1m 7s\n",
      "300:\tlearn: 0.1800496\ttest: 0.1802857\tbest: 0.1802857 (300)\ttotal: 28.7s\tremaining: 1m 6s\n",
      "310:\tlearn: 0.1799863\ttest: 0.1802234\tbest: 0.1802234 (310)\ttotal: 29.6s\tremaining: 1m 5s\n",
      "320:\tlearn: 0.1799343\ttest: 0.1801717\tbest: 0.1801717 (320)\ttotal: 30.5s\tremaining: 1m 4s\n",
      "330:\tlearn: 0.1798906\ttest: 0.1801288\tbest: 0.1801288 (330)\ttotal: 31.3s\tremaining: 1m 3s\n",
      "340:\tlearn: 0.1798522\ttest: 0.1800947\tbest: 0.1800947 (340)\ttotal: 32.2s\tremaining: 1m 2s\n",
      "350:\tlearn: 0.1798161\ttest: 0.1800615\tbest: 0.1800615 (350)\ttotal: 33.1s\tremaining: 1m 1s\n",
      "360:\tlearn: 0.1797842\ttest: 0.1800322\tbest: 0.1800322 (360)\ttotal: 33.9s\tremaining: 1m\n",
      "370:\tlearn: 0.1797568\ttest: 0.1800058\tbest: 0.1800058 (370)\ttotal: 34.8s\tremaining: 59s\n",
      "380:\tlearn: 0.1797384\ttest: 0.1799909\tbest: 0.1799909 (380)\ttotal: 35.7s\tremaining: 58s\n",
      "390:\tlearn: 0.1797185\ttest: 0.1799752\tbest: 0.1799752 (390)\ttotal: 36.6s\tremaining: 57s\n",
      "400:\tlearn: 0.1797015\ttest: 0.1799597\tbest: 0.1799597 (400)\ttotal: 37.4s\tremaining: 55.8s\n",
      "410:\tlearn: 0.1796828\ttest: 0.1799434\tbest: 0.1799434 (410)\ttotal: 38.3s\tremaining: 54.8s\n",
      "420:\tlearn: 0.1796687\ttest: 0.1799324\tbest: 0.1799324 (420)\ttotal: 39.2s\tremaining: 53.9s\n",
      "430:\tlearn: 0.1796594\ttest: 0.1799254\tbest: 0.1799254 (430)\ttotal: 40s\tremaining: 52.8s\n",
      "440:\tlearn: 0.1796435\ttest: 0.1799140\tbest: 0.1799140 (440)\ttotal: 40.9s\tremaining: 51.8s\n",
      "450:\tlearn: 0.1796298\ttest: 0.1799055\tbest: 0.1799055 (450)\ttotal: 41.7s\tremaining: 50.8s\n",
      "460:\tlearn: 0.1796198\ttest: 0.1798978\tbest: 0.1798978 (460)\ttotal: 42.6s\tremaining: 49.8s\n",
      "470:\tlearn: 0.1796085\ttest: 0.1798935\tbest: 0.1798935 (470)\ttotal: 43.4s\tremaining: 48.8s\n",
      "480:\tlearn: 0.1796014\ttest: 0.1798897\tbest: 0.1798897 (480)\ttotal: 44.3s\tremaining: 47.8s\n",
      "490:\tlearn: 0.1795929\ttest: 0.1798847\tbest: 0.1798847 (490)\ttotal: 45.2s\tremaining: 46.8s\n",
      "500:\tlearn: 0.1795844\ttest: 0.1798811\tbest: 0.1798811 (500)\ttotal: 46s\tremaining: 45.8s\n",
      "510:\tlearn: 0.1795735\ttest: 0.1798768\tbest: 0.1798768 (510)\ttotal: 46.8s\tremaining: 44.8s\n",
      "520:\tlearn: 0.1795677\ttest: 0.1798719\tbest: 0.1798719 (520)\ttotal: 47.6s\tremaining: 43.8s\n",
      "530:\tlearn: 0.1795609\ttest: 0.1798693\tbest: 0.1798693 (530)\ttotal: 48.6s\tremaining: 42.9s\n",
      "540:\tlearn: 0.1795587\ttest: 0.1798689\tbest: 0.1798685 (536)\ttotal: 49.4s\tremaining: 41.9s\n",
      "550:\tlearn: 0.1795490\ttest: 0.1798634\tbest: 0.1798633 (548)\ttotal: 50.2s\tremaining: 40.9s\n",
      "560:\tlearn: 0.1795377\ttest: 0.1798542\tbest: 0.1798542 (560)\ttotal: 51.1s\tremaining: 40s\n",
      "570:\tlearn: 0.1795307\ttest: 0.1798498\tbest: 0.1798498 (570)\ttotal: 51.9s\tremaining: 39s\n",
      "580:\tlearn: 0.1795243\ttest: 0.1798455\tbest: 0.1798455 (580)\ttotal: 52.8s\tremaining: 38s\n",
      "590:\tlearn: 0.1795168\ttest: 0.1798419\tbest: 0.1798418 (589)\ttotal: 53.6s\tremaining: 37.1s\n",
      "600:\tlearn: 0.1795113\ttest: 0.1798382\tbest: 0.1798382 (600)\ttotal: 54.5s\tremaining: 36.2s\n",
      "610:\tlearn: 0.1795066\ttest: 0.1798369\tbest: 0.1798369 (610)\ttotal: 55.3s\tremaining: 35.2s\n",
      "620:\tlearn: 0.1795013\ttest: 0.1798321\tbest: 0.1798318 (619)\ttotal: 56.1s\tremaining: 34.2s\n",
      "630:\tlearn: 0.1794967\ttest: 0.1798314\tbest: 0.1798312 (628)\ttotal: 57s\tremaining: 33.3s\n",
      "640:\tlearn: 0.1794901\ttest: 0.1798303\tbest: 0.1798297 (636)\ttotal: 57.8s\tremaining: 32.4s\n",
      "650:\tlearn: 0.1794858\ttest: 0.1798280\tbest: 0.1798280 (650)\ttotal: 58.6s\tremaining: 31.4s\n",
      "660:\tlearn: 0.1794781\ttest: 0.1798227\tbest: 0.1798227 (660)\ttotal: 59.5s\tremaining: 30.5s\n",
      "670:\tlearn: 0.1794717\ttest: 0.1798178\tbest: 0.1798174 (669)\ttotal: 1m\tremaining: 29.6s\n",
      "680:\tlearn: 0.1794648\ttest: 0.1798121\tbest: 0.1798121 (680)\ttotal: 1m 1s\tremaining: 28.6s\n",
      "690:\tlearn: 0.1794570\ttest: 0.1798071\tbest: 0.1798071 (690)\ttotal: 1m 2s\tremaining: 27.7s\n",
      "700:\tlearn: 0.1794481\ttest: 0.1798034\tbest: 0.1798031 (699)\ttotal: 1m 2s\tremaining: 26.8s\n",
      "710:\tlearn: 0.1794412\ttest: 0.1798006\tbest: 0.1798004 (708)\ttotal: 1m 3s\tremaining: 25.9s\n",
      "720:\tlearn: 0.1794325\ttest: 0.1797953\tbest: 0.1797953 (720)\ttotal: 1m 4s\tremaining: 25s\n",
      "730:\tlearn: 0.1794285\ttest: 0.1797950\tbest: 0.1797950 (730)\ttotal: 1m 5s\tremaining: 24.1s\n",
      "740:\tlearn: 0.1794215\ttest: 0.1797910\tbest: 0.1797910 (740)\ttotal: 1m 6s\tremaining: 23.2s\n",
      "750:\tlearn: 0.1794129\ttest: 0.1797841\tbest: 0.1797841 (750)\ttotal: 1m 7s\tremaining: 22.3s\n",
      "760:\tlearn: 0.1794076\ttest: 0.1797821\tbest: 0.1797821 (759)\ttotal: 1m 7s\tremaining: 21.3s\n",
      "770:\tlearn: 0.1794052\ttest: 0.1797817\tbest: 0.1797817 (770)\ttotal: 1m 8s\tremaining: 20.4s\n",
      "780:\tlearn: 0.1793977\ttest: 0.1797785\tbest: 0.1797784 (779)\ttotal: 1m 9s\tremaining: 19.5s\n",
      "790:\tlearn: 0.1793923\ttest: 0.1797775\tbest: 0.1797771 (784)\ttotal: 1m 10s\tremaining: 18.6s\n",
      "800:\tlearn: 0.1793877\ttest: 0.1797755\tbest: 0.1797754 (799)\ttotal: 1m 11s\tremaining: 17.7s\n",
      "810:\tlearn: 0.1793820\ttest: 0.1797744\tbest: 0.1797743 (807)\ttotal: 1m 12s\tremaining: 16.8s\n",
      "820:\tlearn: 0.1793762\ttest: 0.1797712\tbest: 0.1797710 (819)\ttotal: 1m 13s\tremaining: 15.9s\n",
      "830:\tlearn: 0.1793732\ttest: 0.1797709\tbest: 0.1797702 (823)\ttotal: 1m 13s\tremaining: 15s\n",
      "840:\tlearn: 0.1793668\ttest: 0.1797689\tbest: 0.1797687 (839)\ttotal: 1m 14s\tremaining: 14.1s\n",
      "850:\tlearn: 0.1793633\ttest: 0.1797670\tbest: 0.1797670 (849)\ttotal: 1m 15s\tremaining: 13.2s\n",
      "860:\tlearn: 0.1793564\ttest: 0.1797643\tbest: 0.1797641 (858)\ttotal: 1m 16s\tremaining: 12.3s\n",
      "870:\tlearn: 0.1793506\ttest: 0.1797629\tbest: 0.1797623 (862)\ttotal: 1m 17s\tremaining: 11.4s\n",
      "880:\tlearn: 0.1793452\ttest: 0.1797624\tbest: 0.1797614 (875)\ttotal: 1m 18s\tremaining: 10.5s\n",
      "890:\tlearn: 0.1793384\ttest: 0.1797605\tbest: 0.1797599 (887)\ttotal: 1m 18s\tremaining: 9.65s\n",
      "900:\tlearn: 0.1793296\ttest: 0.1797554\tbest: 0.1797554 (900)\ttotal: 1m 19s\tremaining: 8.76s\n",
      "910:\tlearn: 0.1793235\ttest: 0.1797548\tbest: 0.1797546 (902)\ttotal: 1m 20s\tremaining: 7.86s\n",
      "920:\tlearn: 0.1793195\ttest: 0.1797532\tbest: 0.1797529 (918)\ttotal: 1m 21s\tremaining: 6.98s\n",
      "930:\tlearn: 0.1793145\ttest: 0.1797529\tbest: 0.1797529 (930)\ttotal: 1m 22s\tremaining: 6.09s\n",
      "940:\tlearn: 0.1793103\ttest: 0.1797509\tbest: 0.1797509 (940)\ttotal: 1m 23s\tremaining: 5.2s\n",
      "950:\tlearn: 0.1793032\ttest: 0.1797464\tbest: 0.1797464 (950)\ttotal: 1m 23s\tremaining: 4.32s\n",
      "960:\tlearn: 0.1792989\ttest: 0.1797455\tbest: 0.1797455 (960)\ttotal: 1m 24s\tremaining: 3.44s\n",
      "970:\tlearn: 0.1792937\ttest: 0.1797444\tbest: 0.1797444 (970)\ttotal: 1m 25s\tremaining: 2.55s\n",
      "980:\tlearn: 0.1792892\ttest: 0.1797439\tbest: 0.1797439 (980)\ttotal: 1m 26s\tremaining: 1.67s\n",
      "990:\tlearn: 0.1792823\ttest: 0.1797434\tbest: 0.1797434 (990)\ttotal: 1m 27s\tremaining: 792ms\n",
      "999:\tlearn: 0.1792762\ttest: 0.1797406\tbest: 0.1797403 (998)\ttotal: 1m 28s\tremaining: 0us\n",
      "\n",
      "bestTest = 0.1797403168\n",
      "bestIteration = 998\n",
      "\n",
      "Shrink model to first 999 iterations.\n"
     ]
    },
    {
     "data": {
      "text/plain": [
       "<catboost.core.CatBoostClassifier at 0x7a84ecbaeb00>"
      ]
     },
     "execution_count": 12,
     "metadata": {},
     "output_type": "execute_result"
    }
   ],
   "source": [
    "catboost_model = CatBoostClassifier(\n",
    "    iterations = 1000,\n",
    "    learning_rate = 0.01,\n",
    "    max_depth= 5,\n",
    "    colsample_bylevel= 0.9655000144869412,\n",
    "    random_strength= 7.587945476302646, \n",
    "    bagging_temperature= 3.073560724145776,\n",
    "    bootstrap_type ='Bayesian',\n",
    "    eval_metric ='Logloss',\n",
    "    random_state = 42\n",
    "    )\n",
    "\n",
    "catboost_model.fit(X_train, y_train, eval_set = [(X_test, y_test)],verbose = 10)"
   ]
  },
  {
   "cell_type": "markdown",
   "id": "ab707ec0-0fea-4fb4-8f65-c7d7127a7b7f",
   "metadata": {},
   "source": [
    "### changing the cutoff"
   ]
  },
  {
   "cell_type": "code",
   "execution_count": 21,
   "id": "0afacab5-a6c1-4622-b15b-c26ac8d07acf",
   "metadata": {},
   "outputs": [],
   "source": [
    "y_pred_test = catboost_model.predict_proba(X_test)[:,1] > 0.085"
   ]
  },
  {
   "cell_type": "code",
   "execution_count": 22,
   "id": "eeb38f8a-7f1f-4a0e-a4e8-bbdba04edebf",
   "metadata": {},
   "outputs": [],
   "source": [
    "y_pred_train = catboost_model.predict_proba(X_train)[:,1] > 0.085"
   ]
  },
  {
   "cell_type": "code",
   "execution_count": 13,
   "id": "f3fbb712-ad7a-4df7-8795-e21394211e04",
   "metadata": {},
   "outputs": [],
   "source": [
    "# y_pred_test = catboost_model.predict(X_test)\n",
    "# y_pred_train = catboost_model.predict(X_train)"
   ]
  },
  {
   "cell_type": "markdown",
   "id": "e3a6f897",
   "metadata": {},
   "source": [
    "### TRAIN"
   ]
  },
  {
   "cell_type": "code",
   "execution_count": 23,
   "id": "00f0c570-f3ec-449f-abd1-108397c6caf3",
   "metadata": {},
   "outputs": [
    {
     "name": "stdout",
     "output_type": "stream",
     "text": [
      "Confusion Matrix:\n",
      "[[137872 115866]\n",
      " [  2121  12231]]\n"
     ]
    }
   ],
   "source": [
    "# Confusion Matrix\n",
    "conf_matrix = confusion_matrix(y_train, y_pred_train)\n",
    "print(\"Confusion Matrix:\")\n",
    "print(conf_matrix)"
   ]
  },
  {
   "cell_type": "code",
   "execution_count": 24,
   "id": "0b361385-ed1a-488a-8c19-7b1e49e8420c",
   "metadata": {},
   "outputs": [
    {
     "name": "stdout",
     "output_type": "stream",
     "text": [
      "Accuracy on trn set: 0.559897795516431\n"
     ]
    }
   ],
   "source": [
    "# Evaluating the model\n",
    "accuracy = accuracy_score(y_train, y_pred_train)\n",
    "print(f\"Accuracy on trn set: {accuracy}\")"
   ]
  },
  {
   "cell_type": "code",
   "execution_count": 25,
   "id": "1c6f69ba-5795-4ce3-a2bf-0158a77a9a34",
   "metadata": {},
   "outputs": [
    {
     "name": "stdout",
     "output_type": "stream",
     "text": [
      "f1 on train set: 0.1717246172314302\n"
     ]
    }
   ],
   "source": [
    "# Evaluating the model\n",
    "f1 = f1_score(y_train, y_pred_train)\n",
    "print(f\"f1 on train set: {f1}\")"
   ]
  },
  {
   "cell_type": "markdown",
   "id": "6eae28de",
   "metadata": {},
   "source": [
    "### TEST"
   ]
  },
  {
   "cell_type": "code",
   "execution_count": 26,
   "id": "47c592fa-c565-4769-8f44-ee198b4ffbf9",
   "metadata": {},
   "outputs": [
    {
     "name": "stdout",
     "output_type": "stream",
     "text": [
      "Confusion Matrix:\n",
      "[[34268 29167]\n",
      " [  537  3051]]\n"
     ]
    }
   ],
   "source": [
    "# Confusion Matrix\n",
    "conf_matrix = confusion_matrix(y_test, y_pred_test)\n",
    "print(\"Confusion Matrix:\")\n",
    "print(conf_matrix)"
   ]
  },
  {
   "cell_type": "code",
   "execution_count": 27,
   "id": "3b441282-dede-469f-81ab-6564b39a9546",
   "metadata": {},
   "outputs": [
    {
     "name": "stdout",
     "output_type": "stream",
     "text": [
      "Accuracy on trn set: 0.5568088566611462\n"
     ]
    }
   ],
   "source": [
    "# Evaluating the model\n",
    "accuracy = accuracy_score(y_test, y_pred_test)\n",
    "print(f\"Accuracy on trn set: {accuracy}\")"
   ]
  },
  {
   "cell_type": "code",
   "execution_count": 28,
   "id": "ddc3b2fa-8de5-4fb5-9888-a29a22860d23",
   "metadata": {},
   "outputs": [
    {
     "name": "stdout",
     "output_type": "stream",
     "text": [
      "f1 on train set: 0.17041836563704407\n"
     ]
    }
   ],
   "source": [
    "# Evaluating the model\n",
    "f1 = f1_score(y_test, y_pred_test)\n",
    "print(f\"f1 on train set: {f1}\")"
   ]
  },
  {
   "cell_type": "markdown",
   "id": "787a4765-6141-46e0-97f0-571c33ce1466",
   "metadata": {},
   "source": [
    "### JSON FORMAT"
   ]
  },
  {
   "cell_type": "code",
   "execution_count": 22,
   "id": "0a4f6aa8-8d28-4eff-a35b-d6103515c3fd",
   "metadata": {},
   "outputs": [],
   "source": [
    "catboost_model.save_model(\n",
    "    \"catboost_model.json\",\n",
    "    format=\"json\",\n",
    "    # pool=pool  # this parameter is required only for models with categorical features.\n",
    ")"
   ]
  },
  {
   "cell_type": "code",
   "execution_count": 19,
   "id": "bf7881d4-c87f-48bd-b885-b0f1f229346b",
   "metadata": {},
   "outputs": [],
   "source": [
    "# Predict probabilities for the positive class\n",
    "y_prob_test = catboost_model.predict_proba(X_test)[:, 1]"
   ]
  },
  {
   "cell_type": "code",
   "execution_count": 20,
   "id": "dc664701-c64a-4e1e-93ac-18cea1321229",
   "metadata": {},
   "outputs": [
    {
     "name": "stdout",
     "output_type": "stream",
     "text": [
      "Best Threshold: 0.085\n",
      "Best F1 Score: 0.17041836563704407\n"
     ]
    }
   ],
   "source": [
    "# Calculate F1 scores for different threshold values\n",
    "threshold_values = np.arange(0, 1.0, 0.001)\n",
    "f1_scores = []\n",
    "for threshold in threshold_values:\n",
    "    y_pred_threshold = (y_prob_test > threshold).astype(int)\n",
    "    f1_scores.append(f1_score(y_test, y_pred_threshold))\n",
    "\n",
    "# Find the threshold value with the highest F1 score\n",
    "best_threshold = threshold_values[np.argmax(f1_scores)]\n",
    "best_f1_score = np.max(f1_scores)\n",
    "\n",
    "print(\"Best Threshold:\", best_threshold)\n",
    "print(\"Best F1 Score:\", best_f1_score)"
   ]
  },
  {
   "cell_type": "code",
   "execution_count": null,
   "id": "4ae7f9ed-232c-4d35-b569-9abe83c05fca",
   "metadata": {},
   "outputs": [],
   "source": []
  }
 ],
 "metadata": {
  "kernelspec": {
   "display_name": "Python 3 (ipykernel)",
   "language": "python",
   "name": "python3"
  },
  "language_info": {
   "codemirror_mode": {
    "name": "ipython",
    "version": 3
   },
   "file_extension": ".py",
   "mimetype": "text/x-python",
   "name": "python",
   "nbconvert_exporter": "python",
   "pygments_lexer": "ipython3",
   "version": "3.10.12"
  }
 },
 "nbformat": 4,
 "nbformat_minor": 5
}
