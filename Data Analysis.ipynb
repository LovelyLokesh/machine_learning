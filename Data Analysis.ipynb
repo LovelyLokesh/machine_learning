{
 "cells": [
  {
   "cell_type": "code",
   "execution_count": 1,
   "id": "a7588510",
   "metadata": {},
   "outputs": [],
   "source": [
    "import pandas as pd "
   ]
  },
  {
   "cell_type": "code",
   "execution_count": 3,
   "id": "a694672a",
   "metadata": {},
   "outputs": [],
   "source": [
    "df = pd.read_csv('resp_data.csv',  low_memory=False)"
   ]
  },
  {
   "cell_type": "code",
   "execution_count": 4,
   "id": "a33b8cd5",
   "metadata": {},
   "outputs": [
    {
     "data": {
      "text/plain": [
       "Index(['indiv_id', 's_239_7', 's_239_8', 's_239_9', 's_239_10', 's_241_11',\n",
       "       's_241_12', 's_241_13', 's_241_14', 's_241_15', 's_241_16', 's_258_36',\n",
       "       's_258_37', 's_258_38', 's_258_39', 's_241_67', 's_241_68', 's_241_69',\n",
       "       's_248_70', 's_247_71', 's_248_72', 's_247_73', 's_248_74', 's_247_75',\n",
       "       's_248_76', 's_247_77', 's_247_78', 's_305_87', 's_305_88', 's_305_89',\n",
       "       's_306_90', 's_306_91', 's_306_92', 's_240_159', 'on_11', 'on_33',\n",
       "       'os_34', 'os_103', 'os_104', 'os_105', 'os_106', 'os_107', 'os_108',\n",
       "       'os_109', 'os_110', 'os_111', 'os_112', 'on_121', 'ContactMonth',\n",
       "       'ContactWeekday', 'ContactHour', 'Response'],\n",
       "      dtype='object')"
      ]
     },
     "execution_count": 4,
     "metadata": {},
     "output_type": "execute_result"
    }
   ],
   "source": [
    "df.columns"
   ]
  },
  {
   "cell_type": "code",
   "execution_count": 5,
   "id": "49378d05",
   "metadata": {},
   "outputs": [],
   "source": [
    "order_columns = [i for i in df.columns if i.startswith('o')]"
   ]
  },
  {
   "cell_type": "code",
   "execution_count": 7,
   "id": "328dd67e",
   "metadata": {},
   "outputs": [
    {
     "data": {
      "text/plain": [
       "['on_11',\n",
       " 'on_33',\n",
       " 'os_34',\n",
       " 'os_103',\n",
       " 'os_104',\n",
       " 'os_105',\n",
       " 'os_106',\n",
       " 'os_107',\n",
       " 'os_108',\n",
       " 'os_109',\n",
       " 'os_110',\n",
       " 'os_111',\n",
       " 'os_112',\n",
       " 'on_121']"
      ]
     },
     "execution_count": 7,
     "metadata": {},
     "output_type": "execute_result"
    }
   ],
   "source": [
    "order_columns"
   ]
  },
  {
   "cell_type": "code",
   "execution_count": 19,
   "id": "4eecd851",
   "metadata": {},
   "outputs": [],
   "source": [
    "df['offer_id'] = df.groupby(order_columns).ngroup()"
   ]
  },
  {
   "cell_type": "code",
   "execution_count": 57,
   "id": "03bbecbc",
   "metadata": {},
   "outputs": [],
   "source": [
    "top_offer_is = list(df['offer_id'].value_counts().head(10).index)"
   ]
  },
  {
   "cell_type": "code",
   "execution_count": 21,
   "id": "48174141",
   "metadata": {},
   "outputs": [],
   "source": [
    "df_tmp = df[df['offer_id'] == 27].copy()"
   ]
  },
  {
   "cell_type": "code",
   "execution_count": 23,
   "id": "00367d4b",
   "metadata": {},
   "outputs": [],
   "source": [
    "age_columns = ['s_247_71',  's_247_73', 's_247_75', 's_247_77', 's_247_78']\n",
    "income_columns = ['s_248_70',  's_248_72',  's_248_74', 's_248_76']"
   ]
  },
  {
   "cell_type": "code",
   "execution_count": 28,
   "id": "78a60333",
   "metadata": {},
   "outputs": [
    {
     "name": "stdout",
     "output_type": "stream",
     "text": [
      "s_247_71 - 14111\n",
      "s_247_73 - 11243\n",
      "s_247_75 - 8616\n",
      "s_247_77 - 4909\n",
      "s_247_78 - 1771\n",
      "s_248_70 - 1046\n",
      "s_248_72 - 19716\n",
      "s_248_74 - 18819\n",
      "s_248_76 - 1069\n"
     ]
    }
   ],
   "source": [
    "for column in age_columns + income_columns:\n",
    "    print(column, '-', len(df_tmp[df_tmp[column] == 1]))"
   ]
  },
  {
   "cell_type": "code",
   "execution_count": 59,
   "id": "32e74240",
   "metadata": {},
   "outputs": [],
   "source": [
    "def get_response_probability(df_tmp):    \n",
    "    response_prob_dict_by_age = {}\n",
    "    for age in age_columns:\n",
    "        age_response_prob = []\n",
    "        for income in income_columns:\n",
    "            total_offers = df_tmp[(df_tmp[age] == 1) & (df_tmp[income] == 1)]\n",
    "            accepted_offers = df_tmp[(df_tmp[age] == 1) & (df_tmp[income] == 1) & (df_tmp['Response'] > 0) ]\n",
    "            response_prob = -1\n",
    "            if len(total_offers) != 0:\n",
    "                response_prob = round(len(accepted_offers) / len(total_offers),2)\n",
    "            age_response_prob.append(response_prob)\n",
    "            # print(age, '-', income, '-', len(accepted_offers), '-', len(total_offers), '-', response_prob)\n",
    "        response_prob_dict_by_age[age] = age_response_prob\n",
    "    return pd.DataFrame(response_prob_dict_by_age, index=income_columns)\n"
   ]
  },
  {
   "cell_type": "code",
   "execution_count": 60,
   "id": "ffd720e7",
   "metadata": {},
   "outputs": [
    {
     "data": {
      "text/html": [
       "<div>\n",
       "<style scoped>\n",
       "    .dataframe tbody tr th:only-of-type {\n",
       "        vertical-align: middle;\n",
       "    }\n",
       "\n",
       "    .dataframe tbody tr th {\n",
       "        vertical-align: top;\n",
       "    }\n",
       "\n",
       "    .dataframe thead th {\n",
       "        text-align: right;\n",
       "    }\n",
       "</style>\n",
       "<table border=\"1\" class=\"dataframe\">\n",
       "  <thead>\n",
       "    <tr style=\"text-align: right;\">\n",
       "      <th></th>\n",
       "      <th>s_247_71</th>\n",
       "      <th>s_247_73</th>\n",
       "      <th>s_247_75</th>\n",
       "      <th>s_247_77</th>\n",
       "      <th>s_247_78</th>\n",
       "    </tr>\n",
       "  </thead>\n",
       "  <tbody>\n",
       "    <tr>\n",
       "      <th>s_248_70</th>\n",
       "      <td>0.07</td>\n",
       "      <td>0.08</td>\n",
       "      <td>0.10</td>\n",
       "      <td>0.10</td>\n",
       "      <td>0.09</td>\n",
       "    </tr>\n",
       "    <tr>\n",
       "      <th>s_248_72</th>\n",
       "      <td>0.08</td>\n",
       "      <td>0.09</td>\n",
       "      <td>0.09</td>\n",
       "      <td>0.10</td>\n",
       "      <td>0.12</td>\n",
       "    </tr>\n",
       "    <tr>\n",
       "      <th>s_248_74</th>\n",
       "      <td>0.09</td>\n",
       "      <td>0.09</td>\n",
       "      <td>0.09</td>\n",
       "      <td>0.09</td>\n",
       "      <td>0.08</td>\n",
       "    </tr>\n",
       "    <tr>\n",
       "      <th>s_248_76</th>\n",
       "      <td>0.10</td>\n",
       "      <td>0.10</td>\n",
       "      <td>0.10</td>\n",
       "      <td>0.05</td>\n",
       "      <td>0.10</td>\n",
       "    </tr>\n",
       "  </tbody>\n",
       "</table>\n",
       "</div>"
      ],
      "text/plain": [
       "          s_247_71  s_247_73  s_247_75  s_247_77  s_247_78\n",
       "s_248_70      0.07      0.08      0.10      0.10      0.09\n",
       "s_248_72      0.08      0.09      0.09      0.10      0.12\n",
       "s_248_74      0.09      0.09      0.09      0.09      0.08\n",
       "s_248_76      0.10      0.10      0.10      0.05      0.10"
      ]
     },
     "execution_count": 60,
     "metadata": {},
     "output_type": "execute_result"
    }
   ],
   "source": [
    "get_response_probability(df_tmp)"
   ]
  },
  {
   "cell_type": "code",
   "execution_count": 53,
   "id": "b48abec9",
   "metadata": {},
   "outputs": [
    {
     "name": "stdout",
     "output_type": "stream",
     "text": [
      "s_247_71 - s_248_70 - 115 - 3487 - 0.03\n",
      "s_247_71 - s_248_72 - 2390 - 63141 - 0.04\n",
      "s_247_71 - s_248_74 - 3048 - 47455 - 0.06\n",
      "s_247_71 - s_248_76 - 142 - 2234 - 0.06\n",
      "s_247_73 - s_248_70 - 120 - 2965 - 0.04\n",
      "s_247_73 - s_248_72 - 2470 - 50184 - 0.05\n",
      "s_247_73 - s_248_74 - 2462 - 37125 - 0.07\n",
      "s_247_73 - s_248_76 - 143 - 2082 - 0.07\n",
      "s_247_75 - s_248_70 - 113 - 2336 - 0.05\n",
      "s_247_75 - s_248_72 - 1925 - 38358 - 0.05\n",
      "s_247_75 - s_248_74 - 1830 - 29225 - 0.06\n",
      "s_247_75 - s_248_76 - 95 - 1356 - 0.07\n",
      "s_247_77 - s_248_70 - 73 - 1278 - 0.06\n",
      "s_247_77 - s_248_72 - 1204 - 22228 - 0.05\n",
      "s_247_77 - s_248_74 - 962 - 15982 - 0.06\n",
      "s_247_77 - s_248_76 - 39 - 835 - 0.05\n",
      "s_247_78 - s_248_70 - 17 - 473 - 0.04\n",
      "s_247_78 - s_248_72 - 434 - 8060 - 0.05\n",
      "s_247_78 - s_248_74 - 344 - 5989 - 0.06\n",
      "s_247_78 - s_248_76 - 14 - 320 - 0.04\n"
     ]
    },
    {
     "data": {
      "text/html": [
       "<div>\n",
       "<style scoped>\n",
       "    .dataframe tbody tr th:only-of-type {\n",
       "        vertical-align: middle;\n",
       "    }\n",
       "\n",
       "    .dataframe tbody tr th {\n",
       "        vertical-align: top;\n",
       "    }\n",
       "\n",
       "    .dataframe thead th {\n",
       "        text-align: right;\n",
       "    }\n",
       "</style>\n",
       "<table border=\"1\" class=\"dataframe\">\n",
       "  <thead>\n",
       "    <tr style=\"text-align: right;\">\n",
       "      <th></th>\n",
       "      <th>s_247_71</th>\n",
       "      <th>s_247_73</th>\n",
       "      <th>s_247_75</th>\n",
       "      <th>s_247_77</th>\n",
       "      <th>s_247_78</th>\n",
       "    </tr>\n",
       "  </thead>\n",
       "  <tbody>\n",
       "    <tr>\n",
       "      <th>s_248_70</th>\n",
       "      <td>0.03</td>\n",
       "      <td>0.04</td>\n",
       "      <td>0.05</td>\n",
       "      <td>0.06</td>\n",
       "      <td>0.04</td>\n",
       "    </tr>\n",
       "    <tr>\n",
       "      <th>s_248_72</th>\n",
       "      <td>0.04</td>\n",
       "      <td>0.05</td>\n",
       "      <td>0.05</td>\n",
       "      <td>0.05</td>\n",
       "      <td>0.05</td>\n",
       "    </tr>\n",
       "    <tr>\n",
       "      <th>s_248_74</th>\n",
       "      <td>0.06</td>\n",
       "      <td>0.07</td>\n",
       "      <td>0.06</td>\n",
       "      <td>0.06</td>\n",
       "      <td>0.06</td>\n",
       "    </tr>\n",
       "    <tr>\n",
       "      <th>s_248_76</th>\n",
       "      <td>0.06</td>\n",
       "      <td>0.07</td>\n",
       "      <td>0.07</td>\n",
       "      <td>0.05</td>\n",
       "      <td>0.04</td>\n",
       "    </tr>\n",
       "  </tbody>\n",
       "</table>\n",
       "</div>"
      ],
      "text/plain": [
       "          s_247_71  s_247_73  s_247_75  s_247_77  s_247_78\n",
       "s_248_70      0.03      0.04      0.05      0.06      0.04\n",
       "s_248_72      0.04      0.05      0.05      0.05      0.05\n",
       "s_248_74      0.06      0.07      0.06      0.06      0.06\n",
       "s_248_76      0.06      0.07      0.07      0.05      0.04"
      ]
     },
     "execution_count": 53,
     "metadata": {},
     "output_type": "execute_result"
    }
   ],
   "source": [
    "get_response_probability(df)"
   ]
  },
  {
   "cell_type": "code",
   "execution_count": 48,
   "id": "57d5ca33",
   "metadata": {},
   "outputs": [
    {
     "data": {
      "text/plain": [
       "{'s_247_71': [0.07, 0.08, 0.09, 0.1],\n",
       " 's_247_73': [0.08, 0.09, 0.09, 0.1],\n",
       " 's_247_75': [0.1, 0.09, 0.09, 0.1],\n",
       " 's_247_77': [0.1, 0.1, 0.09, 0.05],\n",
       " 's_247_78': [0.09, 0.12, 0.08, 0.1]}"
      ]
     },
     "execution_count": 48,
     "metadata": {},
     "output_type": "execute_result"
    }
   ],
   "source": [
    "response_prob_dict_by_age"
   ]
  },
  {
   "cell_type": "code",
   "execution_count": 50,
   "id": "6417ceab",
   "metadata": {},
   "outputs": [
    {
     "data": {
      "text/html": [
       "<div>\n",
       "<style scoped>\n",
       "    .dataframe tbody tr th:only-of-type {\n",
       "        vertical-align: middle;\n",
       "    }\n",
       "\n",
       "    .dataframe tbody tr th {\n",
       "        vertical-align: top;\n",
       "    }\n",
       "\n",
       "    .dataframe thead th {\n",
       "        text-align: right;\n",
       "    }\n",
       "</style>\n",
       "<table border=\"1\" class=\"dataframe\">\n",
       "  <thead>\n",
       "    <tr style=\"text-align: right;\">\n",
       "      <th></th>\n",
       "      <th>s_247_71</th>\n",
       "      <th>s_247_73</th>\n",
       "      <th>s_247_75</th>\n",
       "      <th>s_247_77</th>\n",
       "      <th>s_247_78</th>\n",
       "    </tr>\n",
       "  </thead>\n",
       "  <tbody>\n",
       "    <tr>\n",
       "      <th>s_248_70</th>\n",
       "      <td>0.07</td>\n",
       "      <td>0.08</td>\n",
       "      <td>0.10</td>\n",
       "      <td>0.10</td>\n",
       "      <td>0.09</td>\n",
       "    </tr>\n",
       "    <tr>\n",
       "      <th>s_248_72</th>\n",
       "      <td>0.08</td>\n",
       "      <td>0.09</td>\n",
       "      <td>0.09</td>\n",
       "      <td>0.10</td>\n",
       "      <td>0.12</td>\n",
       "    </tr>\n",
       "    <tr>\n",
       "      <th>s_248_74</th>\n",
       "      <td>0.09</td>\n",
       "      <td>0.09</td>\n",
       "      <td>0.09</td>\n",
       "      <td>0.09</td>\n",
       "      <td>0.08</td>\n",
       "    </tr>\n",
       "    <tr>\n",
       "      <th>s_248_76</th>\n",
       "      <td>0.10</td>\n",
       "      <td>0.10</td>\n",
       "      <td>0.10</td>\n",
       "      <td>0.05</td>\n",
       "      <td>0.10</td>\n",
       "    </tr>\n",
       "  </tbody>\n",
       "</table>\n",
       "</div>"
      ],
      "text/plain": [
       "          s_247_71  s_247_73  s_247_75  s_247_77  s_247_78\n",
       "s_248_70      0.07      0.08      0.10      0.10      0.09\n",
       "s_248_72      0.08      0.09      0.09      0.10      0.12\n",
       "s_248_74      0.09      0.09      0.09      0.09      0.08\n",
       "s_248_76      0.10      0.10      0.10      0.05      0.10"
      ]
     },
     "execution_count": 50,
     "metadata": {},
     "output_type": "execute_result"
    }
   ],
   "source": [
    "pd.DataFrame(response_prob_dict_by_age, index=income_columns)"
   ]
  },
  {
   "cell_type": "code",
   "execution_count": 62,
   "id": "6456744f",
   "metadata": {},
   "outputs": [
    {
     "name": "stdout",
     "output_type": "stream",
     "text": [
      "27\n",
      "          s_247_71  s_247_73  s_247_75  s_247_77  s_247_78\n",
      "s_248_70      0.07      0.08      0.10      0.10      0.09\n",
      "s_248_72      0.08      0.09      0.09      0.10      0.12\n",
      "s_248_74      0.09      0.09      0.09      0.09      0.08\n",
      "s_248_76      0.10      0.10      0.10      0.05      0.10\n",
      "12\n",
      "          s_247_71  s_247_73  s_247_75  s_247_77  s_247_78\n",
      "s_248_70      0.07      0.08      0.09      0.11      0.06\n",
      "s_248_72      0.07      0.09      0.09      0.10      0.10\n",
      "s_248_74      0.10      0.10      0.09      0.09      0.09\n",
      "s_248_76      0.08      0.08      0.07      0.05      0.04\n",
      "26\n",
      "          s_247_71  s_247_73  s_247_75  s_247_77  s_247_78\n",
      "s_248_70      0.09      0.10      0.11      0.13      0.02\n",
      "s_248_72      0.07      0.09      0.10      0.10      0.10\n",
      "s_248_74      0.09      0.10      0.09      0.08      0.08\n",
      "s_248_76      0.06      0.10      0.10      0.13      0.02\n",
      "28\n",
      "          s_247_71  s_247_73  s_247_75  s_247_77  s_247_78\n",
      "s_248_70      0.04      0.06      0.09      0.15      0.09\n",
      "s_248_72      0.07      0.09      0.10      0.10      0.11\n",
      "s_248_74      0.09      0.10      0.10      0.09      0.09\n",
      "s_248_76      0.08      0.11      0.10      0.03      0.12\n",
      "0\n",
      "          s_247_71  s_247_73  s_247_75  s_247_77  s_247_78\n",
      "s_248_70       0.0       0.0       0.0       0.0       0.0\n",
      "s_248_72       0.0       0.0       0.0       0.0       0.0\n",
      "s_248_74       0.0       0.0       0.0       0.0       0.0\n",
      "s_248_76       0.0       0.0       0.0       0.0       0.0\n",
      "22\n",
      "          s_247_71  s_247_73  s_247_75  s_247_77  s_247_78\n",
      "s_248_70       0.0       0.0       0.0       0.0       0.0\n",
      "s_248_72       0.0       0.0       0.0       0.0       0.0\n",
      "s_248_74       0.0       0.0       0.0       0.0       0.0\n",
      "s_248_76       0.0       0.0       0.0       0.0       0.0\n",
      "16\n",
      "          s_247_71  s_247_73  s_247_75  s_247_77  s_247_78\n",
      "s_248_70       0.0       0.0       0.0       0.0       0.0\n",
      "s_248_72       0.0       0.0       0.0       0.0       0.0\n",
      "s_248_74       0.0       0.0       0.0       0.0       0.0\n",
      "s_248_76       0.0       0.0       0.0       0.0       0.0\n",
      "9\n",
      "          s_247_71  s_247_73  s_247_75  s_247_77  s_247_78\n",
      "s_248_70       0.0       0.0       0.0       0.0       0.0\n",
      "s_248_72       0.0       0.0       0.0       0.0       0.0\n",
      "s_248_74       0.0       0.0       0.0       0.0       0.0\n",
      "s_248_76       0.0       0.0       0.0       0.0       0.0\n",
      "24\n",
      "          s_247_71  s_247_73  s_247_75  s_247_77  s_247_78\n",
      "s_248_70       0.0       0.0       0.0       0.0       0.0\n",
      "s_248_72       0.0       0.0       0.0       0.0       0.0\n",
      "s_248_74       0.0       0.0       0.0       0.0       0.0\n",
      "s_248_76       0.0       0.0       0.0       0.0       0.0\n",
      "5\n",
      "          s_247_71  s_247_73  s_247_75  s_247_77  s_247_78\n",
      "s_248_70       0.0       0.0       0.0       0.0       0.0\n",
      "s_248_72       0.0       0.0       0.0       0.0       0.0\n",
      "s_248_74       0.0       0.0       0.0       0.0       0.0\n",
      "s_248_76       0.0       0.0       0.0       0.0       0.0\n"
     ]
    }
   ],
   "source": [
    "for offer in top_offer_is:\n",
    "    print(offer)\n",
    "    df_tmp = df[df['offer_id'] == offer]\n",
    "    print(get_response_probability(df_tmp))"
   ]
  },
  {
   "cell_type": "code",
   "execution_count": 63,
   "id": "ed467ec0",
   "metadata": {},
   "outputs": [
    {
     "data": {
      "text/html": [
       "<div>\n",
       "<style scoped>\n",
       "    .dataframe tbody tr th:only-of-type {\n",
       "        vertical-align: middle;\n",
       "    }\n",
       "\n",
       "    .dataframe tbody tr th {\n",
       "        vertical-align: top;\n",
       "    }\n",
       "\n",
       "    .dataframe thead th {\n",
       "        text-align: right;\n",
       "    }\n",
       "</style>\n",
       "<table border=\"1\" class=\"dataframe\">\n",
       "  <thead>\n",
       "    <tr style=\"text-align: right;\">\n",
       "      <th></th>\n",
       "      <th>s_247_71</th>\n",
       "      <th>s_247_73</th>\n",
       "      <th>s_247_75</th>\n",
       "      <th>s_247_77</th>\n",
       "      <th>s_247_78</th>\n",
       "    </tr>\n",
       "  </thead>\n",
       "  <tbody>\n",
       "    <tr>\n",
       "      <th>s_248_70</th>\n",
       "      <td>0.03</td>\n",
       "      <td>0.04</td>\n",
       "      <td>0.05</td>\n",
       "      <td>0.06</td>\n",
       "      <td>0.04</td>\n",
       "    </tr>\n",
       "    <tr>\n",
       "      <th>s_248_72</th>\n",
       "      <td>0.04</td>\n",
       "      <td>0.05</td>\n",
       "      <td>0.05</td>\n",
       "      <td>0.05</td>\n",
       "      <td>0.05</td>\n",
       "    </tr>\n",
       "    <tr>\n",
       "      <th>s_248_74</th>\n",
       "      <td>0.06</td>\n",
       "      <td>0.07</td>\n",
       "      <td>0.06</td>\n",
       "      <td>0.06</td>\n",
       "      <td>0.06</td>\n",
       "    </tr>\n",
       "    <tr>\n",
       "      <th>s_248_76</th>\n",
       "      <td>0.06</td>\n",
       "      <td>0.07</td>\n",
       "      <td>0.07</td>\n",
       "      <td>0.05</td>\n",
       "      <td>0.04</td>\n",
       "    </tr>\n",
       "  </tbody>\n",
       "</table>\n",
       "</div>"
      ],
      "text/plain": [
       "          s_247_71  s_247_73  s_247_75  s_247_77  s_247_78\n",
       "s_248_70      0.03      0.04      0.05      0.06      0.04\n",
       "s_248_72      0.04      0.05      0.05      0.05      0.05\n",
       "s_248_74      0.06      0.07      0.06      0.06      0.06\n",
       "s_248_76      0.06      0.07      0.07      0.05      0.04"
      ]
     },
     "execution_count": 63,
     "metadata": {},
     "output_type": "execute_result"
    }
   ],
   "source": [
    "get_response_probability(df)"
   ]
  },
  {
   "cell_type": "code",
   "execution_count": 67,
   "id": "7e7e62ae",
   "metadata": {},
   "outputs": [],
   "source": [
    "df['res_bin'] = df['Response'] > 0.0 "
   ]
  },
  {
   "cell_type": "code",
   "execution_count": 69,
   "id": "fd9ade04",
   "metadata": {},
   "outputs": [
    {
     "data": {
      "text/plain": [
       "offer_id\n",
       "0        0\n",
       "1        0\n",
       "2      489\n",
       "3        0\n",
       "4        0\n",
       "5        0\n",
       "6        0\n",
       "7        0\n",
       "8      520\n",
       "9        0\n",
       "10       0\n",
       "11     521\n",
       "12    3692\n",
       "13     169\n",
       "14     272\n",
       "15     491\n",
       "16       0\n",
       "17       0\n",
       "18       0\n",
       "19     250\n",
       "20     275\n",
       "21       0\n",
       "22       0\n",
       "23       0\n",
       "24       0\n",
       "25     186\n",
       "26    3627\n",
       "27    3661\n",
       "28    3608\n",
       "29     179\n",
       "Name: res_bin, dtype: int64"
      ]
     },
     "execution_count": 69,
     "metadata": {},
     "output_type": "execute_result"
    }
   ],
   "source": [
    "df.groupby(['offer_id'])['res_bin'].sum()"
   ]
  },
  {
   "cell_type": "code",
   "execution_count": 70,
   "id": "59b14759",
   "metadata": {},
   "outputs": [
    {
     "data": {
      "text/plain": [
       "offer_id\n",
       "0     36506\n",
       "1      2904\n",
       "2      5611\n",
       "3      7286\n",
       "4      7326\n",
       "5      7340\n",
       "6      3015\n",
       "7      2939\n",
       "8      5611\n",
       "9     12134\n",
       "10     2905\n",
       "11     5611\n",
       "12    40650\n",
       "13     1806\n",
       "14     2918\n",
       "15     5611\n",
       "16    12159\n",
       "17     7333\n",
       "18     7221\n",
       "19     2918\n",
       "20     2918\n",
       "21     2984\n",
       "22    12213\n",
       "23     2839\n",
       "24     8793\n",
       "25     1806\n",
       "26    40650\n",
       "27    40650\n",
       "28    40650\n",
       "29     1806\n",
       "Name: res_bin, dtype: int64"
      ]
     },
     "execution_count": 70,
     "metadata": {},
     "output_type": "execute_result"
    }
   ],
   "source": [
    "df.groupby(['offer_id'])['res_bin'].count()"
   ]
  },
  {
   "cell_type": "code",
   "execution_count": null,
   "id": "806d322d",
   "metadata": {},
   "outputs": [],
   "source": []
  }
 ],
 "metadata": {
  "kernelspec": {
   "display_name": "Python 3 (ipykernel)",
   "language": "python",
   "name": "python3"
  },
  "language_info": {
   "codemirror_mode": {
    "name": "ipython",
    "version": 3
   },
   "file_extension": ".py",
   "mimetype": "text/x-python",
   "name": "python",
   "nbconvert_exporter": "python",
   "pygments_lexer": "ipython3",
   "version": "3.11.5"
  }
 },
 "nbformat": 4,
 "nbformat_minor": 5
}
