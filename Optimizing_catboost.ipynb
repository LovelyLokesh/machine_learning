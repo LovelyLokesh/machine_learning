{
  "nbformat": 4,
  "nbformat_minor": 0,
  "metadata": {
    "colab": {
      "provenance": [],
      "gpuType": "T4"
    },
    "kernelspec": {
      "name": "python3",
      "display_name": "Python 3"
    },
    "language_info": {
      "name": "python"
    },
    "accelerator": "GPU"
  },
  "cells": [
    {
      "cell_type": "code",
      "source": [
        "!pip install catboost\n",
        "!pip install optuna"
      ],
      "metadata": {
        "colab": {
          "base_uri": "https://localhost:8080/"
        },
        "id": "Cca5m0Eza6Hw",
        "outputId": "c49efa95-96d4-4b4c-d884-46ca85459a07"
      },
      "execution_count": 1,
      "outputs": [
        {
          "output_type": "stream",
          "name": "stdout",
          "text": [
            "Requirement already satisfied: catboost in /usr/local/lib/python3.10/dist-packages (1.2.3)\n",
            "Requirement already satisfied: graphviz in /usr/local/lib/python3.10/dist-packages (from catboost) (0.20.3)\n",
            "Requirement already satisfied: matplotlib in /usr/local/lib/python3.10/dist-packages (from catboost) (3.7.1)\n",
            "Requirement already satisfied: numpy>=1.16.0 in /usr/local/lib/python3.10/dist-packages (from catboost) (1.25.2)\n",
            "Requirement already satisfied: pandas>=0.24 in /usr/local/lib/python3.10/dist-packages (from catboost) (1.5.3)\n",
            "Requirement already satisfied: scipy in /usr/local/lib/python3.10/dist-packages (from catboost) (1.11.4)\n",
            "Requirement already satisfied: plotly in /usr/local/lib/python3.10/dist-packages (from catboost) (5.15.0)\n",
            "Requirement already satisfied: six in /usr/local/lib/python3.10/dist-packages (from catboost) (1.16.0)\n",
            "Requirement already satisfied: python-dateutil>=2.8.1 in /usr/local/lib/python3.10/dist-packages (from pandas>=0.24->catboost) (2.8.2)\n",
            "Requirement already satisfied: pytz>=2020.1 in /usr/local/lib/python3.10/dist-packages (from pandas>=0.24->catboost) (2023.4)\n",
            "Requirement already satisfied: contourpy>=1.0.1 in /usr/local/lib/python3.10/dist-packages (from matplotlib->catboost) (1.2.0)\n",
            "Requirement already satisfied: cycler>=0.10 in /usr/local/lib/python3.10/dist-packages (from matplotlib->catboost) (0.12.1)\n",
            "Requirement already satisfied: fonttools>=4.22.0 in /usr/local/lib/python3.10/dist-packages (from matplotlib->catboost) (4.50.0)\n",
            "Requirement already satisfied: kiwisolver>=1.0.1 in /usr/local/lib/python3.10/dist-packages (from matplotlib->catboost) (1.4.5)\n",
            "Requirement already satisfied: packaging>=20.0 in /usr/local/lib/python3.10/dist-packages (from matplotlib->catboost) (24.0)\n",
            "Requirement already satisfied: pillow>=6.2.0 in /usr/local/lib/python3.10/dist-packages (from matplotlib->catboost) (9.4.0)\n",
            "Requirement already satisfied: pyparsing>=2.3.1 in /usr/local/lib/python3.10/dist-packages (from matplotlib->catboost) (3.1.2)\n",
            "Requirement already satisfied: tenacity>=6.2.0 in /usr/local/lib/python3.10/dist-packages (from plotly->catboost) (8.2.3)\n",
            "Requirement already satisfied: optuna in /usr/local/lib/python3.10/dist-packages (3.6.1)\n",
            "Requirement already satisfied: alembic>=1.5.0 in /usr/local/lib/python3.10/dist-packages (from optuna) (1.13.1)\n",
            "Requirement already satisfied: colorlog in /usr/local/lib/python3.10/dist-packages (from optuna) (6.8.2)\n",
            "Requirement already satisfied: numpy in /usr/local/lib/python3.10/dist-packages (from optuna) (1.25.2)\n",
            "Requirement already satisfied: packaging>=20.0 in /usr/local/lib/python3.10/dist-packages (from optuna) (24.0)\n",
            "Requirement already satisfied: sqlalchemy>=1.3.0 in /usr/local/lib/python3.10/dist-packages (from optuna) (2.0.29)\n",
            "Requirement already satisfied: tqdm in /usr/local/lib/python3.10/dist-packages (from optuna) (4.66.2)\n",
            "Requirement already satisfied: PyYAML in /usr/local/lib/python3.10/dist-packages (from optuna) (6.0.1)\n",
            "Requirement already satisfied: Mako in /usr/local/lib/python3.10/dist-packages (from alembic>=1.5.0->optuna) (1.3.2)\n",
            "Requirement already satisfied: typing-extensions>=4 in /usr/local/lib/python3.10/dist-packages (from alembic>=1.5.0->optuna) (4.10.0)\n",
            "Requirement already satisfied: greenlet!=0.4.17 in /usr/local/lib/python3.10/dist-packages (from sqlalchemy>=1.3.0->optuna) (3.0.3)\n",
            "Requirement already satisfied: MarkupSafe>=0.9.2 in /usr/local/lib/python3.10/dist-packages (from Mako->alembic>=1.5.0->optuna) (2.1.5)\n"
          ]
        }
      ]
    },
    {
      "cell_type": "code",
      "execution_count": 2,
      "metadata": {
        "id": "r6_Q3KO7aeFA"
      },
      "outputs": [],
      "source": [
        "import pandas as pd\n",
        "import matplotlib.pyplot as plt\n",
        "import numpy as np\n",
        "import re\n",
        "import catboost\n",
        "from sklearn.model_selection import train_test_split\n",
        "from catboost import CatBoostClassifier\n",
        "from sklearn.metrics import f1_score,classification_report,accuracy_score\n",
        "import optuna\n",
        "from optuna.samplers import TPESampler\n",
        "%matplotlib inline"
      ]
    },
    {
      "cell_type": "code",
      "source": [
        "df=pd.read_csv(\"/content/data_sample.csv\")\n",
        "df.shape"
      ],
      "metadata": {
        "colab": {
          "base_uri": "https://localhost:8080/"
        },
        "id": "NbWxe4SQdjqc",
        "outputId": "438c5fd8-4718-414e-f0a6-1c20187609fe"
      },
      "execution_count": 3,
      "outputs": [
        {
          "output_type": "execute_result",
          "data": {
            "text/plain": [
              "(3079, 294)"
            ]
          },
          "metadata": {},
          "execution_count": 3
        }
      ]
    },
    {
      "cell_type": "code",
      "source": [
        "df['target'] = np.where(df['ResponseRate'] == 0, 'B1',\n",
        "                        np.where((df['ResponseRate'] > 0) & (df['ResponseRate'] < 0.15), 'B2',\n",
        "                                 np.where(df['ResponseRate'] >= 0.15, 'B3', 'Not Specified')))"
      ],
      "metadata": {
        "id": "7WMyq1SVidCW"
      },
      "execution_count": 4,
      "outputs": []
    },
    {
      "cell_type": "code",
      "source": [
        "df['target'].value_counts()"
      ],
      "metadata": {
        "colab": {
          "base_uri": "https://localhost:8080/"
        },
        "id": "egAMoLp8lNYj",
        "outputId": "71a12501-8d6a-4551-862e-4bc7062687d3"
      },
      "execution_count": 5,
      "outputs": [
        {
          "output_type": "execute_result",
          "data": {
            "text/plain": [
              "B1    1635\n",
              "B3     855\n",
              "B2     589\n",
              "Name: target, dtype: int64"
            ]
          },
          "metadata": {},
          "execution_count": 5
        }
      ]
    },
    {
      "cell_type": "code",
      "source": [
        "# List the columns to remove\n",
        "columns_to_remove = ['OfferHistoryID', 'ResponseRate']\n",
        "# Drop the specified columns from the DataFrame\n",
        "df.drop(columns=columns_to_remove, inplace=True)"
      ],
      "metadata": {
        "id": "A_knsLi1idHz"
      },
      "execution_count": 6,
      "outputs": []
    },
    {
      "cell_type": "code",
      "source": [
        "df.shape"
      ],
      "metadata": {
        "colab": {
          "base_uri": "https://localhost:8080/"
        },
        "id": "M6gdMg7MidKj",
        "outputId": "2985c5a1-7c1a-4e2b-e272-9cc16fcd6a5e"
      },
      "execution_count": 7,
      "outputs": [
        {
          "output_type": "execute_result",
          "data": {
            "text/plain": [
              "(3079, 293)"
            ]
          },
          "metadata": {},
          "execution_count": 7
        }
      ]
    },
    {
      "cell_type": "code",
      "source": [
        "# Splitting the dataset into X and y\n",
        "X = df.drop('target', axis=1)  # Features: all columns except 'target'\n",
        "y = df['target']"
      ],
      "metadata": {
        "id": "dkaZZXA5m0-6"
      },
      "execution_count": 8,
      "outputs": []
    },
    {
      "cell_type": "code",
      "source": [
        "# Splitting dataset into training and testing set\n",
        "X_train, X_test, y_train, y_test = train_test_split(X, y, test_size=0.2, random_state=42)"
      ],
      "metadata": {
        "id": "xhQNu-qBm1Bh"
      },
      "execution_count": 9,
      "outputs": []
    },
    {
      "cell_type": "markdown",
      "source": [
        "**HYPERPARAMETER_TUNING**"
      ],
      "metadata": {
        "id": "YQ6gbNm5bhxi"
      }
    },
    {
      "cell_type": "code",
      "source": [
        "def objective(trial):\n",
        "    params = {\n",
        "        \"iterations\":500,\n",
        "        #\"logging_level\":'silent',\n",
        "        #\"verbose\":0,\n",
        "        \"learning_rate\": 0.001,\n",
        "        \"max_depth\": trial.suggest_int(\"max_depth\", 3,10),\n",
        "        # \"min_data_in_leaf\": trial.suggest_int(\"min_data_in_leaf\", 20,100),\n",
        "        \"random_state\": 42,\n",
        "        # \"subsample\": trial.suggest_uniform('subsample', 0.5, 1.0),\n",
        "        \"colsample_bylevel\": trial.suggest_float('colsample_bylevel', 0.4, 1.0),\n",
        "        \"random_strength\": trial.suggest_float(\"random_strength\", 1, 10.0),\n",
        "        \"bagging_temperature\": trial.suggest_float(\"bagging_temperature\", 0.5, 10.0),\n",
        "    }\n",
        "\n",
        "    model = catboost.CatBoostClassifier(**params, silent=True)\n",
        "    model.fit(X_train, y_train)\n",
        "    y_pred_test = model.predict(X_test)\n",
        "    f1 = f1_score(y_test, y_pred_test,average='weighted')\n",
        "    return f1\n",
        "\n",
        "sampler = TPESampler(seed=42)\n",
        "study = optuna.create_study(direction='maximize',sampler=sampler)\n",
        "study.optimize(objective, n_trials=200)\n",
        "\n",
        "print('Best hyperparameters:', study.best_params)\n",
        "print('Best F1:', study.best_value)"
      ],
      "metadata": {
        "colab": {
          "base_uri": "https://localhost:8080/"
        },
        "id": "5SmIIdUhaoz9",
        "outputId": "015062c7-a140-4950-b849-5684beae368d"
      },
      "execution_count": 11,
      "outputs": [
        {
          "output_type": "stream",
          "name": "stderr",
          "text": [
            "[I 2024-04-02 11:13:40,959] A new study created in memory with name: no-name-38544773-c993-45bd-8562-0139b7302909\n",
            "[I 2024-04-02 11:13:45,069] Trial 0 finished with value: 0.9321456845600832 and parameters: {'max_depth': 5, 'colsample_bylevel': 0.9704285838459497, 'random_strength': 7.587945476302646, 'bagging_temperature': 6.187255599871848}. Best is trial 0 with value: 0.9321456845600832.\n",
            "[I 2024-04-02 11:13:47,208] Trial 1 finished with value: 0.9321456845600832 and parameters: {'max_depth': 4, 'colsample_bylevel': 0.49359671220172163, 'random_strength': 1.5227525095137953, 'bagging_temperature': 8.728673384861883}. Best is trial 0 with value: 0.9321456845600832.\n",
            "[I 2024-04-02 11:13:52,873] Trial 2 finished with value: 0.9321456845600832 and parameters: {'max_depth': 7, 'colsample_bylevel': 0.8248435466776274, 'random_strength': 1.185260448662222, 'bagging_temperature': 9.714143595538946}. Best is trial 0 with value: 0.9321456845600832.\n",
            "[I 2024-04-02 11:14:02,871] Trial 3 finished with value: 0.9321456845600832 and parameters: {'max_depth': 9, 'colsample_bylevel': 0.5274034664069657, 'random_strength': 2.636424704863906, 'bagging_temperature': 2.2423428436076214}. Best is trial 0 with value: 0.9321456845600832.\n",
            "[I 2024-04-02 11:14:05,751] Trial 4 finished with value: 0.9321456845600832 and parameters: {'max_depth': 5, 'colsample_bylevel': 0.7148538589793427, 'random_strength': 4.887505167779041, 'bagging_temperature': 3.2666768318813983}. Best is trial 0 with value: 0.9321456845600832.\n",
            "[I 2024-04-02 11:14:11,572] Trial 5 finished with value: 0.9321456845600832 and parameters: {'max_depth': 7, 'colsample_bylevel': 0.4836963163912251, 'random_strength': 3.629301836816963, 'bagging_temperature': 3.980437511290071}. Best is trial 0 with value: 0.9321456845600832.\n",
            "[I 2024-04-02 11:14:15,600] Trial 6 finished with value: 0.9321456845600832 and parameters: {'max_depth': 6, 'colsample_bylevel': 0.8711055768358081, 'random_strength': 2.7970640394252375, 'bagging_temperature': 5.385227164929311}. Best is trial 0 with value: 0.9321456845600832.\n",
            "[I 2024-04-02 11:14:20,628] Trial 7 finished with value: 0.8702926828804791 and parameters: {'max_depth': 7, 'colsample_bylevel': 0.42787024763199866, 'random_strength': 6.467903667112945, 'bagging_temperature': 2.1199791750292696}. Best is trial 0 with value: 0.9321456845600832.\n",
            "[I 2024-04-02 11:14:22,605] Trial 8 finished with value: 0.9321456845600832 and parameters: {'max_depth': 3, 'colsample_bylevel': 0.9693313223519999, 'random_strength': 9.690688297671034, 'bagging_temperature': 8.17977480710638}. Best is trial 0 with value: 0.9321456845600832.\n",
            "[I 2024-04-02 11:14:25,282] Trial 9 finished with value: 0.9321456845600832 and parameters: {'max_depth': 5, 'colsample_bylevel': 0.45860326840383037, 'random_strength': 7.158097238609412, 'bagging_temperature': 4.681448690526213}. Best is trial 0 with value: 0.9321456845600832.\n",
            "[I 2024-04-02 11:14:48,627] Trial 10 finished with value: 0.9321456845600832 and parameters: {'max_depth': 10, 'colsample_bylevel': 0.6839963928728011, 'random_strength': 8.72951024190968, 'bagging_temperature': 6.578082834703979}. Best is trial 0 with value: 0.9321456845600832.\n",
            "[I 2024-04-02 11:14:50,429] Trial 11 finished with value: 0.9321456845600832 and parameters: {'max_depth': 3, 'colsample_bylevel': 0.6085977390945863, 'random_strength': 8.14497376853035, 'bagging_temperature': 7.520334910333974}. Best is trial 0 with value: 0.9321456845600832.\n",
            "[I 2024-04-02 11:14:52,829] Trial 12 finished with value: 0.9321456845600832 and parameters: {'max_depth': 4, 'colsample_bylevel': 0.9890087278401068, 'random_strength': 5.081780401599223, 'bagging_temperature': 9.540660234226008}. Best is trial 0 with value: 0.9321456845600832.\n",
            "[I 2024-04-02 11:14:56,623] Trial 13 finished with value: 0.9321456845600832 and parameters: {'max_depth': 5, 'colsample_bylevel': 0.5775915703217084, 'random_strength': 6.459146017684317, 'bagging_temperature': 6.326688181551124}. Best is trial 0 with value: 0.9321456845600832.\n",
            "[I 2024-04-02 11:14:58,980] Trial 14 finished with value: 0.9321456845600832 and parameters: {'max_depth': 4, 'colsample_bylevel': 0.7904940122102119, 'random_strength': 1.1426379573107313, 'bagging_temperature': 8.11967274988158}. Best is trial 0 with value: 0.9321456845600832.\n",
            "[I 2024-04-02 11:15:02,906] Trial 15 finished with value: 0.9321456845600832 and parameters: {'max_depth': 6, 'colsample_bylevel': 0.9010359240300251, 'random_strength': 7.916728537854711, 'bagging_temperature': 6.400490509510801}. Best is trial 0 with value: 0.9321456845600832.\n",
            "[I 2024-04-02 11:15:05,185] Trial 16 finished with value: 0.9321456845600832 and parameters: {'max_depth': 4, 'colsample_bylevel': 0.6988077003382825, 'random_strength': 4.227684352622904, 'bagging_temperature': 9.023909889663111}. Best is trial 0 with value: 0.9321456845600832.\n",
            "[I 2024-04-02 11:15:15,461] Trial 17 finished with value: 0.9321456845600832 and parameters: {'max_depth': 8, 'colsample_bylevel': 0.6093846166756034, 'random_strength': 9.99426194777396, 'bagging_temperature': 7.6548075253123145}. Best is trial 0 with value: 0.9321456845600832.\n",
            "[I 2024-04-02 11:15:17,403] Trial 18 finished with value: 0.9321456845600832 and parameters: {'max_depth': 3, 'colsample_bylevel': 0.7980438571671895, 'random_strength': 6.158718937504652, 'bagging_temperature': 4.985991925088184}. Best is trial 0 with value: 0.9321456845600832.\n",
            "[I 2024-04-02 11:15:21,060] Trial 19 finished with value: 0.9321456845600832 and parameters: {'max_depth': 5, 'colsample_bylevel': 0.4079525301654141, 'random_strength': 2.249315537973288, 'bagging_temperature': 8.725578065249124}. Best is trial 0 with value: 0.9321456845600832.\n",
            "[I 2024-04-02 11:15:23,243] Trial 20 finished with value: 0.9321456845600832 and parameters: {'max_depth': 4, 'colsample_bylevel': 0.5303814002047114, 'random_strength': 7.30497185118451, 'bagging_temperature': 7.046980318356189}. Best is trial 0 with value: 0.9321456845600832.\n",
            "[I 2024-04-02 11:15:35,299] Trial 21 finished with value: 0.9321456845600832 and parameters: {'max_depth': 8, 'colsample_bylevel': 0.9071037084322628, 'random_strength': 1.1862821743342196, 'bagging_temperature': 9.70806359446282}. Best is trial 0 with value: 0.9321456845600832.\n",
            "[I 2024-04-02 11:15:39,300] Trial 22 finished with value: 0.9321456845600832 and parameters: {'max_depth': 6, 'colsample_bylevel': 0.8399842671144736, 'random_strength': 1.7771846403875573, 'bagging_temperature': 9.804543121841071}. Best is trial 0 with value: 0.9321456845600832.\n",
            "[I 2024-04-02 11:15:44,774] Trial 23 finished with value: 0.9321456845600832 and parameters: {'max_depth': 7, 'colsample_bylevel': 0.7597011029541517, 'random_strength': 3.3844244780665145, 'bagging_temperature': 0.6986788815923362}. Best is trial 0 with value: 0.9321456845600832.\n",
            "[I 2024-04-02 11:15:58,029] Trial 24 finished with value: 0.9321456845600832 and parameters: {'max_depth': 8, 'colsample_bylevel': 0.9559582969256791, 'random_strength': 1.8893487660432766, 'bagging_temperature': 8.666673814357738}. Best is trial 0 with value: 0.9321456845600832.\n",
            "[I 2024-04-02 11:16:01,971] Trial 25 finished with value: 0.9321456845600832 and parameters: {'max_depth': 6, 'colsample_bylevel': 0.9292224692279504, 'random_strength': 4.132016287764935, 'bagging_temperature': 9.125924040489329}. Best is trial 0 with value: 0.9321456845600832.\n",
            "[I 2024-04-02 11:16:04,959] Trial 26 finished with value: 0.9321456845600832 and parameters: {'max_depth': 5, 'colsample_bylevel': 0.8463637368831725, 'random_strength': 5.5270603871256, 'bagging_temperature': 5.592650871429838}. Best is trial 0 with value: 0.9321456845600832.\n",
            "[I 2024-04-02 11:16:08,109] Trial 27 finished with value: 0.9321456845600832 and parameters: {'max_depth': 4, 'colsample_bylevel': 0.7764518959689806, 'random_strength': 9.007720962814544, 'bagging_temperature': 8.066547544949994}. Best is trial 0 with value: 0.9321456845600832.\n",
            "[I 2024-04-02 11:16:24,637] Trial 28 finished with value: 0.9321456845600832 and parameters: {'max_depth': 9, 'colsample_bylevel': 0.8336969560822802, 'random_strength': 3.1392728889498773, 'bagging_temperature': 5.932983574114933}. Best is trial 0 with value: 0.9321456845600832.\n",
            "[I 2024-04-02 11:16:40,663] Trial 29 finished with value: 0.9321456845600832 and parameters: {'max_depth': 9, 'colsample_bylevel': 0.6640823847431672, 'random_strength': 2.426486282995871, 'bagging_temperature': 7.123688097288781}. Best is trial 0 with value: 0.9321456845600832.\n",
            "[I 2024-04-02 11:16:46,842] Trial 30 finished with value: 0.9321456845600832 and parameters: {'max_depth': 7, 'colsample_bylevel': 0.5226879011416674, 'random_strength': 1.1103032601416523, 'bagging_temperature': 4.309179257696369}. Best is trial 0 with value: 0.9321456845600832.\n",
            "[I 2024-04-02 11:17:03,610] Trial 31 finished with value: 0.9321456845600832 and parameters: {'max_depth': 10, 'colsample_bylevel': 0.7340317652773887, 'random_strength': 1.8019794710247687, 'bagging_temperature': 2.8080785002804833}. Best is trial 0 with value: 0.9321456845600832.\n",
            "[I 2024-04-02 11:17:11,623] Trial 32 finished with value: 0.8702926828804791 and parameters: {'max_depth': 9, 'colsample_bylevel': 0.5107776450844255, 'random_strength': 4.226772415997697, 'bagging_temperature': 0.7669548630425442}. Best is trial 0 with value: 0.9321456845600832.\n",
            "[I 2024-04-02 11:17:14,208] Trial 33 finished with value: 0.9321456845600832 and parameters: {'max_depth': 5, 'colsample_bylevel': 0.47053850546315024, 'random_strength': 2.709596430986036, 'bagging_temperature': 3.5280546619634876}. Best is trial 0 with value: 0.9321456845600832.\n",
            "[I 2024-04-02 11:17:22,267] Trial 34 finished with value: 0.9321456845600832 and parameters: {'max_depth': 8, 'colsample_bylevel': 0.566776074907787, 'random_strength': 1.681835989627128, 'bagging_temperature': 1.5948399567911191}. Best is trial 0 with value: 0.9321456845600832.\n",
            "[I 2024-04-02 11:17:25,955] Trial 35 finished with value: 0.9321456845600832 and parameters: {'max_depth': 6, 'colsample_bylevel': 0.6489034756771992, 'random_strength': 2.9733951366654265, 'bagging_temperature': 3.1638616695891617}. Best is trial 0 with value: 0.9321456845600832.\n",
            "[I 2024-04-02 11:17:35,211] Trial 36 finished with value: 0.9321456845600832 and parameters: {'max_depth': 9, 'colsample_bylevel': 0.42995890308320894, 'random_strength': 3.683831455193369, 'bagging_temperature': 2.3481503174304272}. Best is trial 0 with value: 0.9321456845600832.\n",
            "[I 2024-04-02 11:17:55,304] Trial 37 finished with value: 0.9321456845600832 and parameters: {'max_depth': 10, 'colsample_bylevel': 0.7306563661401837, 'random_strength': 2.2561976854898824, 'bagging_temperature': 3.745679557725079}. Best is trial 0 with value: 0.9321456845600832.\n",
            "[I 2024-04-02 11:17:57,780] Trial 38 finished with value: 0.9321456845600832 and parameters: {'max_depth': 3, 'colsample_bylevel': 0.5585048708876379, 'random_strength': 1.4451959917811739, 'bagging_temperature': 9.975963370569247}. Best is trial 0 with value: 0.9321456845600832.\n",
            "[I 2024-04-02 11:18:02,965] Trial 39 finished with value: 0.9321456845600832 and parameters: {'max_depth': 7, 'colsample_bylevel': 0.883797949444117, 'random_strength': 5.98715076091332, 'bagging_temperature': 4.366729653514013}. Best is trial 0 with value: 0.9321456845600832.\n",
            "[I 2024-04-02 11:18:05,478] Trial 40 finished with value: 0.8702926828804791 and parameters: {'max_depth': 5, 'colsample_bylevel': 0.49706117437648495, 'random_strength': 6.958248242308557, 'bagging_temperature': 1.442712126332441}. Best is trial 0 with value: 0.9321456845600832.\n",
            "[I 2024-04-02 11:18:08,594] Trial 41 finished with value: 0.9305309151793686 and parameters: {'max_depth': 4, 'colsample_bylevel': 0.6218938613116247, 'random_strength': 5.16018513350133, 'bagging_temperature': 2.308786881206795}. Best is trial 0 with value: 0.9321456845600832.\n",
            "[I 2024-04-02 11:18:11,975] Trial 42 finished with value: 0.9321456845600832 and parameters: {'max_depth': 6, 'colsample_bylevel': 0.44905277094973306, 'random_strength': 4.913160090015536, 'bagging_temperature': 3.05127665681951}. Best is trial 0 with value: 0.9321456845600832.\n",
            "[I 2024-04-02 11:18:14,980] Trial 43 finished with value: 0.9321456845600832 and parameters: {'max_depth': 5, 'colsample_bylevel': 0.9924994452341677, 'random_strength': 7.942981641655912, 'bagging_temperature': 9.31367021395404}. Best is trial 0 with value: 0.9321456845600832.\n",
            "[I 2024-04-02 11:18:17,524] Trial 44 finished with value: 0.9321456845600832 and parameters: {'max_depth': 4, 'colsample_bylevel': 0.7192849157701556, 'random_strength': 2.5667643230649984, 'bagging_temperature': 1.7999145833698411}. Best is trial 0 with value: 0.9321456845600832.\n",
            "[I 2024-04-02 11:18:19,634] Trial 45 finished with value: 0.9321456845600832 and parameters: {'max_depth': 3, 'colsample_bylevel': 0.6414400386705726, 'random_strength': 9.134710371310861, 'bagging_temperature': 5.095581416720502}. Best is trial 0 with value: 0.9321456845600832.\n",
            "[I 2024-04-02 11:18:23,287] Trial 46 finished with value: 0.9321456845600832 and parameters: {'max_depth': 5, 'colsample_bylevel': 0.8187809638271695, 'random_strength': 7.49907323001542, 'bagging_temperature': 8.610822869676038}. Best is trial 0 with value: 0.9321456845600832.\n",
            "[I 2024-04-02 11:18:27,254] Trial 47 finished with value: 0.9321456845600832 and parameters: {'max_depth': 6, 'colsample_bylevel': 0.9563403967821736, 'random_strength': 3.6249978258347144, 'bagging_temperature': 7.741774292330756}. Best is trial 0 with value: 0.9321456845600832.\n",
            "[I 2024-04-02 11:18:33,246] Trial 48 finished with value: 0.9321456845600832 and parameters: {'max_depth': 7, 'colsample_bylevel': 0.6895395222763334, 'random_strength': 2.0354099624270248, 'bagging_temperature': 2.70392423940788}. Best is trial 0 with value: 0.9321456845600832.\n",
            "[I 2024-04-02 11:18:35,431] Trial 49 finished with value: 0.9321456845600832 and parameters: {'max_depth': 4, 'colsample_bylevel': 0.5864033521863018, 'random_strength': 6.774501946658522, 'bagging_temperature': 6.856821926816385}. Best is trial 0 with value: 0.9321456845600832.\n",
            "[I 2024-04-02 11:18:38,170] Trial 50 finished with value: 0.9321456845600832 and parameters: {'max_depth': 5, 'colsample_bylevel': 0.5405689314523286, 'random_strength': 1.4579509633561876, 'bagging_temperature': 4.742765469290534}. Best is trial 0 with value: 0.9321456845600832.\n",
            "[I 2024-04-02 11:18:46,340] Trial 51 finished with value: 0.9321456845600832 and parameters: {'max_depth': 8, 'colsample_bylevel': 0.4657736702920639, 'random_strength': 4.892743700051711, 'bagging_temperature': 3.923887869609217}. Best is trial 0 with value: 0.9321456845600832.\n",
            "[I 2024-04-02 11:18:51,040] Trial 52 finished with value: 0.9321456845600832 and parameters: {'max_depth': 7, 'colsample_bylevel': 0.4976578848706736, 'random_strength': 4.5543492153723655, 'bagging_temperature': 3.2944620900468244}. Best is trial 0 with value: 0.9321456845600832.\n",
            "[I 2024-04-02 11:18:54,458] Trial 53 finished with value: 0.9321456845600832 and parameters: {'max_depth': 6, 'colsample_bylevel': 0.4138927408975376, 'random_strength': 3.9182107418338625, 'bagging_temperature': 5.501731541717858}. Best is trial 0 with value: 0.9321456845600832.\n",
            "[I 2024-04-02 11:19:06,023] Trial 54 finished with value: 0.9321456845600832 and parameters: {'max_depth': 8, 'colsample_bylevel': 0.8640574619151375, 'random_strength': 3.2094431737048206, 'bagging_temperature': 6.13404715249443}. Best is trial 0 with value: 0.9321456845600832.\n",
            "[I 2024-04-02 11:19:11,228] Trial 55 finished with value: 0.9321456845600832 and parameters: {'max_depth': 7, 'colsample_bylevel': 0.483200426968697, 'random_strength': 2.7633253729893568, 'bagging_temperature': 1.1792090969135587}. Best is trial 0 with value: 0.9321456845600832.\n",
            "[I 2024-04-02 11:19:13,178] Trial 56 finished with value: 0.9321456845600832 and parameters: {'max_depth': 3, 'colsample_bylevel': 0.9222561040389019, 'random_strength': 5.668479614253178, 'bagging_temperature': 4.065824947368987}. Best is trial 0 with value: 0.9321456845600832.\n",
            "[I 2024-04-02 11:19:15,159] Trial 57 finished with value: 0.9321456845600832 and parameters: {'max_depth': 4, 'colsample_bylevel': 0.4350701813309675, 'random_strength': 2.1132725878440226, 'bagging_temperature': 9.3916685091339}. Best is trial 0 with value: 0.9321456845600832.\n",
            "[I 2024-04-02 11:19:19,056] Trial 58 finished with value: 0.9321456845600832 and parameters: {'max_depth': 6, 'colsample_bylevel': 0.8054838593949788, 'random_strength': 4.542868629158921, 'bagging_temperature': 8.88422905744189}. Best is trial 0 with value: 0.9321456845600832.\n",
            "[I 2024-04-02 11:19:23,025] Trial 59 finished with value: 0.9321456845600832 and parameters: {'max_depth': 5, 'colsample_bylevel': 0.7461694077207595, 'random_strength': 1.5393427843192844, 'bagging_temperature': 8.452200935802496}. Best is trial 0 with value: 0.9321456845600832.\n",
            "[I 2024-04-02 11:19:41,526] Trial 60 finished with value: 0.9321456845600832 and parameters: {'max_depth': 10, 'colsample_bylevel': 0.5962057038116887, 'random_strength': 1.01985008098184, 'bagging_temperature': 2.581491207648412}. Best is trial 0 with value: 0.9321456845600832.\n",
            "[I 2024-04-02 11:19:46,332] Trial 61 finished with value: 0.9321456845600832 and parameters: {'max_depth': 6, 'colsample_bylevel': 0.7810195594772578, 'random_strength': 8.447798049882913, 'bagging_temperature': 5.661736999487523}. Best is trial 0 with value: 0.9321456845600832.\n",
            "[I 2024-04-02 11:19:52,057] Trial 62 finished with value: 0.9321456845600832 and parameters: {'max_depth': 7, 'colsample_bylevel': 0.8833930049952929, 'random_strength': 3.465485870139863, 'bagging_temperature': 4.505589500810979}. Best is trial 0 with value: 0.9321456845600832.\n",
            "[I 2024-04-02 11:19:55,203] Trial 63 finished with value: 0.9321456845600832 and parameters: {'max_depth': 5, 'colsample_bylevel': 0.9596950615296069, 'random_strength': 2.788544995049865, 'bagging_temperature': 6.562790429247979}. Best is trial 0 with value: 0.9321456845600832.\n",
            "[I 2024-04-02 11:20:00,196] Trial 64 finished with value: 0.9321456845600832 and parameters: {'max_depth': 6, 'colsample_bylevel': 0.9783698348012311, 'random_strength': 2.3762985098378513, 'bagging_temperature': 4.83974652597414}. Best is trial 0 with value: 0.9321456845600832.\n",
            "[I 2024-04-02 11:20:18,135] Trial 65 finished with value: 0.9336477623111783 and parameters: {'max_depth': 9, 'colsample_bylevel': 0.9041020801524965, 'random_strength': 1.3325737915591278, 'bagging_temperature': 5.349254817690343}. Best is trial 65 with value: 0.9336477623111783.\n",
            "[I 2024-04-02 11:20:30,048] Trial 66 finished with value: 0.9321456845600832 and parameters: {'max_depth': 9, 'colsample_bylevel': 0.9083337520656177, 'random_strength': 1.4409784522008091, 'bagging_temperature': 1.9819374826991387}. Best is trial 65 with value: 0.9336477623111783.\n",
            "[I 2024-04-02 11:20:46,362] Trial 67 finished with value: 0.9321456845600832 and parameters: {'max_depth': 9, 'colsample_bylevel': 0.9419140913188647, 'random_strength': 1.923403811676357, 'bagging_temperature': 3.569162657462669}. Best is trial 65 with value: 0.9336477623111783.\n",
            "[I 2024-04-02 11:20:55,820] Trial 68 finished with value: 0.9321456845600832 and parameters: {'max_depth': 8, 'colsample_bylevel': 0.551262578720177, 'random_strength': 1.1852273984728448, 'bagging_temperature': 7.395367067882013}. Best is trial 65 with value: 0.9336477623111783.\n",
            "[I 2024-04-02 11:21:09,179] Trial 69 finished with value: 0.9321456845600832 and parameters: {'max_depth': 9, 'colsample_bylevel': 0.9314168376629766, 'random_strength': 6.301467563068182, 'bagging_temperature': 4.21393620723368}. Best is trial 65 with value: 0.9336477623111783.\n",
            "[I 2024-04-02 11:21:38,759] Trial 70 finished with value: 0.9321456845600832 and parameters: {'max_depth': 10, 'colsample_bylevel': 0.8533601716345677, 'random_strength': 3.071966908659796, 'bagging_temperature': 8.231339306977501}. Best is trial 65 with value: 0.9336477623111783.\n",
            "[I 2024-04-02 11:21:44,283] Trial 71 finished with value: 0.9321456845600832 and parameters: {'max_depth': 7, 'colsample_bylevel': 0.8777889831233753, 'random_strength': 3.897745272707946, 'bagging_temperature': 5.151269062039576}. Best is trial 65 with value: 0.9336477623111783.\n",
            "[I 2024-04-02 11:21:55,659] Trial 72 finished with value: 0.9321456845600832 and parameters: {'max_depth': 8, 'colsample_bylevel': 0.8163836469120932, 'random_strength': 1.7492318665503865, 'bagging_temperature': 5.499496091130044}. Best is trial 65 with value: 0.9336477623111783.\n",
            "[I 2024-04-02 11:21:59,434] Trial 73 finished with value: 0.9321456845600832 and parameters: {'max_depth': 5, 'colsample_bylevel': 0.5218220311894604, 'random_strength': 2.2198617052958314, 'bagging_temperature': 5.9987764849881104}. Best is trial 65 with value: 0.9336477623111783.\n",
            "[I 2024-04-02 11:22:01,690] Trial 74 finished with value: 0.9321456845600832 and parameters: {'max_depth': 4, 'colsample_bylevel': 0.6686196335113223, 'random_strength': 2.6283890779162844, 'bagging_temperature': 9.658921976633264}. Best is trial 65 with value: 0.9336477623111783.\n",
            "[I 2024-04-02 11:22:04,636] Trial 75 finished with value: 0.9321456845600832 and parameters: {'max_depth': 5, 'colsample_bylevel': 0.8304796404512566, 'random_strength': 1.375487162601777, 'bagging_temperature': 6.31417643579421}. Best is trial 65 with value: 0.9336477623111783.\n",
            "[I 2024-04-02 11:22:08,550] Trial 76 finished with value: 0.9321456845600832 and parameters: {'max_depth': 6, 'colsample_bylevel': 0.9063652242767092, 'random_strength': 1.003385700929611, 'bagging_temperature': 2.9995643074240914}. Best is trial 65 with value: 0.9336477623111783.\n",
            "[I 2024-04-02 11:22:11,870] Trial 77 finished with value: 0.9321456845600832 and parameters: {'max_depth': 4, 'colsample_bylevel': 0.76421898987888, 'random_strength': 9.666544909926959, 'bagging_temperature': 4.556308731527304}. Best is trial 65 with value: 0.9336477623111783.\n",
            "[I 2024-04-02 11:22:20,041] Trial 78 finished with value: 0.9321456845600832 and parameters: {'max_depth': 8, 'colsample_bylevel': 0.44647104454393766, 'random_strength': 2.9307691381335923, 'bagging_temperature': 5.817154431071198}. Best is trial 65 with value: 0.9336477623111783.\n",
            "[I 2024-04-02 11:22:35,063] Trial 79 finished with value: 0.9321456845600832 and parameters: {'max_depth': 9, 'colsample_bylevel': 0.7126521056561471, 'random_strength': 5.270455918907631, 'bagging_temperature': 5.398384501512449}. Best is trial 65 with value: 0.9336477623111783.\n",
            "[I 2024-04-02 11:22:40,980] Trial 80 finished with value: 0.9321456845600832 and parameters: {'max_depth': 7, 'colsample_bylevel': 0.863050620034954, 'random_strength': 5.862990086389376, 'bagging_temperature': 9.991542717383766}. Best is trial 65 with value: 0.9336477623111783.\n",
            "[I 2024-04-02 11:22:42,951] Trial 81 finished with value: 0.9321456845600832 and parameters: {'max_depth': 3, 'colsample_bylevel': 0.9988194931986382, 'random_strength': 9.469666862155927, 'bagging_temperature': 9.00351480692231}. Best is trial 65 with value: 0.9336477623111783.\n",
            "[I 2024-04-02 11:22:44,946] Trial 82 finished with value: 0.9321456845600832 and parameters: {'max_depth': 3, 'colsample_bylevel': 0.9454277605754112, 'random_strength': 8.44907202454055, 'bagging_temperature': 7.924114164429137}. Best is trial 65 with value: 0.9336477623111783.\n",
            "[I 2024-04-02 11:22:47,931] Trial 83 finished with value: 0.9321456845600832 and parameters: {'max_depth': 3, 'colsample_bylevel': 0.9757685281906211, 'random_strength': 1.6177121730343698, 'bagging_temperature': 7.308515652283152}. Best is trial 65 with value: 0.9336477623111783.\n",
            "[I 2024-04-02 11:22:50,296] Trial 84 finished with value: 0.9321456845600832 and parameters: {'max_depth': 4, 'colsample_bylevel': 0.9741752993124262, 'random_strength': 7.710933457298006, 'bagging_temperature': 9.345999742269697}. Best is trial 65 with value: 0.9336477623111783.\n",
            "[I 2024-04-02 11:22:52,342] Trial 85 finished with value: 0.9321456845600832 and parameters: {'max_depth': 4, 'colsample_bylevel': 0.4807226079985842, 'random_strength': 6.778439348079577, 'bagging_temperature': 8.370713064294424}. Best is trial 65 with value: 0.9336477623111783.\n",
            "[I 2024-04-02 11:22:56,282] Trial 86 finished with value: 0.9321456845600832 and parameters: {'max_depth': 6, 'colsample_bylevel': 0.8980878094838514, 'random_strength': 1.271624487429823, 'bagging_temperature': 6.860730858287641}. Best is trial 65 with value: 0.9336477623111783.\n",
            "[I 2024-04-02 11:23:02,419] Trial 87 finished with value: 0.9321456845600832 and parameters: {'max_depth': 7, 'colsample_bylevel': 0.9324520100672705, 'random_strength': 4.452189533760294, 'bagging_temperature': 3.461378604830721}. Best is trial 65 with value: 0.9336477623111783.\n",
            "[I 2024-04-02 11:23:04,840] Trial 88 finished with value: 0.9321456845600832 and parameters: {'max_depth': 4, 'colsample_bylevel': 0.8976476900667307, 'random_strength': 2.394323247775612, 'bagging_temperature': 2.4000238267329945}. Best is trial 65 with value: 0.9336477623111783.\n",
            "[I 2024-04-02 11:23:07,837] Trial 89 finished with value: 0.9321456845600832 and parameters: {'max_depth': 5, 'colsample_bylevel': 0.922892223458721, 'random_strength': 3.2838662961224023, 'bagging_temperature': 4.943147050800594}. Best is trial 65 with value: 0.9336477623111783.\n",
            "[I 2024-04-02 11:23:34,931] Trial 90 finished with value: 0.9321456845600832 and parameters: {'max_depth': 10, 'colsample_bylevel': 0.6120306897923653, 'random_strength': 1.8610854800659793, 'bagging_temperature': 5.2648702397372205}. Best is trial 65 with value: 0.9336477623111783.\n",
            "[I 2024-04-02 11:23:37,955] Trial 91 finished with value: 0.9321456845600832 and parameters: {'max_depth': 5, 'colsample_bylevel': 0.4582627274309361, 'random_strength': 7.317909597223877, 'bagging_temperature': 3.9899154941584687}. Best is trial 65 with value: 0.9336477623111783.\n",
            "[I 2024-04-02 11:23:40,669] Trial 92 finished with value: 0.9321456845600832 and parameters: {'max_depth': 5, 'colsample_bylevel': 0.5046733731026272, 'random_strength': 9.104816422731407, 'bagging_temperature': 4.618032214165367}. Best is trial 65 with value: 0.9336477623111783.\n",
            "[I 2024-04-02 11:23:43,214] Trial 93 finished with value: 0.9321456845600832 and parameters: {'max_depth': 5, 'colsample_bylevel': 0.4196058619891908, 'random_strength': 8.793743128632542, 'bagging_temperature': 3.747646979228601}. Best is trial 65 with value: 0.9336477623111783.\n",
            "[I 2024-04-02 11:23:53,217] Trial 94 finished with value: 0.9321456845600832 and parameters: {'max_depth': 9, 'colsample_bylevel': 0.48287392054459144, 'random_strength': 9.966895454956015, 'bagging_temperature': 4.25148882740811}. Best is trial 65 with value: 0.9336477623111783.\n",
            "[I 2024-04-02 11:23:57,005] Trial 95 finished with value: 0.9321456845600832 and parameters: {'max_depth': 6, 'colsample_bylevel': 0.5267394811280962, 'random_strength': 8.124629180246181, 'bagging_temperature': 8.793409304232242}. Best is trial 65 with value: 0.9336477623111783.\n",
            "[I 2024-04-02 11:23:59,410] Trial 96 finished with value: 0.9321456845600832 and parameters: {'max_depth': 3, 'colsample_bylevel': 0.5743673673849993, 'random_strength': 3.703985175420916, 'bagging_temperature': 5.731421494815352}. Best is trial 65 with value: 0.9336477623111783.\n",
            "[I 2024-04-02 11:24:02,096] Trial 97 finished with value: 0.9321456845600832 and parameters: {'max_depth': 4, 'colsample_bylevel': 0.9672628204413078, 'random_strength': 4.819160376117439, 'bagging_temperature': 9.113141141001487}. Best is trial 65 with value: 0.9336477623111783.\n",
            "[I 2024-04-02 11:24:04,665] Trial 98 finished with value: 0.9321456845600832 and parameters: {'max_depth': 5, 'colsample_bylevel': 0.40162102766480334, 'random_strength': 5.357517373205258, 'bagging_temperature': 4.8492319371788755}. Best is trial 65 with value: 0.9336477623111783.\n",
            "[I 2024-04-02 11:24:08,271] Trial 99 finished with value: 0.9321456845600832 and parameters: {'max_depth': 6, 'colsample_bylevel': 0.44025292944813477, 'random_strength': 2.0345392896916072, 'bagging_temperature': 5.231987416855742}. Best is trial 65 with value: 0.9336477623111783.\n",
            "[I 2024-04-02 11:24:13,004] Trial 100 finished with value: 0.8702926828804791 and parameters: {'max_depth': 7, 'colsample_bylevel': 0.4676594822706524, 'random_strength': 6.993635827762582, 'bagging_temperature': 1.130889319416657}. Best is trial 65 with value: 0.9336477623111783.\n",
            "[I 2024-04-02 11:24:32,420] Trial 101 finished with value: 0.9321456845600832 and parameters: {'max_depth': 10, 'colsample_bylevel': 0.5112056788650352, 'random_strength': 9.242482513206367, 'bagging_temperature': 6.168771991730852}. Best is trial 65 with value: 0.9336477623111783.\n",
            "[I 2024-04-02 11:24:55,348] Trial 102 finished with value: 0.9321456845600832 and parameters: {'max_depth': 10, 'colsample_bylevel': 0.689877782747935, 'random_strength': 8.685243259006025, 'bagging_temperature': 6.686995599665526}. Best is trial 65 with value: 0.9336477623111783.\n",
            "[I 2024-04-02 11:25:11,059] Trial 103 finished with value: 0.9321456845600832 and parameters: {'max_depth': 9, 'colsample_bylevel': 0.789680640881129, 'random_strength': 7.674409067842657, 'bagging_temperature': 6.4078758920637835}. Best is trial 65 with value: 0.9336477623111783.\n",
            "[I 2024-04-02 11:25:33,858] Trial 104 finished with value: 0.9321456845600832 and parameters: {'max_depth': 10, 'colsample_bylevel': 0.5468859338912468, 'random_strength': 8.830342166072526, 'bagging_temperature': 7.716403250913338}. Best is trial 65 with value: 0.9336477623111783.\n",
            "[I 2024-04-02 11:25:45,896] Trial 105 finished with value: 0.9321456845600832 and parameters: {'max_depth': 8, 'colsample_bylevel': 0.9848263897335103, 'random_strength': 9.396723964651002, 'bagging_temperature': 9.493287492756592}. Best is trial 65 with value: 0.9336477623111783.\n",
            "[I 2024-04-02 11:25:52,429] Trial 106 finished with value: 0.9321456845600832 and parameters: {'max_depth': 7, 'colsample_bylevel': 0.8716485061906303, 'random_strength': 6.553206237336901, 'bagging_temperature': 8.613424342938039}. Best is trial 65 with value: 0.9336477623111783.\n",
            "[I 2024-04-02 11:25:56,246] Trial 107 finished with value: 0.9321456845600832 and parameters: {'max_depth': 6, 'colsample_bylevel': 0.6355844664316096, 'random_strength': 4.095221157480177, 'bagging_temperature': 8.027290790118258}. Best is trial 65 with value: 0.9336477623111783.\n",
            "[I 2024-04-02 11:26:05,349] Trial 108 finished with value: 0.9321456845600832 and parameters: {'max_depth': 8, 'colsample_bylevel': 0.4926234037408423, 'random_strength': 8.432964471061743, 'bagging_temperature': 5.962386777215193}. Best is trial 65 with value: 0.9336477623111783.\n",
            "[I 2024-04-02 11:26:18,988] Trial 109 finished with value: 0.9321456845600832 and parameters: {'max_depth': 9, 'colsample_bylevel': 0.8372898602629877, 'random_strength': 9.879590067028383, 'bagging_temperature': 5.030751507787163}. Best is trial 65 with value: 0.9336477623111783.\n",
            "[I 2024-04-02 11:26:21,377] Trial 110 finished with value: 0.9321456845600832 and parameters: {'max_depth': 4, 'colsample_bylevel': 0.8526346277822537, 'random_strength': 8.140321816263532, 'bagging_temperature': 7.085464512245484}. Best is trial 65 with value: 0.9336477623111783.\n",
            "[I 2024-04-02 11:26:23,806] Trial 111 finished with value: 0.9321456845600832 and parameters: {'max_depth': 3, 'colsample_bylevel': 0.6631684820731043, 'random_strength': 7.902002894310398, 'bagging_temperature': 8.300538492894969}. Best is trial 65 with value: 0.9336477623111783.\n",
            "[I 2024-04-02 11:26:25,806] Trial 112 finished with value: 0.9321456845600832 and parameters: {'max_depth': 3, 'colsample_bylevel': 0.5325369905253028, 'random_strength': 7.224658914630414, 'bagging_temperature': 7.946645721684648}. Best is trial 65 with value: 0.9336477623111783.\n",
            "[I 2024-04-02 11:26:27,587] Trial 113 finished with value: 0.9321456845600832 and parameters: {'max_depth': 3, 'colsample_bylevel': 0.598066393133021, 'random_strength': 8.233592393181224, 'bagging_temperature': 7.441500645622506}. Best is trial 65 with value: 0.9336477623111783.\n",
            "[I 2024-04-02 11:26:29,847] Trial 114 finished with value: 0.9321456845600832 and parameters: {'max_depth': 4, 'colsample_bylevel': 0.6281061139323246, 'random_strength': 1.585976688674879, 'bagging_temperature': 3.772026966390066}. Best is trial 65 with value: 0.9336477623111783.\n",
            "[I 2024-04-02 11:26:31,713] Trial 115 finished with value: 0.9321456845600832 and parameters: {'max_depth': 3, 'colsample_bylevel': 0.7465416035488901, 'random_strength': 7.496005850494835, 'bagging_temperature': 6.838768743445339}. Best is trial 65 with value: 0.9336477623111783.\n",
            "[I 2024-04-02 11:26:34,503] Trial 116 finished with value: 0.9321456845600832 and parameters: {'max_depth': 5, 'colsample_bylevel': 0.5651097571778338, 'random_strength': 2.9167994086697737, 'bagging_temperature': 4.3796672698886345}. Best is trial 65 with value: 0.9336477623111783.\n",
            "[I 2024-04-02 11:26:38,160] Trial 117 finished with value: 0.9321456845600832 and parameters: {'max_depth': 5, 'colsample_bylevel': 0.5147459857308292, 'random_strength': 2.478202077034701, 'bagging_temperature': 7.493448051547901}. Best is trial 65 with value: 0.9336477623111783.\n",
            "[I 2024-04-02 11:26:43,791] Trial 118 finished with value: 0.9321456845600832 and parameters: {'max_depth': 7, 'colsample_bylevel': 0.9438754935389846, 'random_strength': 1.110610742396327, 'bagging_temperature': 5.779055365155605}. Best is trial 65 with value: 0.9336477623111783.\n",
            "[I 2024-04-02 11:26:45,818] Trial 119 finished with value: 0.9321456845600832 and parameters: {'max_depth': 4, 'colsample_bylevel': 0.4537714808492714, 'random_strength': 1.3196244584446815, 'bagging_temperature': 2.9383501959306155}. Best is trial 65 with value: 0.9336477623111783.\n",
            "[I 2024-04-02 11:26:48,604] Trial 120 finished with value: 0.9321456845600832 and parameters: {'max_depth': 3, 'colsample_bylevel': 0.7019371110103676, 'random_strength': 8.641476239617559, 'bagging_temperature': 9.804496024112565}. Best is trial 65 with value: 0.9336477623111783.\n",
            "[I 2024-04-02 11:26:51,622] Trial 121 finished with value: 0.9321456845600832 and parameters: {'max_depth': 5, 'colsample_bylevel': 0.948680105499558, 'random_strength': 5.076328121264389, 'bagging_temperature': 9.237327589170073}. Best is trial 65 with value: 0.9336477623111783.\n",
            "[I 2024-04-02 11:26:54,029] Trial 122 finished with value: 0.9321456845600832 and parameters: {'max_depth': 4, 'colsample_bylevel': 0.9902212747096827, 'random_strength': 5.675071422220255, 'bagging_temperature': 8.97451318104487}. Best is trial 65 with value: 0.9336477623111783.\n",
            "[I 2024-04-02 11:26:56,855] Trial 123 finished with value: 0.9321456845600832 and parameters: {'max_depth': 5, 'colsample_bylevel': 0.95754382484535, 'random_strength': 4.2602951216437654, 'bagging_temperature': 2.0574912314356792}. Best is trial 65 with value: 0.9336477623111783.\n",
            "[I 2024-04-02 11:26:59,266] Trial 124 finished with value: 0.9321456845600832 and parameters: {'max_depth': 3, 'colsample_bylevel': 0.9978808375497342, 'random_strength': 4.715996554835099, 'bagging_temperature': 5.402832273258968}. Best is trial 65 with value: 0.9336477623111783.\n",
            "[I 2024-04-02 11:27:02,128] Trial 125 finished with value: 0.9321456845600832 and parameters: {'max_depth': 4, 'colsample_bylevel': 0.6595742472977355, 'random_strength': 3.417076849096517, 'bagging_temperature': 9.541705539241851}. Best is trial 65 with value: 0.9336477623111783.\n",
            "[I 2024-04-02 11:27:32,417] Trial 126 finished with value: 0.9321456845600832 and parameters: {'max_depth': 10, 'colsample_bylevel': 0.9112967580141592, 'random_strength': 2.253325333091015, 'bagging_temperature': 7.2343092385483905}. Best is trial 65 with value: 0.9336477623111783.\n",
            "[I 2024-04-02 11:27:39,620] Trial 127 finished with value: 0.9321456845600832 and parameters: {'max_depth': 8, 'colsample_bylevel': 0.4747375695346601, 'random_strength': 9.66234610768407, 'bagging_temperature': 3.199892629816611}. Best is trial 65 with value: 0.9336477623111783.\n",
            "[I 2024-04-02 11:27:43,140] Trial 128 finished with value: 0.9321456845600832 and parameters: {'max_depth': 6, 'colsample_bylevel': 0.4957807009133978, 'random_strength': 6.095843167621965, 'bagging_temperature': 4.682872363026721}. Best is trial 65 with value: 0.9336477623111783.\n",
            "[I 2024-04-02 11:27:47,401] Trial 129 finished with value: 0.9321456845600832 and parameters: {'max_depth': 6, 'colsample_bylevel': 0.9683227149362603, 'random_strength': 7.764909053628315, 'bagging_temperature': 8.540120429800172}. Best is trial 65 with value: 0.9336477623111783.\n",
            "[I 2024-04-02 11:27:49,957] Trial 130 finished with value: 0.9321456845600832 and parameters: {'max_depth': 3, 'colsample_bylevel': 0.7683131433423344, 'random_strength': 5.026013457997671, 'bagging_temperature': 6.494862938713212}. Best is trial 65 with value: 0.9336477623111783.\n",
            "[I 2024-04-02 11:27:52,905] Trial 131 finished with value: 0.9321456845600832 and parameters: {'max_depth': 5, 'colsample_bylevel': 0.8211087314576436, 'random_strength': 7.228437266869445, 'bagging_temperature': 5.5992337790863}. Best is trial 65 with value: 0.9336477623111783.\n",
            "[I 2024-04-02 11:27:55,453] Trial 132 finished with value: 0.8702926828804791 and parameters: {'max_depth': 5, 'colsample_bylevel': 0.5786629204788688, 'random_strength': 6.299508767842256, 'bagging_temperature': 1.7404182168535796}. Best is trial 65 with value: 0.9336477623111783.\n",
            "[I 2024-04-02 11:27:58,288] Trial 133 finished with value: 0.9321456845600832 and parameters: {'max_depth': 5, 'colsample_bylevel': 0.6066245189443276, 'random_strength': 6.754288768146061, 'bagging_temperature': 6.153366717171333}. Best is trial 65 with value: 0.9336477623111783.\n",
            "[I 2024-04-02 11:28:15,755] Trial 134 finished with value: 0.9321456845600832 and parameters: {'max_depth': 9, 'colsample_bylevel': 0.8895818957767638, 'random_strength': 5.518777986484166, 'bagging_temperature': 6.70923696528841}. Best is trial 65 with value: 0.9336477623111783.\n",
            "[I 2024-04-02 11:28:21,417] Trial 135 finished with value: 0.9321456845600832 and parameters: {'max_depth': 7, 'colsample_bylevel': 0.7278484248795818, 'random_strength': 7.4889649588221925, 'bagging_temperature': 9.780610713033365}. Best is trial 65 with value: 0.9336477623111783.\n",
            "[I 2024-04-02 11:28:25,132] Trial 136 finished with value: 0.9321456845600832 and parameters: {'max_depth': 5, 'colsample_bylevel': 0.5394801620508431, 'random_strength': 1.776525113899893, 'bagging_temperature': 3.3697550763802644}. Best is trial 65 with value: 0.9336477623111783.\n",
            "[I 2024-04-02 11:28:27,185] Trial 137 finished with value: 0.9321456845600832 and parameters: {'max_depth': 4, 'colsample_bylevel': 0.46183499930963684, 'random_strength': 8.975114228940317, 'bagging_temperature': 8.731272271907537}. Best is trial 65 with value: 0.9336477623111783.\n",
            "[I 2024-04-02 11:28:30,178] Trial 138 finished with value: 0.9321456845600832 and parameters: {'max_depth': 5, 'colsample_bylevel': 0.800275005497248, 'random_strength': 7.048138490824625, 'bagging_temperature': 7.62494242714244}. Best is trial 65 with value: 0.9336477623111783.\n",
            "[I 2024-04-02 11:28:34,030] Trial 139 finished with value: 0.9321456845600832 and parameters: {'max_depth': 6, 'colsample_bylevel': 0.6512137752455791, 'random_strength': 1.4678187092753778, 'bagging_temperature': 4.093459223208323}. Best is trial 65 with value: 0.9336477623111783.\n",
            "[I 2024-04-02 11:28:37,326] Trial 140 finished with value: 0.9321456845600832 and parameters: {'max_depth': 4, 'colsample_bylevel': 0.9847451926446611, 'random_strength': 3.852775096256223, 'bagging_temperature': 6.325691481221696}. Best is trial 65 with value: 0.9336477623111783.\n",
            "[I 2024-04-02 11:28:39,569] Trial 141 finished with value: 0.9321456845600832 and parameters: {'max_depth': 4, 'colsample_bylevel': 0.6797701425132373, 'random_strength': 1.204050583662223, 'bagging_temperature': 8.150691267157955}. Best is trial 65 with value: 0.9336477623111783.\n",
            "[I 2024-04-02 11:28:41,952] Trial 142 finished with value: 0.8702926828804791 and parameters: {'max_depth': 4, 'colsample_bylevel': 0.8439863214980383, 'random_strength': 7.911534110796786, 'bagging_temperature': 2.557236582232155}. Best is trial 65 with value: 0.9336477623111783.\n",
            "[I 2024-04-02 11:28:44,296] Trial 143 finished with value: 0.9321456845600832 and parameters: {'max_depth': 4, 'colsample_bylevel': 0.7452985779522849, 'random_strength': 1.0277632777920822, 'bagging_temperature': 7.925388451274434}. Best is trial 65 with value: 0.9336477623111783.\n",
            "[I 2024-04-02 11:28:47,473] Trial 144 finished with value: 0.9321456845600832 and parameters: {'max_depth': 5, 'colsample_bylevel': 0.553524651974824, 'random_strength': 2.0603308887137395, 'bagging_temperature': 8.381827521598144}. Best is trial 65 with value: 0.9336477623111783.\n",
            "[I 2024-04-02 11:28:49,879] Trial 145 finished with value: 0.9321456845600832 and parameters: {'max_depth': 3, 'colsample_bylevel': 0.8091823326084695, 'random_strength': 1.6800127752749419, 'bagging_temperature': 6.941847208921068}. Best is trial 65 with value: 0.9336477623111783.\n",
            "[I 2024-04-02 11:29:19,239] Trial 146 finished with value: 0.9336477623111783 and parameters: {'max_depth': 10, 'colsample_bylevel': 0.7769128810554418, 'random_strength': 1.2454196025388011, 'bagging_temperature': 9.19142258888398}. Best is trial 65 with value: 0.9336477623111783.\n",
            "[I 2024-04-02 11:29:44,120] Trial 147 finished with value: 0.9321456845600832 and parameters: {'max_depth': 10, 'colsample_bylevel': 0.48765646395252454, 'random_strength': 8.264185272668179, 'bagging_temperature': 9.56612933431481}. Best is trial 65 with value: 0.9336477623111783.\n",
            "[I 2024-04-02 11:30:13,826] Trial 148 finished with value: 0.9336477623111783 and parameters: {'max_depth': 10, 'colsample_bylevel': 0.7924217902757691, 'random_strength': 1.373366848866205, 'bagging_temperature': 9.203860208708473}. Best is trial 65 with value: 0.9336477623111783.\n",
            "[I 2024-04-02 11:30:42,677] Trial 149 finished with value: 0.9336477623111783 and parameters: {'max_depth': 10, 'colsample_bylevel': 0.7902658635560039, 'random_strength': 1.907207425149975, 'bagging_temperature': 9.233514399846975}. Best is trial 65 with value: 0.9336477623111783.\n",
            "[I 2024-04-02 11:31:13,003] Trial 150 finished with value: 0.9320325495518271 and parameters: {'max_depth': 10, 'colsample_bylevel': 0.7840353952257166, 'random_strength': 1.4450966307445383, 'bagging_temperature': 9.21816210336965}. Best is trial 65 with value: 0.9336477623111783.\n",
            "[I 2024-04-02 11:31:41,558] Trial 151 finished with value: 0.9336477623111783 and parameters: {'max_depth': 10, 'colsample_bylevel': 0.7960365587349304, 'random_strength': 1.857993378224445, 'bagging_temperature': 9.066740696345029}. Best is trial 65 with value: 0.9336477623111783.\n",
            "[I 2024-04-02 11:32:10,771] Trial 152 finished with value: 0.9336477623111783 and parameters: {'max_depth': 10, 'colsample_bylevel': 0.7959346190990892, 'random_strength': 2.0028415886521103, 'bagging_temperature': 8.932541463545983}. Best is trial 65 with value: 0.9336477623111783.\n",
            "[I 2024-04-02 11:32:39,517] Trial 153 finished with value: 0.9336477623111783 and parameters: {'max_depth': 10, 'colsample_bylevel': 0.7782986095606328, 'random_strength': 1.8835787879366022, 'bagging_temperature': 8.820980043311971}. Best is trial 65 with value: 0.9336477623111783.\n",
            "[I 2024-04-02 11:33:07,872] Trial 154 finished with value: 0.9336477623111783 and parameters: {'max_depth': 10, 'colsample_bylevel': 0.7738456691172177, 'random_strength': 1.9501624108091618, 'bagging_temperature': 8.897515957947105}. Best is trial 65 with value: 0.9336477623111783.\n",
            "[I 2024-04-02 11:33:36,819] Trial 155 finished with value: 0.9336477623111783 and parameters: {'max_depth': 10, 'colsample_bylevel': 0.7698522582225568, 'random_strength': 1.9196105497916887, 'bagging_temperature': 8.868355208720061}. Best is trial 65 with value: 0.9336477623111783.\n",
            "[I 2024-04-02 11:34:05,391] Trial 156 finished with value: 0.9336477623111783 and parameters: {'max_depth': 10, 'colsample_bylevel': 0.7563844535081263, 'random_strength': 1.92833329425422, 'bagging_temperature': 8.937777127733176}. Best is trial 65 with value: 0.9336477623111783.\n",
            "[I 2024-04-02 11:34:34,680] Trial 157 finished with value: 0.9336477623111783 and parameters: {'max_depth': 10, 'colsample_bylevel': 0.7738386296642692, 'random_strength': 1.9210613704322537, 'bagging_temperature': 8.87975018877295}. Best is trial 65 with value: 0.9336477623111783.\n",
            "[I 2024-04-02 11:35:03,877] Trial 158 finished with value: 0.9321456845600832 and parameters: {'max_depth': 10, 'colsample_bylevel': 0.7736653990722863, 'random_strength': 1.9644670505800046, 'bagging_temperature': 8.841532573307983}. Best is trial 65 with value: 0.9336477623111783.\n",
            "[I 2024-04-02 11:35:33,201] Trial 159 finished with value: 0.9336477623111783 and parameters: {'max_depth': 10, 'colsample_bylevel': 0.7563414232457496, 'random_strength': 1.8372278026456181, 'bagging_temperature': 9.060698724076087}. Best is trial 65 with value: 0.9336477623111783.\n",
            "[I 2024-04-02 11:36:01,436] Trial 160 finished with value: 0.9336477623111783 and parameters: {'max_depth': 10, 'colsample_bylevel': 0.7569751268202303, 'random_strength': 1.8437949389709425, 'bagging_temperature': 9.052549104253664}. Best is trial 65 with value: 0.9336477623111783.\n",
            "[I 2024-04-02 11:36:30,121] Trial 161 finished with value: 0.9320325495518271 and parameters: {'max_depth': 10, 'colsample_bylevel': 0.7602945423553151, 'random_strength': 1.8025111557070135, 'bagging_temperature': 9.072593317275654}. Best is trial 65 with value: 0.9336477623111783.\n",
            "[I 2024-04-02 11:36:58,335] Trial 162 finished with value: 0.9336477623111783 and parameters: {'max_depth': 10, 'colsample_bylevel': 0.7499449775403243, 'random_strength': 2.1075634850606058, 'bagging_temperature': 8.974717314096102}. Best is trial 65 with value: 0.9336477623111783.\n",
            "[I 2024-04-02 11:37:27,225] Trial 163 finished with value: 0.9336477623111783 and parameters: {'max_depth': 10, 'colsample_bylevel': 0.7907106307585461, 'random_strength': 2.238284130110677, 'bagging_temperature': 9.360631440469545}. Best is trial 65 with value: 0.9336477623111783.\n",
            "[I 2024-04-02 11:37:56,042] Trial 164 finished with value: 0.9336477623111783 and parameters: {'max_depth': 10, 'colsample_bylevel': 0.7940368245296585, 'random_strength': 2.1520941664361994, 'bagging_temperature': 8.92205099117815}. Best is trial 65 with value: 0.9336477623111783.\n",
            "[I 2024-04-02 11:38:25,556] Trial 165 finished with value: 0.9336477623111783 and parameters: {'max_depth': 10, 'colsample_bylevel': 0.7925324643945727, 'random_strength': 2.1681867431910833, 'bagging_temperature': 9.385139642134764}. Best is trial 65 with value: 0.9336477623111783.\n",
            "[I 2024-04-02 11:38:54,681] Trial 166 finished with value: 0.9320325495518271 and parameters: {'max_depth': 10, 'colsample_bylevel': 0.7847955487598802, 'random_strength': 2.1728040240125908, 'bagging_temperature': 9.406882699944976}. Best is trial 65 with value: 0.9336477623111783.\n",
            "[I 2024-04-02 11:39:22,620] Trial 167 finished with value: 0.9336477623111783 and parameters: {'max_depth': 10, 'colsample_bylevel': 0.7536505881777552, 'random_strength': 2.3932853490669723, 'bagging_temperature': 8.921471908245543}. Best is trial 65 with value: 0.9336477623111783.\n",
            "[I 2024-04-02 11:39:52,847] Trial 168 finished with value: 0.9336477623111783 and parameters: {'max_depth': 10, 'colsample_bylevel': 0.801795346179853, 'random_strength': 1.9181702122946047, 'bagging_temperature': 9.189063177636294}. Best is trial 65 with value: 0.9336477623111783.\n",
            "[I 2024-04-02 11:40:21,983] Trial 169 finished with value: 0.9336477623111783 and parameters: {'max_depth': 10, 'colsample_bylevel': 0.7934266392894723, 'random_strength': 1.634441676275421, 'bagging_temperature': 8.780406821793912}. Best is trial 65 with value: 0.9336477623111783.\n",
            "[I 2024-04-02 11:40:51,276] Trial 170 finished with value: 0.9336477623111783 and parameters: {'max_depth': 10, 'colsample_bylevel': 0.773920788297425, 'random_strength': 2.143109059534644, 'bagging_temperature': 9.065988231956789}. Best is trial 65 with value: 0.9336477623111783.\n",
            "[I 2024-04-02 11:41:19,404] Trial 171 finished with value: 0.9336477623111783 and parameters: {'max_depth': 10, 'colsample_bylevel': 0.7564610798118577, 'random_strength': 2.355981922874604, 'bagging_temperature': 8.930431430179413}. Best is trial 65 with value: 0.9336477623111783.\n",
            "[I 2024-04-02 11:41:47,858] Trial 172 finished with value: 0.9336477623111783 and parameters: {'max_depth': 10, 'colsample_bylevel': 0.7493365491962753, 'random_strength': 2.614395014401337, 'bagging_temperature': 9.335125704063563}. Best is trial 65 with value: 0.9336477623111783.\n",
            "[I 2024-04-02 11:42:18,461] Trial 173 finished with value: 0.9336477623111783 and parameters: {'max_depth': 10, 'colsample_bylevel': 0.8124719754600624, 'random_strength': 1.9478754275618628, 'bagging_temperature': 8.60259725851475}. Best is trial 65 with value: 0.9336477623111783.\n",
            "[I 2024-04-02 11:42:45,988] Trial 174 finished with value: 0.9336477623111783 and parameters: {'max_depth': 10, 'colsample_bylevel': 0.7360370004211649, 'random_strength': 2.2801565359442355, 'bagging_temperature': 9.035574860790465}. Best is trial 65 with value: 0.9336477623111783.\n",
            "[I 2024-04-02 11:43:15,119] Trial 175 finished with value: 0.9336477623111783 and parameters: {'max_depth': 10, 'colsample_bylevel': 0.76478514021067, 'random_strength': 1.7591132145153079, 'bagging_temperature': 8.903366889189066}. Best is trial 65 with value: 0.9336477623111783.\n",
            "[I 2024-04-02 11:43:43,626] Trial 176 finished with value: 0.9336477623111783 and parameters: {'max_depth': 10, 'colsample_bylevel': 0.7782672153584972, 'random_strength': 2.090447738527667, 'bagging_temperature': 9.319553363314693}. Best is trial 65 with value: 0.9336477623111783.\n",
            "[I 2024-04-02 11:44:12,793] Trial 177 finished with value: 0.9336477623111783 and parameters: {'max_depth': 10, 'colsample_bylevel': 0.7924949480923017, 'random_strength': 1.5891188321038714, 'bagging_temperature': 8.704663271999117}. Best is trial 65 with value: 0.9336477623111783.\n",
            "[I 2024-04-02 11:44:41,266] Trial 178 finished with value: 0.9336477623111783 and parameters: {'max_depth': 10, 'colsample_bylevel': 0.7569166867031788, 'random_strength': 2.474971134972447, 'bagging_temperature': 9.64708342175986}. Best is trial 65 with value: 0.9336477623111783.\n",
            "[I 2024-04-02 11:45:10,088] Trial 179 finished with value: 0.9336477623111783 and parameters: {'max_depth': 10, 'colsample_bylevel': 0.8251952343857418, 'random_strength': 1.8908265970143616, 'bagging_temperature': 9.221411786051458}. Best is trial 65 with value: 0.9336477623111783.\n",
            "[I 2024-04-02 11:45:39,232] Trial 180 finished with value: 0.9336477623111783 and parameters: {'max_depth': 10, 'colsample_bylevel': 0.7183704145039601, 'random_strength': 1.3729776127463647, 'bagging_temperature': 8.539336957819009}. Best is trial 65 with value: 0.9336477623111783.\n",
            "[I 2024-04-02 11:46:08,552] Trial 181 finished with value: 0.9336477623111783 and parameters: {'max_depth': 10, 'colsample_bylevel': 0.8020826712388648, 'random_strength': 1.9412506950113753, 'bagging_temperature': 9.156205370364145}. Best is trial 65 with value: 0.9336477623111783.\n",
            "[I 2024-04-02 11:46:37,401] Trial 182 finished with value: 0.9336477623111783 and parameters: {'max_depth': 10, 'colsample_bylevel': 0.7790881957645512, 'random_strength': 2.1271166065847407, 'bagging_temperature': 9.47065730138243}. Best is trial 65 with value: 0.9336477623111783.\n",
            "[I 2024-04-02 11:47:05,997] Trial 183 finished with value: 0.9336477623111783 and parameters: {'max_depth': 10, 'colsample_bylevel': 0.7957327605504847, 'random_strength': 1.8301144472777628, 'bagging_temperature': 8.827439286410595}. Best is trial 65 with value: 0.9336477623111783.\n",
            "[I 2024-04-02 11:47:34,220] Trial 184 finished with value: 0.9336477623111783 and parameters: {'max_depth': 10, 'colsample_bylevel': 0.7366939750504732, 'random_strength': 1.6302040112971223, 'bagging_temperature': 9.073641991179125}. Best is trial 65 with value: 0.9336477623111783.\n",
            "[I 2024-04-02 11:48:02,325] Trial 185 finished with value: 0.9336477623111783 and parameters: {'max_depth': 10, 'colsample_bylevel': 0.7694128941974143, 'random_strength': 2.3516790088253114, 'bagging_temperature': 9.339659013074664}. Best is trial 65 with value: 0.9336477623111783.\n",
            "[I 2024-04-02 11:48:30,346] Trial 186 finished with value: 0.9336477623111783 and parameters: {'max_depth': 10, 'colsample_bylevel': 0.8047506799824339, 'random_strength': 1.9585345998538815, 'bagging_temperature': 8.944852130516757}. Best is trial 65 with value: 0.9336477623111783.\n",
            "[I 2024-04-02 11:48:59,247] Trial 187 finished with value: 0.9336477623111783 and parameters: {'max_depth': 10, 'colsample_bylevel': 0.7855691550837979, 'random_strength': 2.206175290081564, 'bagging_temperature': 9.18895914560625}. Best is trial 65 with value: 0.9336477623111783.\n",
            "[I 2024-04-02 11:49:28,496] Trial 188 finished with value: 0.9336477623111783 and parameters: {'max_depth': 10, 'colsample_bylevel': 0.7541752524455293, 'random_strength': 1.2950585029481279, 'bagging_temperature': 8.727389132788979}. Best is trial 65 with value: 0.9336477623111783.\n",
            "[I 2024-04-02 11:49:57,571] Trial 189 finished with value: 0.9336477623111783 and parameters: {'max_depth': 10, 'colsample_bylevel': 0.7671613659611015, 'random_strength': 1.6905243890988106, 'bagging_temperature': 9.518591467327917}. Best is trial 65 with value: 0.9336477623111783.\n",
            "[I 2024-04-02 11:50:25,422] Trial 190 finished with value: 0.9321456845600832 and parameters: {'max_depth': 10, 'colsample_bylevel': 0.8140757659179109, 'random_strength': 2.521007507453106, 'bagging_temperature': 8.393112666822148}. Best is trial 65 with value: 0.9336477623111783.\n",
            "[I 2024-04-02 11:50:54,033] Trial 191 finished with value: 0.9336477623111783 and parameters: {'max_depth': 10, 'colsample_bylevel': 0.7897006340187336, 'random_strength': 1.645000163949177, 'bagging_temperature': 8.817307751286599}. Best is trial 65 with value: 0.9336477623111783.\n",
            "[I 2024-04-02 11:51:22,983] Trial 192 finished with value: 0.9336477623111783 and parameters: {'max_depth': 10, 'colsample_bylevel': 0.8002506651420846, 'random_strength': 1.5351375314468105, 'bagging_temperature': 8.962271232676056}. Best is trial 65 with value: 0.9336477623111783.\n",
            "[I 2024-04-02 11:51:51,038] Trial 193 finished with value: 0.9336477623111783 and parameters: {'max_depth': 10, 'colsample_bylevel': 0.7925385902002055, 'random_strength': 2.0296904955076616, 'bagging_temperature': 8.666646346105683}. Best is trial 65 with value: 0.9336477623111783.\n",
            "[I 2024-04-02 11:52:20,155] Trial 194 finished with value: 0.9320325495518271 and parameters: {'max_depth': 10, 'colsample_bylevel': 0.7763826120543792, 'random_strength': 1.8436603998077898, 'bagging_temperature': 9.178670365264423}. Best is trial 65 with value: 0.9336477623111783.\n",
            "[I 2024-04-02 11:52:48,279] Trial 195 finished with value: 0.9336477623111783 and parameters: {'max_depth': 10, 'colsample_bylevel': 0.735449010589578, 'random_strength': 1.4633991588429662, 'bagging_temperature': 9.694943296156131}. Best is trial 65 with value: 0.9336477623111783.\n",
            "[I 2024-04-02 11:53:18,117] Trial 196 finished with value: 0.9336477623111783 and parameters: {'max_depth': 10, 'colsample_bylevel': 0.7476210312185839, 'random_strength': 2.2590377671219515, 'bagging_temperature': 9.31862856021716}. Best is trial 65 with value: 0.9336477623111783.\n",
            "[I 2024-04-02 11:53:46,673] Trial 197 finished with value: 0.9336477623111783 and parameters: {'max_depth': 10, 'colsample_bylevel': 0.8287829001151575, 'random_strength': 1.758627404502368, 'bagging_temperature': 8.875403118876747}. Best is trial 65 with value: 0.9336477623111783.\n",
            "[I 2024-04-02 11:54:14,698] Trial 198 finished with value: 0.9336477623111783 and parameters: {'max_depth': 10, 'colsample_bylevel': 0.7695680768573473, 'random_strength': 2.0492569089798445, 'bagging_temperature': 8.589302087652218}. Best is trial 65 with value: 0.9336477623111783.\n",
            "[I 2024-04-02 11:54:43,940] Trial 199 finished with value: 0.9336477623111783 and parameters: {'max_depth': 10, 'colsample_bylevel': 0.7848973036532277, 'random_strength': 1.6055444983416423, 'bagging_temperature': 9.875848000207961}. Best is trial 65 with value: 0.9336477623111783.\n"
          ]
        },
        {
          "output_type": "stream",
          "name": "stdout",
          "text": [
            "Best hyperparameters: {'max_depth': 9, 'colsample_bylevel': 0.9041020801524965, 'random_strength': 1.3325737915591278, 'bagging_temperature': 5.349254817690343}\n",
            "Best F1: 0.9336477623111783\n"
          ]
        }
      ]
    },
    {
      "cell_type": "code",
      "source": [
        "#[I 2024-01-24 13:19:08,146] Trial 23 finished with value: 0.7698620649790703 and parameters: {'max_depth': 10, 'min_data_in_leaf': 85, 'colsample_bylevel': 0.7016150314426027, 'random_strength': 8.542169542677488, 'bagging_temperature': 8.681806510285387}. Best is trial 23 with value: 0.7698620649790703."
      ],
      "metadata": {
        "id": "JyMOmKkvb0Un"
      },
      "execution_count": null,
      "outputs": []
    },
    {
      "cell_type": "code",
      "source": [
        "# Best hyperparameters: {'max_depth': 5, 'colsample_bylevel': 0.8574269294896714, 'random_strength': 4.887505167779041, 'bagging_temperature': 3.2666768318813983}\n",
        "# Best F1: 0.9351504102964708"
      ],
      "metadata": {
        "id": "_nkFsxvLgcIG"
      },
      "execution_count": null,
      "outputs": []
    }
  ]
}