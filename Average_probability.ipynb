{
 "cells": [
  {
   "cell_type": "code",
   "execution_count": 21,
   "id": "39b50ee2",
   "metadata": {},
   "outputs": [],
   "source": [
    "import numpy as np\n",
    "import pandas as pd\n",
    "import catboost\n",
    "from catboost import CatBoostClassifier, Pool\n",
    "from sklearn.model_selection import train_test_split\n",
    "from sklearn.metrics import f1_score,confusion_matrix,accuracy_score\n",
    "import json\n",
    "import matplotlib.pyplot as plt"
   ]
  },
  {
   "cell_type": "code",
   "execution_count": 22,
   "id": "11c83e4a",
   "metadata": {},
   "outputs": [
    {
     "data": {
      "text/plain": [
       "(335113, 14)"
      ]
     },
     "execution_count": 22,
     "metadata": {},
     "output_type": "execute_result"
    }
   ],
   "source": [
    "df = pd.read_csv('Important.csv')\n",
    "df.shape"
   ]
  },
  {
   "cell_type": "code",
   "execution_count": 23,
   "id": "1b7b7496",
   "metadata": {},
   "outputs": [
    {
     "data": {
      "text/html": [
       "<div>\n",
       "<style scoped>\n",
       "    .dataframe tbody tr th:only-of-type {\n",
       "        vertical-align: middle;\n",
       "    }\n",
       "\n",
       "    .dataframe tbody tr th {\n",
       "        vertical-align: top;\n",
       "    }\n",
       "\n",
       "    .dataframe thead th {\n",
       "        text-align: right;\n",
       "    }\n",
       "</style>\n",
       "<table border=\"1\" class=\"dataframe\">\n",
       "  <thead>\n",
       "    <tr style=\"text-align: right;\">\n",
       "      <th></th>\n",
       "      <th>Unnamed: 0</th>\n",
       "      <th>s_247_71</th>\n",
       "      <th>s_247_73</th>\n",
       "      <th>s_247_75</th>\n",
       "      <th>s_247_77</th>\n",
       "      <th>s_247_78</th>\n",
       "      <th>s_248_70</th>\n",
       "      <th>s_248_72</th>\n",
       "      <th>s_248_74</th>\n",
       "      <th>s_248_76</th>\n",
       "      <th>OfferID</th>\n",
       "      <th>indiv_id</th>\n",
       "      <th>target</th>\n",
       "      <th>probability</th>\n",
       "    </tr>\n",
       "  </thead>\n",
       "  <tbody>\n",
       "    <tr>\n",
       "      <th>0</th>\n",
       "      <td>0</td>\n",
       "      <td>1.0</td>\n",
       "      <td>0.0</td>\n",
       "      <td>0.0</td>\n",
       "      <td>0.0</td>\n",
       "      <td>0.0</td>\n",
       "      <td>0.0</td>\n",
       "      <td>1.0</td>\n",
       "      <td>0.0</td>\n",
       "      <td>0.0</td>\n",
       "      <td>78</td>\n",
       "      <td>1</td>\n",
       "      <td>0</td>\n",
       "      <td>0.000935</td>\n",
       "    </tr>\n",
       "    <tr>\n",
       "      <th>1</th>\n",
       "      <td>1</td>\n",
       "      <td>0.0</td>\n",
       "      <td>0.0</td>\n",
       "      <td>0.0</td>\n",
       "      <td>0.0</td>\n",
       "      <td>1.0</td>\n",
       "      <td>0.0</td>\n",
       "      <td>0.0</td>\n",
       "      <td>1.0</td>\n",
       "      <td>0.0</td>\n",
       "      <td>78</td>\n",
       "      <td>10</td>\n",
       "      <td>0</td>\n",
       "      <td>0.005847</td>\n",
       "    </tr>\n",
       "    <tr>\n",
       "      <th>2</th>\n",
       "      <td>2</td>\n",
       "      <td>1.0</td>\n",
       "      <td>0.0</td>\n",
       "      <td>0.0</td>\n",
       "      <td>0.0</td>\n",
       "      <td>0.0</td>\n",
       "      <td>0.0</td>\n",
       "      <td>1.0</td>\n",
       "      <td>0.0</td>\n",
       "      <td>0.0</td>\n",
       "      <td>78</td>\n",
       "      <td>22</td>\n",
       "      <td>0</td>\n",
       "      <td>0.001941</td>\n",
       "    </tr>\n",
       "    <tr>\n",
       "      <th>3</th>\n",
       "      <td>3</td>\n",
       "      <td>0.0</td>\n",
       "      <td>1.0</td>\n",
       "      <td>0.0</td>\n",
       "      <td>0.0</td>\n",
       "      <td>0.0</td>\n",
       "      <td>0.0</td>\n",
       "      <td>1.0</td>\n",
       "      <td>0.0</td>\n",
       "      <td>0.0</td>\n",
       "      <td>78</td>\n",
       "      <td>28</td>\n",
       "      <td>0</td>\n",
       "      <td>0.002613</td>\n",
       "    </tr>\n",
       "    <tr>\n",
       "      <th>4</th>\n",
       "      <td>4</td>\n",
       "      <td>0.0</td>\n",
       "      <td>0.0</td>\n",
       "      <td>0.0</td>\n",
       "      <td>0.0</td>\n",
       "      <td>1.0</td>\n",
       "      <td>0.0</td>\n",
       "      <td>1.0</td>\n",
       "      <td>0.0</td>\n",
       "      <td>0.0</td>\n",
       "      <td>78</td>\n",
       "      <td>61</td>\n",
       "      <td>0</td>\n",
       "      <td>0.001315</td>\n",
       "    </tr>\n",
       "  </tbody>\n",
       "</table>\n",
       "</div>"
      ],
      "text/plain": [
       "   Unnamed: 0  s_247_71  s_247_73  s_247_75  s_247_77  s_247_78  s_248_70  \\\n",
       "0           0       1.0       0.0       0.0       0.0       0.0       0.0   \n",
       "1           1       0.0       0.0       0.0       0.0       1.0       0.0   \n",
       "2           2       1.0       0.0       0.0       0.0       0.0       0.0   \n",
       "3           3       0.0       1.0       0.0       0.0       0.0       0.0   \n",
       "4           4       0.0       0.0       0.0       0.0       1.0       0.0   \n",
       "\n",
       "   s_248_72  s_248_74  s_248_76  OfferID  indiv_id  target  probability  \n",
       "0       1.0       0.0       0.0       78         1       0     0.000935  \n",
       "1       0.0       1.0       0.0       78        10       0     0.005847  \n",
       "2       1.0       0.0       0.0       78        22       0     0.001941  \n",
       "3       1.0       0.0       0.0       78        28       0     0.002613  \n",
       "4       1.0       0.0       0.0       78        61       0     0.001315  "
      ]
     },
     "execution_count": 23,
     "metadata": {},
     "output_type": "execute_result"
    }
   ],
   "source": [
    "df.head()"
   ]
  },
  {
   "cell_type": "code",
   "execution_count": 24,
   "id": "c76292a8",
   "metadata": {},
   "outputs": [],
   "source": [
    "OfferID_list=[642,640,646,645,88]"
   ]
  },
  {
   "cell_type": "code",
   "execution_count": 25,
   "id": "143be3ba",
   "metadata": {},
   "outputs": [
    {
     "data": {
      "text/plain": [
       "(199106, 14)"
      ]
     },
     "execution_count": 25,
     "metadata": {},
     "output_type": "execute_result"
    }
   ],
   "source": [
    "df = df[df['OfferID'].isin(OfferID_list)]\n",
    "df.shape"
   ]
  },
  {
   "cell_type": "code",
   "execution_count": 26,
   "id": "d77f908d",
   "metadata": {},
   "outputs": [
    {
     "data": {
      "text/plain": [
       "Index(['Unnamed: 0', 's_247_71', 's_247_73', 's_247_75', 's_247_77',\n",
       "       's_247_78', 's_248_70', 's_248_72', 's_248_74', 's_248_76', 'OfferID',\n",
       "       'indiv_id', 'target', 'probability'],\n",
       "      dtype='object')"
      ]
     },
     "execution_count": 26,
     "metadata": {},
     "output_type": "execute_result"
    }
   ],
   "source": [
    "df.columns"
   ]
  },
  {
   "cell_type": "code",
   "execution_count": 27,
   "id": "3e400e0b",
   "metadata": {},
   "outputs": [],
   "source": [
    "# 'Unnamed: 0', 's_247_71', 's_247_73', 's_247_75', 's_247_77',\n",
    "#        's_247_78', 's_248_70', 's_248_72', 's_248_74', 's_248_76', 'OfferID',\n",
    "#        'indiv_id', 'target', 'probability'"
   ]
  },
  {
   "cell_type": "code",
   "execution_count": 28,
   "id": "6f6f41a1",
   "metadata": {},
   "outputs": [],
   "source": [
    "df= df[['s_247_71','s_248_70','OfferID',\n",
    "       'indiv_id', 'target', 'probability']]"
   ]
  },
  {
   "cell_type": "code",
   "execution_count": 29,
   "id": "dd22605e",
   "metadata": {},
   "outputs": [
    {
     "data": {
      "text/plain": [
       "(199106, 6)"
      ]
     },
     "execution_count": 29,
     "metadata": {},
     "output_type": "execute_result"
    }
   ],
   "source": [
    "df.shape"
   ]
  },
  {
   "cell_type": "code",
   "execution_count": 30,
   "id": "06c47473",
   "metadata": {},
   "outputs": [],
   "source": [
    "df = df[(df['s_247_71'] == 1) & (df['s_248_70'] == 1)]"
   ]
  },
  {
   "cell_type": "code",
   "execution_count": 31,
   "id": "435b315f",
   "metadata": {},
   "outputs": [
    {
     "data": {
      "text/plain": [
       "(1807, 6)"
      ]
     },
     "execution_count": 31,
     "metadata": {},
     "output_type": "execute_result"
    }
   ],
   "source": [
    "df.shape"
   ]
  },
  {
   "cell_type": "code",
   "execution_count": 32,
   "id": "2b3dc0e0",
   "metadata": {},
   "outputs": [
    {
     "data": {
      "text/html": [
       "<div>\n",
       "<style scoped>\n",
       "    .dataframe tbody tr th:only-of-type {\n",
       "        vertical-align: middle;\n",
       "    }\n",
       "\n",
       "    .dataframe tbody tr th {\n",
       "        vertical-align: top;\n",
       "    }\n",
       "\n",
       "    .dataframe thead th {\n",
       "        text-align: right;\n",
       "    }\n",
       "</style>\n",
       "<table border=\"1\" class=\"dataframe\">\n",
       "  <thead>\n",
       "    <tr style=\"text-align: right;\">\n",
       "      <th></th>\n",
       "      <th>s_247_71</th>\n",
       "      <th>s_248_70</th>\n",
       "      <th>OfferID</th>\n",
       "      <th>indiv_id</th>\n",
       "      <th>target</th>\n",
       "      <th>probability</th>\n",
       "    </tr>\n",
       "  </thead>\n",
       "  <tbody>\n",
       "    <tr>\n",
       "      <th>36551</th>\n",
       "      <td>1.0</td>\n",
       "      <td>1.0</td>\n",
       "      <td>88</td>\n",
       "      <td>97</td>\n",
       "      <td>0</td>\n",
       "      <td>0.004447</td>\n",
       "    </tr>\n",
       "    <tr>\n",
       "      <th>36619</th>\n",
       "      <td>1.0</td>\n",
       "      <td>1.0</td>\n",
       "      <td>88</td>\n",
       "      <td>218</td>\n",
       "      <td>0</td>\n",
       "      <td>0.004343</td>\n",
       "    </tr>\n",
       "    <tr>\n",
       "      <th>36893</th>\n",
       "      <td>1.0</td>\n",
       "      <td>1.0</td>\n",
       "      <td>88</td>\n",
       "      <td>713</td>\n",
       "      <td>0</td>\n",
       "      <td>0.003400</td>\n",
       "    </tr>\n",
       "    <tr>\n",
       "      <th>36927</th>\n",
       "      <td>1.0</td>\n",
       "      <td>1.0</td>\n",
       "      <td>88</td>\n",
       "      <td>775</td>\n",
       "      <td>0</td>\n",
       "      <td>0.004049</td>\n",
       "    </tr>\n",
       "    <tr>\n",
       "      <th>36988</th>\n",
       "      <td>1.0</td>\n",
       "      <td>1.0</td>\n",
       "      <td>88</td>\n",
       "      <td>873</td>\n",
       "      <td>0</td>\n",
       "      <td>0.003548</td>\n",
       "    </tr>\n",
       "  </tbody>\n",
       "</table>\n",
       "</div>"
      ],
      "text/plain": [
       "       s_247_71  s_248_70  OfferID  indiv_id  target  probability\n",
       "36551       1.0       1.0       88        97       0     0.004447\n",
       "36619       1.0       1.0       88       218       0     0.004343\n",
       "36893       1.0       1.0       88       713       0     0.003400\n",
       "36927       1.0       1.0       88       775       0     0.004049\n",
       "36988       1.0       1.0       88       873       0     0.003548"
      ]
     },
     "execution_count": 32,
     "metadata": {},
     "output_type": "execute_result"
    }
   ],
   "source": [
    "df.head()"
   ]
  },
  {
   "cell_type": "code",
   "execution_count": 33,
   "id": "0fb13136",
   "metadata": {},
   "outputs": [
    {
     "data": {
      "text/plain": [
       "OfferID\n",
       "88     455\n",
       "640    338\n",
       "642    338\n",
       "645    338\n",
       "646    338\n",
       "Name: count, dtype: int64"
      ]
     },
     "execution_count": 33,
     "metadata": {},
     "output_type": "execute_result"
    }
   ],
   "source": [
    "df['OfferID'].value_counts()"
   ]
  },
  {
   "cell_type": "code",
   "execution_count": 34,
   "id": "7cb7e722",
   "metadata": {},
   "outputs": [
    {
     "data": {
      "text/plain": [
       "OfferID\n",
       "88     0.004344\n",
       "640    0.709943\n",
       "642    0.708206\n",
       "645    0.708129\n",
       "646    0.711075\n",
       "Name: probability, dtype: float64"
      ]
     },
     "execution_count": 34,
     "metadata": {},
     "output_type": "execute_result"
    }
   ],
   "source": [
    "df.groupby(['OfferID'])['probability'].mean()"
   ]
  },
  {
   "cell_type": "code",
   "execution_count": 35,
   "id": "0895467e",
   "metadata": {},
   "outputs": [],
   "source": [
    "# ranking - 646(0.711075), 640(0.709943),642(0.708206), 645(0.708129), 88(0.004344)"
   ]
  },
  {
   "cell_type": "code",
   "execution_count": 36,
   "id": "6a57c354",
   "metadata": {},
   "outputs": [],
   "source": [
    "# ranking - 640 (0.27) , 642(0.25) , 645(0.23) , 646 (0.22) , 88 (0)"
   ]
  },
  {
   "cell_type": "code",
   "execution_count": 37,
   "id": "af52cdd8",
   "metadata": {},
   "outputs": [],
   "source": [
    "accp_prob_rank = [640 , 642, 645, 646, 88]"
   ]
  },
  {
   "cell_type": "markdown",
   "id": "2660a7c9",
   "metadata": {},
   "source": [
    "## Analysis Two"
   ]
  },
  {
   "cell_type": "code",
   "execution_count": 38,
   "id": "705678e1",
   "metadata": {},
   "outputs": [
    {
     "data": {
      "text/html": [
       "<div>\n",
       "<style scoped>\n",
       "    .dataframe tbody tr th:only-of-type {\n",
       "        vertical-align: middle;\n",
       "    }\n",
       "\n",
       "    .dataframe tbody tr th {\n",
       "        vertical-align: top;\n",
       "    }\n",
       "\n",
       "    .dataframe thead th {\n",
       "        text-align: right;\n",
       "    }\n",
       "</style>\n",
       "<table border=\"1\" class=\"dataframe\">\n",
       "  <thead>\n",
       "    <tr style=\"text-align: right;\">\n",
       "      <th></th>\n",
       "      <th>s_247_71</th>\n",
       "      <th>s_248_70</th>\n",
       "      <th>OfferID</th>\n",
       "      <th>indiv_id</th>\n",
       "      <th>target</th>\n",
       "      <th>probability</th>\n",
       "    </tr>\n",
       "  </thead>\n",
       "  <tbody>\n",
       "    <tr>\n",
       "      <th>36551</th>\n",
       "      <td>1.0</td>\n",
       "      <td>1.0</td>\n",
       "      <td>88</td>\n",
       "      <td>97</td>\n",
       "      <td>0</td>\n",
       "      <td>0.004447</td>\n",
       "    </tr>\n",
       "    <tr>\n",
       "      <th>36619</th>\n",
       "      <td>1.0</td>\n",
       "      <td>1.0</td>\n",
       "      <td>88</td>\n",
       "      <td>218</td>\n",
       "      <td>0</td>\n",
       "      <td>0.004343</td>\n",
       "    </tr>\n",
       "    <tr>\n",
       "      <th>36893</th>\n",
       "      <td>1.0</td>\n",
       "      <td>1.0</td>\n",
       "      <td>88</td>\n",
       "      <td>713</td>\n",
       "      <td>0</td>\n",
       "      <td>0.003400</td>\n",
       "    </tr>\n",
       "    <tr>\n",
       "      <th>36927</th>\n",
       "      <td>1.0</td>\n",
       "      <td>1.0</td>\n",
       "      <td>88</td>\n",
       "      <td>775</td>\n",
       "      <td>0</td>\n",
       "      <td>0.004049</td>\n",
       "    </tr>\n",
       "    <tr>\n",
       "      <th>36988</th>\n",
       "      <td>1.0</td>\n",
       "      <td>1.0</td>\n",
       "      <td>88</td>\n",
       "      <td>873</td>\n",
       "      <td>0</td>\n",
       "      <td>0.003548</td>\n",
       "    </tr>\n",
       "  </tbody>\n",
       "</table>\n",
       "</div>"
      ],
      "text/plain": [
       "       s_247_71  s_248_70  OfferID  indiv_id  target  probability\n",
       "36551       1.0       1.0       88        97       0     0.004447\n",
       "36619       1.0       1.0       88       218       0     0.004343\n",
       "36893       1.0       1.0       88       713       0     0.003400\n",
       "36927       1.0       1.0       88       775       0     0.004049\n",
       "36988       1.0       1.0       88       873       0     0.003548"
      ]
     },
     "execution_count": 38,
     "metadata": {},
     "output_type": "execute_result"
    }
   ],
   "source": [
    "df.head()"
   ]
  },
  {
   "cell_type": "code",
   "execution_count": 39,
   "id": "0caebb43",
   "metadata": {},
   "outputs": [
    {
     "data": {
      "text/plain": [
       "s_247_71         1\n",
       "s_248_70         1\n",
       "OfferID          5\n",
       "indiv_id       542\n",
       "target           2\n",
       "probability    108\n",
       "dtype: int64"
      ]
     },
     "execution_count": 39,
     "metadata": {},
     "output_type": "execute_result"
    }
   ],
   "source": [
    "df.nunique()"
   ]
  },
  {
   "cell_type": "code",
   "execution_count": 40,
   "id": "d1620d6b",
   "metadata": {},
   "outputs": [
    {
     "data": {
      "text/plain": [
       "indiv_id\n",
       "415132288     5\n",
       "415349726     5\n",
       "415777647     5\n",
       "1501626801    5\n",
       "1505388520    5\n",
       "             ..\n",
       "58720         1\n",
       "58815         1\n",
       "58871         1\n",
       "59535         1\n",
       "55005         1\n",
       "Name: count, Length: 542, dtype: int64"
      ]
     },
     "execution_count": 40,
     "metadata": {},
     "output_type": "execute_result"
    }
   ],
   "source": [
    "df['indiv_id'].value_counts()"
   ]
  },
  {
   "cell_type": "code",
   "execution_count": 58,
   "id": "3c0844ef-e7e3-4355-babf-a8da8253674b",
   "metadata": {},
   "outputs": [
    {
     "data": {
      "text/plain": [
       "Index([ 415132288,  415349726,  415777647, 1501626801, 1505388520,       9634,\n",
       "             8359,       8714,       9255,       9412,\n",
       "       ...\n",
       "             2669,       3479,       3543,       3749,       3837,        985,\n",
       "               97,        218,        912,        926],\n",
       "      dtype='int64', name='indiv_id', length=251)"
      ]
     },
     "execution_count": 58,
     "metadata": {},
     "output_type": "execute_result"
    }
   ],
   "source": [
    "# Get the value counts of indiv_id\n",
    "value_counts = df['indiv_id'].value_counts()\n",
    "\n",
    "# Filter the value counts to include only those with a count of 5\n",
    "indiv_ids_with_count_5 = value_counts[value_counts == 5].index\n",
    "\n",
    "# Display the individual IDs with a value count of 5\n",
    "indiv_ids_with_count_5\n",
    "\n"
   ]
  },
  {
   "cell_type": "code",
   "execution_count": 51,
   "id": "f688bec2",
   "metadata": {},
   "outputs": [],
   "source": [
    "top_indiv_id = list(df['indiv_id'].value_counts().head(10).index)"
   ]
  },
  {
   "cell_type": "code",
   "execution_count": 52,
   "id": "37f84832",
   "metadata": {},
   "outputs": [
    {
     "data": {
      "text/plain": [
       "[415132288,\n",
       " 415349726,\n",
       " 415777647,\n",
       " 1501626801,\n",
       " 1505388520,\n",
       " 9634,\n",
       " 8359,\n",
       " 8714,\n",
       " 9255,\n",
       " 9412]"
      ]
     },
     "execution_count": 52,
     "metadata": {},
     "output_type": "execute_result"
    }
   ],
   "source": [
    "top_indiv_id"
   ]
  },
  {
   "cell_type": "code",
   "execution_count": 43,
   "id": "2e982da7",
   "metadata": {},
   "outputs": [],
   "source": [
    "temp = df[df['indiv_id'] == 97]"
   ]
  },
  {
   "cell_type": "code",
   "execution_count": 44,
   "id": "89046dc8",
   "metadata": {},
   "outputs": [
    {
     "data": {
      "text/html": [
       "<div>\n",
       "<style scoped>\n",
       "    .dataframe tbody tr th:only-of-type {\n",
       "        vertical-align: middle;\n",
       "    }\n",
       "\n",
       "    .dataframe tbody tr th {\n",
       "        vertical-align: top;\n",
       "    }\n",
       "\n",
       "    .dataframe thead th {\n",
       "        text-align: right;\n",
       "    }\n",
       "</style>\n",
       "<table border=\"1\" class=\"dataframe\">\n",
       "  <thead>\n",
       "    <tr style=\"text-align: right;\">\n",
       "      <th></th>\n",
       "      <th>s_247_71</th>\n",
       "      <th>s_248_70</th>\n",
       "      <th>OfferID</th>\n",
       "      <th>indiv_id</th>\n",
       "      <th>target</th>\n",
       "      <th>probability</th>\n",
       "    </tr>\n",
       "  </thead>\n",
       "  <tbody>\n",
       "    <tr>\n",
       "      <th>36551</th>\n",
       "      <td>1.0</td>\n",
       "      <td>1.0</td>\n",
       "      <td>88</td>\n",
       "      <td>97</td>\n",
       "      <td>0</td>\n",
       "      <td>0.004447</td>\n",
       "    </tr>\n",
       "    <tr>\n",
       "      <th>158414</th>\n",
       "      <td>1.0</td>\n",
       "      <td>1.0</td>\n",
       "      <td>640</td>\n",
       "      <td>97</td>\n",
       "      <td>0</td>\n",
       "      <td>0.711890</td>\n",
       "    </tr>\n",
       "    <tr>\n",
       "      <th>199064</th>\n",
       "      <td>1.0</td>\n",
       "      <td>1.0</td>\n",
       "      <td>642</td>\n",
       "      <td>97</td>\n",
       "      <td>1</td>\n",
       "      <td>0.709691</td>\n",
       "    </tr>\n",
       "    <tr>\n",
       "      <th>239714</th>\n",
       "      <td>1.0</td>\n",
       "      <td>1.0</td>\n",
       "      <td>645</td>\n",
       "      <td>97</td>\n",
       "      <td>0</td>\n",
       "      <td>0.709559</td>\n",
       "    </tr>\n",
       "    <tr>\n",
       "      <th>280364</th>\n",
       "      <td>1.0</td>\n",
       "      <td>1.0</td>\n",
       "      <td>646</td>\n",
       "      <td>97</td>\n",
       "      <td>1</td>\n",
       "      <td>0.712204</td>\n",
       "    </tr>\n",
       "  </tbody>\n",
       "</table>\n",
       "</div>"
      ],
      "text/plain": [
       "        s_247_71  s_248_70  OfferID  indiv_id  target  probability\n",
       "36551        1.0       1.0       88        97       0     0.004447\n",
       "158414       1.0       1.0      640        97       0     0.711890\n",
       "199064       1.0       1.0      642        97       1     0.709691\n",
       "239714       1.0       1.0      645        97       0     0.709559\n",
       "280364       1.0       1.0      646        97       1     0.712204"
      ]
     },
     "execution_count": 44,
     "metadata": {},
     "output_type": "execute_result"
    }
   ],
   "source": [
    "temp"
   ]
  },
  {
   "cell_type": "code",
   "execution_count": 45,
   "id": "6ebcc6bc",
   "metadata": {},
   "outputs": [],
   "source": [
    "# Sorting by column\n",
    "temp= temp.sort_values(by=['probability'], ascending=False)"
   ]
  },
  {
   "cell_type": "code",
   "execution_count": 46,
   "id": "da929206",
   "metadata": {},
   "outputs": [
    {
     "data": {
      "text/html": [
       "<div>\n",
       "<style scoped>\n",
       "    .dataframe tbody tr th:only-of-type {\n",
       "        vertical-align: middle;\n",
       "    }\n",
       "\n",
       "    .dataframe tbody tr th {\n",
       "        vertical-align: top;\n",
       "    }\n",
       "\n",
       "    .dataframe thead th {\n",
       "        text-align: right;\n",
       "    }\n",
       "</style>\n",
       "<table border=\"1\" class=\"dataframe\">\n",
       "  <thead>\n",
       "    <tr style=\"text-align: right;\">\n",
       "      <th></th>\n",
       "      <th>s_247_71</th>\n",
       "      <th>s_248_70</th>\n",
       "      <th>OfferID</th>\n",
       "      <th>indiv_id</th>\n",
       "      <th>target</th>\n",
       "      <th>probability</th>\n",
       "    </tr>\n",
       "  </thead>\n",
       "  <tbody>\n",
       "    <tr>\n",
       "      <th>280364</th>\n",
       "      <td>1.0</td>\n",
       "      <td>1.0</td>\n",
       "      <td>646</td>\n",
       "      <td>97</td>\n",
       "      <td>1</td>\n",
       "      <td>0.712204</td>\n",
       "    </tr>\n",
       "    <tr>\n",
       "      <th>158414</th>\n",
       "      <td>1.0</td>\n",
       "      <td>1.0</td>\n",
       "      <td>640</td>\n",
       "      <td>97</td>\n",
       "      <td>0</td>\n",
       "      <td>0.711890</td>\n",
       "    </tr>\n",
       "    <tr>\n",
       "      <th>199064</th>\n",
       "      <td>1.0</td>\n",
       "      <td>1.0</td>\n",
       "      <td>642</td>\n",
       "      <td>97</td>\n",
       "      <td>1</td>\n",
       "      <td>0.709691</td>\n",
       "    </tr>\n",
       "    <tr>\n",
       "      <th>239714</th>\n",
       "      <td>1.0</td>\n",
       "      <td>1.0</td>\n",
       "      <td>645</td>\n",
       "      <td>97</td>\n",
       "      <td>0</td>\n",
       "      <td>0.709559</td>\n",
       "    </tr>\n",
       "    <tr>\n",
       "      <th>36551</th>\n",
       "      <td>1.0</td>\n",
       "      <td>1.0</td>\n",
       "      <td>88</td>\n",
       "      <td>97</td>\n",
       "      <td>0</td>\n",
       "      <td>0.004447</td>\n",
       "    </tr>\n",
       "  </tbody>\n",
       "</table>\n",
       "</div>"
      ],
      "text/plain": [
       "        s_247_71  s_248_70  OfferID  indiv_id  target  probability\n",
       "280364       1.0       1.0      646        97       1     0.712204\n",
       "158414       1.0       1.0      640        97       0     0.711890\n",
       "199064       1.0       1.0      642        97       1     0.709691\n",
       "239714       1.0       1.0      645        97       0     0.709559\n",
       "36551        1.0       1.0       88        97       0     0.004447"
      ]
     },
     "execution_count": 46,
     "metadata": {},
     "output_type": "execute_result"
    }
   ],
   "source": [
    "temp"
   ]
  },
  {
   "cell_type": "code",
   "execution_count": 47,
   "id": "d1875b93",
   "metadata": {},
   "outputs": [
    {
     "data": {
      "text/plain": [
       "[646, 640, 642, 645, 88]"
      ]
     },
     "execution_count": 47,
     "metadata": {},
     "output_type": "execute_result"
    }
   ],
   "source": [
    "list(temp['OfferID'])"
   ]
  },
  {
   "cell_type": "code",
   "execution_count": 48,
   "id": "4adfe09f",
   "metadata": {},
   "outputs": [
    {
     "data": {
      "text/plain": [
       "[640, 642, 645, 646, 88]"
      ]
     },
     "execution_count": 48,
     "metadata": {},
     "output_type": "execute_result"
    }
   ],
   "source": [
    "accp_prob_rank"
   ]
  },
  {
   "cell_type": "code",
   "execution_count": 49,
   "id": "8eaa7f9d",
   "metadata": {},
   "outputs": [
    {
     "name": "stdout",
     "output_type": "stream",
     "text": [
      "Top Offers for indiv_id 415132288: [646, 640, 642, 645, 88]\n",
      "Top Offers for indiv_id 415349726: [646, 640, 642, 645, 88]\n",
      "Top Offers for indiv_id 415777647: [646, 640, 645, 642, 88]\n",
      "Top Offers for indiv_id 1501626801: [646, 640, 642, 645, 88]\n",
      "Top Offers for indiv_id 1505388520: [640, 645, 646, 642, 88]\n",
      "Top Offers for indiv_id 9634: [646, 640, 645, 642, 88]\n",
      "Top Offers for indiv_id 8359: [646, 640, 642, 645, 88]\n",
      "Top Offers for indiv_id 8714: [646, 640, 642, 645, 88]\n",
      "Top Offers for indiv_id 9255: [646, 640, 645, 642, 88]\n",
      "Top Offers for indiv_id 9412: [646, 640, 642, 645, 88]\n"
     ]
    }
   ],
   "source": [
    "for indiv_id in top_indiv_id:\n",
    "    temp = df[df['indiv_id'] == indiv_id]\n",
    "    temp = temp.sort_values(by=['probability'], ascending=False)\n",
    "    offer_ids = list(temp['OfferID'])\n",
    "    print(f\"Top Offers for indiv_id {indiv_id}: {offer_ids}\")"
   ]
  },
  {
   "cell_type": "code",
   "execution_count": 50,
   "id": "e0316254",
   "metadata": {},
   "outputs": [
    {
     "data": {
      "text/plain": [
       "[640, 642, 645, 646, 88]"
      ]
     },
     "execution_count": 50,
     "metadata": {},
     "output_type": "execute_result"
    }
   ],
   "source": [
    "accp_prob_rank"
   ]
  },
  {
   "cell_type": "code",
   "execution_count": null,
   "id": "72aa8e14",
   "metadata": {},
   "outputs": [],
   "source": []
  }
 ],
 "metadata": {
  "kernelspec": {
   "display_name": "Python 3 (ipykernel)",
   "language": "python",
   "name": "python3"
  },
  "language_info": {
   "codemirror_mode": {
    "name": "ipython",
    "version": 3
   },
   "file_extension": ".py",
   "mimetype": "text/x-python",
   "name": "python",
   "nbconvert_exporter": "python",
   "pygments_lexer": "ipython3",
   "version": "3.10.12"
  }
 },
 "nbformat": 4,
 "nbformat_minor": 5
}
