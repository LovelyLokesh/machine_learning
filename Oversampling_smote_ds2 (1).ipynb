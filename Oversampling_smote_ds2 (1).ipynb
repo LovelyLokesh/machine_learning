{
 "cells": [
  {
   "cell_type": "code",
   "execution_count": 1,
   "id": "4f374a17-5c2b-4e72-8efa-585f3a04200e",
   "metadata": {},
   "outputs": [],
   "source": [
    "import numpy as np\n",
    "import pandas as pd\n",
    "import catboost\n",
    "import imblearn\n",
    "import seaborn as sns\n",
    "from catboost import CatBoostClassifier, Pool\n",
    "from sklearn.model_selection import train_test_split\n",
    "from sklearn.metrics import f1_score,confusion_matrix,accuracy_score\n",
    "from sklearn.feature_extraction.text import TfidfVectorizer\n",
    "from imblearn.combine import SMOTEENN\n",
    "import matplotlib.pyplot as plt\n",
    "import optuna\n",
    "from imblearn.over_sampling import SMOTE\n",
    "from optuna.samplers import TPESampler\n",
    "from sklearn.metrics import matthews_corrcoef\n",
    "from sklearn.preprocessing import LabelEncoder"
   ]
  },
  {
   "cell_type": "code",
   "execution_count": 2,
   "id": "e49f41ad-946e-470f-bb49-ad210a06df95",
   "metadata": {},
   "outputs": [
    {
     "data": {
      "text/plain": [
       "(337393, 189)"
      ]
     },
     "execution_count": 2,
     "metadata": {},
     "output_type": "execute_result"
    }
   ],
   "source": [
    "df= pd.read_csv('resp_data2.csv')\n",
    "df.shape"
   ]
  },
  {
   "cell_type": "code",
   "execution_count": 3,
   "id": "c55d86a9-1096-405f-8ac1-8b8a6365c256",
   "metadata": {},
   "outputs": [],
   "source": [
    "df=df.dropna()"
   ]
  },
  {
   "cell_type": "code",
   "execution_count": 4,
   "id": "1ca21a56-4a1c-4c57-92c5-0830411453b5",
   "metadata": {},
   "outputs": [],
   "source": [
    "df['target'] = np.where(df['Response'] == 0,0,1)"
   ]
  },
  {
   "cell_type": "code",
   "execution_count": 5,
   "id": "8f0503d0-41c6-4bca-83b7-3ba7981c0b3f",
   "metadata": {},
   "outputs": [],
   "source": [
    "# Get the number of unique values in each column\n",
    "unique_counts = df.nunique()"
   ]
  },
  {
   "cell_type": "code",
   "execution_count": 6,
   "id": "a73cf7eb-50bf-4792-95a5-e1dfb87c6188",
   "metadata": {},
   "outputs": [
    {
     "data": {
      "text/plain": [
       "(337392, 183)"
      ]
     },
     "execution_count": 6,
     "metadata": {},
     "output_type": "execute_result"
    }
   ],
   "source": [
    "# Get the list of columns with only one unique value\n",
    "single_unique_cols = unique_counts[unique_counts == 1].index.tolist()\n",
    "\n",
    "# Drop columns with only one unique value\n",
    "df = df.drop(columns=single_unique_cols)\n",
    "df.shape"
   ]
  },
  {
   "cell_type": "code",
   "execution_count": 7,
   "id": "75c6f89d-988c-4e1b-8d0a-70ffa5576105",
   "metadata": {},
   "outputs": [
    {
     "data": {
      "text/plain": [
       "target\n",
       "0    310576\n",
       "1     26816\n",
       "Name: count, dtype: int64"
      ]
     },
     "execution_count": 7,
     "metadata": {},
     "output_type": "execute_result"
    }
   ],
   "source": [
    "df['target'].value_counts()"
   ]
  },
  {
   "cell_type": "code",
   "execution_count": 8,
   "id": "bb5d9882-507d-436f-a118-e346527b0045",
   "metadata": {},
   "outputs": [
    {
     "data": {
      "text/plain": [
       "target\n",
       "0    0.92052\n",
       "1    0.07948\n",
       "Name: proportion, dtype: float64"
      ]
     },
     "execution_count": 8,
     "metadata": {},
     "output_type": "execute_result"
    }
   ],
   "source": [
    "df['target'].value_counts(normalize=True)"
   ]
  },
  {
   "cell_type": "code",
   "execution_count": 9,
   "id": "fb483736-e272-4dd6-aac0-ab1fca80f2fa",
   "metadata": {},
   "outputs": [],
   "source": [
    "# List the columns to remove\n",
    "columns_to_remove = ['indiv_id', 'Response','OfferID']\n",
    "\n",
    "# Drop the specified columns from the DataFrame\n",
    "df.drop(columns=columns_to_remove, inplace=True)"
   ]
  },
  {
   "cell_type": "code",
   "execution_count": 10,
   "id": "733e6ebb-86ee-4d7c-9fc8-6685637909d9",
   "metadata": {},
   "outputs": [
    {
     "data": {
      "text/plain": [
       "(337392, 180)"
      ]
     },
     "execution_count": 10,
     "metadata": {},
     "output_type": "execute_result"
    }
   ],
   "source": [
    "df.shape"
   ]
  },
  {
   "cell_type": "markdown",
   "id": "d3131f06-4422-4d6d-8ea8-9648e5cdf4dd",
   "metadata": {},
   "source": [
    "### Oversampling"
   ]
  },
  {
   "cell_type": "code",
   "execution_count": 11,
   "id": "62ca62ee-c687-4fe7-a0a1-339b858f7f83",
   "metadata": {},
   "outputs": [],
   "source": [
    "# Splitting the dataset into X and y\n",
    "X = df.drop('target', axis=1)  # Features: all columns except 'target'\n",
    "y = df['target']"
   ]
  },
  {
   "cell_type": "code",
   "execution_count": 12,
   "id": "7a90a404-826e-4573-8fef-b071e43c42bc",
   "metadata": {},
   "outputs": [
    {
     "data": {
      "text/plain": [
       "((236174, 179), (50609, 179), (50609, 179))"
      ]
     },
     "execution_count": 12,
     "metadata": {},
     "output_type": "execute_result"
    }
   ],
   "source": [
    "# Split the dataset into 70% training and 30% temporary test set\n",
    "X_train, X_temp, y_train, y_temp = train_test_split(X, y, test_size=0.3, random_state=42)\n",
    "\n",
    "# Split the temporary test set into 50% test and 50% validation, which makes it 15% of the original dataset each\n",
    "X_test, X_val, y_test, y_val = train_test_split(X_temp, y_temp, test_size=0.5, random_state=42)\n",
    "X_train.shape,X_test.shape,X_val.shape"
   ]
  },
  {
   "cell_type": "code",
   "execution_count": 13,
   "id": "76216848-7d7d-443e-a3ed-ff6eacc7336f",
   "metadata": {},
   "outputs": [],
   "source": [
    "# Apply SMOTE-ENN\n",
    "smote = SMOTE(sampling_strategy='auto',random_state=42)\n",
    "X_train,y_train = smote.fit_resample(X_train, y_train)"
   ]
  },
  {
   "cell_type": "code",
   "execution_count": 14,
   "id": "63b1f957-6f8b-467f-9f02-ea0f8ab3e2a8",
   "metadata": {},
   "outputs": [
    {
     "data": {
      "text/plain": [
       "target\n",
       "0    217336\n",
       "1    217336\n",
       "Name: count, dtype: int64"
      ]
     },
     "execution_count": 14,
     "metadata": {},
     "output_type": "execute_result"
    }
   ],
   "source": [
    "y_train.value_counts()"
   ]
  },
  {
   "cell_type": "code",
   "execution_count": 15,
   "id": "de5abb25-57ba-419f-b0d5-f6b00a000e5a",
   "metadata": {},
   "outputs": [
    {
     "data": {
      "text/plain": [
       "target\n",
       "0    0.5\n",
       "1    0.5\n",
       "Name: proportion, dtype: float64"
      ]
     },
     "execution_count": 15,
     "metadata": {},
     "output_type": "execute_result"
    }
   ],
   "source": [
    "y_train.value_counts(normalize=True)"
   ]
  },
  {
   "cell_type": "code",
   "execution_count": 16,
   "id": "2c942bce-7493-4b75-901b-9f72ea4414a1",
   "metadata": {},
   "outputs": [],
   "source": [
    "categorical_features = ['os_103_ ',\n",
    " 'os_103_20 Pct Off Living Room',\n",
    " 'os_103_BBQ Party Time',\n",
    " 'os_103_Black Friday Sale',\n",
    " 'os_103_Bring More Light to Your Living Room and Save!',\n",
    " 'os_103_Decorate Your Living Room!',\n",
    " 'os_103_Eat well be well',\n",
    " 'os_103_Featured Dressers',\n",
    " 'os_103_Featured Furniture',\n",
    " 'os_103_Fresh Catfish Fillets',\n",
    " 'os_103_Fresh Cod Fillets',\n",
    " 'os_103_Fresh Juice',\n",
    " 'os_103_Fresh Walleye Fillets',\n",
    " 'os_103_Garden Gloves',\n",
    " \"os_103_Get Better Night's Rest!\",\n",
    " 'os_103_Get the Emerald Credit Card!',\n",
    " 'os_103_Get the app!',\n",
    " 'os_103_Get your beef on today',\n",
    " 'os_103_Ironport - Fresh',\n",
    " 'os_103_Modernize Your Living Room and Save!',\n",
    " 'os_103_New Arrivals Beds',\n",
    " 'os_103_New Arrivals Decor',\n",
    " 'os_103_Organize Your Stuff and Save!',\n",
    " 'os_103_Salmon',\n",
    " 'os_103_Tailor made cap',\n",
    " 'os_103_The right vitamins for you',\n",
    " 'os_103_Turkey Time',\n",
    " 'os_103_Vegan - burger',\n",
    " 'os_104_ ',\n",
    " 'os_104_10% off all modern style beds! Hurry, this deal will not last!',\n",
    " 'os_104_10% off all modern style dressers! Hurry, this deal will not last!',\n",
    " 'os_104_10% off all modern style lighting fixtures! Hurry, this deal will not last!',\n",
    " 'os_104_10% off all modern style sofas! Hurry, this deal will not last!',\n",
    " 'os_104_Apply for Emerald no annual fee Credit Card and start earning point and discounts toward your next purchase right away! right ',\n",
    " 'os_104_BBQ meat and special sauces ready for kick-start your next party. Pork ribs $9.95 / LB Beef ribs $4.99 / LB Ground chuck $5.20 / LB Chicken legs $5.20 Order online or with the GeoFlex application and we delivery to your home. Purchase $50 or more and choose from our selection of specialty rubs and sauces at ½ price.',\n",
    " 'os_104_Beautiful chairs, couches & tables that fit any decor',\n",
    " 'os_104_Beyond Meat Plant Based Patties 8 OZ box $6.89 Available online or us the GeoFlex mobile app.  Find in store in the frozen food section',\n",
    " 'os_104_Bring warmth and comfort to your living room with wide selection of decor items on sale!',\n",
    " 'os_104_Customize this year’s stocking cap. Enter your design online and in the GeoFlex mobile app.  See our new section in store Kisok where you can customize the cap and have it shipped to you anywhere.',\n",
    " 'os_104_Frozen Farm Fresh Walleye, 2 lb bag Now: $43.00 $21.50  LB Order online of with the GeoFlex mobile app and receive an additional $2 off Present this code – I LOVE Walleye  and get $1 off at the counter',\n",
    " 'os_104_Frozen Raw Atlantic Cod Fillets, 2 lb bag Now: $9.96 $4.98/ LB Order online of with the GeoFlex mobile app and receive an additional $2 off  Present this code – I LOVE COD  and get $1 off at the counter',\n",
    " 'os_104_Frozen Raw US Corn-Feed  Catfish Fillets, 4 lb bag Now: $29.94  $7.47/ LB Order online or with the GeoFlex mobile app and receive an additional $2 off  Present this code – I LOVE CATFISH and get $1 off at the counter',\n",
    " 'os_104_Frozen Wild Alaskan King Salmon 6 – 4 Oz portions $93.95 Order online of with the GeoFlex mobile app and pick-up in-store to receive an additional $2 off  Present this code – I LOVE SAMON  and get $1 off at the counter',\n",
    " 'os_104_Functional and space-saving beds to extend any sleeping space',\n",
    " 'os_104_Grass fed beef and special cuts by our butchers to fit your  needs.  Ribeye: $18.90 LB Tenderloin $24.92 LB New York Strip $29.00 LB Pre-order online or with the GeoFlex application and we delivery to your home.  Ask our butcher to slice and trim to your specification. ',\n",
    " 'os_104_Great savings this holiday season starting Nov 26',\n",
    " 'os_104_Highly-functional dressers that maximize both storage space and function',\n",
    " 'os_104_Living room for a limited time. Online only.',\n",
    " 'os_104_Select the right type of vitamins for you. Capsules, chewable, and drinks. Order online or with the GeoFlex application for guidelines and recommendations based on age and personal needs.  Come in the store and use or new in-store health and well being Kisok.',\n",
    " 'os_104_Select the right wellness recipe for your lifestyle. We box recipes based on your needs. Prices range from $5 – 25. Order online or with the GeoFlex application and we delivery to your home.  Come in the store and order from our Kisok and we will box up for you as you shop.',\n",
    " 'os_104_Shop at the Emerald store on your smartphone!',\n",
    " 'os_104_Stop by our Deli fountain and enjoy a fresh made Ironport. $3.50   Try our Ironport syrup and delight your guest. $19.00 / 1 GAL Come in the store stop by our Deli fountain.  Order the Ironport syrup online or with the GeoFlex application. We ship free for orders over $75',\n",
    " 'os_104_Stop by our Deli fountain and enjoy a fresh pressed juices. Carrot, Peach, Apple $ 3.50  per glass  Come in the store stop by our Deli fountain.',\n",
    " 'os_104_Touch screen sensitive Bamboo gloves are lightweight and durable. $9.99 Available online and in the GeoFlex mobile app. See our new section of gardening supplies and shop in-store. Order 1 and get the $1.50 off the second pare. ',\n",
    " 'os_104_Versatile pieces to accent all your surfaces & walls',\n",
    " 'os_104_We have the best smoked turkey ready for you. Sizes from 12 to 32 lbs.  / $4 LB Pre-order online or with the GeoFlex application and we delivery to your home.  Order in-store for future delivery date. In time for the holidays.',\n",
    " 'os_105_ ',\n",
    " 'os_105_Apply Now!',\n",
    " 'os_105_Download Now!',\n",
    " 'os_105_Go to GeoFlex mobile app',\n",
    " 'os_105_Learn More',\n",
    " 'os_105_Learn More!',\n",
    " 'os_105_Shop Now!',\n",
    " 'os_106_https://dx.sbx0094.play.hclsofy.com/dx/api/dam/v1/collections/16366735-10b9-4a07-884c-ced46b548f36/items/07a2c216-2c59-4b9a-bcf6-388ea14069cc/renditions/e67613fa-06ad-4b9f-b0f5-00d168d1353b?binary=true&lastModified=1709761892860',\n",
    " 'os_106_https://dx.sbx0094.play.hclsofy.com/dx/api/dam/v1/collections/16366735-10b9-4a07-884c-ced46b548f36/items/29e6c22c-52d4-45b4-8453-561e936d7da5/renditions/1ecad6cb-4983-4595-ab82-afe345607c9d?thumbnail=true&lastModified=1709761892058',\n",
    " 'os_106_https://dx.sbx0094.play.hclsofy.com/dx/api/dam/v1/collections/16366735-10b9-4a07-884c-ced46b548f36/items/379fe39f-df00-45fe-9539-b835cceab621/renditions/93adb17b-d204-4eb0-aa26-f587d1f9b9d7?thumbnail=true&lastModified=1709761889184',\n",
    " 'os_106_https://dx.sbx0094.play.hclsofy.com/dx/api/dam/v1/collections/16366735-10b9-4a07-884c-ced46b548f36/items/37e899ad-90d5-48f0-bd1f-bd47cbb11a44/renditions/f69d36c8-8e3b-403b-8d48-ed08bfeb0f29?thumbnail=true&lastModified=1709761889206',\n",
    " 'os_106_https://dx.sbx0094.play.hclsofy.com/dx/api/dam/v1/collections/16366735-10b9-4a07-884c-ced46b548f36/items/415f8800-8436-48ca-9e25-d1636a33a37b/renditions/85b37065-1619-4328-b00a-ca346cc2b2d2?binary=true&lastModified=1709761888559',\n",
    " 'os_106_https://dx.sbx0094.play.hclsofy.com/dx/api/dam/v1/collections/16366735-10b9-4a07-884c-ced46b548f36/items/6464f7a6-fbb3-41a5-8ae9-6691e9f1353a/renditions/2ca84e19-5abf-4330-bbd5-d108cd8f62ac?thumbnail=true&lastModified=1709761889073',\n",
    " 'os_106_https://dx.sbx0094.play.hclsofy.com/dx/api/dam/v1/collections/16366735-10b9-4a07-884c-ced46b548f36/items/66e04abf-851e-43d5-b988-db6efc4a8c52/renditions/0990405d-00d9-404e-bad8-a90c43e54bff?thumbnail=true&lastModified=1709761894557',\n",
    " 'os_106_https://dx.sbx0094.play.hclsofy.com/dx/api/dam/v1/collections/16366735-10b9-4a07-884c-ced46b548f36/items/7872172a-8f8f-42bb-95cf-728fc58a4d20/renditions/09988c62-1438-4dfc-9470-be5546ef0ec4?binary=true&lastModified=1709761889138',\n",
    " 'os_106_https://dx.sbx0094.play.hclsofy.com/dx/api/dam/v1/collections/16366735-10b9-4a07-884c-ced46b548f36/items/832e0bf6-702a-4583-9772-ab140c54ff86/renditions/1f22ec10-764a-4a6b-a679-9e87a5937b14?thumbnail=true&lastModified=1709761892262',\n",
    " 'os_106_https://dx.sbx0094.play.hclsofy.com/dx/api/dam/v1/collections/16366735-10b9-4a07-884c-ced46b548f36/items/8c11daf5-14d6-4ed7-9463-3325322f1022/renditions/ec3f478e-4416-4d35-8335-47d3b55a3709?thumbnail=true&lastModified=1709761888690',\n",
    " 'os_106_https://dx.sbx0094.play.hclsofy.com/dx/api/dam/v1/collections/16366735-10b9-4a07-884c-ced46b548f36/items/b47151a8-56c2-480d-92be-95d2572c3e80/renditions/96045300-9688-4711-bf88-6df4758278b2?thumbnail=true&lastModified=1709761894570',\n",
    " 'os_106_https://dx.sbx0094.play.hclsofy.com/dx/api/dam/v1/collections/16366735-10b9-4a07-884c-ced46b548f36/items/b9fc8389-9bba-40a7-b5a1-e62db81fcb41/renditions/1146eca0-314e-40c8-92ef-42c95ca903d1?binary=true&lastModified=1709761892459',\n",
    " 'os_106_https://dx.sbx0094.play.hclsofy.com/dx/api/dam/v1/collections/16366735-10b9-4a07-884c-ced46b548f36/items/f7ebd9b4-04ee-4588-8253-9733364807dd/renditions/6e0bbf7c-6e32-4bd6-970c-fb117ae0d831?thumbnail=true&lastModified=1709761894668',\n",
    " 'os_106_https://dx.sbx0094.play.hclsofy.com/dx/api/dam/v1/collections/16366735-10b9-4a07-884c-ced46b548f36/items/fd1337d9-053a-4b26-996e-e69fd45fd420/renditions/997f99b6-e684-4594-9eba-01e513fcefef?thumbnail=true&lastModified=1709761889098',\n",
    " 'os_106_https://unicacx-demo-1.hcltechsw.com/images/Emerald_Bedroom.png',\n",
    " 'os_106_https://unicacx-demo-1.hcltechsw.com/images/Emerald_Black_Friday.png',\n",
    " 'os_106_https://unicacx-demo-1.hcltechsw.com/images/Emerald_Credit_Card.png',\n",
    " 'os_106_https://unicacx-demo-1.hcltechsw.com/images/Emerald_Decorating.png',\n",
    " 'os_106_https://unicacx-demo-1.hcltechsw.com/images/Emerald_Dressers.png',\n",
    " 'os_106_https://unicacx-demo-1.hcltechsw.com/images/Emerald_Gift.png',\n",
    " 'os_106_https://unicacx-demo-1.hcltechsw.com/images/Emerald_LR_Decor.png',\n",
    " 'os_106_https://unicacx-demo-1.hcltechsw.com/images/Emerald_LR_Furniture.png',\n",
    " 'os_106_https://unicacx-demo-1.hcltechsw.com/images/Emerald_Living_Room.png',\n",
    " 'os_106_https://unicacx-demo-1.hcltechsw.com/images/Emerald_Mobile_App.png',\n",
    " 'os_106_https://unicacx-demo-1.hcltechsw.com/images/emerald/bedroom/beds/bed2_a1_350.jpg',\n",
    " 'os_106_https://unicacx-demo-1.hcltechsw.com/images/emerald/bedroom/dressers/beddress3_a1_350.jpg',\n",
    " 'os_106_https://unicacx-demo-1.hcltechsw.com/images/emerald/livingroom/decoration/rug3_a1_350.jpg',\n",
    " 'os_106_https://unicacx-demo-1.hcltechsw.com/images/emerald/livingroom/furniture/couch1_a1_350.jpg',\n",
    " 'os_106_https://unicacx-demo-1.hcltechsw.com/images/emerald/livingroom/lighting/light6_a1_350.jpg',\n",
    " 'os_106_https://unicacx-demo-1.hcltechsw.com/images/furniture_sale_40.png',\n",
    " 'os_108_ EAST',\n",
    " 'os_108_ NCEN',\n",
    " 'os_108_ TOLA',\n",
    " 'os_108_ WEST',\n",
    " 'os_108_ tags',\n",
    " 'os_108_EAST',\n",
    " 'os_108_NCEN',\n",
    " 'os_108_Subject: Retail, Keyword: Bedrooms, Keyword: New Arrival, Sentiment: neutral',\n",
    " 'os_108_Subject: Retail, Keyword: New Arrival, Sentiment: positive',\n",
    " 'os_108_Subject: Undetermined, Keyword: Bedrooms, Keyword: Style, Sentiment: positive',\n",
    " 'os_108_Subject: Undetermined, Keyword: Choice, Keyword: Comfort, Sentiment: positive',\n",
    " 'os_108_Subject: Undetermined, Keyword: Holiday, Keyword: Savings, Keyword: Season, Bucket: Days of the Week [Friday] [Tag: Savings] savings: Friday, Bucket: Days of the Week [Friday] [Tag: Season] season: Friday, Bucket: Holidays [US-->Black Friday] [Tag: Savings] savings: Black Friday, Bucket: Holidays [US-->Black Friday] [Tag: Season] season: Black Friday, Sentiment: positive',\n",
    " 'os_108_Subject: Undetermined, Keyword: Limited Time, Keyword: Online Offer, Image: Couch, Image: Cushion, Image: Furniture, Image: Home Decor, Image: Indoors, Image: Living Room, Image: Room, Sentiment: negative',\n",
    " 'os_108_Subject: Undetermined, Keyword: Style, Bucket: Product [Site-->Apparel-->Women-->Dress] [Tag: All] all: dressers, Bucket: Product [Site-->Apparel-->Women-->Dress] [Tag: Discount] off: dressers, Bucket: Product [Site-->Apparel-->Women-->Dress] [Tag: Life Style] stylesers: dressers, Bucket: Product [Site-->Apparel-->Women-->Dress] [Tag: Style] stylesers: dressers, Sentiment: positive',\n",
    " 'os_108_Subject: Undetermined, Keyword: Style, Sentiment: positive',\n",
    " 'os_108_Subject: Undetermined, Sentiment: positive',\n",
    " 'os_108_TOLA',\n",
    " 'os_109_Beef',\n",
    " 'os_109_Clothing',\n",
    " 'os_109_Digital media',\n",
    " 'os_109_Emerald',\n",
    " 'os_109_Fish',\n",
    " 'os_109_Frozen meals',\n",
    " 'os_109_Health care',\n",
    " 'os_109_Juices',\n",
    " 'os_109_Prepared meals',\n",
    " 'os_109_Soft drinks',\n",
    " 'os_109_bed',\n",
    " 'os_109_decor',\n",
    " 'os_109_dresser',\n",
    " 'os_109_furniture',\n",
    " 'os_109_lighting',\n",
    " 'os_109_living room',\n",
    " 'os_109_sofa',\n",
    " 'os_110_1',\n",
    " 'os_110_2',\n",
    " 'os_111_Brand',\n",
    " 'os_111_Clothing',\n",
    " 'os_111_Cold drinks',\n",
    " 'os_111_Deli',\n",
    " 'os_111_Frozen foods',\n",
    " 'os_111_Health and beauty',\n",
    " 'os_111_Health foods',\n",
    " 'os_111_Home and garden',\n",
    " 'os_111_Meat',\n",
    " 'os_111_Seafood',\n",
    " 'os_111_bedroom',\n",
    " 'os_111_decor',\n",
    " 'os_111_furniture',\n",
    " 'os_112_ ',\n",
    " 'os_112_ 1',\n",
    " 's_239_7',\n",
    " 's_239_8',\n",
    " 's_239_9',\n",
    " 's_239_10',\n",
    " 's_241_11',\n",
    " 's_241_12',\n",
    " 's_241_13',\n",
    " 's_241_14',\n",
    " 's_241_15',\n",
    " 's_241_16',\n",
    " 's_258_36',\n",
    " 's_258_37',\n",
    " 's_258_38',\n",
    " 's_258_39',\n",
    " 's_241_67',\n",
    " 's_241_68',\n",
    " 's_241_69',\n",
    " 's_248_70',\n",
    " 's_247_71',\n",
    " 's_248_72',\n",
    " 's_247_73',\n",
    " 's_248_74',\n",
    " 's_247_75',\n",
    " 's_248_76',\n",
    " 's_247_77',\n",
    " 's_247_78',\n",
    " 's_305_87',\n",
    " 's_305_88',\n",
    " 's_305_89',\n",
    " 's_306_90',\n",
    " 's_306_91',\n",
    " 's_306_92',\n",
    " 'ContactMonth',\n",
    " 'CantactDayOfMonth',\n",
    " 'ContactHour']"
   ]
  },
  {
   "cell_type": "code",
   "execution_count": 17,
   "id": "7782de3e-55f1-4643-9e80-2b1122fbfc12",
   "metadata": {},
   "outputs": [],
   "source": [
    "# for col in categorical_features:\n",
    "#     X_train[col] = X_train[col].astype(str)\n",
    "for feature in categorical_features:\n",
    "    X_train[feature] = X_train[feature].astype(str)\n",
    "    X_test[feature] = X_test[feature].astype(str)\n",
    "    X_val[feature] = X_val[feature].astype(str)"
   ]
  },
  {
   "cell_type": "code",
   "execution_count": 18,
   "id": "5f5943da-3ec5-4f86-ac83-0813ccd25969",
   "metadata": {},
   "outputs": [],
   "source": [
    "pool = Pool(X_train, y_train, cat_features=categorical_features, feature_names=list(X.columns))"
   ]
  },
  {
   "cell_type": "code",
   "execution_count": null,
   "id": "ff4de60f-5582-4031-8878-6d71cb4ee7e9",
   "metadata": {},
   "outputs": [
    {
     "name": "stdout",
     "output_type": "stream",
     "text": [
      "0:\tlearn: 0.6813262\ttest: 0.6741030\tbest: 0.6741030 (0)\ttotal: 2s\tremaining: 33m 22s\n",
      "1:\tlearn: 0.6706389\ttest: 0.6570775\tbest: 0.6570775 (1)\ttotal: 6.11s\tremaining: 50m 48s\n",
      "2:\tlearn: 0.6603372\ttest: 0.6407911\tbest: 0.6407911 (2)\ttotal: 9.23s\tremaining: 51m 6s\n",
      "3:\tlearn: 0.6508558\ttest: 0.6259491\tbest: 0.6259491 (3)\ttotal: 12.3s\tremaining: 51m 2s\n",
      "4:\tlearn: 0.6419095\ttest: 0.6120507\tbest: 0.6120507 (4)\ttotal: 15.2s\tremaining: 50m 21s\n"
     ]
    }
   ],
   "source": [
    "catboost_model = CatBoostClassifier(\n",
    "    iterations = 1000,\n",
    "    learning_rate = 0.01,\n",
    "    reg_lambda=4.399746830522444,\n",
    "    eval_metric='Logloss',\n",
    "    max_depth = 10,\n",
    "    colsample_bylevel = 0.945675624269418,\n",
    "    random_strength = 2.104135746865191,\n",
    "    random_state = 42,\n",
    "    bootstrap_type = 'Bayesian',\n",
    "    bagging_temperature= 4.428918024504635,\n",
    "    auto_class_weights = 'Balanced'\n",
    "    )\n",
    "\n",
    "catboost_model.fit(pool,eval_set = [(X_test, y_test)], use_best_model=True, early_stopping_rounds=50)"
   ]
  },
  {
   "cell_type": "code",
   "execution_count": null,
   "id": "3a5124db-351f-4ec3-9b0f-dbc73dd752de",
   "metadata": {},
   "outputs": [],
   "source": [
    "y_pred_test = catboost_model.predict(X_test)\n",
    "y_pred_train = catboost_model.predict(X_train)\n",
    "y_pred_val = catboost_model.predict(X_val)"
   ]
  },
  {
   "cell_type": "markdown",
   "id": "891d1918-31a2-407d-a985-550603cb5a1d",
   "metadata": {},
   "source": [
    "### Train"
   ]
  },
  {
   "cell_type": "code",
   "execution_count": null,
   "id": "b8f34b22-2ea4-4ba6-b08c-2a1877f1d5d5",
   "metadata": {},
   "outputs": [],
   "source": [
    "# Confusion Matrix\n",
    "conf_matrix = confusion_matrix(y_train, y_pred_train)\n",
    "print(\"Confusion Matrix:\")\n",
    "print(conf_matrix)"
   ]
  },
  {
   "cell_type": "code",
   "execution_count": null,
   "id": "deda35a1-2621-448a-9390-5e7d6f73bfe0",
   "metadata": {},
   "outputs": [],
   "source": [
    "# Evaluating the model\n",
    "accuracy = accuracy_score(y_train, y_pred_train)\n",
    "print(f\"Accuracy on trn set: {accuracy}\")"
   ]
  },
  {
   "cell_type": "code",
   "execution_count": null,
   "id": "0af9e6e9-6ae4-401e-b360-fd4b1c2d4554",
   "metadata": {},
   "outputs": [],
   "source": [
    "# Evaluating the model\n",
    "f1 = f1_score(y_train, y_pred_train)\n",
    "print(f\"f1 on train set: {f1}\")"
   ]
  },
  {
   "cell_type": "code",
   "execution_count": null,
   "id": "6297c963-7460-48a8-bde3-d5de7c81d1fe",
   "metadata": {},
   "outputs": [],
   "source": [
    "# Evaluating the model\n",
    "f1 = f1_score(y_train, y_pred_train,average='weighted')\n",
    "print(f\"f1 on train set: {f1}\")"
   ]
  },
  {
   "cell_type": "code",
   "execution_count": null,
   "id": "b9088c2a-70b1-4da3-9722-e03ee676869d",
   "metadata": {},
   "outputs": [],
   "source": [
    "matthews_corrcoef(y_train, y_pred_train)"
   ]
  },
  {
   "cell_type": "markdown",
   "id": "8450e17b-ad82-477a-9d21-80e428125171",
   "metadata": {},
   "source": [
    "### Test"
   ]
  },
  {
   "cell_type": "code",
   "execution_count": null,
   "id": "2bf914ab-dc6a-4b1d-b371-9648f5c8d9d1",
   "metadata": {},
   "outputs": [],
   "source": [
    "# Confusion Matrix\n",
    "conf_matrix = confusion_matrix(y_test, y_pred_test)\n",
    "print(\"Confusion Matrix:\")\n",
    "print(conf_matrix)"
   ]
  },
  {
   "cell_type": "code",
   "execution_count": null,
   "id": "204ce189-083f-4f3a-9634-b8b3466be302",
   "metadata": {},
   "outputs": [],
   "source": [
    "# Evaluating the model\n",
    "accuracy = accuracy_score(y_test, y_pred_test)\n",
    "print(f\"Accuracy on test set: {accuracy}\")"
   ]
  },
  {
   "cell_type": "code",
   "execution_count": null,
   "id": "4a04d79c-0cea-445f-9a2c-8d7557d5ce40",
   "metadata": {},
   "outputs": [],
   "source": [
    "# Evaluating the model\n",
    "f1 = f1_score(y_test, y_pred_test)\n",
    "print(f\"f1 on test set: {f1}\")"
   ]
  },
  {
   "cell_type": "code",
   "execution_count": null,
   "id": "0918ce4e-b5c7-4964-831e-cae588876f23",
   "metadata": {},
   "outputs": [],
   "source": [
    "# Evaluating the model\n",
    "f1 = f1_score(y_test, y_pred_test,average='weighted')\n",
    "print(f\"f1 on test set: {f1}\")"
   ]
  },
  {
   "cell_type": "code",
   "execution_count": null,
   "id": "11fdf2fb-7f5d-4c7d-9f2c-131fb294270e",
   "metadata": {},
   "outputs": [],
   "source": [
    "matthews_corrcoef(y_test, y_pred_test)"
   ]
  },
  {
   "cell_type": "markdown",
   "id": "193e53dd-0cbe-4483-803e-d35690b64a4b",
   "metadata": {},
   "source": [
    "### val"
   ]
  },
  {
   "cell_type": "code",
   "execution_count": null,
   "id": "1303f647-8e61-43c5-b4ae-c14c7352a1bf",
   "metadata": {},
   "outputs": [],
   "source": [
    "# Confusion Matrix\n",
    "conf_matrix = confusion_matrix(y_val, y_pred_val)\n",
    "print(\"Confusion Matrix:\")\n",
    "print(conf_matrix)"
   ]
  },
  {
   "cell_type": "code",
   "execution_count": null,
   "id": "1580bdfb-f314-4e02-8dd8-ddf44534c20b",
   "metadata": {},
   "outputs": [],
   "source": [
    "# Evaluating the model\n",
    "accuracy = accuracy_score(y_val, y_pred_val)\n",
    "print(f\"Accuracy on val set: {accuracy}\")"
   ]
  },
  {
   "cell_type": "code",
   "execution_count": null,
   "id": "b91cc448-9f23-465a-b0d9-a9553fc64039",
   "metadata": {},
   "outputs": [],
   "source": [
    "# Evaluating the model\n",
    "f1 = f1_score(y_val, y_pred_val)\n",
    "print(f\"f1 on val set: {f1}\")"
   ]
  },
  {
   "cell_type": "code",
   "execution_count": null,
   "id": "f15ae1c1-c7ab-4efd-af8c-f26d9c098a5c",
   "metadata": {},
   "outputs": [],
   "source": [
    "# Evaluating the model\n",
    "f1 = f1_score(y_val, y_pred_val,average='weighted')\n",
    "print(f\"f1 on val set: {f1}\")"
   ]
  },
  {
   "cell_type": "code",
   "execution_count": null,
   "id": "becb6f6f-687c-47ea-b819-a58e2328172d",
   "metadata": {},
   "outputs": [],
   "source": [
    "matthews_corrcoef(y_val, y_pred_val)"
   ]
  },
  {
   "cell_type": "code",
   "execution_count": null,
   "id": "4bc10802-b013-45b2-a537-d34ae18bafee",
   "metadata": {},
   "outputs": [],
   "source": []
  },
  {
   "cell_type": "code",
   "execution_count": null,
   "id": "39ce740a-3e19-4b01-8410-25330f7b1790",
   "metadata": {},
   "outputs": [],
   "source": []
  }
 ],
 "metadata": {
  "kernelspec": {
   "display_name": "Python 3 (ipykernel)",
   "language": "python",
   "name": "python3"
  },
  "language_info": {
   "codemirror_mode": {
    "name": "ipython",
    "version": 3
   },
   "file_extension": ".py",
   "mimetype": "text/x-python",
   "name": "python",
   "nbconvert_exporter": "python",
   "pygments_lexer": "ipython3",
   "version": "3.10.12"
  }
 },
 "nbformat": 4,
 "nbformat_minor": 5
}
