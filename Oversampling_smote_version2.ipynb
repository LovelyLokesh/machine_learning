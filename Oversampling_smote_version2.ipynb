{
 "cells": [
  {
   "cell_type": "code",
   "execution_count": 1,
   "id": "4f374a17-5c2b-4e72-8efa-585f3a04200e",
   "metadata": {},
   "outputs": [],
   "source": [
    "import numpy as np\n",
    "import pandas as pd\n",
    "import catboost\n",
    "import imblearn\n",
    "import seaborn as sns\n",
    "from catboost import CatBoostClassifier, Pool\n",
    "from sklearn.model_selection import train_test_split\n",
    "from sklearn.metrics import f1_score,confusion_matrix,accuracy_score\n",
    "from sklearn.feature_extraction.text import TfidfVectorizer\n",
    "from imblearn.combine import SMOTEENN\n",
    "import matplotlib.pyplot as plt\n",
    "import optuna\n",
    "from imblearn.over_sampling import SMOTE\n",
    "from optuna.samplers import TPESampler\n",
    "from sklearn.metrics import matthews_corrcoef\n",
    "from sklearn.preprocessing import LabelEncoder"
   ]
  },
  {
   "cell_type": "code",
   "execution_count": 2,
   "id": "e49f41ad-946e-470f-bb49-ad210a06df95",
   "metadata": {},
   "outputs": [
    {
     "data": {
      "text/plain": [
       "(335113, 21)"
      ]
     },
     "execution_count": 2,
     "metadata": {},
     "output_type": "execute_result"
    }
   ],
   "source": [
    "df= pd.read_csv('Top_df.csv')\n",
    "df.shape"
   ]
  },
  {
   "cell_type": "code",
   "execution_count": 3,
   "id": "75c6f89d-988c-4e1b-8d0a-70ffa5576105",
   "metadata": {},
   "outputs": [
    {
     "data": {
      "text/plain": [
       "<Axes: xlabel='target'>"
      ]
     },
     "execution_count": 3,
     "metadata": {},
     "output_type": "execute_result"
    },
    {
     "data": {
      "image/png": "[encoded data removed]",
      "text/plain": [
       "<Figure size 640x480 with 1 Axes>"
      ]
     },
     "metadata": {},
     "output_type": "display_data"
    }
   ],
   "source": [
    "df['target'].value_counts().plot(kind='bar', color = ['red', 'blue'])"
   ]
  },
  {
   "cell_type": "code",
   "execution_count": 4,
   "id": "bb5d9882-507d-436f-a118-e346527b0045",
   "metadata": {},
   "outputs": [
    {
     "data": {
      "text/plain": [
       "target\n",
       "0    0.946466\n",
       "1    0.053534\n",
       "Name: proportion, dtype: float64"
      ]
     },
     "execution_count": 4,
     "metadata": {},
     "output_type": "execute_result"
    }
   ],
   "source": [
    "df['target'].value_counts(normalize=True)"
   ]
  },
  {
   "cell_type": "code",
   "execution_count": 5,
   "id": "fb483736-e272-4dd6-aac0-ab1fca80f2fa",
   "metadata": {},
   "outputs": [],
   "source": [
    "# Selecting columns with data type 'object' (string) for df1\n",
    "df1 = df.select_dtypes(include='object')\n",
    "\n",
    "# Selecting columns with data type 'int64' for df2\n",
    "df2 = df.select_dtypes(include=['int64','float64'])"
   ]
  },
  {
   "cell_type": "code",
   "execution_count": 6,
   "id": "3f2d9afd-6d9e-48b5-a5ce-337513663574",
   "metadata": {},
   "outputs": [],
   "source": [
    "# Convert all columns to categorical data type\n",
    "df2 = df2.astype('category')"
   ]
  },
  {
   "cell_type": "code",
   "execution_count": 7,
   "id": "733e6ebb-86ee-4d7c-9fc8-6685637909d9",
   "metadata": {},
   "outputs": [],
   "source": [
    "df2['target'] = df2['target'].astype('int')"
   ]
  },
  {
   "cell_type": "markdown",
   "id": "d572be90-808c-450e-91fd-45f85b1ace83",
   "metadata": {},
   "source": [
    "### TF-IDF vectorize"
   ]
  },
  {
   "cell_type": "code",
   "execution_count": 8,
   "id": "cdaf53e4-d32a-43f6-8b10-5b99e5b0699d",
   "metadata": {},
   "outputs": [],
   "source": [
    "# List of columns to transform with TF-IDF\n",
    "columns_to_transform = ['os_105','os_108', 'os_109', 'os_111']\n",
    "\n",
    "# Concatenate the text from these columns into a single series of strings\n",
    "# Each row will contain the concatenated text from all specified columns\n",
    "text_data = df1[columns_to_transform].apply(lambda x: ' '.join(x.dropna()), axis=1)\n",
    "\n",
    "# Initialize the TF-IDF Vectorizer\n",
    "vectorizer = TfidfVectorizer(ngram_range=(1, 2),max_features=500,max_df=0.99, min_df=0.01)\n",
    "\n",
    "# Fit and transform the concatenated text data to get the TF-IDF features\n",
    "tfidf_matrix = vectorizer.fit_transform(text_data)"
   ]
  },
  {
   "cell_type": "code",
   "execution_count": 9,
   "id": "d0716287-eb0f-411c-8418-e9268feb97f0",
   "metadata": {},
   "outputs": [],
   "source": [
    "tfidf_df = pd.DataFrame(tfidf_matrix.toarray(), columns=vectorizer.get_feature_names_out())"
   ]
  },
  {
   "cell_type": "code",
   "execution_count": 10,
   "id": "f0a1b054-93c3-49b0-91ff-ee52df8fe5b7",
   "metadata": {},
   "outputs": [
    {
     "data": {
      "text/plain": [
       "((335113, 17), (335113, 193))"
      ]
     },
     "execution_count": 10,
     "metadata": {},
     "output_type": "execute_result"
    }
   ],
   "source": [
    "df2.shape,tfidf_df.shape"
   ]
  },
  {
   "cell_type": "markdown",
   "id": "61f08ade-afdf-4fe7-878b-3d358e761668",
   "metadata": {},
   "source": [
    "### Concatenation"
   ]
  },
  {
   "cell_type": "code",
   "execution_count": 11,
   "id": "30953055-d5ec-4eba-8cd8-9fa5e01f95e5",
   "metadata": {},
   "outputs": [],
   "source": [
    "# Concatenate the dataframes\n",
    "Top_df = pd.concat([df2.reset_index(drop=True),tfidf_df.reset_index(drop=True)], axis=1)"
   ]
  },
  {
   "cell_type": "code",
   "execution_count": 12,
   "id": "07bb0594-22f6-477d-bd55-fe4269345320",
   "metadata": {},
   "outputs": [
    {
     "data": {
      "text/plain": [
       "(335113, 210)"
      ]
     },
     "execution_count": 12,
     "metadata": {},
     "output_type": "execute_result"
    }
   ],
   "source": [
    "Top_df.shape"
   ]
  },
  {
   "cell_type": "markdown",
   "id": "d3131f06-4422-4d6d-8ea8-9648e5cdf4dd",
   "metadata": {},
   "source": [
    "### Oversampling"
   ]
  },
  {
   "cell_type": "code",
   "execution_count": 13,
   "id": "62ca62ee-c687-4fe7-a0a1-339b858f7f83",
   "metadata": {},
   "outputs": [],
   "source": [
    "# Splitting the dataset into X and y\n",
    "X = Top_df.drop('target', axis=1)  # Features: all columns except 'target'\n",
    "y = Top_df['target']"
   ]
  },
  {
   "cell_type": "code",
   "execution_count": 14,
   "id": "cd1b0f30-4067-4fbb-8b86-04b4274a2b65",
   "metadata": {},
   "outputs": [],
   "source": [
    "# Split the dataset into 70% training and 30% temporary test set\n",
    "X_train, X_temp, y_train, y_temp = train_test_split(X, y, test_size=0.3, random_state=42)\n",
    "\n",
    "# Split the temporary test set into 50% test and 50% validation, which makes it 15% of the original dataset each\n",
    "X_test, X_val, y_test, y_val = train_test_split(X_temp, y_temp, test_size=0.5, random_state=42)"
   ]
  },
  {
   "cell_type": "code",
   "execution_count": 15,
   "id": "76216848-7d7d-443e-a3ed-ff6eacc7336f",
   "metadata": {},
   "outputs": [],
   "source": [
    "# # Apply SMOTE-ENN\n",
    "# smote_enn = SMOTEENN(sampling_strategy='auto',random_state=42)\n",
    "# X_res, y_res = smote_enn.fit_resample(X, y)"
   ]
  },
  {
   "cell_type": "code",
   "execution_count": 16,
   "id": "c6c2e93b-765d-47ec-8921-690ba20cbb2c",
   "metadata": {},
   "outputs": [
    {
     "data": {
      "text/plain": [
       "((234579, 209), (50267, 209), (50267, 209))"
      ]
     },
     "execution_count": 16,
     "metadata": {},
     "output_type": "execute_result"
    }
   ],
   "source": [
    "X_train.shape,X_test.shape,X_val.shape"
   ]
  },
  {
   "cell_type": "code",
   "execution_count": 17,
   "id": "d3f5462a-eecc-4563-991f-3a70e0604e71",
   "metadata": {},
   "outputs": [],
   "source": [
    "sm = SMOTE(random_state=42)\n",
    "X_train, y_train = sm.fit_resample(X_train, y_train)"
   ]
  },
  {
   "cell_type": "code",
   "execution_count": 18,
   "id": "76f4d5e2-5636-463b-8eaf-1c7f87a8b2bf",
   "metadata": {},
   "outputs": [
    {
     "data": {
      "text/plain": [
       "((444126, 209), (444126,))"
      ]
     },
     "execution_count": 18,
     "metadata": {},
     "output_type": "execute_result"
    }
   ],
   "source": [
    "X_train.shape,y_train.shape"
   ]
  },
  {
   "cell_type": "code",
   "execution_count": 19,
   "id": "a6573831-6500-4d0d-84af-6786439844a7",
   "metadata": {},
   "outputs": [
    {
     "data": {
      "text/plain": [
       "target\n",
       "0    222063\n",
       "1    222063\n",
       "Name: count, dtype: int64"
      ]
     },
     "execution_count": 19,
     "metadata": {},
     "output_type": "execute_result"
    }
   ],
   "source": [
    "y_train.value_counts()"
   ]
  },
  {
   "cell_type": "code",
   "execution_count": 20,
   "id": "63b1f957-6f8b-467f-9f02-ea0f8ab3e2a8",
   "metadata": {},
   "outputs": [
    {
     "data": {
      "text/plain": [
       "target\n",
       "0    0.5\n",
       "1    0.5\n",
       "Name: proportion, dtype: float64"
      ]
     },
     "execution_count": 20,
     "metadata": {},
     "output_type": "execute_result"
    }
   ],
   "source": [
    "y_train.value_counts(normalize=True)"
   ]
  },
  {
   "cell_type": "code",
   "execution_count": 21,
   "id": "7a90a404-826e-4573-8fef-b071e43c42bc",
   "metadata": {},
   "outputs": [],
   "source": [
    "# # Split the dataset into 70% training and 30% temporary test set\n",
    "# X_train, X_temp, y_train, y_temp = train_test_split(X, y, test_size=0.3, random_state=42)\n",
    "\n",
    "# # Split the temporary test set into 50% test and 50% validation, which makes it 15% of the original dataset each\n",
    "# X_test, X_val, y_test, y_val = train_test_split(X_temp, y_temp, test_size=0.5, random_state=42)"
   ]
  },
  {
   "cell_type": "code",
   "execution_count": 22,
   "id": "6f13b07a-ac1f-4613-8cf1-8127fc20a6c5",
   "metadata": {},
   "outputs": [],
   "source": [
    "categorical_features = ['ContactMonth', 'ContactHour', 'os_112', 'os_110', 's_247_71',\n",
    "       's_239_8', 's_247_75', 's_239_7', 's_248_74', 's_247_77', 's_239_9',\n",
    "       's_241_68', 's_241_69', 's_247_78', 's_239_10', 's_247_73']"
   ]
  },
  {
   "cell_type": "code",
   "execution_count": 23,
   "id": "7782de3e-55f1-4643-9e80-2b1122fbfc12",
   "metadata": {},
   "outputs": [],
   "source": [
    "# for col in categorical_features:\n",
    "#     X_train[col] = X_train[col].astype(str)\n",
    "for feature in categorical_features:\n",
    "    X_train[feature] = X_train[feature].astype(str)\n",
    "    X_test[feature] = X_test[feature].astype(str)\n",
    "    X_val[feature] = X_val[feature].astype(str)"
   ]
  },
  {
   "cell_type": "code",
   "execution_count": 24,
   "id": "a7c54667-0f58-459b-bb0b-b820d06afceb",
   "metadata": {},
   "outputs": [],
   "source": [
    "# for column in categorical_features:\n",
    "#     # Convert to string, including NaNs which become 'nan'\n",
    "#     X[column] = X[column].astype(str)\n",
    "\n",
    "#     # Optional: Replace 'nan' with a placeholder such as 'missing'\n",
    "#     X[column] = X[column].replace('nan', 'missing')"
   ]
  },
  {
   "cell_type": "code",
   "execution_count": 25,
   "id": "5f5943da-3ec5-4f86-ac83-0813ccd25969",
   "metadata": {},
   "outputs": [],
   "source": [
    "pool = Pool(X_train, y_train, cat_features=categorical_features, feature_names=list(X.columns))"
   ]
  },
  {
   "cell_type": "code",
   "execution_count": 26,
   "id": "ff4de60f-5582-4031-8878-6d71cb4ee7e9",
   "metadata": {},
   "outputs": [
    {
     "name": "stdout",
     "output_type": "stream",
     "text": [
      "0:\tlearn: 0.6817161\ttest: 0.6742817\tbest: 0.6742817 (0)\ttotal: 2.02s\tremaining: 33m 34s\n",
      "1:\tlearn: 0.6704615\ttest: 0.6561863\tbest: 0.6561863 (1)\ttotal: 3.68s\tremaining: 30m 36s\n",
      "2:\tlearn: 0.6601811\ttest: 0.6394427\tbest: 0.6394427 (2)\ttotal: 5.32s\tremaining: 29m 29s\n",
      "3:\tlearn: 0.6508099\ttest: 0.6242273\tbest: 0.6242273 (3)\ttotal: 6.95s\tremaining: 28m 49s\n",
      "4:\tlearn: 0.6416396\ttest: 0.6096921\tbest: 0.6096921 (4)\ttotal: 8.66s\tremaining: 28m 44s\n",
      "5:\tlearn: 0.6336297\ttest: 0.5969640\tbest: 0.5969640 (5)\ttotal: 10.7s\tremaining: 29m 29s\n",
      "6:\tlearn: 0.6257280\ttest: 0.5845590\tbest: 0.5845590 (6)\ttotal: 12.3s\tremaining: 29m 4s\n",
      "7:\tlearn: 0.6187029\ttest: 0.5736508\tbest: 0.5736508 (7)\ttotal: 13.9s\tremaining: 28m 46s\n",
      "8:\tlearn: 0.6113841\ttest: 0.5627265\tbest: 0.5627265 (8)\ttotal: 15.4s\tremaining: 28m 20s\n",
      "9:\tlearn: 0.6047758\ttest: 0.5525211\tbest: 0.5525211 (9)\ttotal: 16.3s\tremaining: 26m 48s\n",
      "10:\tlearn: 0.5982453\ttest: 0.5431241\tbest: 0.5431241 (10)\ttotal: 17.8s\tremaining: 26m 44s\n",
      "11:\tlearn: 0.5925202\ttest: 0.5349878\tbest: 0.5349878 (11)\ttotal: 19.1s\tremaining: 26m 9s\n",
      "12:\tlearn: 0.5873314\ttest: 0.5275992\tbest: 0.5275992 (12)\ttotal: 20.7s\tremaining: 26m 10s\n",
      "13:\tlearn: 0.5824951\ttest: 0.5210179\tbest: 0.5210179 (13)\ttotal: 22.4s\tremaining: 26m 17s\n",
      "14:\tlearn: 0.5779880\ttest: 0.5148107\tbest: 0.5148107 (14)\ttotal: 24.3s\tremaining: 26m 37s\n",
      "15:\tlearn: 0.5739888\ttest: 0.5094816\tbest: 0.5094816 (15)\ttotal: 25.7s\tremaining: 26m 19s\n",
      "16:\tlearn: 0.5704096\ttest: 0.5047915\tbest: 0.5047915 (16)\ttotal: 27.3s\tremaining: 26m 19s\n",
      "17:\tlearn: 0.5668397\ttest: 0.5003447\tbest: 0.5003447 (17)\ttotal: 28.7s\tremaining: 26m 8s\n",
      "18:\tlearn: 0.5637605\ttest: 0.4965617\tbest: 0.4965617 (18)\ttotal: 30.4s\tremaining: 26m 9s\n",
      "19:\tlearn: 0.5606994\ttest: 0.4929882\tbest: 0.4929882 (19)\ttotal: 31.9s\tremaining: 26m 5s\n",
      "20:\tlearn: 0.5580436\ttest: 0.4899415\tbest: 0.4899415 (20)\ttotal: 33.5s\tremaining: 26m 1s\n",
      "21:\tlearn: 0.5553828\ttest: 0.4870579\tbest: 0.4870579 (21)\ttotal: 34.9s\tremaining: 25m 52s\n",
      "22:\tlearn: 0.5530835\ttest: 0.4846287\tbest: 0.4846287 (22)\ttotal: 36.6s\tremaining: 25m 53s\n",
      "23:\tlearn: 0.5508671\ttest: 0.4823390\tbest: 0.4823390 (23)\ttotal: 38.2s\tremaining: 25m 54s\n",
      "24:\tlearn: 0.5488093\ttest: 0.4803237\tbest: 0.4803237 (24)\ttotal: 40s\tremaining: 25m 59s\n",
      "25:\tlearn: 0.5468223\ttest: 0.4785455\tbest: 0.4785455 (25)\ttotal: 41.3s\tremaining: 25m 45s\n",
      "26:\tlearn: 0.5449108\ttest: 0.4768724\tbest: 0.4768724 (26)\ttotal: 42.9s\tremaining: 25m 46s\n",
      "27:\tlearn: 0.5431583\ttest: 0.4755145\tbest: 0.4755145 (27)\ttotal: 44.6s\tremaining: 25m 48s\n",
      "28:\tlearn: 0.5415716\ttest: 0.4744148\tbest: 0.4744148 (28)\ttotal: 46.3s\tremaining: 25m 50s\n",
      "29:\tlearn: 0.5409000\ttest: 0.4749895\tbest: 0.4744148 (28)\ttotal: 48.2s\tremaining: 25m 58s\n",
      "30:\tlearn: 0.5393367\ttest: 0.4739567\tbest: 0.4739567 (30)\ttotal: 50.1s\tremaining: 26m 6s\n",
      "31:\tlearn: 0.5387866\ttest: 0.4745588\tbest: 0.4739567 (30)\ttotal: 52s\tremaining: 26m 14s\n",
      "32:\tlearn: 0.5371979\ttest: 0.4736615\tbest: 0.4736615 (32)\ttotal: 54s\tremaining: 26m 22s\n",
      "33:\tlearn: 0.5359682\ttest: 0.4730080\tbest: 0.4730080 (33)\ttotal: 55.7s\tremaining: 26m 22s\n",
      "34:\tlearn: 0.5355588\ttest: 0.4737674\tbest: 0.4730080 (33)\ttotal: 57.5s\tremaining: 26m 24s\n",
      "35:\tlearn: 0.5344293\ttest: 0.4732568\tbest: 0.4730080 (33)\ttotal: 59.4s\tremaining: 26m 31s\n",
      "36:\tlearn: 0.5333051\ttest: 0.4728068\tbest: 0.4728068 (36)\ttotal: 1m 1s\tremaining: 26m 32s\n",
      "37:\tlearn: 0.5323099\ttest: 0.4725108\tbest: 0.4725108 (37)\ttotal: 1m 3s\tremaining: 26m 36s\n",
      "38:\tlearn: 0.5318403\ttest: 0.4732970\tbest: 0.4725108 (37)\ttotal: 1m 4s\tremaining: 26m 34s\n",
      "39:\tlearn: 0.5306799\ttest: 0.4729864\tbest: 0.4725108 (37)\ttotal: 1m 6s\tremaining: 26m 32s\n",
      "40:\tlearn: 0.5298148\ttest: 0.4729044\tbest: 0.4725108 (37)\ttotal: 1m 7s\tremaining: 26m 28s\n",
      "41:\tlearn: 0.5290107\ttest: 0.4728972\tbest: 0.4725108 (37)\ttotal: 1m 9s\tremaining: 26m 25s\n",
      "42:\tlearn: 0.5281997\ttest: 0.4729393\tbest: 0.4725108 (37)\ttotal: 1m 11s\tremaining: 26m 21s\n",
      "43:\tlearn: 0.5274162\ttest: 0.4730203\tbest: 0.4725108 (37)\ttotal: 1m 12s\tremaining: 26m 18s\n",
      "44:\tlearn: 0.5265283\ttest: 0.4730504\tbest: 0.4725108 (37)\ttotal: 1m 14s\tremaining: 26m 17s\n",
      "45:\tlearn: 0.5258478\ttest: 0.4732636\tbest: 0.4725108 (37)\ttotal: 1m 16s\tremaining: 26m 20s\n",
      "46:\tlearn: 0.5252310\ttest: 0.4735276\tbest: 0.4725108 (37)\ttotal: 1m 18s\tremaining: 26m 22s\n",
      "47:\tlearn: 0.5246654\ttest: 0.4738443\tbest: 0.4725108 (37)\ttotal: 1m 20s\tremaining: 26m 28s\n",
      "48:\tlearn: 0.5240646\ttest: 0.4741632\tbest: 0.4725108 (37)\ttotal: 1m 21s\tremaining: 26m 30s\n",
      "49:\tlearn: 0.5235345\ttest: 0.4745380\tbest: 0.4725108 (37)\ttotal: 1m 23s\tremaining: 26m 33s\n",
      "50:\tlearn: 0.5230431\ttest: 0.4749565\tbest: 0.4725108 (37)\ttotal: 1m 25s\tremaining: 26m 29s\n",
      "51:\tlearn: 0.5225017\ttest: 0.4753501\tbest: 0.4725108 (37)\ttotal: 1m 26s\tremaining: 26m 21s\n",
      "52:\tlearn: 0.5220327\ttest: 0.4758121\tbest: 0.4725108 (37)\ttotal: 1m 28s\tremaining: 26m 18s\n",
      "53:\tlearn: 0.5216039\ttest: 0.4763019\tbest: 0.4725108 (37)\ttotal: 1m 29s\tremaining: 26m 16s\n",
      "54:\tlearn: 0.5213101\ttest: 0.4770881\tbest: 0.4725108 (37)\ttotal: 1m 31s\tremaining: 26m 12s\n",
      "55:\tlearn: 0.5209003\ttest: 0.4775881\tbest: 0.4725108 (37)\ttotal: 1m 33s\tremaining: 26m 7s\n",
      "56:\tlearn: 0.5205165\ttest: 0.4781156\tbest: 0.4725108 (37)\ttotal: 1m 34s\tremaining: 26m 5s\n",
      "57:\tlearn: 0.5200894\ttest: 0.4786274\tbest: 0.4725108 (37)\ttotal: 1m 36s\tremaining: 26m 4s\n",
      "58:\tlearn: 0.5198123\ttest: 0.4793919\tbest: 0.4725108 (37)\ttotal: 1m 37s\tremaining: 26m\n",
      "59:\tlearn: 0.5194161\ttest: 0.4798838\tbest: 0.4725108 (37)\ttotal: 1m 39s\tremaining: 25m 57s\n",
      "60:\tlearn: 0.5190810\ttest: 0.4804356\tbest: 0.4725108 (37)\ttotal: 1m 40s\tremaining: 25m 53s\n",
      "61:\tlearn: 0.5187542\ttest: 0.4809973\tbest: 0.4725108 (37)\ttotal: 1m 42s\tremaining: 25m 49s\n",
      "62:\tlearn: 0.5184325\ttest: 0.4815665\tbest: 0.4725108 (37)\ttotal: 1m 43s\tremaining: 25m 45s\n",
      "63:\tlearn: 0.5181101\ttest: 0.4821336\tbest: 0.4725108 (37)\ttotal: 1m 45s\tremaining: 25m 42s\n",
      "64:\tlearn: 0.5178151\ttest: 0.4827197\tbest: 0.4725108 (37)\ttotal: 1m 47s\tremaining: 25m 40s\n",
      "65:\tlearn: 0.5175118\ttest: 0.4833067\tbest: 0.4725108 (37)\ttotal: 1m 48s\tremaining: 25m 36s\n",
      "66:\tlearn: 0.5173170\ttest: 0.4840405\tbest: 0.4725108 (37)\ttotal: 1m 50s\tremaining: 25m 33s\n",
      "67:\tlearn: 0.5170482\ttest: 0.4846344\tbest: 0.4725108 (37)\ttotal: 1m 51s\tremaining: 25m 28s\n",
      "68:\tlearn: 0.5167971\ttest: 0.4853404\tbest: 0.4725108 (37)\ttotal: 1m 52s\tremaining: 25m 23s\n",
      "69:\tlearn: 0.5165987\ttest: 0.4860506\tbest: 0.4725108 (37)\ttotal: 1m 54s\tremaining: 25m 20s\n",
      "70:\tlearn: 0.5163481\ttest: 0.4866284\tbest: 0.4725108 (37)\ttotal: 1m 55s\tremaining: 25m 15s\n",
      "71:\tlearn: 0.5160532\ttest: 0.4872005\tbest: 0.4725108 (37)\ttotal: 1m 57s\tremaining: 25m 12s\n",
      "72:\tlearn: 0.5158050\ttest: 0.4877935\tbest: 0.4725108 (37)\ttotal: 1m 58s\tremaining: 25m 8s\n",
      "73:\tlearn: 0.5155310\ttest: 0.4884519\tbest: 0.4725108 (37)\ttotal: 2m\tremaining: 25m 4s\n",
      "74:\tlearn: 0.5152676\ttest: 0.4891198\tbest: 0.4725108 (37)\ttotal: 2m 1s\tremaining: 25m 1s\n",
      "75:\tlearn: 0.5150136\ttest: 0.4896965\tbest: 0.4725108 (37)\ttotal: 2m 3s\tremaining: 24m 58s\n",
      "76:\tlearn: 0.5148015\ttest: 0.4903682\tbest: 0.4725108 (37)\ttotal: 2m 4s\tremaining: 24m 57s\n",
      "77:\tlearn: 0.5145729\ttest: 0.4909384\tbest: 0.4725108 (37)\ttotal: 2m 6s\tremaining: 24m 55s\n",
      "78:\tlearn: 0.5143952\ttest: 0.4915858\tbest: 0.4725108 (37)\ttotal: 2m 8s\tremaining: 24m 53s\n",
      "79:\tlearn: 0.5141876\ttest: 0.4922206\tbest: 0.4725108 (37)\ttotal: 2m 9s\tremaining: 24m 52s\n",
      "80:\tlearn: 0.5140289\ttest: 0.4928696\tbest: 0.4725108 (37)\ttotal: 2m 11s\tremaining: 24m 48s\n",
      "81:\tlearn: 0.5138352\ttest: 0.4934253\tbest: 0.4725108 (37)\ttotal: 2m 12s\tremaining: 24m 45s\n",
      "82:\tlearn: 0.5136002\ttest: 0.4939728\tbest: 0.4725108 (37)\ttotal: 2m 14s\tremaining: 24m 41s\n",
      "83:\tlearn: 0.5134365\ttest: 0.4945863\tbest: 0.4725108 (37)\ttotal: 2m 15s\tremaining: 24m 40s\n",
      "84:\tlearn: 0.5132745\ttest: 0.4952045\tbest: 0.4725108 (37)\ttotal: 2m 17s\tremaining: 24m 35s\n",
      "85:\tlearn: 0.5131104\ttest: 0.4958092\tbest: 0.4725108 (37)\ttotal: 2m 18s\tremaining: 24m 31s\n",
      "86:\tlearn: 0.5129566\ttest: 0.4964152\tbest: 0.4725108 (37)\ttotal: 2m 19s\tremaining: 24m 28s\n",
      "87:\tlearn: 0.5128172\ttest: 0.4970273\tbest: 0.4725108 (37)\ttotal: 2m 21s\tremaining: 24m 25s\n",
      "Stopped by overfitting detector  (50 iterations wait)\n",
      "\n",
      "bestTest = 0.4725107887\n",
      "bestIteration = 37\n",
      "\n",
      "Shrink model to first 38 iterations.\n"
     ]
    },
    {
     "data": {
      "text/plain": [
       "<catboost.core.CatBoostClassifier at 0x7a49e2c6b160>"
      ]
     },
     "execution_count": 26,
     "metadata": {},
     "output_type": "execute_result"
    }
   ],
   "source": [
    "catboost_model = CatBoostClassifier(\n",
    "    iterations = 1000,\n",
    "    learning_rate = 0.01,\n",
    "    reg_lambda=0.5,\n",
    "    eval_metric='Logloss',\n",
    "    max_depth = 9,\n",
    "    colsample_bylevel = 0.72706679,\n",
    "    random_strength = 1.64047,\n",
    "    random_state = 42,\n",
    "    bootstrap_type = 'Bayesian',\n",
    "    bagging_temperature= 4.53847,\n",
    "    auto_class_weights = 'Balanced'\n",
    "    )\n",
    "\n",
    "catboost_model.fit(pool,eval_set = [(X_test, y_test)], use_best_model=True, early_stopping_rounds=50)"
   ]
  },
  {
   "cell_type": "code",
   "execution_count": 27,
   "id": "3a5124db-351f-4ec3-9b0f-dbc73dd752de",
   "metadata": {},
   "outputs": [],
   "source": [
    "y_pred_test = catboost_model.predict(X_test)\n",
    "y_pred_train = catboost_model.predict(X_train)\n",
    "y_pred_val = catboost_model.predict(X_val)"
   ]
  },
  {
   "cell_type": "markdown",
   "id": "891d1918-31a2-407d-a985-550603cb5a1d",
   "metadata": {},
   "source": [
    "### Train"
   ]
  },
  {
   "cell_type": "code",
   "execution_count": 28,
   "id": "b8f34b22-2ea4-4ba6-b08c-2a1877f1d5d5",
   "metadata": {},
   "outputs": [
    {
     "name": "stdout",
     "output_type": "stream",
     "text": [
      "Confusion Matrix:\n",
      "[[ 95546 126517]\n",
      " [    15 222048]]\n"
     ]
    }
   ],
   "source": [
    "# Confusion Matrix\n",
    "conf_matrix = confusion_matrix(y_train, y_pred_train)\n",
    "print(\"Confusion Matrix:\")\n",
    "print(conf_matrix)"
   ]
  },
  {
   "cell_type": "code",
   "execution_count": 29,
   "id": "deda35a1-2621-448a-9390-5e7d6f73bfe0",
   "metadata": {},
   "outputs": [
    {
     "name": "stdout",
     "output_type": "stream",
     "text": [
      "Accuracy on trn set: 0.715098868339165\n"
     ]
    }
   ],
   "source": [
    "# Evaluating the model\n",
    "accuracy = accuracy_score(y_train, y_pred_train)\n",
    "print(f\"Accuracy on trn set: {accuracy}\")"
   ]
  },
  {
   "cell_type": "code",
   "execution_count": 30,
   "id": "0af9e6e9-6ae4-401e-b360-fd4b1c2d4554",
   "metadata": {},
   "outputs": [
    {
     "name": "stdout",
     "output_type": "stream",
     "text": [
      "f1 on train set: 0.7782583399342479\n"
     ]
    }
   ],
   "source": [
    "# Evaluating the model\n",
    "f1 = f1_score(y_train, y_pred_train)\n",
    "print(f\"f1 on train set: {f1}\")"
   ]
  },
  {
   "cell_type": "code",
   "execution_count": 31,
   "id": "6297c963-7460-48a8-bde3-d5de7c81d1fe",
   "metadata": {},
   "outputs": [
    {
     "name": "stdout",
     "output_type": "stream",
     "text": [
      "f1 on train set: 0.6899439698563011\n"
     ]
    }
   ],
   "source": [
    "# Evaluating the model\n",
    "f1 = f1_score(y_train, y_pred_train,average='weighted')\n",
    "print(f\"f1 on train set: {f1}\")"
   ]
  },
  {
   "cell_type": "code",
   "execution_count": 32,
   "id": "b9088c2a-70b1-4da3-9722-e03ee676869d",
   "metadata": {},
   "outputs": [
    {
     "data": {
      "text/plain": [
       "0.5234341970862729"
      ]
     },
     "execution_count": 32,
     "metadata": {},
     "output_type": "execute_result"
    }
   ],
   "source": [
    "matthews_corrcoef(y_train, y_pred_train)"
   ]
  },
  {
   "cell_type": "markdown",
   "id": "8450e17b-ad82-477a-9d21-80e428125171",
   "metadata": {},
   "source": [
    "### Test"
   ]
  },
  {
   "cell_type": "code",
   "execution_count": 33,
   "id": "2bf914ab-dc6a-4b1d-b371-9648f5c8d9d1",
   "metadata": {},
   "outputs": [
    {
     "name": "stdout",
     "output_type": "stream",
     "text": [
      "Confusion Matrix:\n",
      "[[20391 27183]\n",
      " [    4  2689]]\n"
     ]
    }
   ],
   "source": [
    "# Confusion Matrix\n",
    "conf_matrix = confusion_matrix(y_test, y_pred_test)\n",
    "print(\"Confusion Matrix:\")\n",
    "print(conf_matrix)"
   ]
  },
  {
   "cell_type": "code",
   "execution_count": 34,
   "id": "204ce189-083f-4f3a-9634-b8b3466be302",
   "metadata": {},
   "outputs": [
    {
     "name": "stdout",
     "output_type": "stream",
     "text": [
      "Accuracy on test set: 0.45914814888495437\n"
     ]
    }
   ],
   "source": [
    "# Evaluating the model\n",
    "accuracy = accuracy_score(y_test, y_pred_test)\n",
    "print(f\"Accuracy on test set: {accuracy}\")"
   ]
  },
  {
   "cell_type": "code",
   "execution_count": 35,
   "id": "4a04d79c-0cea-445f-9a2c-8d7557d5ce40",
   "metadata": {},
   "outputs": [
    {
     "name": "stdout",
     "output_type": "stream",
     "text": [
      "f1 on test set: 0.1651466298172885\n"
     ]
    }
   ],
   "source": [
    "# Evaluating the model\n",
    "f1 = f1_score(y_test, y_pred_test)\n",
    "print(f\"f1 on test set: {f1}\")"
   ]
  },
  {
   "cell_type": "code",
   "execution_count": 36,
   "id": "0918ce4e-b5c7-4964-831e-cae588876f23",
   "metadata": {},
   "outputs": [
    {
     "name": "stdout",
     "output_type": "stream",
     "text": [
      "f1 on test set: 0.5767115570083649\n"
     ]
    }
   ],
   "source": [
    "# Evaluating the model\n",
    "f1 = f1_score(y_test, y_pred_test,average='weighted')\n",
    "print(f\"f1 on test set: {f1}\")"
   ]
  },
  {
   "cell_type": "code",
   "execution_count": 37,
   "id": "11fdf2fb-7f5d-4c7d-9f2c-131fb294270e",
   "metadata": {},
   "outputs": [
    {
     "data": {
      "text/plain": [
       "0.19587104454200865"
      ]
     },
     "execution_count": 37,
     "metadata": {},
     "output_type": "execute_result"
    }
   ],
   "source": [
    "matthews_corrcoef(y_test, y_pred_test)"
   ]
  },
  {
   "cell_type": "markdown",
   "id": "193e53dd-0cbe-4483-803e-d35690b64a4b",
   "metadata": {},
   "source": [
    "### val"
   ]
  },
  {
   "cell_type": "code",
   "execution_count": 38,
   "id": "1303f647-8e61-43c5-b4ae-c14c7352a1bf",
   "metadata": {},
   "outputs": [
    {
     "name": "stdout",
     "output_type": "stream",
     "text": [
      "Confusion Matrix:\n",
      "[[20444 27092]\n",
      " [    7  2724]]\n"
     ]
    }
   ],
   "source": [
    "# Confusion Matrix\n",
    "conf_matrix = confusion_matrix(y_val, y_pred_val)\n",
    "print(\"Confusion Matrix:\")\n",
    "print(conf_matrix)"
   ]
  },
  {
   "cell_type": "code",
   "execution_count": 39,
   "id": "1580bdfb-f314-4e02-8dd8-ddf44534c20b",
   "metadata": {},
   "outputs": [
    {
     "name": "stdout",
     "output_type": "stream",
     "text": [
      "Accuracy on val set: 0.46089880040583286\n"
     ]
    }
   ],
   "source": [
    "# Evaluating the model\n",
    "accuracy = accuracy_score(y_val, y_pred_val)\n",
    "print(f\"Accuracy on val set: {accuracy}\")"
   ]
  },
  {
   "cell_type": "code",
   "execution_count": 40,
   "id": "b91cc448-9f23-465a-b0d9-a9553fc64039",
   "metadata": {},
   "outputs": [
    {
     "name": "stdout",
     "output_type": "stream",
     "text": [
      "f1 on val set: 0.16738869941930132\n"
     ]
    }
   ],
   "source": [
    "# Evaluating the model\n",
    "f1 = f1_score(y_val, y_pred_val)\n",
    "print(f\"f1 on val set: {f1}\")"
   ]
  },
  {
   "cell_type": "code",
   "execution_count": 41,
   "id": "f15ae1c1-c7ab-4efd-af8c-f26d9c098a5c",
   "metadata": {},
   "outputs": [
    {
     "name": "stdout",
     "output_type": "stream",
     "text": [
      "f1 on val set: 0.5778288176917875\n"
     ]
    }
   ],
   "source": [
    "# Evaluating the model\n",
    "f1 = f1_score(y_val, y_pred_val,average='weighted')\n",
    "print(f\"f1 on val set: {f1}\")"
   ]
  },
  {
   "cell_type": "code",
   "execution_count": 42,
   "id": "becb6f6f-687c-47ea-b819-a58e2328172d",
   "metadata": {},
   "outputs": [
    {
     "data": {
      "text/plain": [
       "0.19725925132018285"
      ]
     },
     "execution_count": 42,
     "metadata": {},
     "output_type": "execute_result"
    }
   ],
   "source": [
    "matthews_corrcoef(y_val, y_pred_val)"
   ]
  },
  {
   "cell_type": "code",
   "execution_count": null,
   "id": "4bc10802-b013-45b2-a537-d34ae18bafee",
   "metadata": {},
   "outputs": [],
   "source": []
  },
  {
   "cell_type": "markdown",
   "id": "2f60704f-d98e-4ddd-b4a8-822cf336d63d",
   "metadata": {},
   "source": [
    "### Threshold value"
   ]
  },
  {
   "cell_type": "code",
   "execution_count": 66,
   "id": "b5042b14-34c8-44f0-977e-5a5fdaecde50",
   "metadata": {},
   "outputs": [],
   "source": [
    "# # # Predict probabilities for the positive class\n",
    "# y_prob_test = catboost_model.predict_proba(X_test)[:, 1]"
   ]
  },
  {
   "cell_type": "code",
   "execution_count": null,
   "id": "c35c7c8c-3021-4e2c-a925-92f7ec26e218",
   "metadata": {},
   "outputs": [],
   "source": [
    "# # Calculate F1 scores for different threshold values\n",
    "# threshold_values = np.arange(0, 1.0, 0.001)\n",
    "# f1_scores = []\n",
    "# for threshold in threshold_values:\n",
    "#     y_pred_threshold = (y_prob_test > threshold).astype(int)\n",
    "#     f1_scores.append(f1_score(y_test, y_pred_threshold))\n",
    "\n",
    "# # Find the threshold value with the highest F1 score\n",
    "# best_threshold = threshold_values[np.argmax(f1_scores)]\n",
    "# best_f1_score = np.max(f1_scores)\n",
    "\n",
    "# print(\"Best Threshold:\", best_threshold)\n",
    "# print(\"Best F1 Score:\", best_f1_score)"
   ]
  },
  {
   "cell_type": "markdown",
   "id": "1910e219-559d-47a3-9291-0f6026615094",
   "metadata": {},
   "source": [
    "### Hyperparameter Tunning"
   ]
  },
  {
   "cell_type": "code",
   "execution_count": null,
   "id": "39a4de3b-493b-4a62-bb21-873c56eb3a4c",
   "metadata": {},
   "outputs": [
    {
     "name": "stderr",
     "output_type": "stream",
     "text": [
      "[I 2024-04-16 05:52:42,722] A new study created in memory with name: no-name-1801edb6-0b14-4ef2-bdd5-487691502972\n",
      "[I 2024-04-16 05:55:02,175] Trial 0 finished with value: 0.7800476066257989 and parameters: {'max_depth': 5, 'colsample_bylevel': 0.9655000144869412, 'random_strength': 7.587945476302646, 'bagging_temperature': 3.073560724145776}. Best is trial 0 with value: 0.7800476066257989.\n",
      "[I 2024-04-16 05:56:38,421] Trial 1 finished with value: 0.7800476066257989 and parameters: {'max_depth': 4, 'colsample_bylevel': 0.40919616423534183, 'random_strength': 1.5227525095137953, 'bagging_temperature': 4.3576454997196885}. Best is trial 0 with value: 0.7800476066257989.\n",
      "[I 2024-04-16 05:59:40,544] Trial 2 finished with value: 0.781082693738097 and parameters: {'max_depth': 7, 'colsample_bylevel': 0.7956508044572318, 'random_strength': 1.185260448662222, 'bagging_temperature': 4.855567290377572}. Best is trial 2 with value: 0.781082693738097.\n",
      "[I 2024-04-16 06:02:52,438] Trial 3 finished with value: 0.7808079239639434 and parameters: {'max_depth': 9, 'colsample_bylevel': 0.44863737747479326, 'random_strength': 2.636424704863906, 'bagging_temperature': 1.0803416472964824}. Best is trial 2 with value: 0.781082693738097.\n",
      "[I 2024-04-16 06:04:58,226] Trial 4 finished with value: 0.7800476066257989 and parameters: {'max_depth': 5, 'colsample_bylevel': 0.6673295021425665, 'random_strength': 4.887505167779041, 'bagging_temperature': 1.597899872950601}. Best is trial 2 with value: 0.781082693738097.\n",
      "[I 2024-04-16 06:07:22,558] Trial 5 finished with value: 0.7801427697328166 and parameters: {'max_depth': 7, 'colsample_bylevel': 0.3976457024564293, 'random_strength': 3.629301836816963, 'bagging_temperature': 1.95853684780972}. Best is trial 2 with value: 0.781082693738097.\n",
      "[I 2024-04-16 06:09:58,137] Trial 6 finished with value: 0.7804360251490161 and parameters: {'max_depth': 6, 'colsample_bylevel': 0.8496231729751094, 'random_strength': 2.7970640394252375, 'bagging_temperature': 2.668325304385336}. Best is trial 2 with value: 0.781082693738097.\n",
      "[I 2024-04-16 06:12:12,070] Trial 7 finished with value: 0.7800476066257989 and parameters: {'max_depth': 7, 'colsample_bylevel': 0.3325152889039984, 'random_strength': 6.467903667112945, 'bagging_temperature': 1.0185157936989992}. Best is trial 2 with value: 0.781082693738097.\n",
      "[I 2024-04-16 06:13:49,107] Trial 8 finished with value: 0.7800476066257989 and parameters: {'max_depth': 3, 'colsample_bylevel': 0.9642198760773333, 'random_strength': 9.690688297671034, 'bagging_temperature': 4.080307270959013}. Best is trial 2 with value: 0.781082693738097.\n",
      "[I 2024-04-16 06:15:39,279] Trial 9 finished with value: 0.7800476066257989 and parameters: {'max_depth': 5, 'colsample_bylevel': 0.3683704798044687, 'random_strength': 7.158097238609412, 'bagging_temperature': 2.3127319699500863}. Best is trial 2 with value: 0.781082693738097.\n",
      "[I 2024-04-16 06:21:18,421] Trial 10 finished with value: 0.7833507689519683 and parameters: {'max_depth': 10, 'colsample_bylevel': 0.6911956287802271, 'random_strength': 1.0679258738466366, 'bagging_temperature': 4.784439744721293}. Best is trial 10 with value: 0.7833507689519683.\n",
      "[I 2024-04-16 06:27:00,831] Trial 11 finished with value: 0.7831847846661564 and parameters: {'max_depth': 10, 'colsample_bylevel': 0.703218998004135, 'random_strength': 1.1328597564633878, 'bagging_temperature': 4.935757434863935}. Best is trial 10 with value: 0.7833507689519683.\n",
      "[I 2024-04-16 06:32:17,400] Trial 12 finished with value: 0.7835615085082036 and parameters: {'max_depth': 10, 'colsample_bylevel': 0.6014533871759548, 'random_strength': 4.498800653222277, 'bagging_temperature': 3.5493971277417327}. Best is trial 12 with value: 0.7835615085082036.\n",
      "[I 2024-04-16 06:35:58,732] Trial 13 finished with value: 0.7826472398932895 and parameters: {'max_depth': 9, 'colsample_bylevel': 0.5477174300853067, 'random_strength': 5.2544260599215376, 'bagging_temperature': 3.459409358818593}. Best is trial 12 with value: 0.7835615085082036.\n",
      "[I 2024-04-16 06:41:08,514] Trial 14 finished with value: 0.7832437283363111 and parameters: {'max_depth': 10, 'colsample_bylevel': 0.5484066479996934, 'random_strength': 3.7818551375774403, 'bagging_temperature': 3.81865903477888}. Best is trial 12 with value: 0.7835615085082036.\n",
      "[I 2024-04-16 06:44:42,250] Trial 15 finished with value: 0.781394968296175 and parameters: {'max_depth': 9, 'colsample_bylevel': 0.5623903834934498, 'random_strength': 9.305634269324253, 'bagging_temperature': 3.314598395894817}. Best is trial 12 with value: 0.7835615085082036.\n",
      "[I 2024-04-16 06:48:10,409] Trial 16 finished with value: 0.7819990991359895 and parameters: {'max_depth': 8, 'colsample_bylevel': 0.7438877779712437, 'random_strength': 4.224548999937282, 'bagging_temperature': 4.451846888347016}. Best is trial 12 with value: 0.7835615085082036.\n",
      "[I 2024-04-16 06:53:24,105] Trial 17 finished with value: 0.7834167379996049 and parameters: {'max_depth': 10, 'colsample_bylevel': 0.6036456545585, 'random_strength': 6.126719911628069, 'bagging_temperature': 3.668279032917283}. Best is trial 12 with value: 0.7835615085082036.\n",
      "[I 2024-04-16 06:56:34,286] Trial 18 finished with value: 0.7815418361584233 and parameters: {'max_depth': 8, 'colsample_bylevel': 0.593831411749719, 'random_strength': 6.325968914486018, 'bagging_temperature': 3.701247554986609}. Best is trial 12 with value: 0.7835615085082036.\n",
      "[I 2024-04-16 06:59:23,288] Trial 19 finished with value: 0.780165451074453 and parameters: {'max_depth': 8, 'colsample_bylevel': 0.46656366241002556, 'random_strength': 8.272594310024477, 'bagging_temperature': 2.8240975741324847}. Best is trial 12 with value: 0.7835615085082036.\n",
      "[I 2024-04-16 07:02:53,379] Trial 20 finished with value: 0.7803241213209781 and parameters: {'max_depth': 9, 'colsample_bylevel': 0.6031162950206063, 'random_strength': 6.02918724738983, 'bagging_temperature': 2.1806672209780853}. Best is trial 12 with value: 0.7835615085082036.\n",
      "[I 2024-04-16 07:08:26,218] Trial 21 finished with value: 0.7831982338210096 and parameters: {'max_depth': 10, 'colsample_bylevel': 0.660195166591416, 'random_strength': 2.7389721299067267, 'bagging_temperature': 4.283804472567551}. Best is trial 12 with value: 0.7835615085082036.\n",
      "[I 2024-04-16 07:14:12,983] Trial 22 finished with value: 0.7835167007049213 and parameters: {'max_depth': 10, 'colsample_bylevel': 0.7565887913416341, 'random_strength': 5.0238864464426625, 'bagging_temperature': 3.9089756920795793}. Best is trial 12 with value: 0.7835615085082036.\n",
      "[I 2024-04-16 07:19:31,116] Trial 23 finished with value: 0.7805770676077509 and parameters: {'max_depth': 10, 'colsample_bylevel': 0.8083340274011981, 'random_strength': 4.541329557611519, 'bagging_temperature': 0.3003851191203384}. Best is trial 12 with value: 0.7835615085082036.\n",
      "[I 2024-04-16 07:52:21,995] Trial 31 finished with value: 0.7833423881727334 and parameters: {'max_depth': 10, 'colsample_bylevel': 0.7249188205384498, 'random_strength': 5.727498694167443, 'bagging_temperature': 3.6618281203359295}. Best is trial 12 with value: 0.7835615085082036.\n",
      "[I 2024-04-16 07:57:56,040] Trial 32 finished with value: 0.7833157582547947 and parameters: {'max_depth': 10, 'colsample_bylevel': 0.6296934780639011, 'random_strength': 4.91347994231196, 'bagging_temperature': 3.9227108059197}. Best is trial 12 with value: 0.7835615085082036.\n",
      "[I 2024-04-16 08:01:40,981] Trial 33 finished with value: 0.7825466006746941 and parameters: {'max_depth': 9, 'colsample_bylevel': 0.5249552425729932, 'random_strength': 6.744918803085733, 'bagging_temperature': 4.536842729075882}. Best is trial 12 with value: 0.7835615085082036.\n",
      "[I 2024-04-16 08:05:44,800] Trial 34 finished with value: 0.7819522989918859 and parameters: {'max_depth': 9, 'colsample_bylevel': 0.7848708128651286, 'random_strength': 7.730564290319973, 'bagging_temperature': 3.4726714263523872}. Best is trial 12 with value: 0.7835615085082036.\n",
      "[I 2024-04-16 08:10:29,921] Trial 35 finished with value: 0.7831337210260128 and parameters: {'max_depth': 10, 'colsample_bylevel': 0.4413976543884911, 'random_strength': 2.153304133627623, 'bagging_temperature': 4.165339403996258}. Best is trial 12 with value: 0.7835615085082036.\n",
      "[I 2024-04-16 08:15:49,010] Trial 36 finished with value: 0.7829987571709589 and parameters: {'max_depth': 10, 'colsample_bylevel': 0.5874431752116921, 'random_strength': 4.571969167604814, 'bagging_temperature': 4.567139144800731}. Best is trial 12 with value: 0.7835615085082036.\n",
      "[I 2024-04-16 08:17:23,986] Trial 37 finished with value: 0.7800476066257989 and parameters: {'max_depth': 3, 'colsample_bylevel': 0.6387463863978984, 'random_strength': 6.151595473698372, 'bagging_temperature': 2.801798815887048}. Best is trial 12 with value: 0.7835615085082036.\n",
      "[I 2024-04-16 08:19:14,407] Trial 38 finished with value: 0.7800476066257989 and parameters: {'max_depth': 4, 'colsample_bylevel': 0.6822138060976117, 'random_strength': 5.045375568743757, 'bagging_temperature': 2.36453318487978}. Best is trial 12 with value: 0.7835615085082036.\n",
      "[I 2024-04-16 08:23:13,557] Trial 39 finished with value: 0.7812939751938999 and parameters: {'max_depth': 9, 'colsample_bylevel': 0.8273776556135726, 'random_strength': 5.787050701695596, 'bagging_temperature': 2.539051672704103}. Best is trial 12 with value: 0.7835615085082036.\n",
      "[I 2024-04-16 08:25:38,710] Trial 40 finished with value: 0.7801455471070065 and parameters: {'max_depth': 7, 'colsample_bylevel': 0.4096130206147343, 'random_strength': 3.2998526923517666, 'bagging_temperature': 1.8672338206625478}. Best is trial 12 with value: 0.7835615085082036.\n",
      "[I 2024-04-16 08:31:17,490] Trial 41 finished with value: 0.7831596965058675 and parameters: {'max_depth': 10, 'colsample_bylevel': 0.692612567169712, 'random_strength': 4.377885935154344, 'bagging_temperature': 4.758106178003069}. Best is trial 12 with value: 0.7835615085082036.\n",
      "[I 2024-04-16 08:37:10,106] Trial 42 finished with value: 0.7831907588693942 and parameters: {'max_depth': 10, 'colsample_bylevel': 0.7683830924217397, 'random_strength': 1.9064287289439503, 'bagging_temperature': 4.660086705630917}. Best is trial 12 with value: 0.7835615085082036.\n",
      "[I 2024-04-16 08:41:14,292] Trial 43 finished with value: 0.782454556645193 and parameters: {'max_depth': 9, 'colsample_bylevel': 0.7110885926727385, 'random_strength': 7.501254924059562, 'bagging_temperature': 4.998056221549006}. Best is trial 12 with value: 0.7835615085082036.\n",
      "[I 2024-04-16 08:46:42,397] Trial 44 finished with value: 0.7835952283011106 and parameters: {'max_depth': 10, 'colsample_bylevel': 0.6623778342761315, 'random_strength': 6.438529964651451, 'bagging_temperature': 3.9749763644199247}. Best is trial 44 with value: 0.7835952283011106.\n",
      "[I 2024-04-16 08:51:58,399] Trial 45 finished with value: 0.7833909465020577 and parameters: {'max_depth': 10, 'colsample_bylevel': 0.5767813784722957, 'random_strength': 6.718925816311732, 'bagging_temperature': 4.251418423214373}. Best is trial 44 with value: 0.7835952283011106.\n",
      "[I 2024-04-16 08:55:09,049] Trial 46 finished with value: 0.7822464243537594 and parameters: {'max_depth': 9, 'colsample_bylevel': 0.30018347861329897, 'random_strength': 5.50655406128568, 'bagging_temperature': 4.011497477265221}. Best is trial 44 with value: 0.7835952283011106.\n",
      "[I 2024-04-16 09:00:07,272] Trial 47 finished with value: 0.7833272972706021 and parameters: {'max_depth': 10, 'colsample_bylevel': 0.5235110326141708, 'random_strength': 4.839093135193921, 'bagging_temperature': 3.6526924473692977}. Best is trial 44 with value: 0.7835952283011106.\n",
      "[I 2024-04-16 09:02:09,433] Trial 48 finished with value: 0.7801421909141311 and parameters: {'max_depth': 5, 'colsample_bylevel': 0.6035938741042424, 'random_strength': 4.081086266699818, 'bagging_temperature': 3.2404511062212418}. Best is trial 44 with value: 0.7835952283011106.\n",
      "[I 2024-04-16 09:06:01,584] Trial 49 finished with value: 0.7825915811745024 and parameters: {'max_depth': 9, 'colsample_bylevel': 0.6601168408189804, 'random_strength': 6.477213567225349, 'bagging_temperature': 3.5332896376737475}. Best is trial 44 with value: 0.7835952283011106.\n",
      "[I 2024-04-16 09:08:12,941] Trial 50 finished with value: 0.7801421909141311 and parameters: {'max_depth': 6, 'colsample_bylevel': 0.46891237109396733, 'random_strength': 5.859431642818123, 'bagging_temperature': 2.9483870126336327}. Best is trial 44 with value: 0.7835952283011106.\n",
      "[I 2024-04-16 09:13:24,982] Trial 51 finished with value: 0.7831946878625559 and parameters: {'max_depth': 10, 'colsample_bylevel': 0.5609784409430923, 'random_strength': 6.953862926736301, 'bagging_temperature': 4.3129455716875595}. Best is trial 44 with value: 0.7835952283011106.\n",
      "[I 2024-04-16 09:18:37,242] Trial 52 finished with value: 0.7833452695527622 and parameters: {'max_depth': 10, 'colsample_bylevel': 0.5765948874877127, 'random_strength': 6.656324686155624, 'bagging_temperature': 3.916672521915385}. Best is trial 44 with value: 0.7835952283011106.\n",
      "[I 2024-04-16 09:23:56,751] Trial 53 finished with value: 0.7835260234519646 and parameters: {'max_depth': 10, 'colsample_bylevel': 0.6097649246745677, 'random_strength': 7.303832210420904, 'bagging_temperature': 4.176338032174281}. Best is trial 44 with value: 0.7835952283011106.\n",
      "[I 2024-04-16 09:29:06,673] Trial 54 finished with value: 0.7829058144214737 and parameters: {'max_depth': 10, 'colsample_bylevel': 0.6179551794308281, 'random_strength': 7.721261703300312, 'bagging_temperature': 3.3453971640921636}. Best is trial 44 with value: 0.7835952283011106.\n",
      "[I 2024-04-16 09:32:45,975] Trial 55 finished with value: 0.7823983336476878 and parameters: {'max_depth': 9, 'colsample_bylevel': 0.534575822369781, 'random_strength': 8.25701929762581, 'bagging_temperature': 3.7827085475773883}. Best is trial 44 with value: 0.7835952283011106.\n",
      "[I 2024-04-16 09:38:29,682] Trial 56 finished with value: 0.7830366474911323 and parameters: {'max_depth': 10, 'colsample_bylevel': 0.7341218086428475, 'random_strength': 7.444451068184423, 'bagging_temperature': 4.349811364183593}. Best is trial 44 with value: 0.7835952283011106.\n",
      "[I 2024-04-16 09:41:49,629] Trial 57 finished with value: 0.7816886413889116 and parameters: {'max_depth': 8, 'colsample_bylevel': 0.6686622274577185, 'random_strength': 5.264483284142527, 'bagging_temperature': 4.032587767371346}. Best is trial 44 with value: 0.7835952283011106.\n",
      "[I 2024-04-16 10:19:13,870] Trial 65 finished with value: 0.7826764932784006 and parameters: {'max_depth': 9, 'colsample_bylevel': 0.9943695257542737, 'random_strength': 6.970417239021725, 'bagging_temperature': 3.770477477920732}. Best is trial 44 with value: 0.7835952283011106.\n"
     ]
    }
   ],
   "source": [
    "def objective(trial):\n",
    "    params = {\n",
    "        \"iterations\":500,\n",
    "        #\"logging_level\":'silent',\n",
    "        #\"verbose\":0,\n",
    "        \"learning_rate\": 0.01,\n",
    "        \"max_depth\": trial.suggest_int(\"max_depth\", 3,10),\n",
    "        # \"min_data_in_leaf\": trial.suggest_int(\"min_data_in_leaf\", 20,100),\n",
    "        \"random_state\": 42,\n",
    "        # \"subsample\": trial.suggest_uniform('subsample', 0.5, 1.0),\n",
    "        \"colsample_bylevel\": trial.suggest_float('colsample_bylevel', 0.3, 1.0),\n",
    "        \"random_strength\": trial.suggest_float(\"random_strength\", 1, 10.0),\n",
    "        \"bagging_temperature\": trial.suggest_float(\"bagging_temperature\", 0.2, 5.0),\n",
    "        \"bootstrap_type\": 'Bayesian',\n",
    "        \"eval_metric\":'Logloss',\n",
    "        \"auto_class_weights\":'Balanced'\n",
    "    }\n",
    "\n",
    "    model = catboost.CatBoostClassifier(**params, silent=True)\n",
    "    # model.fit(X_train, y_train)\n",
    "    model.fit(pool)\n",
    "    # y_pred_test = model.predict_proba(X_test)\n",
    "    y_pred_val = model.predict(X_val)\n",
    "    f1 = f1_score(y_val, y_pred_val)\n",
    "    return f1\n",
    "\n",
    "sampler = TPESampler(seed=42)\n",
    "study = optuna.create_study(direction='maximize',sampler=sampler)\n",
    "study.optimize(objective, n_trials=100)\n",
    "\n",
    "print('Best hyperparameters:', study.best_params)\n",
    "print('Best F1:', study.best_value)"
   ]
  },
  {
   "cell_type": "code",
   "execution_count": null,
   "id": "5031f1de-4334-4c55-8d2f-e5c94f4dbe83",
   "metadata": {},
   "outputs": [],
   "source": [
    "{'max_depth': 10, 'colsample_bylevel': 0.43515206169674575, 'random_strength': 1.5407483551397285, 'bagging_temperature': 2.7711981398969723}"
   ]
  }
 ],
 "metadata": {
  "kernelspec": {
   "display_name": "Python 3 (ipykernel)",
   "language": "python",
   "name": "python3"
  },
  "language_info": {
   "codemirror_mode": {
    "name": "ipython",
    "version": 3
   },
   "file_extension": ".py",
   "mimetype": "text/x-python",
   "name": "python",
   "nbconvert_exporter": "python",
   "pygments_lexer": "ipython3",
   "version": "3.10.12"
  }
 },
 "nbformat": 4,
 "nbformat_minor": 5
}
