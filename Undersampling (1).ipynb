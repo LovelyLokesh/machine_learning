{
 "cells": [
  {
   "cell_type": "code",
   "execution_count": 1,
   "id": "99af0e68-02b6-4280-a63a-3626a8d72e79",
   "metadata": {},
   "outputs": [],
   "source": [
    "import numpy as np\n",
    "import pandas as pd\n",
    "import catboost\n",
    "import imblearn\n",
    "import seaborn as sns\n",
    "from catboost import CatBoostClassifier, Pool\n",
    "from sklearn.model_selection import train_test_split\n",
    "from sklearn.metrics import f1_score,confusion_matrix,accuracy_score\n",
    "from sklearn.feature_extraction.text import TfidfVectorizer\n",
    "import json\n",
    "import matplotlib.pyplot as plt\n",
    "import optuna\n",
    "from optuna.samplers import TPESampler\n",
    "from sklearn.metrics import matthews_corrcoef"
   ]
  },
  {
   "cell_type": "code",
   "execution_count": 2,
   "id": "ed55f3cb-7e85-44e7-8f21-d2df9faf9270",
   "metadata": {},
   "outputs": [
    {
     "data": {
      "text/plain": [
       "(335113, 21)"
      ]
     },
     "execution_count": 2,
     "metadata": {},
     "output_type": "execute_result"
    }
   ],
   "source": [
    "df= pd.read_csv('Top_df.csv')\n",
    "df.shape"
   ]
  },
  {
   "cell_type": "code",
   "execution_count": 3,
   "id": "d98be4f0-7968-41e4-aa68-63c6a1227e78",
   "metadata": {},
   "outputs": [],
   "source": [
    "# Selecting columns with data type 'object' (string) for df1\n",
    "df1 = df.select_dtypes(include='object')\n",
    "\n",
    "# Selecting columns with data type 'int64' for df2\n",
    "df2 = df.select_dtypes(include=['int64','float64'])"
   ]
  },
  {
   "cell_type": "code",
   "execution_count": 4,
   "id": "e69e1f7a-c042-47e9-8680-f8635949046e",
   "metadata": {},
   "outputs": [],
   "source": [
    "# Convert all columns to categorical data type\n",
    "df2 = df2.astype('category')"
   ]
  },
  {
   "cell_type": "code",
   "execution_count": 5,
   "id": "fc3e0a10-a2ef-4b40-8319-fd61f0c47281",
   "metadata": {},
   "outputs": [],
   "source": [
    "df2['target'] = df2['target'].astype('int')"
   ]
  },
  {
   "cell_type": "markdown",
   "id": "6dfd9899-0be2-4343-99e0-595ab6769a52",
   "metadata": {},
   "source": [
    "### TF-IDF"
   ]
  },
  {
   "cell_type": "code",
   "execution_count": 6,
   "id": "63a8f4b2-f29b-4feb-8a25-da56b066bc1c",
   "metadata": {},
   "outputs": [],
   "source": [
    "# List of columns to transform with TF-IDF\n",
    "columns_to_transform = ['os_105','os_108', 'os_109', 'os_111']\n",
    "\n",
    "# Concatenate the text from these columns into a single series of strings\n",
    "# Each row will contain the concatenated text from all specified columns\n",
    "text_data = df1[columns_to_transform].apply(lambda x: ' '.join(x.dropna()), axis=1)\n",
    "\n",
    "# Initialize the TF-IDF Vectorizer\n",
    "vectorizer = TfidfVectorizer(ngram_range=(1, 2),max_features=500,max_df=0.99, min_df=0.01)\n",
    "\n",
    "# Fit and transform the concatenated text data to get the TF-IDF features\n",
    "tfidf_matrix = vectorizer.fit_transform(text_data)"
   ]
  },
  {
   "cell_type": "code",
   "execution_count": 7,
   "id": "44982a49-aba5-4559-befd-73585bfce131",
   "metadata": {},
   "outputs": [],
   "source": [
    "tfidf_df = pd.DataFrame(tfidf_matrix.toarray(), columns=vectorizer.get_feature_names_out())"
   ]
  },
  {
   "cell_type": "code",
   "execution_count": 8,
   "id": "1c310225-00f6-4496-977a-419862ffe2ed",
   "metadata": {},
   "outputs": [
    {
     "data": {
      "text/plain": [
       "((335113, 17), (335113, 193))"
      ]
     },
     "execution_count": 8,
     "metadata": {},
     "output_type": "execute_result"
    }
   ],
   "source": [
    "df2.shape,tfidf_df.shape"
   ]
  },
  {
   "cell_type": "code",
   "execution_count": 9,
   "id": "5b5095d0-391b-40ab-83bb-38ae868e069e",
   "metadata": {},
   "outputs": [],
   "source": [
    "# Concatenate the dataframes\n",
    "Top_df = pd.concat([df2.reset_index(drop=True),tfidf_df.reset_index(drop=True)], axis=1)"
   ]
  },
  {
   "cell_type": "code",
   "execution_count": 10,
   "id": "110166c1-d3c9-43c1-81e6-72f1158ebbc3",
   "metadata": {},
   "outputs": [
    {
     "data": {
      "text/plain": [
       "(335113, 210)"
      ]
     },
     "execution_count": 10,
     "metadata": {},
     "output_type": "execute_result"
    }
   ],
   "source": [
    "Top_df.shape"
   ]
  },
  {
   "cell_type": "code",
   "execution_count": 11,
   "id": "4f1f3976-38db-4ad7-a187-369677d4c2ed",
   "metadata": {},
   "outputs": [],
   "source": [
    "# Splitting the dataset into X and y\n",
    "X = Top_df.drop('target', axis=1)  # Features: all columns except 'target'\n",
    "y = Top_df['target']"
   ]
  },
  {
   "cell_type": "code",
   "execution_count": 12,
   "id": "ea52eb27-a24f-4d3f-b607-414debe6fe41",
   "metadata": {},
   "outputs": [],
   "source": [
    "df_0 = Top_df[df['target'] == 0]\n",
    "df_1 = Top_df[df['target'] == 1]"
   ]
  },
  {
   "cell_type": "code",
   "execution_count": 13,
   "id": "636c45df-74e3-4b02-9179-157bcbc6a5d7",
   "metadata": {},
   "outputs": [],
   "source": [
    "# Find the size of the smaller group\n",
    "min_size = min(len(df_0), len(df_1))"
   ]
  },
  {
   "cell_type": "code",
   "execution_count": 14,
   "id": "f33fb245-dfac-4fad-80c4-9fc0b4d43427",
   "metadata": {},
   "outputs": [],
   "source": [
    "df_0_sampled = df_0.sample(n=min_size, random_state=42)\n",
    "df_1_sampled = df_1.sample(n=min_size, random_state=42)"
   ]
  },
  {
   "cell_type": "code",
   "execution_count": 15,
   "id": "c213d3bb-516b-4bff-a425-3340ccda68ca",
   "metadata": {},
   "outputs": [],
   "source": [
    "# Combine the two datasets back\n",
    "df_balanced = pd.concat([df_0_sampled, df_1_sampled])"
   ]
  },
  {
   "cell_type": "code",
   "execution_count": 16,
   "id": "fbf149ba-6266-4fd9-86e8-ffa92db161cc",
   "metadata": {},
   "outputs": [
    {
     "data": {
      "text/plain": [
       "(35880, 210)"
      ]
     },
     "execution_count": 16,
     "metadata": {},
     "output_type": "execute_result"
    }
   ],
   "source": [
    "df_balanced.shape"
   ]
  },
  {
   "cell_type": "code",
   "execution_count": 17,
   "id": "44969187-87eb-430b-9064-f648f0d98e71",
   "metadata": {},
   "outputs": [],
   "source": [
    "# Assuming df is your original DataFrame\n",
    "# Identify the indices of the downsampled df_0_sampled\n",
    "sampled_indices = df_0_sampled.index\n",
    "\n",
    "# Filter the original df_0 to get the rows that were not included in the downsampled subset\n",
    "df_0_remaining = df_0.drop(sampled_indices)\n",
    "\n",
    "# df_0_remaining now contains all the rows with target 0 that were not part of the balanced dataset\n"
   ]
  },
  {
   "cell_type": "code",
   "execution_count": 18,
   "id": "66a88b60-3261-46cf-9aeb-64cb3c22e798",
   "metadata": {},
   "outputs": [
    {
     "data": {
      "text/plain": [
       "(299233, 210)"
      ]
     },
     "execution_count": 18,
     "metadata": {},
     "output_type": "execute_result"
    }
   ],
   "source": [
    "df_0_remaining.shape"
   ]
  },
  {
   "cell_type": "code",
   "execution_count": 19,
   "id": "949ad247-58b4-46e3-a77f-14a9975e4baa",
   "metadata": {},
   "outputs": [],
   "source": [
    "# Assuming df is your DataFrame containing the remaining values of target 0\n",
    "X_remaining = df_0_remaining.drop('target', axis=1)  # Features\n",
    "y_remaining = df_0_remaining['target'] "
   ]
  },
  {
   "cell_type": "code",
   "execution_count": 65,
   "id": "7c8368d3-024e-4cf1-95be-7ddc3ce5412a",
   "metadata": {},
   "outputs": [],
   "source": [
    "# # Splitting the dataset into X and y\n",
    "# X = df.drop('target', axis=1)  # Features: all columns except 'target'\n",
    "# y = df['target']"
   ]
  },
  {
   "cell_type": "code",
   "execution_count": 66,
   "id": "543e3c54-27f1-4b5d-8384-9a2b0d250466",
   "metadata": {},
   "outputs": [],
   "source": [
    "# # Separate majority and minority classes\n",
    "# df_majority = df[df.target==0]\n",
    "# df_minority = df[df.target==1]"
   ]
  },
  {
   "cell_type": "code",
   "execution_count": 67,
   "id": "cd2b1c24-616a-46b1-9738-7e6866370d08",
   "metadata": {},
   "outputs": [],
   "source": [
    "# df_minority.shape"
   ]
  },
  {
   "cell_type": "code",
   "execution_count": 68,
   "id": "7aef34c7-1813-4526-969f-536e6a659f0b",
   "metadata": {},
   "outputs": [],
   "source": [
    "# df_majority.shape"
   ]
  },
  {
   "cell_type": "code",
   "execution_count": 69,
   "id": "2badc332-b116-4e1c-bc61-010a8ed3deef",
   "metadata": {},
   "outputs": [],
   "source": [
    "# # Downsample majority class\n",
    "# df_majority_downsampled = df_majority.sample(n=17940, replace=True, random_state=123)"
   ]
  },
  {
   "cell_type": "code",
   "execution_count": 70,
   "id": "4af43826-b711-442b-ba97-687400ac0b50",
   "metadata": {},
   "outputs": [],
   "source": [
    "# df_majority_downsampled.shape"
   ]
  },
  {
   "cell_type": "code",
   "execution_count": 71,
   "id": "442c8952-d6aa-4637-9802-6a7a530ef260",
   "metadata": {},
   "outputs": [],
   "source": [
    "# # Combine minority class with downsampled majority class\n",
    "# df_downsampled = pd.concat([df_majority_downsampled, df_minority])"
   ]
  },
  {
   "cell_type": "code",
   "execution_count": 72,
   "id": "2e4fd54e-7c36-4a51-8552-e1e3fd2cbe2d",
   "metadata": {},
   "outputs": [],
   "source": [
    "# df_downsampled.shape"
   ]
  },
  {
   "cell_type": "code",
   "execution_count": 22,
   "id": "e4746cf0-0095-4448-9532-7e6e555a0aab",
   "metadata": {},
   "outputs": [],
   "source": [
    "# Splitting the dataset into X and y\n",
    "X = df_balanced.drop('target', axis=1)  # Features: all columns except 'target'\n",
    "y = df_balanced['target']"
   ]
  },
  {
   "cell_type": "code",
   "execution_count": 23,
   "id": "203e8bb4-60d2-4e03-83df-13dd5db3ba03",
   "metadata": {},
   "outputs": [
    {
     "data": {
      "text/plain": [
       "target\n",
       "0    17940\n",
       "1    17940\n",
       "Name: count, dtype: int64"
      ]
     },
     "execution_count": 23,
     "metadata": {},
     "output_type": "execute_result"
    }
   ],
   "source": [
    "df_balanced['target'].value_counts()"
   ]
  },
  {
   "cell_type": "code",
   "execution_count": 24,
   "id": "b445195a-d9d4-45c4-a4f6-fe197ee04415",
   "metadata": {},
   "outputs": [
    {
     "data": {
      "text/plain": [
       "target\n",
       "0    0.5\n",
       "1    0.5\n",
       "Name: proportion, dtype: float64"
      ]
     },
     "execution_count": 24,
     "metadata": {},
     "output_type": "execute_result"
    }
   ],
   "source": [
    "df_balanced['target'].value_counts(normalize=True)"
   ]
  },
  {
   "cell_type": "code",
   "execution_count": 27,
   "id": "7e333f02-0b59-434d-bf48-bc2a9c8bd50c",
   "metadata": {},
   "outputs": [],
   "source": [
    "# Split the dataset into 70% training and 30% temporary test set\n",
    "X_train, X_temp, y_train, y_temp = train_test_split(X, y, test_size=0.3, random_state=42)\n",
    "\n",
    "# Split the temporary test set into 50% test and 50% validation, which makes it 15% of the original dataset each\n",
    "X_test, X_val, y_test, y_val = train_test_split(X_temp, y_temp, test_size=0.5, random_state=42)"
   ]
  },
  {
   "cell_type": "code",
   "execution_count": 59,
   "id": "a965c6fd-0552-4fb3-9c3f-3f79dd284d63",
   "metadata": {},
   "outputs": [
    {
     "data": {
      "text/plain": [
       "((25116, 209), (5382, 209), (5382, 209))"
      ]
     },
     "execution_count": 59,
     "metadata": {},
     "output_type": "execute_result"
    }
   ],
   "source": [
    "X_train.shape,X_test.shape,X_val.shape"
   ]
  },
  {
   "cell_type": "code",
   "execution_count": 28,
   "id": "314f34ba-1e7c-4b9c-84bd-c5d8749d920f",
   "metadata": {},
   "outputs": [],
   "source": [
    "categorical_features = ['ContactMonth', 'ContactHour', 'os_112', 'os_110', 's_247_71',\n",
    "       's_239_8', 's_247_75', 's_239_7', 's_248_74', 's_247_77', 's_239_9',\n",
    "       's_241_68', 's_241_69', 's_247_78', 's_239_10', 's_247_73']"
   ]
  },
  {
   "cell_type": "code",
   "execution_count": 50,
   "id": "79d8944f-4b65-410c-a118-aaaf776bd0ba",
   "metadata": {},
   "outputs": [],
   "source": [
    "for feature in categorical_features:\n",
    "    X_train[feature] = X_train[feature].astype(str)\n",
    "    X_test[feature] = X_test[feature].astype(str)\n",
    "    X_val[feature] = X_val[feature].astype(str)\n",
    "    X_remaining[feature] = X_remaining[feature].astype(str)"
   ]
  },
  {
   "cell_type": "code",
   "execution_count": 30,
   "id": "2fbbf37d-ab70-4958-b337-ebb5dffa201a",
   "metadata": {},
   "outputs": [
    {
     "name": "stdout",
     "output_type": "stream",
     "text": [
      "0:\tlearn: 0.6839483\ttest: 0.6842364\tbest: 0.6842364 (0)\ttotal: 80.5ms\tremaining: 1m 20s\n",
      "1:\tlearn: 0.6751177\ttest: 0.6756032\tbest: 0.6756032 (1)\ttotal: 104ms\tremaining: 52s\n",
      "2:\tlearn: 0.6673512\ttest: 0.6680688\tbest: 0.6680688 (2)\ttotal: 128ms\tremaining: 42.5s\n",
      "3:\tlearn: 0.6593070\ttest: 0.6602389\tbest: 0.6602389 (3)\ttotal: 151ms\tremaining: 37.6s\n",
      "4:\tlearn: 0.6521301\ttest: 0.6532659\tbest: 0.6532659 (4)\ttotal: 174ms\tremaining: 34.6s\n",
      "5:\tlearn: 0.6452184\ttest: 0.6465314\tbest: 0.6465314 (5)\ttotal: 197ms\tremaining: 32.6s\n",
      "6:\tlearn: 0.6385963\ttest: 0.6400760\tbest: 0.6400760 (6)\ttotal: 220ms\tremaining: 31.3s\n",
      "7:\tlearn: 0.6324013\ttest: 0.6340582\tbest: 0.6340582 (7)\ttotal: 243ms\tremaining: 30.2s\n",
      "8:\tlearn: 0.6264905\ttest: 0.6283297\tbest: 0.6283297 (8)\ttotal: 268ms\tremaining: 29.5s\n",
      "9:\tlearn: 0.6206612\ttest: 0.6226524\tbest: 0.6226524 (9)\ttotal: 293ms\tremaining: 29s\n",
      "10:\tlearn: 0.6151982\ttest: 0.6173404\tbest: 0.6173404 (10)\ttotal: 318ms\tremaining: 28.6s\n",
      "11:\tlearn: 0.6101541\ttest: 0.6124269\tbest: 0.6124269 (11)\ttotal: 341ms\tremaining: 28.1s\n",
      "12:\tlearn: 0.6053547\ttest: 0.6077542\tbest: 0.6077542 (12)\ttotal: 364ms\tremaining: 27.6s\n",
      "13:\tlearn: 0.6008504\ttest: 0.6033962\tbest: 0.6033962 (13)\ttotal: 387ms\tremaining: 27.2s\n",
      "14:\tlearn: 0.5966487\ttest: 0.5993472\tbest: 0.5993472 (14)\ttotal: 409ms\tremaining: 26.9s\n",
      "15:\tlearn: 0.5927858\ttest: 0.5956243\tbest: 0.5956243 (15)\ttotal: 432ms\tremaining: 26.6s\n",
      "16:\tlearn: 0.5920205\ttest: 0.5949322\tbest: 0.5949322 (16)\ttotal: 456ms\tremaining: 26.4s\n",
      "17:\tlearn: 0.5880310\ttest: 0.5910908\tbest: 0.5910908 (17)\ttotal: 478ms\tremaining: 26.1s\n",
      "18:\tlearn: 0.5845191\ttest: 0.5877198\tbest: 0.5877198 (18)\ttotal: 501ms\tremaining: 25.9s\n",
      "19:\tlearn: 0.5809075\ttest: 0.5842310\tbest: 0.5842310 (19)\ttotal: 523ms\tremaining: 25.6s\n",
      "20:\tlearn: 0.5797947\ttest: 0.5831809\tbest: 0.5831809 (20)\ttotal: 545ms\tremaining: 25.4s\n",
      "21:\tlearn: 0.5767238\ttest: 0.5802557\tbest: 0.5802557 (21)\ttotal: 569ms\tremaining: 25.3s\n",
      "22:\tlearn: 0.5739439\ttest: 0.5776146\tbest: 0.5776146 (22)\ttotal: 593ms\tremaining: 25.2s\n",
      "23:\tlearn: 0.5731787\ttest: 0.5768957\tbest: 0.5768957 (23)\ttotal: 616ms\tremaining: 25.1s\n",
      "24:\tlearn: 0.5704311\ttest: 0.5742372\tbest: 0.5742372 (24)\ttotal: 640ms\tremaining: 24.9s\n",
      "25:\tlearn: 0.5697361\ttest: 0.5736009\tbest: 0.5736009 (25)\ttotal: 661ms\tremaining: 24.8s\n",
      "26:\tlearn: 0.5689758\ttest: 0.5728933\tbest: 0.5728933 (26)\ttotal: 682ms\tremaining: 24.6s\n",
      "27:\tlearn: 0.5666177\ttest: 0.5706332\tbest: 0.5706332 (27)\ttotal: 710ms\tremaining: 24.7s\n",
      "28:\tlearn: 0.5642445\ttest: 0.5683643\tbest: 0.5683643 (28)\ttotal: 736ms\tremaining: 24.6s\n",
      "29:\tlearn: 0.5639289\ttest: 0.5681283\tbest: 0.5681283 (29)\ttotal: 761ms\tremaining: 24.6s\n",
      "30:\tlearn: 0.5616675\ttest: 0.5659637\tbest: 0.5659637 (30)\ttotal: 785ms\tremaining: 24.5s\n",
      "31:\tlearn: 0.5611835\ttest: 0.5655140\tbest: 0.5655140 (31)\ttotal: 809ms\tremaining: 24.5s\n",
      "32:\tlearn: 0.5592031\ttest: 0.5636094\tbest: 0.5636094 (32)\ttotal: 834ms\tremaining: 24.4s\n",
      "33:\tlearn: 0.5572213\ttest: 0.5617148\tbest: 0.5617148 (33)\ttotal: 863ms\tremaining: 24.5s\n",
      "34:\tlearn: 0.5552482\ttest: 0.5598082\tbest: 0.5598082 (34)\ttotal: 886ms\tremaining: 24.4s\n",
      "35:\tlearn: 0.5546034\ttest: 0.5592326\tbest: 0.5592326 (35)\ttotal: 909ms\tremaining: 24.3s\n",
      "36:\tlearn: 0.5528186\ttest: 0.5575289\tbest: 0.5575289 (36)\ttotal: 935ms\tremaining: 24.3s\n",
      "37:\tlearn: 0.5510845\ttest: 0.5558849\tbest: 0.5558849 (37)\ttotal: 958ms\tremaining: 24.3s\n",
      "38:\tlearn: 0.5494810\ttest: 0.5543639\tbest: 0.5543639 (38)\ttotal: 980ms\tremaining: 24.1s\n",
      "39:\tlearn: 0.5479815\ttest: 0.5529563\tbest: 0.5529563 (39)\ttotal: 1s\tremaining: 24s\n",
      "40:\tlearn: 0.5477256\ttest: 0.5527673\tbest: 0.5527673 (40)\ttotal: 1.02s\tremaining: 23.9s\n",
      "41:\tlearn: 0.5474190\ttest: 0.5525026\tbest: 0.5525026 (41)\ttotal: 1.04s\tremaining: 23.9s\n",
      "42:\tlearn: 0.5470404\ttest: 0.5522279\tbest: 0.5522279 (42)\ttotal: 1.07s\tremaining: 23.8s\n",
      "43:\tlearn: 0.5464431\ttest: 0.5517285\tbest: 0.5517285 (43)\ttotal: 1.09s\tremaining: 23.7s\n",
      "44:\tlearn: 0.5450139\ttest: 0.5503602\tbest: 0.5503602 (44)\ttotal: 1.11s\tremaining: 23.6s\n",
      "45:\tlearn: 0.5445087\ttest: 0.5499178\tbest: 0.5499178 (45)\ttotal: 1.14s\tremaining: 23.6s\n",
      "46:\tlearn: 0.5431211\ttest: 0.5485911\tbest: 0.5485911 (46)\ttotal: 1.16s\tremaining: 23.5s\n",
      "47:\tlearn: 0.5419209\ttest: 0.5474571\tbest: 0.5474571 (47)\ttotal: 1.18s\tremaining: 23.4s\n",
      "48:\tlearn: 0.5407701\ttest: 0.5463537\tbest: 0.5463537 (48)\ttotal: 1.2s\tremaining: 23.4s\n",
      "49:\tlearn: 0.5397150\ttest: 0.5453879\tbest: 0.5453879 (49)\ttotal: 1.23s\tremaining: 23.3s\n",
      "50:\tlearn: 0.5394400\ttest: 0.5451599\tbest: 0.5451599 (50)\ttotal: 1.25s\tremaining: 23.2s\n",
      "51:\tlearn: 0.5391976\ttest: 0.5449649\tbest: 0.5449649 (51)\ttotal: 1.27s\tremaining: 23.2s\n",
      "52:\tlearn: 0.5380996\ttest: 0.5439360\tbest: 0.5439360 (52)\ttotal: 1.29s\tremaining: 23.1s\n",
      "53:\tlearn: 0.5378326\ttest: 0.5436994\tbest: 0.5436994 (53)\ttotal: 1.31s\tremaining: 23s\n",
      "54:\tlearn: 0.5376227\ttest: 0.5435615\tbest: 0.5435615 (54)\ttotal: 1.33s\tremaining: 22.9s\n",
      "55:\tlearn: 0.5373912\ttest: 0.5433823\tbest: 0.5433823 (55)\ttotal: 1.36s\tremaining: 22.9s\n",
      "56:\tlearn: 0.5371657\ttest: 0.5432162\tbest: 0.5432162 (56)\ttotal: 1.38s\tremaining: 22.9s\n",
      "57:\tlearn: 0.5367354\ttest: 0.5428797\tbest: 0.5428797 (57)\ttotal: 1.4s\tremaining: 22.8s\n",
      "58:\tlearn: 0.5357755\ttest: 0.5419968\tbest: 0.5419968 (58)\ttotal: 1.43s\tremaining: 22.7s\n",
      "59:\tlearn: 0.5348689\ttest: 0.5411596\tbest: 0.5411596 (59)\ttotal: 1.45s\tremaining: 22.7s\n",
      "60:\tlearn: 0.5346470\ttest: 0.5410274\tbest: 0.5410274 (60)\ttotal: 1.47s\tremaining: 22.6s\n",
      "61:\tlearn: 0.5344330\ttest: 0.5408904\tbest: 0.5408904 (61)\ttotal: 1.49s\tremaining: 22.6s\n",
      "62:\tlearn: 0.5342704\ttest: 0.5407665\tbest: 0.5407665 (62)\ttotal: 1.51s\tremaining: 22.5s\n",
      "63:\tlearn: 0.5334040\ttest: 0.5399411\tbest: 0.5399411 (63)\ttotal: 1.53s\tremaining: 22.4s\n",
      "64:\tlearn: 0.5331693\ttest: 0.5397438\tbest: 0.5397438 (64)\ttotal: 1.56s\tremaining: 22.4s\n",
      "65:\tlearn: 0.5328343\ttest: 0.5394628\tbest: 0.5394628 (65)\ttotal: 1.58s\tremaining: 22.4s\n",
      "66:\tlearn: 0.5326321\ttest: 0.5393502\tbest: 0.5393502 (66)\ttotal: 1.6s\tremaining: 22.3s\n",
      "67:\tlearn: 0.5318323\ttest: 0.5386241\tbest: 0.5386241 (67)\ttotal: 1.63s\tremaining: 22.3s\n",
      "68:\tlearn: 0.5316603\ttest: 0.5385023\tbest: 0.5385023 (68)\ttotal: 1.65s\tremaining: 22.2s\n",
      "69:\tlearn: 0.5314851\ttest: 0.5383989\tbest: 0.5383989 (69)\ttotal: 1.67s\tremaining: 22.2s\n",
      "70:\tlearn: 0.5307549\ttest: 0.5377136\tbest: 0.5377136 (70)\ttotal: 1.69s\tremaining: 22.1s\n",
      "71:\tlearn: 0.5305298\ttest: 0.5375374\tbest: 0.5375374 (71)\ttotal: 1.71s\tremaining: 22.1s\n",
      "72:\tlearn: 0.5298169\ttest: 0.5368854\tbest: 0.5368854 (72)\ttotal: 1.74s\tremaining: 22.1s\n",
      "73:\tlearn: 0.5296305\ttest: 0.5367646\tbest: 0.5367646 (73)\ttotal: 1.76s\tremaining: 22s\n",
      "74:\tlearn: 0.5294810\ttest: 0.5366683\tbest: 0.5366683 (74)\ttotal: 1.78s\tremaining: 22s\n",
      "75:\tlearn: 0.5293112\ttest: 0.5365477\tbest: 0.5365477 (75)\ttotal: 1.8s\tremaining: 21.9s\n",
      "76:\tlearn: 0.5286200\ttest: 0.5358836\tbest: 0.5358836 (76)\ttotal: 1.82s\tremaining: 21.9s\n",
      "77:\tlearn: 0.5284695\ttest: 0.5358136\tbest: 0.5358136 (77)\ttotal: 1.84s\tremaining: 21.8s\n",
      "78:\tlearn: 0.5282287\ttest: 0.5356171\tbest: 0.5356171 (78)\ttotal: 1.87s\tremaining: 21.8s\n",
      "79:\tlearn: 0.5276324\ttest: 0.5350928\tbest: 0.5350928 (79)\ttotal: 1.89s\tremaining: 21.7s\n",
      "80:\tlearn: 0.5270544\ttest: 0.5345479\tbest: 0.5345479 (80)\ttotal: 1.91s\tremaining: 21.7s\n",
      "81:\tlearn: 0.5268850\ttest: 0.5344626\tbest: 0.5344626 (81)\ttotal: 1.94s\tremaining: 21.7s\n",
      "82:\tlearn: 0.5267298\ttest: 0.5343795\tbest: 0.5343795 (82)\ttotal: 1.96s\tremaining: 21.6s\n",
      "83:\tlearn: 0.5261613\ttest: 0.5338381\tbest: 0.5338381 (83)\ttotal: 1.98s\tremaining: 21.6s\n",
      "84:\tlearn: 0.5259712\ttest: 0.5336875\tbest: 0.5336875 (84)\ttotal: 2s\tremaining: 21.6s\n",
      "85:\tlearn: 0.5258526\ttest: 0.5336097\tbest: 0.5336097 (85)\ttotal: 2.02s\tremaining: 21.5s\n",
      "86:\tlearn: 0.5257264\ttest: 0.5335166\tbest: 0.5335166 (86)\ttotal: 2.05s\tremaining: 21.5s\n",
      "87:\tlearn: 0.5255918\ttest: 0.5334341\tbest: 0.5334341 (87)\ttotal: 2.07s\tremaining: 21.4s\n",
      "88:\tlearn: 0.5254280\ttest: 0.5333671\tbest: 0.5333671 (88)\ttotal: 2.09s\tremaining: 21.4s\n",
      "89:\tlearn: 0.5252981\ttest: 0.5332600\tbest: 0.5332600 (89)\ttotal: 2.11s\tremaining: 21.4s\n",
      "90:\tlearn: 0.5251775\ttest: 0.5331769\tbest: 0.5331769 (90)\ttotal: 2.14s\tremaining: 21.3s\n",
      "91:\tlearn: 0.5250403\ttest: 0.5331116\tbest: 0.5331116 (91)\ttotal: 2.16s\tremaining: 21.3s\n",
      "92:\tlearn: 0.5249166\ttest: 0.5330417\tbest: 0.5330417 (92)\ttotal: 2.18s\tremaining: 21.3s\n",
      "93:\tlearn: 0.5244137\ttest: 0.5325736\tbest: 0.5325736 (93)\ttotal: 2.2s\tremaining: 21.2s\n",
      "94:\tlearn: 0.5239146\ttest: 0.5321059\tbest: 0.5321059 (94)\ttotal: 2.23s\tremaining: 21.2s\n",
      "95:\tlearn: 0.5238045\ttest: 0.5320334\tbest: 0.5320334 (95)\ttotal: 2.25s\tremaining: 21.2s\n",
      "96:\tlearn: 0.5237021\ttest: 0.5319537\tbest: 0.5319537 (96)\ttotal: 2.27s\tremaining: 21.1s\n",
      "97:\tlearn: 0.5234975\ttest: 0.5318124\tbest: 0.5318124 (97)\ttotal: 2.29s\tremaining: 21.1s\n",
      "98:\tlearn: 0.5233851\ttest: 0.5317520\tbest: 0.5317520 (98)\ttotal: 2.31s\tremaining: 21.1s\n",
      "99:\tlearn: 0.5232802\ttest: 0.5316708\tbest: 0.5316708 (99)\ttotal: 2.33s\tremaining: 21s\n",
      "100:\tlearn: 0.5231634\ttest: 0.5316147\tbest: 0.5316147 (100)\ttotal: 2.36s\tremaining: 21s\n",
      "101:\tlearn: 0.5227181\ttest: 0.5312172\tbest: 0.5312172 (101)\ttotal: 2.38s\tremaining: 20.9s\n",
      "102:\tlearn: 0.5225955\ttest: 0.5311259\tbest: 0.5311259 (102)\ttotal: 2.4s\tremaining: 20.9s\n",
      "103:\tlearn: 0.5224178\ttest: 0.5309682\tbest: 0.5309682 (103)\ttotal: 2.42s\tremaining: 20.9s\n",
      "104:\tlearn: 0.5223180\ttest: 0.5309260\tbest: 0.5309260 (104)\ttotal: 2.44s\tremaining: 20.8s\n",
      "105:\tlearn: 0.5222133\ttest: 0.5308583\tbest: 0.5308583 (105)\ttotal: 2.46s\tremaining: 20.8s\n",
      "106:\tlearn: 0.5221153\ttest: 0.5308037\tbest: 0.5308037 (106)\ttotal: 2.49s\tremaining: 20.7s\n",
      "107:\tlearn: 0.5219806\ttest: 0.5307084\tbest: 0.5307084 (107)\ttotal: 2.51s\tremaining: 20.7s\n",
      "108:\tlearn: 0.5218666\ttest: 0.5306307\tbest: 0.5306307 (108)\ttotal: 2.53s\tremaining: 20.7s\n",
      "109:\tlearn: 0.5217833\ttest: 0.5305876\tbest: 0.5305876 (109)\ttotal: 2.55s\tremaining: 20.6s\n",
      "110:\tlearn: 0.5217022\ttest: 0.5305477\tbest: 0.5305477 (110)\ttotal: 2.57s\tremaining: 20.6s\n",
      "111:\tlearn: 0.5212971\ttest: 0.5301816\tbest: 0.5301816 (111)\ttotal: 2.59s\tremaining: 20.6s\n",
      "112:\tlearn: 0.5212109\ttest: 0.5301441\tbest: 0.5301441 (112)\ttotal: 2.61s\tremaining: 20.5s\n",
      "113:\tlearn: 0.5210836\ttest: 0.5300675\tbest: 0.5300675 (113)\ttotal: 2.64s\tremaining: 20.5s\n",
      "114:\tlearn: 0.5209843\ttest: 0.5300206\tbest: 0.5300206 (114)\ttotal: 2.66s\tremaining: 20.5s\n",
      "115:\tlearn: 0.5206121\ttest: 0.5296737\tbest: 0.5296737 (115)\ttotal: 2.68s\tremaining: 20.4s\n",
      "116:\tlearn: 0.5205184\ttest: 0.5296426\tbest: 0.5296426 (116)\ttotal: 2.7s\tremaining: 20.4s\n",
      "117:\tlearn: 0.5204137\ttest: 0.5295981\tbest: 0.5295981 (117)\ttotal: 2.73s\tremaining: 20.4s\n",
      "118:\tlearn: 0.5200513\ttest: 0.5292845\tbest: 0.5292845 (118)\ttotal: 2.75s\tremaining: 20.4s\n",
      "119:\tlearn: 0.5199664\ttest: 0.5292364\tbest: 0.5292364 (119)\ttotal: 2.77s\tremaining: 20.3s\n",
      "120:\tlearn: 0.5198442\ttest: 0.5291425\tbest: 0.5291425 (120)\ttotal: 2.79s\tremaining: 20.3s\n",
      "121:\tlearn: 0.5197473\ttest: 0.5291025\tbest: 0.5291025 (121)\ttotal: 2.82s\tremaining: 20.3s\n",
      "122:\tlearn: 0.5196707\ttest: 0.5290565\tbest: 0.5290565 (122)\ttotal: 2.84s\tremaining: 20.2s\n",
      "123:\tlearn: 0.5195950\ttest: 0.5290251\tbest: 0.5290251 (123)\ttotal: 2.86s\tremaining: 20.2s\n",
      "124:\tlearn: 0.5194847\ttest: 0.5289554\tbest: 0.5289554 (124)\ttotal: 2.88s\tremaining: 20.2s\n",
      "125:\tlearn: 0.5193799\ttest: 0.5289261\tbest: 0.5289261 (125)\ttotal: 2.91s\tremaining: 20.2s\n",
      "126:\tlearn: 0.5193189\ttest: 0.5288849\tbest: 0.5288849 (126)\ttotal: 2.93s\tremaining: 20.1s\n",
      "127:\tlearn: 0.5189490\ttest: 0.5285424\tbest: 0.5285424 (127)\ttotal: 2.95s\tremaining: 20.1s\n",
      "128:\tlearn: 0.5188628\ttest: 0.5285014\tbest: 0.5285014 (128)\ttotal: 2.97s\tremaining: 20.1s\n",
      "129:\tlearn: 0.5187804\ttest: 0.5284522\tbest: 0.5284522 (129)\ttotal: 2.99s\tremaining: 20s\n",
      "130:\tlearn: 0.5186882\ttest: 0.5284237\tbest: 0.5284237 (130)\ttotal: 3.02s\tremaining: 20s\n",
      "131:\tlearn: 0.5185539\ttest: 0.5283541\tbest: 0.5283541 (131)\ttotal: 3.04s\tremaining: 20s\n",
      "132:\tlearn: 0.5182402\ttest: 0.5280666\tbest: 0.5280666 (132)\ttotal: 3.06s\tremaining: 20s\n",
      "133:\tlearn: 0.5181698\ttest: 0.5280318\tbest: 0.5280318 (133)\ttotal: 3.08s\tremaining: 19.9s\n",
      "134:\tlearn: 0.5181114\ttest: 0.5279875\tbest: 0.5279875 (134)\ttotal: 3.1s\tremaining: 19.9s\n",
      "135:\tlearn: 0.5180429\ttest: 0.5279469\tbest: 0.5279469 (135)\ttotal: 3.12s\tremaining: 19.8s\n",
      "136:\tlearn: 0.5179787\ttest: 0.5279234\tbest: 0.5279234 (136)\ttotal: 3.15s\tremaining: 19.8s\n",
      "137:\tlearn: 0.5176708\ttest: 0.5276818\tbest: 0.5276818 (137)\ttotal: 3.17s\tremaining: 19.8s\n",
      "138:\tlearn: 0.5176104\ttest: 0.5276451\tbest: 0.5276451 (138)\ttotal: 3.19s\tremaining: 19.8s\n",
      "139:\tlearn: 0.5173252\ttest: 0.5273893\tbest: 0.5273893 (139)\ttotal: 3.21s\tremaining: 19.8s\n",
      "140:\tlearn: 0.5172488\ttest: 0.5273550\tbest: 0.5273550 (140)\ttotal: 3.24s\tremaining: 19.8s\n",
      "141:\tlearn: 0.5171804\ttest: 0.5273341\tbest: 0.5273341 (141)\ttotal: 3.27s\tremaining: 19.7s\n",
      "142:\tlearn: 0.5171199\ttest: 0.5272983\tbest: 0.5272983 (142)\ttotal: 3.29s\tremaining: 19.7s\n",
      "143:\tlearn: 0.5170415\ttest: 0.5272848\tbest: 0.5272848 (143)\ttotal: 3.31s\tremaining: 19.7s\n",
      "144:\tlearn: 0.5169850\ttest: 0.5272638\tbest: 0.5272638 (144)\ttotal: 3.33s\tremaining: 19.6s\n",
      "145:\tlearn: 0.5168999\ttest: 0.5272341\tbest: 0.5272341 (145)\ttotal: 3.35s\tremaining: 19.6s\n",
      "146:\tlearn: 0.5168383\ttest: 0.5272274\tbest: 0.5272274 (146)\ttotal: 3.37s\tremaining: 19.6s\n",
      "147:\tlearn: 0.5167819\ttest: 0.5271978\tbest: 0.5271978 (147)\ttotal: 3.39s\tremaining: 19.5s\n",
      "148:\tlearn: 0.5167222\ttest: 0.5271832\tbest: 0.5271832 (148)\ttotal: 3.42s\tremaining: 19.5s\n",
      "149:\tlearn: 0.5166652\ttest: 0.5271512\tbest: 0.5271512 (149)\ttotal: 3.44s\tremaining: 19.5s\n",
      "150:\tlearn: 0.5165986\ttest: 0.5271230\tbest: 0.5271230 (150)\ttotal: 3.46s\tremaining: 19.5s\n",
      "151:\tlearn: 0.5165235\ttest: 0.5270732\tbest: 0.5270732 (151)\ttotal: 3.48s\tremaining: 19.4s\n",
      "152:\tlearn: 0.5162467\ttest: 0.5268210\tbest: 0.5268210 (152)\ttotal: 3.5s\tremaining: 19.4s\n",
      "153:\tlearn: 0.5161643\ttest: 0.5267805\tbest: 0.5267805 (153)\ttotal: 3.53s\tremaining: 19.4s\n",
      "154:\tlearn: 0.5161041\ttest: 0.5267451\tbest: 0.5267451 (154)\ttotal: 3.55s\tremaining: 19.3s\n",
      "155:\tlearn: 0.5160291\ttest: 0.5267172\tbest: 0.5267172 (155)\ttotal: 3.57s\tremaining: 19.3s\n",
      "156:\tlearn: 0.5157735\ttest: 0.5264848\tbest: 0.5264848 (156)\ttotal: 3.59s\tremaining: 19.3s\n",
      "157:\tlearn: 0.5157355\ttest: 0.5264740\tbest: 0.5264740 (157)\ttotal: 3.61s\tremaining: 19.3s\n",
      "158:\tlearn: 0.5156868\ttest: 0.5264596\tbest: 0.5264596 (158)\ttotal: 3.64s\tremaining: 19.2s\n",
      "159:\tlearn: 0.5156008\ttest: 0.5264225\tbest: 0.5264225 (159)\ttotal: 3.66s\tremaining: 19.2s\n",
      "160:\tlearn: 0.5155374\ttest: 0.5264300\tbest: 0.5264225 (159)\ttotal: 3.68s\tremaining: 19.2s\n",
      "161:\tlearn: 0.5154736\ttest: 0.5264298\tbest: 0.5264225 (159)\ttotal: 3.7s\tremaining: 19.2s\n",
      "162:\tlearn: 0.5154117\ttest: 0.5264034\tbest: 0.5264034 (162)\ttotal: 3.73s\tremaining: 19.1s\n",
      "163:\tlearn: 0.5153625\ttest: 0.5263838\tbest: 0.5263838 (163)\ttotal: 3.75s\tremaining: 19.1s\n",
      "164:\tlearn: 0.5152908\ttest: 0.5263717\tbest: 0.5263717 (164)\ttotal: 3.77s\tremaining: 19.1s\n",
      "165:\tlearn: 0.5152530\ttest: 0.5263583\tbest: 0.5263583 (165)\ttotal: 3.79s\tremaining: 19s\n",
      "166:\tlearn: 0.5152066\ttest: 0.5263532\tbest: 0.5263532 (166)\ttotal: 3.81s\tremaining: 19s\n",
      "167:\tlearn: 0.5151456\ttest: 0.5263514\tbest: 0.5263514 (167)\ttotal: 3.83s\tremaining: 19s\n",
      "168:\tlearn: 0.5149273\ttest: 0.5261578\tbest: 0.5261578 (168)\ttotal: 3.86s\tremaining: 19s\n",
      "169:\tlearn: 0.5148820\ttest: 0.5261347\tbest: 0.5261347 (169)\ttotal: 3.88s\tremaining: 18.9s\n",
      "170:\tlearn: 0.5148341\ttest: 0.5261213\tbest: 0.5261213 (170)\ttotal: 3.9s\tremaining: 18.9s\n",
      "171:\tlearn: 0.5147879\ttest: 0.5261027\tbest: 0.5261027 (171)\ttotal: 3.92s\tremaining: 18.9s\n",
      "172:\tlearn: 0.5147307\ttest: 0.5260642\tbest: 0.5260642 (172)\ttotal: 3.94s\tremaining: 18.9s\n",
      "173:\tlearn: 0.5146537\ttest: 0.5260748\tbest: 0.5260642 (172)\ttotal: 3.97s\tremaining: 18.8s\n",
      "174:\tlearn: 0.5146335\ttest: 0.5260604\tbest: 0.5260604 (174)\ttotal: 3.97s\tremaining: 18.7s\n",
      "175:\tlearn: 0.5145745\ttest: 0.5260447\tbest: 0.5260447 (175)\ttotal: 4s\tremaining: 18.7s\n",
      "176:\tlearn: 0.5145316\ttest: 0.5260403\tbest: 0.5260403 (176)\ttotal: 4.01s\tremaining: 18.7s\n",
      "177:\tlearn: 0.5144844\ttest: 0.5260375\tbest: 0.5260375 (177)\ttotal: 4.04s\tremaining: 18.6s\n",
      "178:\tlearn: 0.5144444\ttest: 0.5260173\tbest: 0.5260173 (178)\ttotal: 4.05s\tremaining: 18.6s\n",
      "179:\tlearn: 0.5144097\ttest: 0.5260132\tbest: 0.5260132 (179)\ttotal: 4.07s\tremaining: 18.6s\n",
      "180:\tlearn: 0.5143712\ttest: 0.5259986\tbest: 0.5259986 (180)\ttotal: 4.1s\tremaining: 18.5s\n",
      "181:\tlearn: 0.5143321\ttest: 0.5259965\tbest: 0.5259965 (181)\ttotal: 4.12s\tremaining: 18.5s\n",
      "182:\tlearn: 0.5142915\ttest: 0.5259697\tbest: 0.5259697 (182)\ttotal: 4.14s\tremaining: 18.5s\n",
      "183:\tlearn: 0.5142517\ttest: 0.5259536\tbest: 0.5259536 (183)\ttotal: 4.16s\tremaining: 18.5s\n",
      "184:\tlearn: 0.5142118\ttest: 0.5259398\tbest: 0.5259398 (184)\ttotal: 4.18s\tremaining: 18.4s\n",
      "185:\tlearn: 0.5141659\ttest: 0.5259214\tbest: 0.5259214 (185)\ttotal: 4.2s\tremaining: 18.4s\n",
      "186:\tlearn: 0.5139536\ttest: 0.5257378\tbest: 0.5257378 (186)\ttotal: 4.23s\tremaining: 18.4s\n",
      "187:\tlearn: 0.5138794\ttest: 0.5257245\tbest: 0.5257245 (187)\ttotal: 4.25s\tremaining: 18.4s\n",
      "188:\tlearn: 0.5138313\ttest: 0.5257118\tbest: 0.5257118 (188)\ttotal: 4.27s\tremaining: 18.3s\n",
      "189:\tlearn: 0.5137939\ttest: 0.5257179\tbest: 0.5257118 (188)\ttotal: 4.29s\tremaining: 18.3s\n",
      "190:\tlearn: 0.5137632\ttest: 0.5257033\tbest: 0.5257033 (190)\ttotal: 4.31s\tremaining: 18.3s\n",
      "191:\tlearn: 0.5135521\ttest: 0.5255135\tbest: 0.5255135 (191)\ttotal: 4.33s\tremaining: 18.2s\n",
      "192:\tlearn: 0.5135077\ttest: 0.5255072\tbest: 0.5255072 (192)\ttotal: 4.36s\tremaining: 18.2s\n",
      "193:\tlearn: 0.5134472\ttest: 0.5254839\tbest: 0.5254839 (193)\ttotal: 4.38s\tremaining: 18.2s\n",
      "194:\tlearn: 0.5133965\ttest: 0.5254550\tbest: 0.5254550 (194)\ttotal: 4.4s\tremaining: 18.2s\n",
      "195:\tlearn: 0.5133622\ttest: 0.5254584\tbest: 0.5254550 (194)\ttotal: 4.42s\tremaining: 18.1s\n",
      "196:\tlearn: 0.5133284\ttest: 0.5254529\tbest: 0.5254529 (196)\ttotal: 4.44s\tremaining: 18.1s\n",
      "197:\tlearn: 0.5132923\ttest: 0.5254474\tbest: 0.5254474 (197)\ttotal: 4.46s\tremaining: 18.1s\n",
      "198:\tlearn: 0.5132576\ttest: 0.5254460\tbest: 0.5254460 (198)\ttotal: 4.49s\tremaining: 18.1s\n",
      "199:\tlearn: 0.5132282\ttest: 0.5254461\tbest: 0.5254460 (198)\ttotal: 4.5s\tremaining: 18s\n",
      "200:\tlearn: 0.5131979\ttest: 0.5254386\tbest: 0.5254386 (200)\ttotal: 4.53s\tremaining: 18s\n",
      "201:\tlearn: 0.5131471\ttest: 0.5254227\tbest: 0.5254227 (201)\ttotal: 4.55s\tremaining: 18s\n",
      "202:\tlearn: 0.5130912\ttest: 0.5254332\tbest: 0.5254227 (201)\ttotal: 4.57s\tremaining: 17.9s\n",
      "203:\tlearn: 0.5130628\ttest: 0.5254414\tbest: 0.5254227 (201)\ttotal: 4.59s\tremaining: 17.9s\n",
      "204:\tlearn: 0.5130148\ttest: 0.5254223\tbest: 0.5254223 (204)\ttotal: 4.61s\tremaining: 17.9s\n",
      "205:\tlearn: 0.5129807\ttest: 0.5254109\tbest: 0.5254109 (205)\ttotal: 4.63s\tremaining: 17.9s\n",
      "206:\tlearn: 0.5129382\ttest: 0.5254004\tbest: 0.5254004 (206)\ttotal: 4.66s\tremaining: 17.8s\n",
      "207:\tlearn: 0.5129168\ttest: 0.5253988\tbest: 0.5253988 (207)\ttotal: 4.68s\tremaining: 17.8s\n",
      "208:\tlearn: 0.5128844\ttest: 0.5253999\tbest: 0.5253988 (207)\ttotal: 4.7s\tremaining: 17.8s\n",
      "209:\tlearn: 0.5128498\ttest: 0.5253911\tbest: 0.5253911 (209)\ttotal: 4.71s\tremaining: 17.7s\n",
      "210:\tlearn: 0.5127896\ttest: 0.5254072\tbest: 0.5253911 (209)\ttotal: 4.74s\tremaining: 17.7s\n",
      "211:\tlearn: 0.5127419\ttest: 0.5254166\tbest: 0.5253911 (209)\ttotal: 4.76s\tremaining: 17.7s\n",
      "212:\tlearn: 0.5126909\ttest: 0.5254012\tbest: 0.5253911 (209)\ttotal: 4.78s\tremaining: 17.7s\n",
      "213:\tlearn: 0.5124801\ttest: 0.5252225\tbest: 0.5252225 (213)\ttotal: 4.81s\tremaining: 17.7s\n",
      "214:\tlearn: 0.5124549\ttest: 0.5252082\tbest: 0.5252082 (214)\ttotal: 4.83s\tremaining: 17.6s\n",
      "215:\tlearn: 0.5122781\ttest: 0.5250616\tbest: 0.5250616 (215)\ttotal: 4.85s\tremaining: 17.6s\n",
      "216:\tlearn: 0.5122527\ttest: 0.5250661\tbest: 0.5250616 (215)\ttotal: 4.87s\tremaining: 17.6s\n",
      "217:\tlearn: 0.5122235\ttest: 0.5250598\tbest: 0.5250598 (217)\ttotal: 4.89s\tremaining: 17.5s\n",
      "218:\tlearn: 0.5121837\ttest: 0.5250605\tbest: 0.5250598 (217)\ttotal: 4.91s\tremaining: 17.5s\n",
      "219:\tlearn: 0.5121530\ttest: 0.5250437\tbest: 0.5250437 (219)\ttotal: 4.93s\tremaining: 17.5s\n",
      "220:\tlearn: 0.5121149\ttest: 0.5250526\tbest: 0.5250437 (219)\ttotal: 4.95s\tremaining: 17.5s\n",
      "221:\tlearn: 0.5120815\ttest: 0.5250656\tbest: 0.5250437 (219)\ttotal: 4.98s\tremaining: 17.4s\n",
      "222:\tlearn: 0.5120394\ttest: 0.5250546\tbest: 0.5250437 (219)\ttotal: 5s\tremaining: 17.4s\n",
      "223:\tlearn: 0.5119977\ttest: 0.5250513\tbest: 0.5250437 (219)\ttotal: 5.02s\tremaining: 17.4s\n",
      "224:\tlearn: 0.5119671\ttest: 0.5250531\tbest: 0.5250437 (219)\ttotal: 5.04s\tremaining: 17.4s\n",
      "225:\tlearn: 0.5119432\ttest: 0.5250513\tbest: 0.5250437 (219)\ttotal: 5.07s\tremaining: 17.3s\n",
      "226:\tlearn: 0.5119146\ttest: 0.5250575\tbest: 0.5250437 (219)\ttotal: 5.09s\tremaining: 17.3s\n",
      "227:\tlearn: 0.5118715\ttest: 0.5250598\tbest: 0.5250437 (219)\ttotal: 5.11s\tremaining: 17.3s\n",
      "228:\tlearn: 0.5118345\ttest: 0.5250520\tbest: 0.5250437 (219)\ttotal: 5.13s\tremaining: 17.3s\n",
      "229:\tlearn: 0.5117999\ttest: 0.5250621\tbest: 0.5250437 (219)\ttotal: 5.15s\tremaining: 17.2s\n",
      "230:\tlearn: 0.5117657\ttest: 0.5250529\tbest: 0.5250437 (219)\ttotal: 5.17s\tremaining: 17.2s\n",
      "231:\tlearn: 0.5117391\ttest: 0.5250518\tbest: 0.5250437 (219)\ttotal: 5.2s\tremaining: 17.2s\n",
      "232:\tlearn: 0.5116947\ttest: 0.5250547\tbest: 0.5250437 (219)\ttotal: 5.22s\tremaining: 17.2s\n",
      "233:\tlearn: 0.5116723\ttest: 0.5250444\tbest: 0.5250437 (219)\ttotal: 5.24s\tremaining: 17.1s\n",
      "234:\tlearn: 0.5116515\ttest: 0.5250495\tbest: 0.5250437 (219)\ttotal: 5.26s\tremaining: 17.1s\n",
      "235:\tlearn: 0.5116277\ttest: 0.5250606\tbest: 0.5250437 (219)\ttotal: 5.28s\tremaining: 17.1s\n",
      "236:\tlearn: 0.5115907\ttest: 0.5250616\tbest: 0.5250437 (219)\ttotal: 5.3s\tremaining: 17.1s\n",
      "237:\tlearn: 0.5115462\ttest: 0.5250714\tbest: 0.5250437 (219)\ttotal: 5.33s\tremaining: 17.1s\n",
      "238:\tlearn: 0.5114998\ttest: 0.5250632\tbest: 0.5250437 (219)\ttotal: 5.35s\tremaining: 17s\n",
      "239:\tlearn: 0.5114522\ttest: 0.5250688\tbest: 0.5250437 (219)\ttotal: 5.37s\tremaining: 17s\n",
      "240:\tlearn: 0.5114085\ttest: 0.5250578\tbest: 0.5250437 (219)\ttotal: 5.39s\tremaining: 17s\n",
      "241:\tlearn: 0.5113892\ttest: 0.5250598\tbest: 0.5250437 (219)\ttotal: 5.41s\tremaining: 17s\n",
      "242:\tlearn: 0.5112096\ttest: 0.5248936\tbest: 0.5248936 (242)\ttotal: 5.44s\tremaining: 16.9s\n",
      "243:\tlearn: 0.5110533\ttest: 0.5247558\tbest: 0.5247558 (243)\ttotal: 5.46s\tremaining: 16.9s\n",
      "244:\tlearn: 0.5110338\ttest: 0.5247541\tbest: 0.5247541 (244)\ttotal: 5.48s\tremaining: 16.9s\n",
      "245:\tlearn: 0.5110035\ttest: 0.5247417\tbest: 0.5247417 (245)\ttotal: 5.5s\tremaining: 16.9s\n",
      "246:\tlearn: 0.5109773\ttest: 0.5247389\tbest: 0.5247389 (246)\ttotal: 5.52s\tremaining: 16.8s\n",
      "247:\tlearn: 0.5109528\ttest: 0.5247490\tbest: 0.5247389 (246)\ttotal: 5.54s\tremaining: 16.8s\n",
      "248:\tlearn: 0.5109240\ttest: 0.5247328\tbest: 0.5247328 (248)\ttotal: 5.56s\tremaining: 16.8s\n",
      "249:\tlearn: 0.5108745\ttest: 0.5247241\tbest: 0.5247241 (249)\ttotal: 5.58s\tremaining: 16.8s\n",
      "250:\tlearn: 0.5108359\ttest: 0.5247166\tbest: 0.5247166 (250)\ttotal: 5.61s\tremaining: 16.7s\n",
      "251:\tlearn: 0.5108055\ttest: 0.5247270\tbest: 0.5247166 (250)\ttotal: 5.63s\tremaining: 16.7s\n",
      "252:\tlearn: 0.5107810\ttest: 0.5247313\tbest: 0.5247166 (250)\ttotal: 5.65s\tremaining: 16.7s\n",
      "253:\tlearn: 0.5107662\ttest: 0.5247285\tbest: 0.5247166 (250)\ttotal: 5.67s\tremaining: 16.7s\n",
      "254:\tlearn: 0.5107275\ttest: 0.5247501\tbest: 0.5247166 (250)\ttotal: 5.69s\tremaining: 16.6s\n",
      "255:\tlearn: 0.5106948\ttest: 0.5247675\tbest: 0.5247166 (250)\ttotal: 5.71s\tremaining: 16.6s\n",
      "256:\tlearn: 0.5106743\ttest: 0.5247749\tbest: 0.5247166 (250)\ttotal: 5.73s\tremaining: 16.6s\n",
      "257:\tlearn: 0.5106484\ttest: 0.5247887\tbest: 0.5247166 (250)\ttotal: 5.76s\tremaining: 16.6s\n",
      "258:\tlearn: 0.5106135\ttest: 0.5248040\tbest: 0.5247166 (250)\ttotal: 5.78s\tremaining: 16.5s\n",
      "259:\tlearn: 0.5105879\ttest: 0.5247942\tbest: 0.5247166 (250)\ttotal: 5.8s\tremaining: 16.5s\n",
      "260:\tlearn: 0.5105417\ttest: 0.5248092\tbest: 0.5247166 (250)\ttotal: 5.82s\tremaining: 16.5s\n",
      "261:\tlearn: 0.5105217\ttest: 0.5248146\tbest: 0.5247166 (250)\ttotal: 5.84s\tremaining: 16.5s\n",
      "262:\tlearn: 0.5104876\ttest: 0.5248242\tbest: 0.5247166 (250)\ttotal: 5.86s\tremaining: 16.4s\n",
      "263:\tlearn: 0.5103243\ttest: 0.5246709\tbest: 0.5246709 (263)\ttotal: 5.88s\tremaining: 16.4s\n",
      "264:\tlearn: 0.5102971\ttest: 0.5246803\tbest: 0.5246709 (263)\ttotal: 5.9s\tremaining: 16.4s\n",
      "265:\tlearn: 0.5102680\ttest: 0.5246789\tbest: 0.5246709 (263)\ttotal: 5.92s\tremaining: 16.3s\n",
      "266:\tlearn: 0.5102349\ttest: 0.5246772\tbest: 0.5246709 (263)\ttotal: 5.94s\tremaining: 16.3s\n",
      "267:\tlearn: 0.5102023\ttest: 0.5246899\tbest: 0.5246709 (263)\ttotal: 5.96s\tremaining: 16.3s\n",
      "268:\tlearn: 0.5101657\ttest: 0.5247004\tbest: 0.5246709 (263)\ttotal: 5.99s\tremaining: 16.3s\n",
      "269:\tlearn: 0.5101312\ttest: 0.5246954\tbest: 0.5246709 (263)\ttotal: 6.01s\tremaining: 16.2s\n",
      "270:\tlearn: 0.5101078\ttest: 0.5247076\tbest: 0.5246709 (263)\ttotal: 6.03s\tremaining: 16.2s\n",
      "271:\tlearn: 0.5100906\ttest: 0.5247193\tbest: 0.5246709 (263)\ttotal: 6.05s\tremaining: 16.2s\n",
      "272:\tlearn: 0.5100499\ttest: 0.5247432\tbest: 0.5246709 (263)\ttotal: 6.08s\tremaining: 16.2s\n",
      "273:\tlearn: 0.5100357\ttest: 0.5247462\tbest: 0.5246709 (263)\ttotal: 6.1s\tremaining: 16.2s\n",
      "274:\tlearn: 0.5099927\ttest: 0.5247562\tbest: 0.5246709 (263)\ttotal: 6.12s\tremaining: 16.1s\n",
      "275:\tlearn: 0.5099651\ttest: 0.5247736\tbest: 0.5246709 (263)\ttotal: 6.14s\tremaining: 16.1s\n",
      "276:\tlearn: 0.5099421\ttest: 0.5247727\tbest: 0.5246709 (263)\ttotal: 6.16s\tremaining: 16.1s\n",
      "277:\tlearn: 0.5099230\ttest: 0.5247813\tbest: 0.5246709 (263)\ttotal: 6.18s\tremaining: 16.1s\n",
      "278:\tlearn: 0.5097662\ttest: 0.5246628\tbest: 0.5246628 (278)\ttotal: 6.21s\tremaining: 16s\n",
      "279:\tlearn: 0.5097393\ttest: 0.5246730\tbest: 0.5246628 (278)\ttotal: 6.23s\tremaining: 16s\n",
      "280:\tlearn: 0.5096972\ttest: 0.5246796\tbest: 0.5246628 (278)\ttotal: 6.25s\tremaining: 16s\n",
      "281:\tlearn: 0.5096692\ttest: 0.5246952\tbest: 0.5246628 (278)\ttotal: 6.28s\tremaining: 16s\n",
      "282:\tlearn: 0.5096599\ttest: 0.5246980\tbest: 0.5246628 (278)\ttotal: 6.29s\tremaining: 15.9s\n",
      "283:\tlearn: 0.5095390\ttest: 0.5245950\tbest: 0.5245950 (283)\ttotal: 6.32s\tremaining: 15.9s\n",
      "284:\tlearn: 0.5095224\ttest: 0.5245964\tbest: 0.5245950 (283)\ttotal: 6.34s\tremaining: 15.9s\n",
      "285:\tlearn: 0.5094843\ttest: 0.5245956\tbest: 0.5245950 (283)\ttotal: 6.36s\tremaining: 15.9s\n",
      "286:\tlearn: 0.5094543\ttest: 0.5245958\tbest: 0.5245950 (283)\ttotal: 6.38s\tremaining: 15.9s\n",
      "287:\tlearn: 0.5094349\ttest: 0.5246019\tbest: 0.5245950 (283)\ttotal: 6.4s\tremaining: 15.8s\n",
      "288:\tlearn: 0.5094147\ttest: 0.5246061\tbest: 0.5245950 (283)\ttotal: 6.43s\tremaining: 15.8s\n",
      "289:\tlearn: 0.5092912\ttest: 0.5244998\tbest: 0.5244998 (289)\ttotal: 6.45s\tremaining: 15.8s\n",
      "290:\tlearn: 0.5092730\ttest: 0.5245116\tbest: 0.5244998 (289)\ttotal: 6.47s\tremaining: 15.8s\n",
      "291:\tlearn: 0.5092522\ttest: 0.5245297\tbest: 0.5244998 (289)\ttotal: 6.5s\tremaining: 15.7s\n",
      "292:\tlearn: 0.5092254\ttest: 0.5245329\tbest: 0.5244998 (289)\ttotal: 6.52s\tremaining: 15.7s\n",
      "293:\tlearn: 0.5091979\ttest: 0.5245424\tbest: 0.5244998 (289)\ttotal: 6.54s\tremaining: 15.7s\n",
      "294:\tlearn: 0.5091675\ttest: 0.5245406\tbest: 0.5244998 (289)\ttotal: 6.56s\tremaining: 15.7s\n",
      "295:\tlearn: 0.5091371\ttest: 0.5245459\tbest: 0.5244998 (289)\ttotal: 6.58s\tremaining: 15.7s\n",
      "296:\tlearn: 0.5091164\ttest: 0.5245444\tbest: 0.5244998 (289)\ttotal: 6.61s\tremaining: 15.6s\n",
      "297:\tlearn: 0.5090146\ttest: 0.5244571\tbest: 0.5244571 (297)\ttotal: 6.63s\tremaining: 15.6s\n",
      "298:\tlearn: 0.5089977\ttest: 0.5244555\tbest: 0.5244555 (298)\ttotal: 6.65s\tremaining: 15.6s\n",
      "299:\tlearn: 0.5089751\ttest: 0.5244534\tbest: 0.5244534 (299)\ttotal: 6.67s\tremaining: 15.6s\n",
      "300:\tlearn: 0.5089476\ttest: 0.5244796\tbest: 0.5244534 (299)\ttotal: 6.69s\tremaining: 15.5s\n",
      "301:\tlearn: 0.5089047\ttest: 0.5244740\tbest: 0.5244534 (299)\ttotal: 6.71s\tremaining: 15.5s\n",
      "302:\tlearn: 0.5088757\ttest: 0.5244733\tbest: 0.5244534 (299)\ttotal: 6.74s\tremaining: 15.5s\n",
      "303:\tlearn: 0.5088408\ttest: 0.5244824\tbest: 0.5244534 (299)\ttotal: 6.76s\tremaining: 15.5s\n",
      "304:\tlearn: 0.5088134\ttest: 0.5244745\tbest: 0.5244534 (299)\ttotal: 6.78s\tremaining: 15.4s\n",
      "305:\tlearn: 0.5087883\ttest: 0.5244719\tbest: 0.5244534 (299)\ttotal: 6.8s\tremaining: 15.4s\n",
      "306:\tlearn: 0.5086680\ttest: 0.5243621\tbest: 0.5243621 (306)\ttotal: 6.82s\tremaining: 15.4s\n",
      "307:\tlearn: 0.5086498\ttest: 0.5243608\tbest: 0.5243608 (307)\ttotal: 6.84s\tremaining: 15.4s\n",
      "308:\tlearn: 0.5086168\ttest: 0.5243690\tbest: 0.5243608 (307)\ttotal: 6.87s\tremaining: 15.4s\n",
      "309:\tlearn: 0.5085952\ttest: 0.5243897\tbest: 0.5243608 (307)\ttotal: 6.89s\tremaining: 15.3s\n",
      "310:\tlearn: 0.5085810\ttest: 0.5243978\tbest: 0.5243608 (307)\ttotal: 6.91s\tremaining: 15.3s\n",
      "311:\tlearn: 0.5085717\ttest: 0.5244098\tbest: 0.5243608 (307)\ttotal: 6.93s\tremaining: 15.3s\n",
      "312:\tlearn: 0.5085516\ttest: 0.5244159\tbest: 0.5243608 (307)\ttotal: 6.95s\tremaining: 15.2s\n",
      "313:\tlearn: 0.5085326\ttest: 0.5244156\tbest: 0.5243608 (307)\ttotal: 6.97s\tremaining: 15.2s\n",
      "314:\tlearn: 0.5085074\ttest: 0.5244279\tbest: 0.5243608 (307)\ttotal: 6.99s\tremaining: 15.2s\n",
      "315:\tlearn: 0.5084956\ttest: 0.5244232\tbest: 0.5243608 (307)\ttotal: 7.01s\tremaining: 15.2s\n",
      "316:\tlearn: 0.5084795\ttest: 0.5244223\tbest: 0.5243608 (307)\ttotal: 7.03s\tremaining: 15.2s\n",
      "317:\tlearn: 0.5083693\ttest: 0.5243226\tbest: 0.5243226 (317)\ttotal: 7.05s\tremaining: 15.1s\n",
      "318:\tlearn: 0.5083500\ttest: 0.5243308\tbest: 0.5243226 (317)\ttotal: 7.08s\tremaining: 15.1s\n",
      "319:\tlearn: 0.5083278\ttest: 0.5243387\tbest: 0.5243226 (317)\ttotal: 7.1s\tremaining: 15.1s\n",
      "320:\tlearn: 0.5083096\ttest: 0.5243542\tbest: 0.5243226 (317)\ttotal: 7.12s\tremaining: 15.1s\n",
      "321:\tlearn: 0.5082861\ttest: 0.5243643\tbest: 0.5243226 (317)\ttotal: 7.14s\tremaining: 15s\n",
      "322:\tlearn: 0.5082596\ttest: 0.5243684\tbest: 0.5243226 (317)\ttotal: 7.17s\tremaining: 15s\n",
      "323:\tlearn: 0.5082528\ttest: 0.5243733\tbest: 0.5243226 (317)\ttotal: 7.18s\tremaining: 15s\n",
      "324:\tlearn: 0.5082306\ttest: 0.5243870\tbest: 0.5243226 (317)\ttotal: 7.21s\tremaining: 15s\n",
      "325:\tlearn: 0.5082179\ttest: 0.5243915\tbest: 0.5243226 (317)\ttotal: 7.23s\tremaining: 14.9s\n",
      "326:\tlearn: 0.5082023\ttest: 0.5244122\tbest: 0.5243226 (317)\ttotal: 7.25s\tremaining: 14.9s\n",
      "327:\tlearn: 0.5081844\ttest: 0.5244346\tbest: 0.5243226 (317)\ttotal: 7.27s\tremaining: 14.9s\n",
      "328:\tlearn: 0.5081725\ttest: 0.5244319\tbest: 0.5243226 (317)\ttotal: 7.29s\tremaining: 14.9s\n",
      "329:\tlearn: 0.5081585\ttest: 0.5244320\tbest: 0.5243226 (317)\ttotal: 7.32s\tremaining: 14.9s\n",
      "330:\tlearn: 0.5081437\ttest: 0.5244370\tbest: 0.5243226 (317)\ttotal: 7.33s\tremaining: 14.8s\n",
      "331:\tlearn: 0.5081280\ttest: 0.5244370\tbest: 0.5243226 (317)\ttotal: 7.36s\tremaining: 14.8s\n",
      "332:\tlearn: 0.5081111\ttest: 0.5244482\tbest: 0.5243226 (317)\ttotal: 7.38s\tremaining: 14.8s\n",
      "333:\tlearn: 0.5080956\ttest: 0.5244609\tbest: 0.5243226 (317)\ttotal: 7.4s\tremaining: 14.8s\n",
      "334:\tlearn: 0.5080641\ttest: 0.5244575\tbest: 0.5243226 (317)\ttotal: 7.42s\tremaining: 14.7s\n",
      "335:\tlearn: 0.5080423\ttest: 0.5244546\tbest: 0.5243226 (317)\ttotal: 7.44s\tremaining: 14.7s\n",
      "336:\tlearn: 0.5080234\ttest: 0.5244611\tbest: 0.5243226 (317)\ttotal: 7.46s\tremaining: 14.7s\n",
      "337:\tlearn: 0.5080169\ttest: 0.5244649\tbest: 0.5243226 (317)\ttotal: 7.48s\tremaining: 14.7s\n",
      "338:\tlearn: 0.5079935\ttest: 0.5244632\tbest: 0.5243226 (317)\ttotal: 7.51s\tremaining: 14.6s\n",
      "339:\tlearn: 0.5079678\ttest: 0.5244578\tbest: 0.5243226 (317)\ttotal: 7.53s\tremaining: 14.6s\n",
      "340:\tlearn: 0.5079355\ttest: 0.5244691\tbest: 0.5243226 (317)\ttotal: 7.55s\tremaining: 14.6s\n",
      "341:\tlearn: 0.5079254\ttest: 0.5244726\tbest: 0.5243226 (317)\ttotal: 7.57s\tremaining: 14.6s\n",
      "342:\tlearn: 0.5079028\ttest: 0.5244824\tbest: 0.5243226 (317)\ttotal: 7.59s\tremaining: 14.5s\n",
      "343:\tlearn: 0.5078889\ttest: 0.5244814\tbest: 0.5243226 (317)\ttotal: 7.61s\tremaining: 14.5s\n",
      "344:\tlearn: 0.5078646\ttest: 0.5244822\tbest: 0.5243226 (317)\ttotal: 7.64s\tremaining: 14.5s\n",
      "345:\tlearn: 0.5078469\ttest: 0.5244998\tbest: 0.5243226 (317)\ttotal: 7.66s\tremaining: 14.5s\n",
      "346:\tlearn: 0.5078214\ttest: 0.5244899\tbest: 0.5243226 (317)\ttotal: 7.68s\tremaining: 14.5s\n",
      "347:\tlearn: 0.5077963\ttest: 0.5244985\tbest: 0.5243226 (317)\ttotal: 7.7s\tremaining: 14.4s\n",
      "348:\tlearn: 0.5077687\ttest: 0.5245129\tbest: 0.5243226 (317)\ttotal: 7.72s\tremaining: 14.4s\n",
      "349:\tlearn: 0.5077467\ttest: 0.5245130\tbest: 0.5243226 (317)\ttotal: 7.75s\tremaining: 14.4s\n",
      "350:\tlearn: 0.5077280\ttest: 0.5245203\tbest: 0.5243226 (317)\ttotal: 7.77s\tremaining: 14.4s\n",
      "351:\tlearn: 0.5077100\ttest: 0.5245250\tbest: 0.5243226 (317)\ttotal: 7.79s\tremaining: 14.3s\n",
      "352:\tlearn: 0.5076958\ttest: 0.5245378\tbest: 0.5243226 (317)\ttotal: 7.82s\tremaining: 14.3s\n",
      "353:\tlearn: 0.5075972\ttest: 0.5244637\tbest: 0.5243226 (317)\ttotal: 7.84s\tremaining: 14.3s\n",
      "354:\tlearn: 0.5075042\ttest: 0.5243963\tbest: 0.5243226 (317)\ttotal: 7.86s\tremaining: 14.3s\n",
      "355:\tlearn: 0.5074906\ttest: 0.5244092\tbest: 0.5243226 (317)\ttotal: 7.88s\tremaining: 14.3s\n",
      "356:\tlearn: 0.5074565\ttest: 0.5244368\tbest: 0.5243226 (317)\ttotal: 7.91s\tremaining: 14.2s\n",
      "357:\tlearn: 0.5074338\ttest: 0.5244583\tbest: 0.5243226 (317)\ttotal: 7.93s\tremaining: 14.2s\n",
      "358:\tlearn: 0.5074176\ttest: 0.5244673\tbest: 0.5243226 (317)\ttotal: 7.95s\tremaining: 14.2s\n",
      "359:\tlearn: 0.5074085\ttest: 0.5244777\tbest: 0.5243226 (317)\ttotal: 7.97s\tremaining: 14.2s\n",
      "360:\tlearn: 0.5073971\ttest: 0.5244808\tbest: 0.5243226 (317)\ttotal: 7.99s\tremaining: 14.1s\n",
      "361:\tlearn: 0.5073749\ttest: 0.5244807\tbest: 0.5243226 (317)\ttotal: 8.01s\tremaining: 14.1s\n",
      "362:\tlearn: 0.5073526\ttest: 0.5244842\tbest: 0.5243226 (317)\ttotal: 8.03s\tremaining: 14.1s\n",
      "363:\tlearn: 0.5073149\ttest: 0.5244761\tbest: 0.5243226 (317)\ttotal: 8.05s\tremaining: 14.1s\n",
      "364:\tlearn: 0.5073002\ttest: 0.5244809\tbest: 0.5243226 (317)\ttotal: 8.07s\tremaining: 14s\n",
      "365:\tlearn: 0.5072882\ttest: 0.5244968\tbest: 0.5243226 (317)\ttotal: 8.09s\tremaining: 14s\n",
      "366:\tlearn: 0.5072785\ttest: 0.5245084\tbest: 0.5243226 (317)\ttotal: 8.11s\tremaining: 14s\n",
      "367:\tlearn: 0.5072688\ttest: 0.5245153\tbest: 0.5243226 (317)\ttotal: 8.13s\tremaining: 14s\n",
      "Stopped by overfitting detector  (50 iterations wait)\n",
      "\n",
      "bestTest = 0.5243225592\n",
      "bestIteration = 317\n",
      "\n",
      "Shrink model to first 318 iterations.\n"
     ]
    },
    {
     "data": {
      "text/plain": [
       "<catboost.core.CatBoostClassifier at 0x7968988a8430>"
      ]
     },
     "execution_count": 30,
     "metadata": {},
     "output_type": "execute_result"
    }
   ],
   "source": [
    "catboost_model = CatBoostClassifier(\n",
    "    iterations = 1000,\n",
    "    learning_rate = 0.01,\n",
    "    reg_lambda=0.5,\n",
    "    eval_metric='Logloss',\n",
    "    max_depth = 9,\n",
    "    colsample_bylevel =  0.56662,\n",
    "    random_strength = 5.5036,\n",
    "    random_state = 42,\n",
    "    bootstrap_type = 'Bayesian',\n",
    "    bagging_temperature= 4.82883,\n",
    "    auto_class_weights = 'Balanced'\n",
    "    )\n",
    "\n",
    "catboost_model.fit(X_train,y_train,eval_set = [(X_test, y_test)],cat_features=categorical_features, use_best_model=True, early_stopping_rounds=50)"
   ]
  },
  {
   "cell_type": "code",
   "execution_count": 51,
   "id": "9944c552-dc76-4575-bc9e-c1990e7ab861",
   "metadata": {},
   "outputs": [],
   "source": [
    "y_pred_test = catboost_model.predict(X_test)\n",
    "y_pred_train = catboost_model.predict(X_train)\n",
    "y_pred_val = catboost_model.predict(X_val)\n",
    "y_pred_rem = catboost_model.predict(X_remaining)"
   ]
  },
  {
   "cell_type": "markdown",
   "id": "cef6d30b-43db-487d-92cb-6a590ccaa743",
   "metadata": {},
   "source": [
    "### TRAIN"
   ]
  },
  {
   "cell_type": "code",
   "execution_count": 32,
   "id": "0804df31-c16d-41ac-a814-5778af5f8d6b",
   "metadata": {},
   "outputs": [
    {
     "name": "stdout",
     "output_type": "stream",
     "text": [
      "Confusion Matrix:\n",
      "[[ 5501  7055]\n",
      " [   86 12474]]\n"
     ]
    }
   ],
   "source": [
    "# Confusion Matrix\n",
    "conf_matrix = confusion_matrix(y_train, y_pred_train)\n",
    "print(\"Confusion Matrix:\")\n",
    "print(conf_matrix)"
   ]
  },
  {
   "cell_type": "code",
   "execution_count": 33,
   "id": "507d78fc-6a27-4027-984d-eba54a720593",
   "metadata": {},
   "outputs": [
    {
     "name": "stdout",
     "output_type": "stream",
     "text": [
      "Accuracy on trn set: 0.7156792482879439\n"
     ]
    }
   ],
   "source": [
    "# Evaluating the model\n",
    "accuracy = accuracy_score(y_train, y_pred_train)\n",
    "print(f\"Accuracy on trn set: {accuracy}\")"
   ]
  },
  {
   "cell_type": "code",
   "execution_count": 34,
   "id": "551282c9-5ae7-47e0-9b33-1b06946689b6",
   "metadata": {},
   "outputs": [
    {
     "name": "stdout",
     "output_type": "stream",
     "text": [
      "f1 on train set: 0.7774626819159214\n"
     ]
    }
   ],
   "source": [
    "# Evaluating the model\n",
    "f1 = f1_score(y_train, y_pred_train)\n",
    "print(f\"f1 on train set: {f1}\")"
   ]
  },
  {
   "cell_type": "code",
   "execution_count": 35,
   "id": "cd823a06-c921-4dda-8412-14f6c5361b43",
   "metadata": {},
   "outputs": [
    {
     "name": "stdout",
     "output_type": "stream",
     "text": [
      "f1 on train set: 0.6919472993845996\n"
     ]
    }
   ],
   "source": [
    "# Evaluating the model\n",
    "f1 = f1_score(y_train, y_pred_train,average='weighted')\n",
    "print(f\"f1 on train set: {f1}\")"
   ]
  },
  {
   "cell_type": "code",
   "execution_count": 36,
   "id": "9dd5ea95-c488-4827-9823-dc2bd0cef586",
   "metadata": {},
   "outputs": [
    {
     "data": {
      "text/plain": [
       "0.518490120229725"
      ]
     },
     "execution_count": 36,
     "metadata": {},
     "output_type": "execute_result"
    }
   ],
   "source": [
    "matthews_corrcoef(y_train, y_pred_train)"
   ]
  },
  {
   "cell_type": "markdown",
   "id": "776356e3-cf38-4cb2-bfd2-556925d284fb",
   "metadata": {},
   "source": [
    "### TEST"
   ]
  },
  {
   "cell_type": "code",
   "execution_count": 37,
   "id": "4fbeb101-b6a8-4a08-ab4e-023558c08bec",
   "metadata": {},
   "outputs": [
    {
     "name": "stdout",
     "output_type": "stream",
     "text": [
      "Confusion Matrix:\n",
      "[[1137 1561]\n",
      " [  33 2651]]\n"
     ]
    }
   ],
   "source": [
    "# Confusion Matrix\n",
    "conf_matrix = confusion_matrix(y_test, y_pred_test)\n",
    "print(\"Confusion Matrix:\")\n",
    "print(conf_matrix)"
   ]
  },
  {
   "cell_type": "code",
   "execution_count": 38,
   "id": "3c1c5f09-b50b-4f6c-866c-f483e65c9247",
   "metadata": {},
   "outputs": [
    {
     "name": "stdout",
     "output_type": "stream",
     "text": [
      "Accuracy on test set: 0.7038275733927908\n"
     ]
    }
   ],
   "source": [
    "# Evaluating the model\n",
    "accuracy = accuracy_score(y_test, y_pred_test)\n",
    "print(f\"Accuracy on test set: {accuracy}\")"
   ]
  },
  {
   "cell_type": "code",
   "execution_count": 39,
   "id": "08c1c857-c136-459a-8205-fa4ad5a86af0",
   "metadata": {},
   "outputs": [
    {
     "name": "stdout",
     "output_type": "stream",
     "text": [
      "f1 on test set: 0.7688515081206496\n"
     ]
    }
   ],
   "source": [
    "# Evaluating the model\n",
    "f1 = f1_score(y_test, y_pred_test)\n",
    "print(f\"f1 on test set: {f1}\")"
   ]
  },
  {
   "cell_type": "code",
   "execution_count": 40,
   "id": "fdec9f1f-95a1-46f0-9071-10c76400a863",
   "metadata": {},
   "outputs": [
    {
     "name": "stdout",
     "output_type": "stream",
     "text": [
      "f1 on test set: 0.6781407656719614\n"
     ]
    }
   ],
   "source": [
    "# Evaluating the model\n",
    "f1 = f1_score(y_test, y_pred_test,average='weighted')\n",
    "print(f\"f1 on test set: {f1}\")"
   ]
  },
  {
   "cell_type": "code",
   "execution_count": 42,
   "id": "d2e25bae-0008-476f-a91f-c532bb0cd3f0",
   "metadata": {},
   "outputs": [
    {
     "data": {
      "text/plain": [
       "0.4959461527897328"
      ]
     },
     "execution_count": 42,
     "metadata": {},
     "output_type": "execute_result"
    }
   ],
   "source": [
    "matthews_corrcoef(y_test, y_pred_test)"
   ]
  },
  {
   "cell_type": "markdown",
   "id": "a0287dd8-7256-4d65-8bd1-a04e2d8e2c0a",
   "metadata": {},
   "source": [
    "### Validation"
   ]
  },
  {
   "cell_type": "code",
   "execution_count": 43,
   "id": "49a03766-1e18-4b99-ab58-2b0281666efa",
   "metadata": {},
   "outputs": [
    {
     "name": "stdout",
     "output_type": "stream",
     "text": [
      "Confusion Matrix:\n",
      "[[1201 1485]\n",
      " [  34 2662]]\n"
     ]
    }
   ],
   "source": [
    "# Confusion Matrix\n",
    "conf_matrix = confusion_matrix(y_val, y_pred_val)\n",
    "print(\"Confusion Matrix:\")\n",
    "print(conf_matrix)"
   ]
  },
  {
   "cell_type": "code",
   "execution_count": 44,
   "id": "d618d963-4d3a-45c4-997d-b23199cab350",
   "metadata": {},
   "outputs": [
    {
     "name": "stdout",
     "output_type": "stream",
     "text": [
      "Accuracy on val set: 0.7177629134150874\n"
     ]
    }
   ],
   "source": [
    "# Evaluating the model\n",
    "accuracy = accuracy_score(y_val, y_pred_val)\n",
    "print(f\"Accuracy on val set: {accuracy}\")"
   ]
  },
  {
   "cell_type": "code",
   "execution_count": 45,
   "id": "31384afe-32ee-47d2-9ca6-d8bc446df878",
   "metadata": {},
   "outputs": [
    {
     "name": "stdout",
     "output_type": "stream",
     "text": [
      "f1 on val set: 0.7780213356714891\n"
     ]
    }
   ],
   "source": [
    "# Evaluating the model\n",
    "f1 = f1_score(y_val, y_pred_val)\n",
    "print(f\"f1 on val set: {f1}\")"
   ]
  },
  {
   "cell_type": "code",
   "execution_count": 52,
   "id": "48a779d5-4ee2-4235-a9c8-068823b013aa",
   "metadata": {},
   "outputs": [
    {
     "name": "stdout",
     "output_type": "stream",
     "text": [
      "f1 on val set: 0.6954637625112263\n"
     ]
    }
   ],
   "source": [
    "# Evaluating the model\n",
    "f1 = f1_score(y_val, y_pred_val,average='weighted')\n",
    "print(f\"f1 on val set: {f1}\")"
   ]
  },
  {
   "cell_type": "code",
   "execution_count": 53,
   "id": "c76bd822-55d4-4883-8af7-b0d789b0ca34",
   "metadata": {},
   "outputs": [
    {
     "data": {
      "text/plain": [
       "0.5166830673634507"
      ]
     },
     "execution_count": 53,
     "metadata": {},
     "output_type": "execute_result"
    }
   ],
   "source": [
    "matthews_corrcoef(y_val, y_pred_val)"
   ]
  },
  {
   "cell_type": "markdown",
   "id": "fb9e9dcc-7ea4-4a8f-aa5c-615b70f3de77",
   "metadata": {},
   "source": [
    "### Remaining train"
   ]
  },
  {
   "cell_type": "code",
   "execution_count": 54,
   "id": "aecd5f0d-605f-4e92-847a-2d978b083520",
   "metadata": {},
   "outputs": [
    {
     "data": {
      "text/plain": [
       "array([[131178, 168055],\n",
       "       [     0,      0]])"
      ]
     },
     "execution_count": 54,
     "metadata": {},
     "output_type": "execute_result"
    }
   ],
   "source": [
    "confusion_matrix(y_remaining, y_pred_rem)"
   ]
  },
  {
   "cell_type": "code",
   "execution_count": 55,
   "id": "830ee959-0578-4a50-9b84-43e403f965a2",
   "metadata": {},
   "outputs": [
    {
     "data": {
      "text/plain": [
       "0.4383807935622074"
      ]
     },
     "execution_count": 55,
     "metadata": {},
     "output_type": "execute_result"
    }
   ],
   "source": [
    "accuracy_score(y_remaining, y_pred_rem)"
   ]
  },
  {
   "cell_type": "code",
   "execution_count": 56,
   "id": "501ea3cb-954e-43e9-819b-769a367b8150",
   "metadata": {},
   "outputs": [
    {
     "data": {
      "text/plain": [
       "0.6095476184391199"
      ]
     },
     "execution_count": 56,
     "metadata": {},
     "output_type": "execute_result"
    }
   ],
   "source": [
    "f1_score(y_remaining, y_pred_rem,average='weighted')"
   ]
  },
  {
   "cell_type": "code",
   "execution_count": 57,
   "id": "c8ec159c-c03b-4f42-97bd-962f57e475d6",
   "metadata": {},
   "outputs": [
    {
     "data": {
      "text/plain": [
       "0.0"
      ]
     },
     "execution_count": 57,
     "metadata": {},
     "output_type": "execute_result"
    }
   ],
   "source": [
    "f1_score(y_remaining, y_pred_rem)"
   ]
  },
  {
   "cell_type": "code",
   "execution_count": 58,
   "id": "78ffbafa-1177-4f73-ae66-f1e1834e51b3",
   "metadata": {},
   "outputs": [
    {
     "data": {
      "text/plain": [
       "0.0"
      ]
     },
     "execution_count": 58,
     "metadata": {},
     "output_type": "execute_result"
    }
   ],
   "source": [
    "matthews_corrcoef(y_remaining, y_pred_rem)"
   ]
  },
  {
   "cell_type": "code",
   "execution_count": null,
   "id": "dfd1f2c2-d460-4e50-8400-3262863220d5",
   "metadata": {},
   "outputs": [],
   "source": []
  },
  {
   "cell_type": "code",
   "execution_count": 104,
   "id": "8ef59e26-7126-4f59-938d-64d47c563c49",
   "metadata": {},
   "outputs": [],
   "source": [
    "# # Predict probabilities for the positive class\n",
    "# y_prob_test = catboost_model.predict_proba(X_test)[:, 1]"
   ]
  },
  {
   "cell_type": "code",
   "execution_count": 105,
   "id": "9ec16ccc-5058-40f6-8870-38abe256cb44",
   "metadata": {},
   "outputs": [
    {
     "name": "stdout",
     "output_type": "stream",
     "text": [
      "Best Threshold: 0.51\n",
      "Best F1 Score: 0.7727534562211982\n"
     ]
    }
   ],
   "source": [
    "# # Calculate F1 scores for different threshold values\n",
    "# threshold_values = np.arange(0, 1.0, 0.001)\n",
    "# f1_scores = []\n",
    "# for threshold in threshold_values:\n",
    "#     y_pred_threshold = (y_prob_test > threshold).astype(int)\n",
    "#     f1_scores.append(f1_score(y_test, y_pred_threshold))\n",
    "\n",
    "# # Find the threshold value with the highest F1 score\n",
    "# best_threshold = threshold_values[np.argmax(f1_scores)]\n",
    "# best_f1_score = np.max(f1_scores)\n",
    "\n",
    "# print(\"Best Threshold:\", best_threshold)\n",
    "# print(\"Best F1 Score:\", best_f1_score)"
   ]
  },
  {
   "cell_type": "code",
   "execution_count": 81,
   "id": "380dd2b5-464e-4d39-b953-52d8871e7804",
   "metadata": {},
   "outputs": [
    {
     "name": "stderr",
     "output_type": "stream",
     "text": [
      "[I 2024-04-15 12:29:56,326] A new study created in memory with name: no-name-ba8644ea-639e-4b54-84f5-c65b9e1a57a1\n",
      "[I 2024-04-15 12:30:03,236] Trial 0 finished with value: 0.7724852496762125 and parameters: {'max_depth': 5, 'colsample_bylevel': 0.9655000144869412, 'random_strength': 7.587945476302646, 'bagging_temperature': 3.0334265725654794}. Best is trial 0 with value: 0.7724852496762125.\n",
      "[I 2024-04-15 12:30:09,857] Trial 1 finished with value: 0.7724852496762125 and parameters: {'max_depth': 4, 'colsample_bylevel': 0.40919616423534183, 'random_strength': 1.5227525095137953, 'bagging_temperature': 4.344263114297182}. Best is trial 0 with value: 0.7724852496762125.\n",
      "[I 2024-04-15 12:30:19,886] Trial 2 finished with value: 0.77264218862491 and parameters: {'max_depth': 7, 'colsample_bylevel': 0.7956508044572318, 'random_strength': 1.185260448662222, 'bagging_temperature': 4.852558275593772}. Best is trial 2 with value: 0.77264218862491.\n",
      "[I 2024-04-15 12:30:28,618] Trial 3 finished with value: 0.7724852496762125 and parameters: {'max_depth': 9, 'colsample_bylevel': 0.44863737747479326, 'random_strength': 2.636424704863906, 'bagging_temperature': 0.9986820982818257}. Best is trial 2 with value: 0.77264218862491.\n",
      "[I 2024-04-15 12:30:35,754] Trial 4 finished with value: 0.7724852496762125 and parameters: {'max_depth': 5, 'colsample_bylevel': 0.6673295021425665, 'random_strength': 4.887505167779041, 'bagging_temperature': 1.5270227869704056}. Best is trial 2 with value: 0.77264218862491.\n",
      "[I 2024-04-15 12:30:43,478] Trial 5 finished with value: 0.7724852496762125 and parameters: {'max_depth': 7, 'colsample_bylevel': 0.3976457024564293, 'random_strength': 3.629301836816963, 'bagging_temperature': 1.8951730321390896}. Best is trial 2 with value: 0.77264218862491.\n",
      "[I 2024-04-15 12:30:51,451] Trial 6 finished with value: 0.7724852496762125 and parameters: {'max_depth': 6, 'colsample_bylevel': 0.8496231729751094, 'random_strength': 2.7970640394252375, 'bagging_temperature': 2.619748748226697}. Best is trial 2 with value: 0.77264218862491.\n",
      "[I 2024-04-15 12:30:59,133] Trial 7 finished with value: 0.7724852496762125 and parameters: {'max_depth': 7, 'colsample_bylevel': 0.3325152889039984, 'random_strength': 6.467903667112945, 'bagging_temperature': 0.9355682060677285}. Best is trial 2 with value: 0.77264218862491.\n",
      "[I 2024-04-15 12:31:04,872] Trial 8 finished with value: 0.7724852496762125 and parameters: {'max_depth': 3, 'colsample_bylevel': 0.9642198760773333, 'random_strength': 9.690688297671034, 'bagging_temperature': 4.06114700577066}. Best is trial 2 with value: 0.77264218862491.\n",
      "[I 2024-04-15 12:31:11,850] Trial 9 finished with value: 0.7724852496762125 and parameters: {'max_depth': 5, 'colsample_bylevel': 0.3683704798044687, 'random_strength': 7.158097238609412, 'bagging_temperature': 2.2567472193240468}. Best is trial 2 with value: 0.77264218862491.\n",
      "[I 2024-04-15 12:31:34,900] Trial 10 finished with value: 0.7720461095100865 and parameters: {'max_depth': 10, 'colsample_bylevel': 0.6911956287802271, 'random_strength': 1.0679258738466366, 'bagging_temperature': 4.779948906069654}. Best is trial 2 with value: 0.77264218862491.\n",
      "[I 2024-04-15 12:31:44,998] Trial 11 finished with value: 0.77264218862491 and parameters: {'max_depth': 8, 'colsample_bylevel': 0.8481210154402137, 'random_strength': 8.459506179292722, 'bagging_temperature': 3.3746933225158204}. Best is trial 2 with value: 0.77264218862491.\n",
      "[I 2024-04-15 12:31:54,229] Trial 12 finished with value: 0.77264218862491 and parameters: {'max_depth': 8, 'colsample_bylevel': 0.801562612566032, 'random_strength': 9.925600936908694, 'bagging_temperature': 3.516063901866464}. Best is trial 2 with value: 0.77264218862491.\n",
      "[I 2024-04-15 12:32:04,635] Trial 13 finished with value: 0.77264218862491 and parameters: {'max_depth': 8, 'colsample_bylevel': 0.8050581395903983, 'random_strength': 8.550009561614598, 'bagging_temperature': 3.64842953679645}. Best is trial 2 with value: 0.77264218862491.\n",
      "[I 2024-04-15 12:32:18,562] Trial 14 finished with value: 0.7727534562211982 and parameters: {'max_depth': 9, 'colsample_bylevel': 0.5666214856186601, 'random_strength': 5.50365970829216, 'bagging_temperature': 4.8288339251486985}. Best is trial 14 with value: 0.7727534562211982.\n",
      "[I 2024-04-15 12:32:40,714] Trial 15 finished with value: 0.7720461095100865 and parameters: {'max_depth': 10, 'colsample_bylevel': 0.5370470819947414, 'random_strength': 5.056552295722588, 'bagging_temperature': 4.749217296966944}. Best is trial 14 with value: 0.7727534562211982.\n",
      "[I 2024-04-15 12:32:54,954] Trial 16 finished with value: 0.7727534562211982 and parameters: {'max_depth': 9, 'colsample_bylevel': 0.5890048461851933, 'random_strength': 4.243809883142115, 'bagging_temperature': 4.980481005562433}. Best is trial 14 with value: 0.7727534562211982.\n",
      "[I 2024-04-15 12:33:08,925] Trial 17 finished with value: 0.7720461095100865 and parameters: {'max_depth': 9, 'colsample_bylevel': 0.578012158998591, 'random_strength': 3.95577672166014, 'bagging_temperature': 4.138907322205178}. Best is trial 14 with value: 0.7727534562211982.\n",
      "[I 2024-04-15 12:33:23,281] Trial 18 finished with value: 0.7727534562211982 and parameters: {'max_depth': 9, 'colsample_bylevel': 0.5314057675897281, 'random_strength': 5.587590856941079, 'bagging_temperature': 4.994864024040015}. Best is trial 14 with value: 0.7727534562211982.\n",
      "[I 2024-04-15 12:33:43,744] Trial 19 finished with value: 0.7720461095100865 and parameters: {'max_depth': 10, 'colsample_bylevel': 0.6272506625707759, 'random_strength': 5.901536208415076, 'bagging_temperature': 4.268868802941359}. Best is trial 14 with value: 0.7727534562211982.\n",
      "[I 2024-04-15 12:33:54,509] Trial 20 finished with value: 0.77264218862491 and parameters: {'max_depth': 9, 'colsample_bylevel': 0.4800667999451651, 'random_strength': 4.24396676097902, 'bagging_temperature': 2.75012826149201}. Best is trial 14 with value: 0.7727534562211982.\n",
      "[I 2024-04-15 12:34:02,649] Trial 21 finished with value: 0.7724852496762125 and parameters: {'max_depth': 9, 'colsample_bylevel': 0.514086396707632, 'random_strength': 5.825007830287789, 'bagging_temperature': 0.23039487030463857}. Best is trial 14 with value: 0.7727534562211982.\n",
      "[I 2024-04-15 12:34:14,848] Trial 22 finished with value: 0.77264218862491 and parameters: {'max_depth': 8, 'colsample_bylevel': 0.5902894798057501, 'random_strength': 4.778216263457772, 'bagging_temperature': 4.930154293557566}. Best is trial 14 with value: 0.7727534562211982.\n",
      "[I 2024-04-15 12:34:36,955] Trial 23 finished with value: 0.7720461095100865 and parameters: {'max_depth': 10, 'colsample_bylevel': 0.7196512867798437, 'random_strength': 6.501434117841216, 'bagging_temperature': 4.490947050952568}. Best is trial 14 with value: 0.7727534562211982.\n",
      "[I 2024-04-15 12:34:52,119] Trial 24 finished with value: 0.7727534562211982 and parameters: {'max_depth': 9, 'colsample_bylevel': 0.5535953712282622, 'random_strength': 3.2955136229250632, 'bagging_temperature': 3.7798864564613766}. Best is trial 14 with value: 0.7727534562211982.\n",
      "[I 2024-04-15 12:35:04,372] Trial 25 finished with value: 0.77264218862491 and parameters: {'max_depth': 8, 'colsample_bylevel': 0.611171762406529, 'random_strength': 5.721740341288803, 'bagging_temperature': 4.960739365101666}. Best is trial 14 with value: 0.7727534562211982.\n",
      "[I 2024-04-15 12:35:12,982] Trial 26 finished with value: 0.7724852496762125 and parameters: {'max_depth': 6, 'colsample_bylevel': 0.48061818070167783, 'random_strength': 4.3474810522628875, 'bagging_temperature': 4.3989938949452485}. Best is trial 14 with value: 0.7727534562211982.\n",
      "[I 2024-04-15 12:35:27,530] Trial 27 finished with value: 0.7720461095100865 and parameters: {'max_depth': 9, 'colsample_bylevel': 0.7211755415944437, 'random_strength': 6.560364031408837, 'bagging_temperature': 4.002745575816313}. Best is trial 14 with value: 0.7727534562211982.\n",
      "[I 2024-04-15 12:35:48,378] Trial 28 finished with value: 0.7720461095100865 and parameters: {'max_depth': 10, 'colsample_bylevel': 0.5019069631978398, 'random_strength': 5.298036445421502, 'bagging_temperature': 4.523020028705168}. Best is trial 14 with value: 0.7727534562211982.\n",
      "[I 2024-04-15 12:35:57,331] Trial 29 finished with value: 0.7724852496762125 and parameters: {'max_depth': 7, 'colsample_bylevel': 0.6510199107956567, 'random_strength': 7.529886697259929, 'bagging_temperature': 3.0343305821229487}. Best is trial 14 with value: 0.7727534562211982.\n",
      "[I 2024-04-15 12:36:08,914] Trial 30 finished with value: 0.77264218862491 and parameters: {'max_depth': 8, 'colsample_bylevel': 0.4360723273348158, 'random_strength': 2.2298131494811657, 'bagging_temperature': 3.8395923619390935}. Best is trial 14 with value: 0.7727534562211982.\n",
      "[I 2024-04-15 12:36:22,350] Trial 31 finished with value: 0.7727534562211982 and parameters: {'max_depth': 9, 'colsample_bylevel': 0.555839768326863, 'random_strength': 3.305750755631471, 'bagging_temperature': 3.1942597194423636}. Best is trial 14 with value: 0.7727534562211982.\n",
      "[I 2024-04-15 12:36:36,958] Trial 32 finished with value: 0.7727534562211982 and parameters: {'max_depth': 9, 'colsample_bylevel': 0.5622397264976136, 'random_strength': 3.262158225255079, 'bagging_temperature': 4.526287605707717}. Best is trial 14 with value: 0.7727534562211982.\n",
      "[I 2024-04-15 12:36:57,046] Trial 33 finished with value: 0.7720461095100865 and parameters: {'max_depth': 10, 'colsample_bylevel': 0.6147876093979443, 'random_strength': 4.637518788125463, 'bagging_temperature': 3.743529631203856}. Best is trial 14 with value: 0.7727534562211982.\n",
      "[I 2024-04-15 12:37:11,126] Trial 34 finished with value: 0.7727534562211982 and parameters: {'max_depth': 9, 'colsample_bylevel': 0.5297946320775566, 'random_strength': 1.8979897154922023, 'bagging_temperature': 4.553836894273672}. Best is trial 14 with value: 0.7727534562211982.\n",
      "[I 2024-04-15 12:37:22,287] Trial 35 finished with value: 0.77264218862491 and parameters: {'max_depth': 8, 'colsample_bylevel': 0.4589517358887538, 'random_strength': 3.7578039143618307, 'bagging_temperature': 4.97630385604187}. Best is trial 14 with value: 0.7727534562211982.\n",
      "[I 2024-04-15 12:37:35,222] Trial 36 finished with value: 0.77264218862491 and parameters: {'max_depth': 9, 'colsample_bylevel': 0.41520007352372235, 'random_strength': 5.436165065252073, 'bagging_temperature': 3.9587775524475974}. Best is trial 14 with value: 0.7727534562211982.\n",
      "[I 2024-04-15 12:37:41,652] Trial 37 finished with value: 0.7724852496762125 and parameters: {'max_depth': 4, 'colsample_bylevel': 0.6795880341063218, 'random_strength': 2.612390315821166, 'bagging_temperature': 4.24494769336853}. Best is trial 14 with value: 0.7727534562211982.\n",
      "[I 2024-04-15 12:37:50,003] Trial 38 finished with value: 0.7724852496762125 and parameters: {'max_depth': 6, 'colsample_bylevel': 0.7517349757284129, 'random_strength': 2.9503626660526163, 'bagging_temperature': 4.577866985342623}. Best is trial 14 with value: 0.7727534562211982.\n",
      "[I 2024-04-15 12:37:59,548] Trial 39 finished with value: 0.77264218862491 and parameters: {'max_depth': 7, 'colsample_bylevel': 0.6426699339269076, 'random_strength': 6.217493609690335, 'bagging_temperature': 4.750260365406485}. Best is trial 14 with value: 0.7727534562211982.\n",
      "[I 2024-04-15 12:38:09,633] Trial 40 finished with value: 0.77264218862491 and parameters: {'max_depth': 10, 'colsample_bylevel': 0.36959225254216704, 'random_strength': 4.28670455954423, 'bagging_temperature': 2.3605820913082196}. Best is trial 14 with value: 0.7727534562211982.\n",
      "[I 2024-04-15 12:38:22,809] Trial 41 finished with value: 0.7727534562211982 and parameters: {'max_depth': 9, 'colsample_bylevel': 0.5686345343544356, 'random_strength': 2.219806662444914, 'bagging_temperature': 2.9660734981251653}. Best is trial 14 with value: 0.7727534562211982.\n",
      "[I 2024-04-15 12:38:35,747] Trial 42 finished with value: 0.7727534562211982 and parameters: {'max_depth': 9, 'colsample_bylevel': 0.5461746132810449, 'random_strength': 3.5514084742257497, 'bagging_temperature': 3.2699494720102416}. Best is trial 14 with value: 0.7727534562211982.\n",
      "[I 2024-04-15 12:38:46,398] Trial 43 finished with value: 0.77264218862491 and parameters: {'max_depth': 8, 'colsample_bylevel': 0.5905235866577324, 'random_strength': 3.0614152947798243, 'bagging_temperature': 3.4090290412836373}. Best is trial 14 with value: 0.7727534562211982.\n",
      "[I 2024-04-15 12:38:57,591] Trial 44 finished with value: 0.77264218862491 and parameters: {'max_depth': 9, 'colsample_bylevel': 0.4989024889176261, 'random_strength': 5.029155498808713, 'bagging_temperature': 3.1239334950447617}. Best is trial 14 with value: 0.7727534562211982.\n",
      "[I 2024-04-15 12:39:05,352] Trial 45 finished with value: 0.7724852496762125 and parameters: {'max_depth': 7, 'colsample_bylevel': 0.3097282907253116, 'random_strength': 3.542624177760713, 'bagging_temperature': 1.9488103323965171}. Best is trial 14 with value: 0.7727534562211982.\n",
      "[I 2024-04-15 12:39:17,081] Trial 46 finished with value: 0.77264218862491 and parameters: {'max_depth': 10, 'colsample_bylevel': 0.9601254052083763, 'random_strength': 7.002047330371459, 'bagging_temperature': 2.7668574580966245}. Best is trial 14 with value: 0.7727534562211982.\n",
      "[I 2024-04-15 12:39:27,757] Trial 47 finished with value: 0.77264218862491 and parameters: {'max_depth': 8, 'colsample_bylevel': 0.5293278649750958, 'random_strength': 1.4562213734876224, 'bagging_temperature': 4.746739953198996}. Best is trial 14 with value: 0.7727534562211982.\n",
      "[I 2024-04-15 12:39:41,003] Trial 48 finished with value: 0.7727534562211982 and parameters: {'max_depth': 9, 'colsample_bylevel': 0.6035938741042424, 'random_strength': 3.9815103777866843, 'bagging_temperature': 3.537151219341098}. Best is trial 14 with value: 0.7727534562211982.\n",
      "[I 2024-04-15 12:40:02,353] Trial 49 finished with value: 0.7720461095100865 and parameters: {'max_depth': 10, 'colsample_bylevel': 0.4532963753896605, 'random_strength': 2.4834358303579025, 'bagging_temperature': 4.225577433519764}. Best is trial 14 with value: 0.7727534562211982.\n",
      "[I 2024-04-15 12:40:08,465] Trial 50 finished with value: 0.7724852496762125 and parameters: {'max_depth': 3, 'colsample_bylevel': 0.558250622264656, 'random_strength': 4.608448719505796, 'bagging_temperature': 1.2721226279303766}. Best is trial 14 with value: 0.7727534562211982.\n",
      "[I 2024-04-15 12:40:22,906] Trial 51 finished with value: 0.7727534562211982 and parameters: {'max_depth': 9, 'colsample_bylevel': 0.5689247877172035, 'random_strength': 3.245533856931315, 'bagging_temperature': 4.700709172397901}. Best is trial 14 with value: 0.7727534562211982.\n",
      "[I 2024-04-15 12:40:37,103] Trial 52 finished with value: 0.7727534562211982 and parameters: {'max_depth': 9, 'colsample_bylevel': 0.6358158737463454, 'random_strength': 3.2358938474265706, 'bagging_temperature': 4.34488388211826}. Best is trial 14 with value: 0.7727534562211982.\n",
      "[I 2024-04-15 12:40:47,199] Trial 53 finished with value: 0.77264218862491 and parameters: {'max_depth': 8, 'colsample_bylevel': 0.5467357875671176, 'random_strength': 5.25333493148124, 'bagging_temperature': 3.895645677811446}. Best is trial 14 with value: 0.7727534562211982.\n",
      "[I 2024-04-15 12:41:01,338] Trial 54 finished with value: 0.7727534562211982 and parameters: {'max_depth': 9, 'colsample_bylevel': 0.6621248768588306, 'random_strength': 3.3607852999207912, 'bagging_temperature': 4.973830257891005}. Best is trial 14 with value: 0.7727534562211982.\n",
      "[I 2024-04-15 12:41:20,185] Trial 55 finished with value: 0.7720461095100865 and parameters: {'max_depth': 10, 'colsample_bylevel': 0.4812111413400083, 'random_strength': 3.777713487225608, 'bagging_temperature': 4.126928876455265}. Best is trial 14 with value: 0.7727534562211982.\n",
      "[I 2024-04-15 12:41:30,272] Trial 56 finished with value: 0.77264218862491 and parameters: {'max_depth': 8, 'colsample_bylevel': 0.5830883935733864, 'random_strength': 6.060312060819098, 'bagging_temperature': 4.4596796869828}. Best is trial 14 with value: 0.7727534562211982.\n",
      "[I 2024-04-15 12:41:44,030] Trial 57 finished with value: 0.7727534562211982 and parameters: {'max_depth': 9, 'colsample_bylevel': 0.5144143718862906, 'random_strength': 4.141373709220633, 'bagging_temperature': 4.6460564983290675}. Best is trial 14 with value: 0.7727534562211982.\n",
      "[I 2024-04-15 12:41:57,722] Trial 58 finished with value: 0.7727534562211982 and parameters: {'max_depth': 9, 'colsample_bylevel': 0.7009180796151884, 'random_strength': 4.5453793082717, 'bagging_temperature': 4.806262148803787}. Best is trial 14 with value: 0.7727534562211982.\n",
      "[I 2024-04-15 12:42:17,630] Trial 59 finished with value: 0.7720461095100865 and parameters: {'max_depth': 10, 'colsample_bylevel': 0.6066605083344353, 'random_strength': 2.8602501389311805, 'bagging_temperature': 3.610610394741369}. Best is trial 14 with value: 0.7727534562211982.\n",
      "[I 2024-04-15 12:42:24,134] Trial 60 finished with value: 0.7724852496762125 and parameters: {'max_depth': 4, 'colsample_bylevel': 0.5554199590997958, 'random_strength': 5.559927614807085, 'bagging_temperature': 4.411728881028444}. Best is trial 14 with value: 0.7727534562211982.\n",
      "[I 2024-04-15 12:42:37,926] Trial 61 finished with value: 0.7727534562211982 and parameters: {'max_depth': 9, 'colsample_bylevel': 0.5305558099442669, 'random_strength': 2.035177647505297, 'bagging_temperature': 4.622715023435625}. Best is trial 14 with value: 0.7727534562211982.\n",
      "[I 2024-04-15 12:42:51,887] Trial 62 finished with value: 0.7727534562211982 and parameters: {'max_depth': 9, 'colsample_bylevel': 0.5173310348765526, 'random_strength': 1.701171962189318, 'bagging_temperature': 4.855937796796045}. Best is trial 14 with value: 0.7727534562211982.\n",
      "[I 2024-04-15 12:43:02,569] Trial 63 finished with value: 0.77264218862491 and parameters: {'max_depth': 8, 'colsample_bylevel': 0.493094520197154, 'random_strength': 1.6599084817000809, 'bagging_temperature': 4.086540853100938}. Best is trial 14 with value: 0.7727534562211982.\n",
      "[I 2024-04-15 12:43:16,112] Trial 64 finished with value: 0.7727534562211982 and parameters: {'max_depth': 9, 'colsample_bylevel': 0.6214648287756972, 'random_strength': 2.4196392248177125, 'bagging_temperature': 4.608778885927763}. Best is trial 14 with value: 0.7727534562211982.\n",
      "[I 2024-04-15 12:43:36,655] Trial 65 finished with value: 0.7720461095100865 and parameters: {'max_depth': 10, 'colsample_bylevel': 0.4701859550351031, 'random_strength': 1.8990392481311362, 'bagging_temperature': 4.317187545583355}. Best is trial 14 with value: 0.7727534562211982.\n",
      "[I 2024-04-15 12:43:47,501] Trial 66 finished with value: 0.77264218862491 and parameters: {'max_depth': 8, 'colsample_bylevel': 0.4153966647277567, 'random_strength': 1.2737786913603486, 'bagging_temperature': 3.779231064959991}. Best is trial 14 with value: 0.7727534562211982.\n",
      "[I 2024-04-15 12:44:00,831] Trial 67 finished with value: 0.7727534562211982 and parameters: {'max_depth': 9, 'colsample_bylevel': 0.5787666729420667, 'random_strength': 4.883779353702316, 'bagging_temperature': 4.870741705885476}. Best is trial 14 with value: 0.7727534562211982.\n",
      "[I 2024-04-15 12:44:10,913] Trial 68 finished with value: 0.77264218862491 and parameters: {'max_depth': 8, 'colsample_bylevel': 0.5362551964714831, 'random_strength': 2.729723469914216, 'bagging_temperature': 4.442075114568988}. Best is trial 14 with value: 0.7727534562211982.\n",
      "[I 2024-04-15 12:44:30,367] Trial 69 finished with value: 0.7720461095100865 and parameters: {'max_depth': 10, 'colsample_bylevel': 0.5122958042762341, 'random_strength': 3.9042130692718646, 'bagging_temperature': 4.999533046638429}. Best is trial 14 with value: 0.7727534562211982.\n",
      "[I 2024-04-15 12:44:42,166] Trial 70 finished with value: 0.7720461095100865 and parameters: {'max_depth': 9, 'colsample_bylevel': 0.5969196850483571, 'random_strength': 8.949022842145537, 'bagging_temperature': 4.201758543912083}. Best is trial 14 with value: 0.7727534562211982.\n",
      "[I 2024-04-15 12:44:54,407] Trial 71 finished with value: 0.7727534562211982 and parameters: {'max_depth': 9, 'colsample_bylevel': 0.5614029122438264, 'random_strength': 1.955567016446361, 'bagging_temperature': 2.8639459890892747}. Best is trial 14 with value: 0.7727534562211982.\n",
      "[I 2024-04-15 12:45:06,707] Trial 72 finished with value: 0.77264218862491 and parameters: {'max_depth': 9, 'colsample_bylevel': 0.5771209442202232, 'random_strength': 2.2071570670477563, 'bagging_temperature': 2.456311600149184}. Best is trial 14 with value: 0.7727534562211982.\n",
      "[I 2024-04-15 12:45:19,811] Trial 73 finished with value: 0.7720461095100865 and parameters: {'max_depth': 9, 'colsample_bylevel': 0.5424805006809696, 'random_strength': 2.344802941454328, 'bagging_temperature': 3.183841030142918}. Best is trial 14 with value: 0.7727534562211982.\n",
      "[I 2024-04-15 12:45:31,105] Trial 74 finished with value: 0.77264218862491 and parameters: {'max_depth': 9, 'colsample_bylevel': 0.6385056618217481, 'random_strength': 2.9971239196596846, 'bagging_temperature': 2.5980847447616817}. Best is trial 14 with value: 0.7727534562211982.\n",
      "[I 2024-04-15 12:45:50,535] Trial 75 finished with value: 0.7720461095100865 and parameters: {'max_depth': 10, 'colsample_bylevel': 0.5676925533061352, 'random_strength': 1.103261743636194, 'bagging_temperature': 2.8707865829945267}. Best is trial 14 with value: 0.7727534562211982.\n",
      "[I 2024-04-15 12:45:57,214] Trial 76 finished with value: 0.7724852496762125 and parameters: {'max_depth': 5, 'colsample_bylevel': 0.43523630431168747, 'random_strength': 6.300010335164244, 'bagging_temperature': 3.424837014214316}. Best is trial 14 with value: 0.7727534562211982.\n",
      "[I 2024-04-15 12:46:06,184] Trial 77 finished with value: 0.77264218862491 and parameters: {'max_depth': 7, 'colsample_bylevel': 0.5247570254227798, 'random_strength': 6.700064224001455, 'bagging_temperature': 4.520329241548664}. Best is trial 14 with value: 0.7727534562211982.\n",
      "[I 2024-04-15 12:46:14,454] Trial 78 finished with value: 0.7724852496762125 and parameters: {'max_depth': 8, 'colsample_bylevel': 0.4958604848895343, 'random_strength': 3.4515663736937716, 'bagging_temperature': 2.0028520485902126}. Best is trial 14 with value: 0.7727534562211982.\n",
      "[I 2024-04-15 12:46:25,085] Trial 79 finished with value: 0.77264218862491 and parameters: {'max_depth': 9, 'colsample_bylevel': 0.663497538800466, 'random_strength': 5.7398342816087355, 'bagging_temperature': 2.9914036855176653}. Best is trial 14 with value: 0.7727534562211982.\n",
      "[I 2024-04-15 12:46:36,381] Trial 80 finished with value: 0.77264218862491 and parameters: {'max_depth': 10, 'colsample_bylevel': 0.5966155388451315, 'random_strength': 2.619552915719051, 'bagging_temperature': 2.1717017885790493}. Best is trial 14 with value: 0.7727534562211982.\n",
      "[I 2024-04-15 12:46:48,764] Trial 81 finished with value: 0.7727534562211982 and parameters: {'max_depth': 9, 'colsample_bylevel': 0.5482507667886515, 'random_strength': 3.514795444283763, 'bagging_temperature': 3.3502262905867877}. Best is trial 14 with value: 0.7727534562211982.\n",
      "[I 2024-04-15 12:46:59,876] Trial 82 finished with value: 0.77264218862491 and parameters: {'max_depth': 9, 'colsample_bylevel': 0.620010423814349, 'random_strength': 5.173440228020985, 'bagging_temperature': 3.2670935667116066}. Best is trial 14 with value: 0.7727534562211982.\n",
      "[I 2024-04-15 12:47:12,865] Trial 83 finished with value: 0.7727534562211982 and parameters: {'max_depth': 9, 'colsample_bylevel': 0.5558098176482811, 'random_strength': 3.651510534993962, 'bagging_temperature': 3.6753695158737134}. Best is trial 14 with value: 0.7727534562211982.\n",
      "[I 2024-04-15 12:47:21,125] Trial 84 finished with value: 0.7724852496762125 and parameters: {'max_depth': 9, 'colsample_bylevel': 0.5803259594491077, 'random_strength': 3.208962156961123, 'bagging_temperature': 0.145487571186925}. Best is trial 14 with value: 0.7727534562211982.\n",
      "[I 2024-04-15 12:47:30,233] Trial 85 finished with value: 0.77264218862491 and parameters: {'max_depth': 8, 'colsample_bylevel': 0.47560604195147854, 'random_strength': 4.179959018352637, 'bagging_temperature': 3.136562502555413}. Best is trial 14 with value: 0.7727534562211982.\n",
      "[I 2024-04-15 12:47:49,938] Trial 86 finished with value: 0.7720461095100865 and parameters: {'max_depth': 10, 'colsample_bylevel': 0.5074386063811168, 'random_strength': 2.9893923090718397, 'bagging_temperature': 4.794263474754579}. Best is trial 14 with value: 0.7727534562211982.\n",
      "[I 2024-04-15 12:47:59,837] Trial 87 finished with value: 0.77264218862491 and parameters: {'max_depth': 9, 'colsample_bylevel': 0.5435259208131552, 'random_strength': 5.501127531423818, 'bagging_temperature': 3.001294450594931}. Best is trial 14 with value: 0.7727534562211982.\n",
      "[I 2024-04-15 12:48:08,518] Trial 88 finished with value: 0.77264218862491 and parameters: {'max_depth': 8, 'colsample_bylevel': 0.5253002478415151, 'random_strength': 3.9964728796389606, 'bagging_temperature': 2.730665973190171}. Best is trial 14 with value: 0.7727534562211982.\n",
      "[I 2024-04-15 12:48:21,082] Trial 89 finished with value: 0.7727534562211982 and parameters: {'max_depth': 9, 'colsample_bylevel': 0.6120202028820505, 'random_strength': 4.477211654817941, 'bagging_temperature': 3.5211386937179125}. Best is trial 14 with value: 0.7727534562211982.\n",
      "[I 2024-04-15 12:48:39,609] Trial 90 finished with value: 0.7720461095100865 and parameters: {'max_depth': 10, 'colsample_bylevel': 0.5689799854661955, 'random_strength': 4.84834220670715, 'bagging_temperature': 3.98986889264547}. Best is trial 14 with value: 0.7727534562211982.\n",
      "[I 2024-04-15 12:48:51,854] Trial 91 finished with value: 0.7720461095100865 and parameters: {'max_depth': 9, 'colsample_bylevel': 0.599710623696743, 'random_strength': 3.8293764542332793, 'bagging_temperature': 3.4990866700182575}. Best is trial 14 with value: 0.7727534562211982.\n",
      "[I 2024-04-15 12:49:04,215] Trial 92 finished with value: 0.7727534562211982 and parameters: {'max_depth': 9, 'colsample_bylevel': 0.6472397951642922, 'random_strength': 3.2890680829282815, 'bagging_temperature': 3.2779398047200776}. Best is trial 14 with value: 0.7727534562211982.\n",
      "[I 2024-04-15 12:49:17,574] Trial 93 finished with value: 0.7727534562211982 and parameters: {'max_depth': 9, 'colsample_bylevel': 0.9949593411176784, 'random_strength': 4.3502617285498735, 'bagging_temperature': 4.704314974797789}. Best is trial 14 with value: 0.7727534562211982.\n",
      "[I 2024-04-15 12:49:30,932] Trial 94 finished with value: 0.7727534562211982 and parameters: {'max_depth': 9, 'colsample_bylevel': 0.5883969177460961, 'random_strength': 4.060351324254654, 'bagging_temperature': 4.88169210996225}. Best is trial 14 with value: 0.7727534562211982.\n",
      "[I 2024-04-15 12:49:41,730] Trial 95 finished with value: 0.77264218862491 and parameters: {'max_depth': 8, 'colsample_bylevel': 0.627908472412777, 'random_strength': 3.673615041320454, 'bagging_temperature': 4.588381056878463}. Best is trial 14 with value: 0.7727534562211982.\n",
      "[I 2024-04-15 12:49:53,597] Trial 96 finished with value: 0.7727534562211982 and parameters: {'max_depth': 9, 'colsample_bylevel': 0.48886200244150496, 'random_strength': 3.0982821295193466, 'bagging_temperature': 3.251056313241349}. Best is trial 14 with value: 0.7727534562211982.\n",
      "[I 2024-04-15 12:50:05,332] Trial 97 finished with value: 0.77264218862491 and parameters: {'max_depth': 9, 'colsample_bylevel': 0.5393089171429404, 'random_strength': 5.932076894291145, 'bagging_temperature': 3.6013719330800287}. Best is trial 14 with value: 0.7727534562211982.\n",
      "[I 2024-04-15 12:50:18,814] Trial 98 finished with value: 0.7727534562211982 and parameters: {'max_depth': 9, 'colsample_bylevel': 0.8902912223335853, 'random_strength': 2.7040380482253172, 'bagging_temperature': 3.8725780816956585}. Best is trial 14 with value: 0.7727534562211982.\n",
      "[I 2024-04-15 12:50:37,213] Trial 99 finished with value: 0.7720461095100865 and parameters: {'max_depth': 10, 'colsample_bylevel': 0.5630007154488337, 'random_strength': 2.1062038935835456, 'bagging_temperature': 3.079202434096634}. Best is trial 14 with value: 0.7727534562211982.\n",
      "[I 2024-04-15 12:50:44,845] Trial 100 finished with value: 0.7724852496762125 and parameters: {'max_depth': 8, 'colsample_bylevel': 0.6756176574148943, 'random_strength': 5.03483087333138, 'bagging_temperature': 0.45320727336705646}. Best is trial 14 with value: 0.7727534562211982.\n",
      "[I 2024-04-15 12:50:59,027] Trial 101 finished with value: 0.7727534562211982 and parameters: {'max_depth': 9, 'colsample_bylevel': 0.5681284984476905, 'random_strength': 3.4684615478069816, 'bagging_temperature': 4.711988886013635}. Best is trial 14 with value: 0.7727534562211982.\n",
      "[I 2024-04-15 12:51:13,251] Trial 102 finished with value: 0.7720461095100865 and parameters: {'max_depth': 9, 'colsample_bylevel': 0.5940253977869643, 'random_strength': 2.8737230818760144, 'bagging_temperature': 4.877012666989845}. Best is trial 14 with value: 0.7727534562211982.\n",
      "[I 2024-04-15 12:51:26,600] Trial 103 finished with value: 0.7720461095100865 and parameters: {'max_depth': 9, 'colsample_bylevel': 0.609478536537911, 'random_strength': 3.182220505430792, 'bagging_temperature': 4.6666659748986925}. Best is trial 14 with value: 0.7727534562211982.\n",
      "[I 2024-04-15 12:51:40,807] Trial 104 finished with value: 0.7720461095100865 and parameters: {'max_depth': 9, 'colsample_bylevel': 0.5514292409302206, 'random_strength': 1.318853829081375, 'bagging_temperature': 4.514738859796624}. Best is trial 14 with value: 0.7727534562211982.\n",
      "[I 2024-04-15 12:51:54,931] Trial 105 finished with value: 0.7727534562211982 and parameters: {'max_depth': 9, 'colsample_bylevel': 0.5280976818167278, 'random_strength': 1.7203712076213857, 'bagging_temperature': 4.323124812689728}. Best is trial 14 with value: 0.7727534562211982.\n",
      "[I 2024-04-15 12:52:05,975] Trial 106 finished with value: 0.77264218862491 and parameters: {'max_depth': 8, 'colsample_bylevel': 0.5061881386154536, 'random_strength': 2.4723460574417047, 'bagging_temperature': 4.803947386180655}. Best is trial 14 with value: 0.7727534562211982.\n",
      "[I 2024-04-15 12:52:26,237] Trial 107 finished with value: 0.7720461095100865 and parameters: {'max_depth': 10, 'colsample_bylevel': 0.5764899753632801, 'random_strength': 3.8485503605444196, 'bagging_temperature': 4.993015851558005}. Best is trial 14 with value: 0.7727534562211982.\n",
      "[I 2024-04-15 12:52:36,234] Trial 108 finished with value: 0.77264218862491 and parameters: {'max_depth': 9, 'colsample_bylevel': 0.46022754045986713, 'random_strength': 4.70181447430363, 'bagging_temperature': 2.8461185558537756}. Best is trial 14 with value: 0.7727534562211982.\n",
      "[I 2024-04-15 12:52:49,125] Trial 109 finished with value: 0.7727534562211982 and parameters: {'max_depth': 9, 'colsample_bylevel': 0.6298268120813771, 'random_strength': 3.329032087083508, 'bagging_temperature': 3.7102875771847597}. Best is trial 14 with value: 0.7727534562211982.\n",
      "[I 2024-04-15 12:53:07,938] Trial 110 finished with value: 0.7720461095100865 and parameters: {'max_depth': 10, 'colsample_bylevel': 0.5861505291733523, 'random_strength': 5.364026124128767, 'bagging_temperature': 4.218720259399009}. Best is trial 14 with value: 0.7727534562211982.\n",
      "[I 2024-04-15 12:53:22,591] Trial 111 finished with value: 0.7727534562211982 and parameters: {'max_depth': 9, 'colsample_bylevel': 0.6990269031483565, 'random_strength': 3.570513580634365, 'bagging_temperature': 4.386022230388275}. Best is trial 14 with value: 0.7727534562211982.\n",
      "[I 2024-04-15 12:53:36,523] Trial 112 finished with value: 0.7720461095100865 and parameters: {'max_depth': 9, 'colsample_bylevel': 0.6523026581620484, 'random_strength': 3.155662059391589, 'bagging_temperature': 4.065682877448102}. Best is trial 14 with value: 0.7727534562211982.\n",
      "[I 2024-04-15 12:53:50,146] Trial 113 finished with value: 0.7720461095100865 and parameters: {'max_depth': 9, 'colsample_bylevel': 0.6373826844952608, 'random_strength': 2.883357515545462, 'bagging_temperature': 4.549630546854221}. Best is trial 14 with value: 0.7727534562211982.\n",
      "[I 2024-04-15 12:54:03,686] Trial 114 finished with value: 0.7720461095100865 and parameters: {'max_depth': 9, 'colsample_bylevel': 0.6040649344466349, 'random_strength': 3.709664864605366, 'bagging_temperature': 4.7524970180566815}. Best is trial 14 with value: 0.7727534562211982.\n",
      "[I 2024-04-15 12:54:11,678] Trial 115 finished with value: 0.7724852496762125 and parameters: {'max_depth': 6, 'colsample_bylevel': 0.5515586335350102, 'random_strength': 3.3736844745047714, 'bagging_temperature': 3.402487484097602}. Best is trial 14 with value: 0.7727534562211982.\n",
      "[I 2024-04-15 12:54:22,998] Trial 116 finished with value: 0.77264218862491 and parameters: {'max_depth': 8, 'colsample_bylevel': 0.5172075250101628, 'random_strength': 2.565303889677807, 'bagging_temperature': 4.8956052245518205}. Best is trial 14 with value: 0.7727534562211982.\n",
      "[I 2024-04-15 12:54:36,575] Trial 117 finished with value: 0.7727534562211982 and parameters: {'max_depth': 9, 'colsample_bylevel': 0.5620640204702696, 'random_strength': 5.602102171432127, 'bagging_temperature': 4.316856220904035}. Best is trial 14 with value: 0.7727534562211982.\n",
      "[I 2024-04-15 12:54:49,357] Trial 118 finished with value: 0.7727534562211982 and parameters: {'max_depth': 9, 'colsample_bylevel': 0.5410277317122917, 'random_strength': 4.0480031791468, 'bagging_temperature': 3.8014505949550013}. Best is trial 14 with value: 0.7727534562211982.\n",
      "[I 2024-04-15 12:55:03,114] Trial 119 finished with value: 0.7727534562211982 and parameters: {'max_depth': 9, 'colsample_bylevel': 0.575401718780748, 'random_strength': 1.8717833931968468, 'bagging_temperature': 4.632926493465258}. Best is trial 14 with value: 0.7727534562211982.\n",
      "[I 2024-04-15 12:55:15,280] Trial 120 finished with value: 0.77264218862491 and parameters: {'max_depth': 9, 'colsample_bylevel': 0.6169651478415616, 'random_strength': 4.25390525549107, 'bagging_temperature': 2.9699777439770503}. Best is trial 14 with value: 0.7727534562211982.\n",
      "[I 2024-04-15 12:55:30,176] Trial 121 finished with value: 0.7727534562211982 and parameters: {'max_depth': 9, 'colsample_bylevel': 0.6585605866840446, 'random_strength': 2.2523256863591277, 'bagging_temperature': 4.913255105147965}. Best is trial 14 with value: 0.7727534562211982.\n",
      "[I 2024-04-15 12:55:43,790] Trial 122 finished with value: 0.7727534562211982 and parameters: {'max_depth': 9, 'colsample_bylevel': 0.6684630029205237, 'random_strength': 3.286158638782968, 'bagging_temperature': 4.963669620287602}. Best is trial 14 with value: 0.7727534562211982.\n",
      "[I 2024-04-15 12:55:57,998] Trial 123 finished with value: 0.7720461095100865 and parameters: {'max_depth': 9, 'colsample_bylevel': 0.7641918362340852, 'random_strength': 3.4949829048917103, 'bagging_temperature': 4.789012036038383}. Best is trial 14 with value: 0.7727534562211982.\n",
      "[I 2024-04-15 12:56:19,114] Trial 124 finished with value: 0.7720461095100865 and parameters: {'max_depth': 10, 'colsample_bylevel': 0.7198701475940997, 'random_strength': 3.0304544152368056, 'bagging_temperature': 4.453060037782772}. Best is trial 14 with value: 0.7727534562211982.\n",
      "[I 2024-04-15 12:56:32,382] Trial 125 finished with value: 0.7727534562211982 and parameters: {'max_depth': 9, 'colsample_bylevel': 0.5323870736524465, 'random_strength': 2.7067284152503723, 'bagging_temperature': 3.549507187316179}. Best is trial 14 with value: 0.7727534562211982.\n",
      "[I 2024-04-15 12:56:43,838] Trial 126 finished with value: 0.77264218862491 and parameters: {'max_depth': 8, 'colsample_bylevel': 0.6022768503913354, 'random_strength': 4.467844359015726, 'bagging_temperature': 4.680899701184571}. Best is trial 14 with value: 0.7727534562211982.\n",
      "[I 2024-04-15 12:56:55,226] Trial 127 finished with value: 0.7727534562211982 and parameters: {'max_depth': 9, 'colsample_bylevel': 0.5877108934758024, 'random_strength': 3.844037159272094, 'bagging_temperature': 3.1714642758719966}. Best is trial 14 with value: 0.7727534562211982.\n",
      "[I 2024-04-15 12:57:06,540] Trial 128 finished with value: 0.77264218862491 and parameters: {'max_depth': 9, 'colsample_bylevel': 0.6251521213100978, 'random_strength': 5.975394912624604, 'bagging_temperature': 3.3264623894266774}. Best is trial 14 with value: 0.7727534562211982.\n",
      "[I 2024-04-15 12:57:16,903] Trial 129 finished with value: 0.77264218862491 and parameters: {'max_depth': 8, 'colsample_bylevel': 0.6897232919699524, 'random_strength': 3.637075162461559, 'bagging_temperature': 4.846700799860111}. Best is trial 14 with value: 0.7727534562211982.\n",
      "[I 2024-04-15 12:57:30,636] Trial 130 finished with value: 0.7727534562211982 and parameters: {'max_depth': 9, 'colsample_bylevel': 0.5593976134934103, 'random_strength': 2.806640177389038, 'bagging_temperature': 4.553825335439528}. Best is trial 14 with value: 0.7727534562211982.\n",
      "[I 2024-04-15 12:57:44,126] Trial 131 finished with value: 0.7727534562211982 and parameters: {'max_depth': 9, 'colsample_bylevel': 0.5175394792882734, 'random_strength': 4.2123860636894825, 'bagging_temperature': 4.708646834050008}. Best is trial 14 with value: 0.7727534562211982.\n",
      "[I 2024-04-15 12:57:58,031] Trial 132 finished with value: 0.7727534562211982 and parameters: {'max_depth': 9, 'colsample_bylevel': 0.4988823504099546, 'random_strength': 3.9445079324866588, 'bagging_temperature': 4.6153935766462}. Best is trial 14 with value: 0.7727534562211982.\n",
      "[I 2024-04-15 12:58:11,400] Trial 133 finished with value: 0.7727534562211982 and parameters: {'max_depth': 9, 'colsample_bylevel': 0.5412604769073612, 'random_strength': 3.3862997097271674, 'bagging_temperature': 4.418686251489889}. Best is trial 14 with value: 0.7727534562211982.\n",
      "[I 2024-04-15 12:58:25,186] Trial 134 finished with value: 0.7727534562211982 and parameters: {'max_depth': 9, 'colsample_bylevel': 0.5707084537375904, 'random_strength': 3.133554098346136, 'bagging_temperature': 4.847116368530813}. Best is trial 14 with value: 0.7727534562211982.\n",
      "[I 2024-04-15 12:58:38,593] Trial 135 finished with value: 0.7720461095100865 and parameters: {'max_depth': 9, 'colsample_bylevel': 0.5177336533315754, 'random_strength': 5.0865879567010115, 'bagging_temperature': 4.98924086796576}. Best is trial 14 with value: 0.7727534562211982.\n",
      "[I 2024-04-15 12:58:59,193] Trial 136 finished with value: 0.7720461095100865 and parameters: {'max_depth': 10, 'colsample_bylevel': 0.5302280700067088, 'random_strength': 1.4271127576518365, 'bagging_temperature': 4.155355456224502}. Best is trial 14 with value: 0.7727534562211982.\n",
      "[I 2024-04-15 12:59:06,337] Trial 137 finished with value: 0.7724852496762125 and parameters: {'max_depth': 9, 'colsample_bylevel': 0.5554358221309307, 'random_strength': 6.224367229339982, 'bagging_temperature': 1.5698306476819734}. Best is trial 14 with value: 0.7727534562211982.\n",
      "[I 2024-04-15 12:59:19,238] Trial 138 finished with value: 0.7727534562211982 and parameters: {'max_depth': 9, 'colsample_bylevel': 0.4861733486144306, 'random_strength': 3.706350104202631, 'bagging_temperature': 3.4703177143396498}. Best is trial 14 with value: 0.7727534562211982.\n",
      "[I 2024-04-15 12:59:32,583] Trial 139 finished with value: 0.7727534562211982 and parameters: {'max_depth': 9, 'colsample_bylevel': 0.5895486375533576, 'random_strength': 8.112575781570754, 'bagging_temperature': 4.482367477034942}. Best is trial 14 with value: 0.7727534562211982.\n",
      "[I 2024-04-15 12:59:43,393] Trial 140 finished with value: 0.77264218862491 and parameters: {'max_depth': 8, 'colsample_bylevel': 0.5749153737193534, 'random_strength': 4.027784846811791, 'bagging_temperature': 4.761295219238111}. Best is trial 14 with value: 0.7727534562211982.\n",
      "[I 2024-04-15 12:59:56,829] Trial 141 finished with value: 0.7727534562211982 and parameters: {'max_depth': 9, 'colsample_bylevel': 0.740808235357111, 'random_strength': 4.566446051101051, 'bagging_temperature': 4.6299512111812735}. Best is trial 14 with value: 0.7727534562211982.\n",
      "[I 2024-04-15 13:00:09,761] Trial 142 finished with value: 0.7727534562211982 and parameters: {'max_depth': 9, 'colsample_bylevel': 0.505747909992882, 'random_strength': 4.12213872190176, 'bagging_temperature': 4.784193784451349}. Best is trial 14 with value: 0.7727534562211982.\n",
      "[I 2024-04-15 13:00:23,457] Trial 143 finished with value: 0.7727534562211982 and parameters: {'max_depth': 9, 'colsample_bylevel': 0.6971182057210288, 'random_strength': 4.3983463614278735, 'bagging_temperature': 4.9972637861637015}. Best is trial 14 with value: 0.7727534562211982.\n",
      "[I 2024-04-15 13:00:36,944] Trial 144 finished with value: 0.7727534562211982 and parameters: {'max_depth': 9, 'colsample_bylevel': 0.6367731977107574, 'random_strength': 4.795360589706156, 'bagging_temperature': 4.8625926089161755}. Best is trial 14 with value: 0.7727534562211982.\n",
      "[I 2024-04-15 13:00:50,344] Trial 145 finished with value: 0.7727534562211982 and parameters: {'max_depth': 9, 'colsample_bylevel': 0.5462886416338183, 'random_strength': 3.493818404714813, 'bagging_temperature': 4.32717187287159}. Best is trial 14 with value: 0.7727534562211982.\n",
      "[I 2024-04-15 13:01:03,665] Trial 146 finished with value: 0.7727534562211982 and parameters: {'max_depth': 9, 'colsample_bylevel': 0.6066781797444654, 'random_strength': 5.715193735050043, 'bagging_temperature': 4.694976562623392}. Best is trial 14 with value: 0.7727534562211982.\n",
      "[I 2024-04-15 13:01:17,414] Trial 147 finished with value: 0.7727534562211982 and parameters: {'max_depth': 9, 'colsample_bylevel': 0.5664373447268339, 'random_strength': 3.2148011473110816, 'bagging_temperature': 4.526119379753176}. Best is trial 14 with value: 0.7727534562211982.\n",
      "[I 2024-04-15 13:01:22,573] Trial 148 finished with value: 0.7724852496762125 and parameters: {'max_depth': 3, 'colsample_bylevel': 0.7128071336634901, 'random_strength': 3.821531220871522, 'bagging_temperature': 3.9306581735562953}. Best is trial 14 with value: 0.7727534562211982.\n",
      "[I 2024-04-15 13:01:30,491] Trial 149 finished with value: 0.7724852496762125 and parameters: {'max_depth': 6, 'colsample_bylevel': 0.6839430531379243, 'random_strength': 5.232547101941108, 'bagging_temperature': 4.912923436755189}. Best is trial 14 with value: 0.7727534562211982.\n",
      "[I 2024-04-15 13:01:52,102] Trial 150 finished with value: 0.7720461095100865 and parameters: {'max_depth': 10, 'colsample_bylevel': 0.6581715326599981, 'random_strength': 3.018246536364429, 'bagging_temperature': 4.7804203590932755}. Best is trial 14 with value: 0.7727534562211982.\n",
      "[I 2024-04-15 13:02:05,837] Trial 151 finished with value: 0.7727534562211982 and parameters: {'max_depth': 9, 'colsample_bylevel': 0.529627056716055, 'random_strength': 2.400505115615928, 'bagging_temperature': 4.606258739580029}. Best is trial 14 with value: 0.7727534562211982.\n",
      "[I 2024-04-15 13:02:19,647] Trial 152 finished with value: 0.7727534562211982 and parameters: {'max_depth': 9, 'colsample_bylevel': 0.551073251054375, 'random_strength': 1.9529435673784767, 'bagging_temperature': 4.642005115777556}. Best is trial 14 with value: 0.7727534562211982.\n",
      "[I 2024-04-15 13:02:33,593] Trial 153 finished with value: 0.7727534562211982 and parameters: {'max_depth': 9, 'colsample_bylevel': 0.5371092085076852, 'random_strength': 1.6514516777454527, 'bagging_temperature': 3.245949128979875}. Best is trial 14 with value: 0.7727534562211982.\n",
      "[I 2024-04-15 13:02:47,229] Trial 154 finished with value: 0.7727534562211982 and parameters: {'max_depth': 9, 'colsample_bylevel': 0.5808162414359285, 'random_strength': 2.0354136618599714, 'bagging_temperature': 4.465941379552943}. Best is trial 14 with value: 0.7727534562211982.\n",
      "[I 2024-04-15 13:02:59,940] Trial 155 finished with value: 0.7727534562211982 and parameters: {'max_depth': 9, 'colsample_bylevel': 0.5185250611892536, 'random_strength': 2.2144839537866137, 'bagging_temperature': 3.6395763232142997}. Best is trial 14 with value: 0.7727534562211982.\n",
      "[I 2024-04-15 13:03:11,893] Trial 156 finished with value: 0.77264218862491 and parameters: {'max_depth': 9, 'colsample_bylevel': 0.5953683843805078, 'random_strength': 3.4466543445834397, 'bagging_temperature': 2.697736887163453}. Best is trial 14 with value: 0.7727534562211982.\n",
      "[I 2024-04-15 13:03:23,896] Trial 157 finished with value: 0.77264218862491 and parameters: {'max_depth': 9, 'colsample_bylevel': 0.47118219235596054, 'random_strength': 3.607914219695593, 'bagging_temperature': 3.0864097114717004}. Best is trial 14 with value: 0.7727534562211982.\n",
      "[I 2024-04-15 13:03:38,230] Trial 158 finished with value: 0.7727534562211982 and parameters: {'max_depth': 9, 'colsample_bylevel': 0.5622251673481261, 'random_strength': 3.284995718621284, 'bagging_temperature': 4.902867860076902}. Best is trial 14 with value: 0.7727534562211982.\n",
      "[I 2024-04-15 13:03:52,677] Trial 159 finished with value: 0.7720461095100865 and parameters: {'max_depth': 9, 'colsample_bylevel': 0.4969886796157138, 'random_strength': 2.916398791379592, 'bagging_temperature': 4.7059565811898985}. Best is trial 14 with value: 0.7727534562211982.\n",
      "[I 2024-04-15 13:04:06,833] Trial 160 finished with value: 0.7727534562211982 and parameters: {'max_depth': 9, 'colsample_bylevel': 0.5389790132242057, 'random_strength': 4.302351002271298, 'bagging_temperature': 4.264494026489704}. Best is trial 14 with value: 0.7727534562211982.\n",
      "[I 2024-04-15 13:04:21,550] Trial 161 finished with value: 0.7727534562211982 and parameters: {'max_depth': 9, 'colsample_bylevel': 0.5101382847491436, 'random_strength': 1.7656626042222099, 'bagging_temperature': 4.832671307229462}. Best is trial 14 with value: 0.7727534562211982.\n",
      "[I 2024-04-15 13:04:36,128] Trial 162 finished with value: 0.7727534562211982 and parameters: {'max_depth': 9, 'colsample_bylevel': 0.5215935006698311, 'random_strength': 1.6089499112109995, 'bagging_temperature': 4.914889142058069}. Best is trial 14 with value: 0.7727534562211982.\n",
      "[I 2024-04-15 13:04:50,744] Trial 163 finished with value: 0.7727534562211982 and parameters: {'max_depth': 9, 'colsample_bylevel': 0.5532700735465241, 'random_strength': 1.1351323416335743, 'bagging_temperature': 4.759840374991752}. Best is trial 14 with value: 0.7727534562211982.\n",
      "[I 2024-04-15 13:05:05,474] Trial 164 finished with value: 0.7727534562211982 and parameters: {'max_depth': 9, 'colsample_bylevel': 0.5802972121690535, 'random_strength': 1.8355085036894765, 'bagging_temperature': 4.555448012146769}. Best is trial 14 with value: 0.7727534562211982.\n",
      "[I 2024-04-15 13:05:20,058] Trial 165 finished with value: 0.7727534562211982 and parameters: {'max_depth': 9, 'colsample_bylevel': 0.6161308535148959, 'random_strength': 2.675977324899115, 'bagging_temperature': 4.831978704391498}. Best is trial 14 with value: 0.7727534562211982.\n",
      "[I 2024-04-15 13:05:34,175] Trial 166 finished with value: 0.7720461095100865 and parameters: {'max_depth': 9, 'colsample_bylevel': 0.5324627777658242, 'random_strength': 5.385074778455665, 'bagging_temperature': 4.371820279616586}. Best is trial 14 with value: 0.7727534562211982.\n",
      "[I 2024-04-15 13:05:49,095] Trial 167 finished with value: 0.7720461095100865 and parameters: {'max_depth': 9, 'colsample_bylevel': 0.5719255418606428, 'random_strength': 1.4431403596016574, 'bagging_temperature': 4.655276986575374}. Best is trial 14 with value: 0.7727534562211982.\n",
      "[I 2024-04-15 13:05:59,310] Trial 168 finished with value: 0.77264218862491 and parameters: {'max_depth': 8, 'colsample_bylevel': 0.6434467662674961, 'random_strength': 3.866191201955322, 'bagging_temperature': 2.9271233684599083}. Best is trial 14 with value: 0.7727534562211982.\n",
      "[I 2024-04-15 13:06:14,175] Trial 169 finished with value: 0.7727534562211982 and parameters: {'max_depth': 9, 'colsample_bylevel': 0.5502272785385779, 'random_strength': 4.951967830702487, 'bagging_temperature': 4.99162110894847}. Best is trial 14 with value: 0.7727534562211982.\n",
      "[I 2024-04-15 13:06:28,253] Trial 170 finished with value: 0.7727534562211982 and parameters: {'max_depth': 9, 'colsample_bylevel': 0.4835625775991955, 'random_strength': 1.000660714057985, 'bagging_temperature': 4.764015630373563}. Best is trial 14 with value: 0.7727534562211982.\n",
      "[I 2024-04-15 13:06:43,282] Trial 171 finished with value: 0.7727534562211982 and parameters: {'max_depth': 9, 'colsample_bylevel': 0.5965500515034016, 'random_strength': 2.477007111570954, 'bagging_temperature': 4.576740097532801}. Best is trial 14 with value: 0.7727534562211982.\n",
      "[I 2024-04-15 13:06:56,862] Trial 172 finished with value: 0.7727534562211982 and parameters: {'max_depth': 9, 'colsample_bylevel': 0.6210776442038061, 'random_strength': 2.0564867152759536, 'bagging_temperature': 3.3838397528442115}. Best is trial 14 with value: 0.7727534562211982.\n",
      "[I 2024-04-15 13:07:11,532] Trial 173 finished with value: 0.7727534562211982 and parameters: {'max_depth': 9, 'colsample_bylevel': 0.5662877842076235, 'random_strength': 2.4171730552635733, 'bagging_temperature': 4.662956992429916}. Best is trial 14 with value: 0.7727534562211982.\n",
      "[I 2024-04-15 13:07:26,020] Trial 174 finished with value: 0.7727534562211982 and parameters: {'max_depth': 9, 'colsample_bylevel': 0.6332697081253268, 'random_strength': 3.2989358793483987, 'bagging_temperature': 4.423339207364352}. Best is trial 14 with value: 0.7727534562211982.\n",
      "[I 2024-04-15 13:07:39,996] Trial 175 finished with value: 0.7727534562211982 and parameters: {'max_depth': 9, 'colsample_bylevel': 0.5179470677594347, 'random_strength': 4.07243179219648, 'bagging_temperature': 4.840939742518881}. Best is trial 14 with value: 0.7727534562211982.\n",
      "[I 2024-04-15 13:07:54,344] Trial 176 finished with value: 0.7727534562211982 and parameters: {'max_depth': 9, 'colsample_bylevel': 0.676959692677133, 'random_strength': 2.098575973920353, 'bagging_temperature': 4.708725569869339}. Best is trial 14 with value: 0.7727534562211982.\n",
      "[I 2024-04-15 13:08:07,800] Trial 177 finished with value: 0.7720461095100865 and parameters: {'max_depth': 9, 'colsample_bylevel': 0.607183924394867, 'random_strength': 3.1190722936089887, 'bagging_temperature': 3.2071705867757982}. Best is trial 14 with value: 0.7727534562211982.\n",
      "[I 2024-04-15 13:08:29,864] Trial 178 finished with value: 0.7720461095100865 and parameters: {'max_depth': 10, 'colsample_bylevel': 0.5833758797658126, 'random_strength': 2.8518158080283893, 'bagging_temperature': 4.533119634604941}. Best is trial 14 with value: 0.7727534562211982.\n",
      "[I 2024-04-15 13:08:44,783] Trial 179 finished with value: 0.7727534562211982 and parameters: {'max_depth': 9, 'colsample_bylevel': 0.5426050260884567, 'random_strength': 3.645915005719009, 'bagging_temperature': 4.927483568866176}. Best is trial 14 with value: 0.7727534562211982.\n",
      "[I 2024-04-15 13:08:59,183] Trial 180 finished with value: 0.7727534562211982 and parameters: {'max_depth': 9, 'colsample_bylevel': 0.5059507693346083, 'random_strength': 2.339482818152821, 'bagging_temperature': 4.989620589689858}. Best is trial 14 with value: 0.7727534562211982.\n",
      "[I 2024-04-15 13:09:12,987] Trial 181 finished with value: 0.7727534562211982 and parameters: {'max_depth': 9, 'colsample_bylevel': 0.5603014820315043, 'random_strength': 4.574515528606953, 'bagging_temperature': 4.855583655548411}. Best is trial 14 with value: 0.7727534562211982.\n",
      "[I 2024-04-15 13:09:27,732] Trial 182 finished with value: 0.7727534562211982 and parameters: {'max_depth': 9, 'colsample_bylevel': 0.5864915865890261, 'random_strength': 4.445996218569645, 'bagging_temperature': 4.815378984004984}. Best is trial 14 with value: 0.7727534562211982.\n",
      "[I 2024-04-15 13:09:42,407] Trial 183 finished with value: 0.7720461095100865 and parameters: {'max_depth': 9, 'colsample_bylevel': 0.7392234982840602, 'random_strength': 4.742336786426723, 'bagging_temperature': 4.59062614128874}. Best is trial 14 with value: 0.7727534562211982.\n",
      "[I 2024-04-15 13:09:56,184] Trial 184 finished with value: 0.7727534562211982 and parameters: {'max_depth': 9, 'colsample_bylevel': 0.5300999488415697, 'random_strength': 5.569237479313624, 'bagging_temperature': 4.742624771930262}. Best is trial 14 with value: 0.7727534562211982.\n",
      "[I 2024-04-15 13:10:10,810] Trial 185 finished with value: 0.7727534562211982 and parameters: {'max_depth': 9, 'colsample_bylevel': 0.5728313829869613, 'random_strength': 4.176237616567728, 'bagging_temperature': 4.904976801756993}. Best is trial 14 with value: 0.7727534562211982.\n",
      "[I 2024-04-15 13:10:24,818] Trial 186 finished with value: 0.7727534562211982 and parameters: {'max_depth': 9, 'colsample_bylevel': 0.623635339555648, 'random_strength': 5.763013428100135, 'bagging_temperature': 4.642881776956228}. Best is trial 14 with value: 0.7727534562211982.\n",
      "[I 2024-04-15 13:10:38,076] Trial 187 finished with value: 0.7727534562211982 and parameters: {'max_depth': 9, 'colsample_bylevel': 0.599000696306016, 'random_strength': 9.479862354534992, 'bagging_temperature': 4.500682219123445}. Best is trial 14 with value: 0.7727534562211982.\n",
      "[I 2024-04-15 13:11:00,808] Trial 188 finished with value: 0.7720461095100865 and parameters: {'max_depth': 10, 'colsample_bylevel': 0.6491624952177353, 'random_strength': 3.523895970093933, 'bagging_temperature': 4.766007759764853}. Best is trial 14 with value: 0.7727534562211982.\n",
      "[I 2024-04-15 13:11:14,864] Trial 189 finished with value: 0.7727534562211982 and parameters: {'max_depth': 9, 'colsample_bylevel': 0.7065704835284198, 'random_strength': 1.58020951082056, 'bagging_temperature': 4.997348607422273}. Best is trial 14 with value: 0.7727534562211982.\n",
      "[I 2024-04-15 13:11:24,904] Trial 190 finished with value: 0.77264218862491 and parameters: {'max_depth': 9, 'colsample_bylevel': 0.5468831207476534, 'random_strength': 3.9593546956944654, 'bagging_temperature': 2.5040658834966814}. Best is trial 14 with value: 0.7727534562211982.\n",
      "[I 2024-04-15 13:11:38,225] Trial 191 finished with value: 0.7727534562211982 and parameters: {'max_depth': 9, 'colsample_bylevel': 0.5595825193790053, 'random_strength': 1.9054102639469837, 'bagging_temperature': 2.8586656203543326}. Best is trial 14 with value: 0.7727534562211982.\n",
      "[I 2024-04-15 13:11:51,759] Trial 192 finished with value: 0.7727534562211982 and parameters: {'max_depth': 9, 'colsample_bylevel': 0.5721630719948484, 'random_strength': 2.0778444057132797, 'bagging_temperature': 3.0119844181527538}. Best is trial 14 with value: 0.7727534562211982.\n",
      "[I 2024-04-15 13:11:58,198] Trial 193 finished with value: 0.7724852496762125 and parameters: {'max_depth': 4, 'colsample_bylevel': 0.5315420341682447, 'random_strength': 4.913226961140783, 'bagging_temperature': 3.3311281229373733}. Best is trial 14 with value: 0.7727534562211982.\n",
      "[I 2024-04-15 13:12:11,366] Trial 194 finished with value: 0.7727534562211982 and parameters: {'max_depth': 9, 'colsample_bylevel': 0.5547367009614639, 'random_strength': 2.2522858273553186, 'bagging_temperature': 3.11783686642331}. Best is trial 14 with value: 0.7727534562211982.\n",
      "[I 2024-04-15 13:12:24,803] Trial 195 finished with value: 0.7727534562211982 and parameters: {'max_depth': 9, 'colsample_bylevel': 0.5831329218286921, 'random_strength': 1.7436190163112455, 'bagging_temperature': 2.803768278138051}. Best is trial 14 with value: 0.7727534562211982.\n",
      "[I 2024-04-15 13:12:35,471] Trial 196 finished with value: 0.77264218862491 and parameters: {'max_depth': 9, 'colsample_bylevel': 0.6058931540881645, 'random_strength': 3.3702628604930323, 'bagging_temperature': 2.6068965010740026}. Best is trial 14 with value: 0.7727534562211982.\n",
      "[I 2024-04-15 13:12:49,418] Trial 197 finished with value: 0.7727534562211982 and parameters: {'max_depth': 9, 'colsample_bylevel': 0.5648239319061947, 'random_strength': 1.9277308632511978, 'bagging_temperature': 4.681542533352254}. Best is trial 14 with value: 0.7727534562211982.\n",
      "[I 2024-04-15 13:13:03,634] Trial 198 finished with value: 0.7727534562211982 and parameters: {'max_depth': 9, 'colsample_bylevel': 0.5437291846667297, 'random_strength': 3.747852691177849, 'bagging_temperature': 4.828737043975723}. Best is trial 14 with value: 0.7727534562211982.\n",
      "[I 2024-04-15 13:13:16,962] Trial 199 finished with value: 0.7727534562211982 and parameters: {'max_depth': 9, 'colsample_bylevel': 0.5219961167677395, 'random_strength': 1.2954357630705817, 'bagging_temperature': 3.058452928684651}. Best is trial 14 with value: 0.7727534562211982.\n"
     ]
    },
    {
     "name": "stdout",
     "output_type": "stream",
     "text": [
      "Best hyperparameters: {'max_depth': 9, 'colsample_bylevel': 0.5666214856186601, 'random_strength': 5.50365970829216, 'bagging_temperature': 4.8288339251486985}\n",
      "Best F1: 0.7727534562211982\n"
     ]
    }
   ],
   "source": [
    "def objective(trial):\n",
    "    params = {\n",
    "        \"iterations\":500,\n",
    "        #\"logging_level\":'silent',\n",
    "        #\"verbose\":0,\n",
    "        \"learning_rate\": 0.01,\n",
    "        \"max_depth\": trial.suggest_int(\"max_depth\", 3,10),\n",
    "        # \"min_data_in_leaf\": trial.suggest_int(\"min_data_in_leaf\", 20,100),\n",
    "        \"random_state\": 42,\n",
    "        # \"subsample\": trial.suggest_uniform('subsample', 0.5, 1.0),\n",
    "        \"colsample_bylevel\": trial.suggest_float('colsample_bylevel', 0.3, 1.0),\n",
    "        \"random_strength\": trial.suggest_float(\"random_strength\", 1, 10.0),\n",
    "        \"bagging_temperature\": trial.suggest_float(\"bagging_temperature\", 0.1, 5.0),\n",
    "        \"bootstrap_type\": 'Bayesian',\n",
    "        \"eval_metric\":'Logloss',\n",
    "        \"auto_class_weights\":'Balanced'\n",
    "    }\n",
    "\n",
    "    model = catboost.CatBoostClassifier(**params, silent=True)\n",
    "    model.fit(X_train, y_train)\n",
    "    # model.fit(pool)\n",
    "    y_pred_test = model.predict(X_test)\n",
    "    f1 = f1_score(y_test, y_pred_test)\n",
    "    # y_pred_val = model.predict(X_val)\n",
    "    # f1 = f1_score(y_val, y_pred_val)\n",
    "    return f1\n",
    "\n",
    "sampler = TPESampler(seed=42)\n",
    "study = optuna.create_study(direction='maximize',sampler=sampler)\n",
    "study.optimize(objective, n_trials=200)\n",
    "print('Best hyperparameters:', study.best_params)\n",
    "print('Best F1:', study.best_value)"
   ]
  },
  {
   "cell_type": "code",
   "execution_count": null,
   "id": "8789f356-7d76-4a3c-89db-d16b8e5ae43a",
   "metadata": {},
   "outputs": [],
   "source": []
  }
 ],
 "metadata": {
  "kernelspec": {
   "display_name": "Python 3 (ipykernel)",
   "language": "python",
   "name": "python3"
  },
  "language_info": {
   "codemirror_mode": {
    "name": "ipython",
    "version": 3
   },
   "file_extension": ".py",
   "mimetype": "text/x-python",
   "name": "python",
   "nbconvert_exporter": "python",
   "pygments_lexer": "ipython3",
   "version": "3.10.12"
  }
 },
 "nbformat": 4,
 "nbformat_minor": 5
}
