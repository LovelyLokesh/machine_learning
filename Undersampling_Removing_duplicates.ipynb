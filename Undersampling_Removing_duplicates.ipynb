{
 "cells": [
  {
   "cell_type": "code",
   "execution_count": 1,
   "id": "99af0e68-02b6-4280-a63a-3626a8d72e79",
   "metadata": {},
   "outputs": [],
   "source": [
    "import numpy as np\n",
    "import pandas as pd\n",
    "import catboost\n",
    "import imblearn\n",
    "import seaborn as sns\n",
    "from catboost import CatBoostClassifier, Pool\n",
    "from sklearn.model_selection import train_test_split\n",
    "from sklearn.metrics import f1_score,confusion_matrix,accuracy_score\n",
    "from sklearn.feature_extraction.text import TfidfVectorizer\n",
    "import json\n",
    "import matplotlib.pyplot as plt\n",
    "import optuna\n",
    "from optuna.samplers import TPESampler\n",
    "from sklearn.metrics import matthews_corrcoef"
   ]
  },
  {
   "cell_type": "code",
   "execution_count": 2,
   "id": "ed55f3cb-7e85-44e7-8f21-d2df9faf9270",
   "metadata": {},
   "outputs": [
    {
     "data": {
      "text/plain": [
       "(335113, 21)"
      ]
     },
     "execution_count": 2,
     "metadata": {},
     "output_type": "execute_result"
    }
   ],
   "source": [
    "df_org = pd.read_csv('Top_df.csv')\n",
    "df_org.shape"
   ]
  },
  {
   "cell_type": "code",
   "execution_count": 3,
   "id": "ea1c5057-58e2-4a02-9310-34471fe13860",
   "metadata": {},
   "outputs": [],
   "source": [
    "df_org = df_org.drop_duplicates()"
   ]
  },
  {
   "cell_type": "code",
   "execution_count": 4,
   "id": "c84010e1-cc38-4eca-b4b1-c0b880f8d064",
   "metadata": {},
   "outputs": [
    {
     "data": {
      "text/plain": [
       "(3263, 21)"
      ]
     },
     "execution_count": 4,
     "metadata": {},
     "output_type": "execute_result"
    }
   ],
   "source": [
    "df_org.shape"
   ]
  },
  {
   "cell_type": "code",
   "execution_count": 5,
   "id": "001783dd-b502-4a57-bfd9-94813cf80759",
   "metadata": {},
   "outputs": [],
   "source": [
    "df= df_org[['ContactMonth', 'ContactHour', 'os_112', 'os_110', 's_247_71', 's_239_8', 's_247_75', 's_239_7', 's_248_74', 's_247_77', 's_239_9', 's_241_68', 's_241_69', 's_247_78','s_239_10', 's_247_73','target']]"
   ]
  },
  {
   "cell_type": "code",
   "execution_count": 6,
   "id": "f59bc1a5-cba5-47f5-aede-e34899a61827",
   "metadata": {},
   "outputs": [
    {
     "data": {
      "text/plain": [
       "(3263, 17)"
      ]
     },
     "execution_count": 6,
     "metadata": {},
     "output_type": "execute_result"
    }
   ],
   "source": [
    "df.shape"
   ]
  },
  {
   "cell_type": "code",
   "execution_count": 7,
   "id": "ea52eb27-a24f-4d3f-b607-414debe6fe41",
   "metadata": {},
   "outputs": [],
   "source": [
    "df_0 = df[df['target'] == 0]\n",
    "df_1 = df[df['target'] == 1]"
   ]
  },
  {
   "cell_type": "code",
   "execution_count": 8,
   "id": "636c45df-74e3-4b02-9179-157bcbc6a5d7",
   "metadata": {},
   "outputs": [],
   "source": [
    "# Find the size of the smaller group\n",
    "min_size = min(len(df_0), len(df_1))"
   ]
  },
  {
   "cell_type": "code",
   "execution_count": 9,
   "id": "f33fb245-dfac-4fad-80c4-9fc0b4d43427",
   "metadata": {},
   "outputs": [],
   "source": [
    "df_0_sampled = df_0.sample(n=min_size, random_state=42)\n",
    "df_1_sampled = df_1.sample(n=min_size, random_state=42)\n"
   ]
  },
  {
   "cell_type": "code",
   "execution_count": 10,
   "id": "c213d3bb-516b-4bff-a425-3340ccda68ca",
   "metadata": {},
   "outputs": [],
   "source": [
    "# Combine the two datasets back\n",
    "df_balanced = pd.concat([df_0_sampled, df_1_sampled])"
   ]
  },
  {
   "cell_type": "code",
   "execution_count": 11,
   "id": "fbf149ba-6266-4fd9-86e8-ffa92db161cc",
   "metadata": {},
   "outputs": [
    {
     "data": {
      "text/plain": [
       "(1964, 17)"
      ]
     },
     "execution_count": 11,
     "metadata": {},
     "output_type": "execute_result"
    }
   ],
   "source": [
    "df_balanced.shape"
   ]
  },
  {
   "cell_type": "code",
   "execution_count": 12,
   "id": "44969187-87eb-430b-9064-f648f0d98e71",
   "metadata": {},
   "outputs": [],
   "source": [
    "# Assuming df is your original DataFrame\n",
    "# Identify the indices of the downsampled df_0_sampled\n",
    "sampled_indices = df_0_sampled.index\n",
    "\n",
    "# Filter the original df_0 to get the rows that were not included in the downsampled subset\n",
    "df_0_remaining = df_0.drop(sampled_indices)\n",
    "\n",
    "# df_0_remaining now contains all the rows with target 0 that were not part of the balanced dataset\n"
   ]
  },
  {
   "cell_type": "code",
   "execution_count": 13,
   "id": "66a88b60-3261-46cf-9aeb-64cb3c22e798",
   "metadata": {},
   "outputs": [
    {
     "data": {
      "text/plain": [
       "(1299, 17)"
      ]
     },
     "execution_count": 13,
     "metadata": {},
     "output_type": "execute_result"
    }
   ],
   "source": [
    "df_0_remaining.shape"
   ]
  },
  {
   "cell_type": "code",
   "execution_count": 14,
   "id": "949ad247-58b4-46e3-a77f-14a9975e4baa",
   "metadata": {},
   "outputs": [],
   "source": [
    "# Assuming df is your DataFrame containing the remaining values of target 0\n",
    "X_remaining = df_0_remaining.drop('target', axis=1)  # Features\n",
    "y_remaining = df_0_remaining['target'] "
   ]
  },
  {
   "cell_type": "code",
   "execution_count": 27,
   "id": "bbbd0cf9-fae5-46a4-bcab-f853676fe6f8",
   "metadata": {},
   "outputs": [],
   "source": [
    "# for column in X_remaining.columns:\n",
    "#     # Convert to string, including NaNs which become 'nan'\n",
    "#     X_remaining[column] = X_remaining[column].astype(str)\n",
    "\n",
    "#     # Optional: Replace 'nan' with a placeholder such as 'missing'\n",
    "#     X_remaining[column] = X_remaining[column].replace('nan', 'missing')"
   ]
  },
  {
   "cell_type": "code",
   "execution_count": 12,
   "id": "6aa6ddc6-077b-4a84-959c-7222a4cc0792",
   "metadata": {},
   "outputs": [],
   "source": [
    "# df_0_remaining.to_csv('remaining.csv', index=False)"
   ]
  },
  {
   "cell_type": "code",
   "execution_count": 15,
   "id": "c2c3605a-15d7-49d2-adbd-ee8615792ba2",
   "metadata": {},
   "outputs": [
    {
     "data": {
      "text/plain": [
       "target\n",
       "0    2281\n",
       "1     982\n",
       "Name: count, dtype: int64"
      ]
     },
     "execution_count": 15,
     "metadata": {},
     "output_type": "execute_result"
    }
   ],
   "source": [
    "df['target'].value_counts()"
   ]
  },
  {
   "cell_type": "code",
   "execution_count": 16,
   "id": "c7673062-363d-4363-98b2-c8180c65da70",
   "metadata": {},
   "outputs": [
    {
     "data": {
      "text/plain": [
       "target\n",
       "0    0.69905\n",
       "1    0.30095\n",
       "Name: proportion, dtype: float64"
      ]
     },
     "execution_count": 16,
     "metadata": {},
     "output_type": "execute_result"
    }
   ],
   "source": [
    "df['target'].value_counts(normalize=True)"
   ]
  },
  {
   "cell_type": "code",
   "execution_count": 430,
   "id": "7c8368d3-024e-4cf1-95be-7ddc3ce5412a",
   "metadata": {},
   "outputs": [],
   "source": [
    "# # Splitting the dataset into X and y\n",
    "# X = df.drop('target', axis=1)  # Features: all columns except 'target'\n",
    "# y = df['target']"
   ]
  },
  {
   "cell_type": "code",
   "execution_count": 9,
   "id": "543e3c54-27f1-4b5d-8384-9a2b0d250466",
   "metadata": {},
   "outputs": [],
   "source": [
    "# # Separate majority and minority classes\n",
    "# df_majority = df[df.target==0]\n",
    "# df_minority = df[df.target==1]"
   ]
  },
  {
   "cell_type": "code",
   "execution_count": 10,
   "id": "cd2b1c24-616a-46b1-9738-7e6866370d08",
   "metadata": {},
   "outputs": [
    {
     "data": {
      "text/plain": [
       "(17940, 17)"
      ]
     },
     "execution_count": 10,
     "metadata": {},
     "output_type": "execute_result"
    }
   ],
   "source": [
    "# df_minority.shape"
   ]
  },
  {
   "cell_type": "code",
   "execution_count": 11,
   "id": "7aef34c7-1813-4526-969f-536e6a659f0b",
   "metadata": {},
   "outputs": [
    {
     "data": {
      "text/plain": [
       "(317173, 17)"
      ]
     },
     "execution_count": 11,
     "metadata": {},
     "output_type": "execute_result"
    }
   ],
   "source": [
    "# df_majority.shape"
   ]
  },
  {
   "cell_type": "code",
   "execution_count": 12,
   "id": "2badc332-b116-4e1c-bc61-010a8ed3deef",
   "metadata": {},
   "outputs": [],
   "source": [
    "# # Downsample majority class\n",
    "# df_majority_downsampled = df_majority.sample(n=17940, replace=True, random_state=123)"
   ]
  },
  {
   "cell_type": "code",
   "execution_count": 13,
   "id": "4af43826-b711-442b-ba97-687400ac0b50",
   "metadata": {},
   "outputs": [
    {
     "data": {
      "text/plain": [
       "(17940, 17)"
      ]
     },
     "execution_count": 13,
     "metadata": {},
     "output_type": "execute_result"
    }
   ],
   "source": [
    "# df_majority_downsampled.shape"
   ]
  },
  {
   "cell_type": "code",
   "execution_count": 14,
   "id": "442c8952-d6aa-4637-9802-6a7a530ef260",
   "metadata": {},
   "outputs": [],
   "source": [
    "# # Combine minority class with downsampled majority class\n",
    "# df_downsampled = pd.concat([df_majority_downsampled, df_minority])"
   ]
  },
  {
   "cell_type": "code",
   "execution_count": 15,
   "id": "2e4fd54e-7c36-4a51-8552-e1e3fd2cbe2d",
   "metadata": {},
   "outputs": [
    {
     "data": {
      "text/plain": [
       "(35880, 17)"
      ]
     },
     "execution_count": 15,
     "metadata": {},
     "output_type": "execute_result"
    }
   ],
   "source": [
    "# df_downsampled.shape"
   ]
  },
  {
   "cell_type": "code",
   "execution_count": 17,
   "id": "e4746cf0-0095-4448-9532-7e6e555a0aab",
   "metadata": {},
   "outputs": [],
   "source": [
    "# Splitting the dataset into X and y\n",
    "X = df_balanced.drop('target', axis=1)  # Features: all columns except 'target'\n",
    "y = df_balanced['target']"
   ]
  },
  {
   "cell_type": "code",
   "execution_count": 18,
   "id": "203e8bb4-60d2-4e03-83df-13dd5db3ba03",
   "metadata": {},
   "outputs": [
    {
     "data": {
      "text/plain": [
       "target\n",
       "0    982\n",
       "1    982\n",
       "Name: count, dtype: int64"
      ]
     },
     "execution_count": 18,
     "metadata": {},
     "output_type": "execute_result"
    }
   ],
   "source": [
    "df_balanced['target'].value_counts()"
   ]
  },
  {
   "cell_type": "code",
   "execution_count": 19,
   "id": "b445195a-d9d4-45c4-a4f6-fe197ee04415",
   "metadata": {},
   "outputs": [
    {
     "data": {
      "text/plain": [
       "target\n",
       "0    0.5\n",
       "1    0.5\n",
       "Name: proportion, dtype: float64"
      ]
     },
     "execution_count": 19,
     "metadata": {},
     "output_type": "execute_result"
    }
   ],
   "source": [
    "df_balanced['target'].value_counts(normalize=True)"
   ]
  },
  {
   "cell_type": "code",
   "execution_count": 20,
   "id": "314f34ba-1e7c-4b9c-84bd-c5d8749d920f",
   "metadata": {},
   "outputs": [],
   "source": [
    "categorical_features = ['ContactMonth', 'ContactHour', 'os_112', 'os_110', 's_247_71',\n",
    "       's_239_8', 's_247_75', 's_239_7', 's_248_74', 's_247_77', 's_239_9',\n",
    "       's_241_68', 's_241_69', 's_247_78', 's_239_10', 's_247_73']"
   ]
  },
  {
   "cell_type": "code",
   "execution_count": 21,
   "id": "79d8944f-4b65-410c-a118-aaaf776bd0ba",
   "metadata": {},
   "outputs": [],
   "source": [
    "for column in categorical_features:\n",
    "    # Convert to string, including NaNs which become 'nan'\n",
    "    X[column] = X[column].astype(str)\n",
    "\n",
    "    # Optional: Replace 'nan' with a placeholder such as 'missing'\n",
    "    X[column] = X[column].replace('nan', 'missing')"
   ]
  },
  {
   "cell_type": "code",
   "execution_count": 22,
   "id": "73e48d09-695f-4de7-982d-714c045cb370",
   "metadata": {},
   "outputs": [],
   "source": [
    "# # Splitting dataset into training and testing set\n",
    "# X_train, X_test, y_train, y_test = train_test_split(X, y, test_size=0.2, random_state=42)"
   ]
  },
  {
   "cell_type": "code",
   "execution_count": 23,
   "id": "7e333f02-0b59-434d-bf48-bc2a9c8bd50c",
   "metadata": {},
   "outputs": [],
   "source": [
    "# Split the dataset into 70% training and 30% temporary test set\n",
    "X_train, X_temp, y_train, y_temp = train_test_split(X, y, test_size=0.3, random_state=42)\n",
    "\n",
    "# Split the temporary test set into 50% test and 50% validation, which makes it 15% of the original dataset each\n",
    "X_test, X_val, y_test, y_val = train_test_split(X_temp, y_temp, test_size=0.5, random_state=42)"
   ]
  },
  {
   "cell_type": "code",
   "execution_count": 24,
   "id": "2fbbf37d-ab70-4958-b337-ebb5dffa201a",
   "metadata": {},
   "outputs": [
    {
     "name": "stdout",
     "output_type": "stream",
     "text": [
      "0:\tlearn: 0.6872087\ttest: 0.6869422\tbest: 0.6869422 (0)\ttotal: 69.1ms\tremaining: 1m 9s\n",
      "1:\tlearn: 0.6805121\ttest: 0.6795092\tbest: 0.6795092 (1)\ttotal: 72ms\tremaining: 35.9s\n",
      "2:\tlearn: 0.6732827\ttest: 0.6713210\tbest: 0.6713210 (2)\ttotal: 73.4ms\tremaining: 24.4s\n",
      "3:\tlearn: 0.6676943\ttest: 0.6654482\tbest: 0.6654482 (3)\ttotal: 84.7ms\tremaining: 21.1s\n",
      "4:\tlearn: 0.6599730\ttest: 0.6567030\tbest: 0.6567030 (4)\ttotal: 86ms\tremaining: 17.1s\n",
      "5:\tlearn: 0.6537614\ttest: 0.6498134\tbest: 0.6498134 (5)\ttotal: 87.7ms\tremaining: 14.5s\n",
      "6:\tlearn: 0.6490394\ttest: 0.6451737\tbest: 0.6451737 (6)\ttotal: 92ms\tremaining: 13.1s\n",
      "7:\tlearn: 0.6425629\ttest: 0.6378265\tbest: 0.6378265 (7)\ttotal: 93.4ms\tremaining: 11.6s\n",
      "8:\tlearn: 0.6374073\ttest: 0.6321471\tbest: 0.6321471 (8)\ttotal: 96.6ms\tremaining: 10.6s\n",
      "9:\tlearn: 0.6311815\ttest: 0.6250638\tbest: 0.6250638 (9)\ttotal: 97.9ms\tremaining: 9.7s\n",
      "10:\tlearn: 0.6261564\ttest: 0.6194797\tbest: 0.6194797 (10)\ttotal: 110ms\tremaining: 9.92s\n",
      "11:\tlearn: 0.6217183\ttest: 0.6143721\tbest: 0.6143721 (11)\ttotal: 112ms\tremaining: 9.22s\n",
      "12:\tlearn: 0.6171888\ttest: 0.6092705\tbest: 0.6092705 (12)\ttotal: 114ms\tremaining: 8.65s\n",
      "13:\tlearn: 0.6139601\ttest: 0.6062090\tbest: 0.6062090 (13)\ttotal: 123ms\tremaining: 8.63s\n",
      "14:\tlearn: 0.6106166\ttest: 0.6030842\tbest: 0.6030842 (14)\ttotal: 130ms\tremaining: 8.56s\n",
      "15:\tlearn: 0.6074568\ttest: 0.6000232\tbest: 0.6000232 (15)\ttotal: 139ms\tremaining: 8.57s\n",
      "16:\tlearn: 0.6036414\ttest: 0.5956922\tbest: 0.5956922 (16)\ttotal: 143ms\tremaining: 8.29s\n",
      "17:\tlearn: 0.6007069\ttest: 0.5927436\tbest: 0.5927436 (17)\ttotal: 158ms\tremaining: 8.59s\n",
      "18:\tlearn: 0.5972410\ttest: 0.5888812\tbest: 0.5888812 (18)\ttotal: 159ms\tremaining: 8.22s\n",
      "19:\tlearn: 0.5937715\ttest: 0.5852108\tbest: 0.5852108 (19)\ttotal: 160ms\tremaining: 7.86s\n",
      "20:\tlearn: 0.5907943\ttest: 0.5821085\tbest: 0.5821085 (20)\ttotal: 162ms\tremaining: 7.55s\n",
      "21:\tlearn: 0.5884619\ttest: 0.5797842\tbest: 0.5797842 (21)\ttotal: 167ms\tremaining: 7.4s\n",
      "22:\tlearn: 0.5851293\ttest: 0.5758713\tbest: 0.5758713 (22)\ttotal: 168ms\tremaining: 7.12s\n",
      "23:\tlearn: 0.5819018\ttest: 0.5722183\tbest: 0.5722183 (23)\ttotal: 169ms\tremaining: 6.87s\n",
      "24:\tlearn: 0.5790937\ttest: 0.5689717\tbest: 0.5689717 (24)\ttotal: 170ms\tremaining: 6.64s\n",
      "25:\tlearn: 0.5766744\ttest: 0.5663151\tbest: 0.5663151 (25)\ttotal: 173ms\tremaining: 6.46s\n",
      "26:\tlearn: 0.5739250\ttest: 0.5631146\tbest: 0.5631146 (26)\ttotal: 174ms\tremaining: 6.26s\n",
      "27:\tlearn: 0.5711221\ttest: 0.5598515\tbest: 0.5598515 (27)\ttotal: 175ms\tremaining: 6.07s\n",
      "28:\tlearn: 0.5689430\ttest: 0.5573715\tbest: 0.5573715 (28)\ttotal: 177ms\tremaining: 5.91s\n",
      "29:\tlearn: 0.5670285\ttest: 0.5553324\tbest: 0.5553324 (29)\ttotal: 179ms\tremaining: 5.8s\n",
      "30:\tlearn: 0.5646965\ttest: 0.5526805\tbest: 0.5526805 (30)\ttotal: 181ms\tremaining: 5.65s\n",
      "31:\tlearn: 0.5629046\ttest: 0.5508411\tbest: 0.5508411 (31)\ttotal: 184ms\tremaining: 5.55s\n",
      "32:\tlearn: 0.5609576\ttest: 0.5486144\tbest: 0.5486144 (32)\ttotal: 186ms\tremaining: 5.46s\n",
      "33:\tlearn: 0.5591193\ttest: 0.5464525\tbest: 0.5464525 (33)\ttotal: 189ms\tremaining: 5.38s\n",
      "34:\tlearn: 0.5575457\ttest: 0.5447202\tbest: 0.5447202 (34)\ttotal: 193ms\tremaining: 5.31s\n",
      "35:\tlearn: 0.5555418\ttest: 0.5423896\tbest: 0.5423896 (35)\ttotal: 196ms\tremaining: 5.25s\n",
      "36:\tlearn: 0.5540146\ttest: 0.5406454\tbest: 0.5406454 (36)\ttotal: 200ms\tremaining: 5.2s\n",
      "37:\tlearn: 0.5522954\ttest: 0.5387793\tbest: 0.5387793 (37)\ttotal: 201ms\tremaining: 5.09s\n",
      "38:\tlearn: 0.5511131\ttest: 0.5376886\tbest: 0.5376886 (38)\ttotal: 213ms\tremaining: 5.24s\n",
      "39:\tlearn: 0.5498214\ttest: 0.5363063\tbest: 0.5363063 (39)\ttotal: 215ms\tremaining: 5.16s\n",
      "40:\tlearn: 0.5485087\ttest: 0.5352576\tbest: 0.5352576 (40)\ttotal: 229ms\tremaining: 5.35s\n",
      "41:\tlearn: 0.5468659\ttest: 0.5333646\tbest: 0.5333646 (41)\ttotal: 231ms\tremaining: 5.27s\n",
      "42:\tlearn: 0.5456670\ttest: 0.5320796\tbest: 0.5320796 (42)\ttotal: 234ms\tremaining: 5.21s\n",
      "43:\tlearn: 0.5444572\ttest: 0.5307562\tbest: 0.5307562 (43)\ttotal: 235ms\tremaining: 5.12s\n",
      "44:\tlearn: 0.5429707\ttest: 0.5289858\tbest: 0.5289858 (44)\ttotal: 237ms\tremaining: 5.02s\n",
      "45:\tlearn: 0.5419394\ttest: 0.5280545\tbest: 0.5280545 (45)\ttotal: 241ms\tremaining: 5s\n",
      "46:\tlearn: 0.5408215\ttest: 0.5267060\tbest: 0.5267060 (46)\ttotal: 242ms\tremaining: 4.92s\n",
      "47:\tlearn: 0.5397855\ttest: 0.5255844\tbest: 0.5255844 (47)\ttotal: 245ms\tremaining: 4.85s\n",
      "48:\tlearn: 0.5387027\ttest: 0.5246176\tbest: 0.5246176 (48)\ttotal: 247ms\tremaining: 4.78s\n",
      "49:\tlearn: 0.5378912\ttest: 0.5241334\tbest: 0.5241334 (49)\ttotal: 251ms\tremaining: 4.77s\n",
      "50:\tlearn: 0.5370708\ttest: 0.5232714\tbest: 0.5232714 (50)\ttotal: 252ms\tremaining: 4.7s\n",
      "51:\tlearn: 0.5361923\ttest: 0.5222359\tbest: 0.5222359 (51)\ttotal: 254ms\tremaining: 4.63s\n",
      "52:\tlearn: 0.5353988\ttest: 0.5216136\tbest: 0.5216136 (52)\ttotal: 259ms\tremaining: 4.62s\n",
      "53:\tlearn: 0.5343043\ttest: 0.5202920\tbest: 0.5202920 (53)\ttotal: 260ms\tremaining: 4.55s\n",
      "54:\tlearn: 0.5335461\ttest: 0.5196623\tbest: 0.5196623 (54)\ttotal: 268ms\tremaining: 4.61s\n",
      "55:\tlearn: 0.5327686\ttest: 0.5187412\tbest: 0.5187412 (55)\ttotal: 271ms\tremaining: 4.56s\n",
      "56:\tlearn: 0.5320428\ttest: 0.5179300\tbest: 0.5179300 (56)\ttotal: 273ms\tremaining: 4.51s\n",
      "57:\tlearn: 0.5313282\ttest: 0.5174222\tbest: 0.5174222 (57)\ttotal: 275ms\tremaining: 4.46s\n",
      "58:\tlearn: 0.5305534\ttest: 0.5169106\tbest: 0.5169106 (58)\ttotal: 279ms\tremaining: 4.45s\n",
      "59:\tlearn: 0.5299381\ttest: 0.5162179\tbest: 0.5162179 (59)\ttotal: 281ms\tremaining: 4.4s\n",
      "60:\tlearn: 0.5290837\ttest: 0.5157734\tbest: 0.5157734 (60)\ttotal: 285ms\tremaining: 4.39s\n",
      "61:\tlearn: 0.5283444\ttest: 0.5149211\tbest: 0.5149211 (61)\ttotal: 287ms\tremaining: 4.34s\n",
      "62:\tlearn: 0.5277431\ttest: 0.5145991\tbest: 0.5145991 (62)\ttotal: 289ms\tremaining: 4.3s\n",
      "63:\tlearn: 0.5272431\ttest: 0.5141586\tbest: 0.5141586 (63)\ttotal: 295ms\tremaining: 4.31s\n",
      "64:\tlearn: 0.5266611\ttest: 0.5135396\tbest: 0.5135396 (64)\ttotal: 298ms\tremaining: 4.29s\n",
      "65:\tlearn: 0.5263669\ttest: 0.5132191\tbest: 0.5132191 (65)\ttotal: 301ms\tremaining: 4.26s\n",
      "66:\tlearn: 0.5257369\ttest: 0.5127419\tbest: 0.5127419 (66)\ttotal: 305ms\tremaining: 4.25s\n",
      "67:\tlearn: 0.5255149\ttest: 0.5126434\tbest: 0.5126434 (67)\ttotal: 308ms\tremaining: 4.22s\n",
      "68:\tlearn: 0.5248948\ttest: 0.5121324\tbest: 0.5121324 (68)\ttotal: 311ms\tremaining: 4.2s\n",
      "69:\tlearn: 0.5243609\ttest: 0.5118126\tbest: 0.5118126 (69)\ttotal: 318ms\tremaining: 4.22s\n",
      "70:\tlearn: 0.5241765\ttest: 0.5117959\tbest: 0.5117959 (70)\ttotal: 319ms\tremaining: 4.18s\n",
      "71:\tlearn: 0.5240891\ttest: 0.5117018\tbest: 0.5117018 (71)\ttotal: 320ms\tremaining: 4.13s\n",
      "72:\tlearn: 0.5235021\ttest: 0.5111979\tbest: 0.5111979 (72)\ttotal: 323ms\tremaining: 4.1s\n",
      "73:\tlearn: 0.5229646\ttest: 0.5109989\tbest: 0.5109989 (73)\ttotal: 328ms\tremaining: 4.1s\n",
      "74:\tlearn: 0.5223772\ttest: 0.5107220\tbest: 0.5107220 (74)\ttotal: 332ms\tremaining: 4.1s\n",
      "75:\tlearn: 0.5218026\ttest: 0.5100015\tbest: 0.5100015 (75)\ttotal: 333ms\tremaining: 4.05s\n",
      "76:\tlearn: 0.5212616\ttest: 0.5096489\tbest: 0.5096489 (76)\ttotal: 338ms\tremaining: 4.05s\n",
      "77:\tlearn: 0.5211747\ttest: 0.5095330\tbest: 0.5095330 (77)\ttotal: 339ms\tremaining: 4.01s\n",
      "78:\tlearn: 0.5207672\ttest: 0.5093478\tbest: 0.5093478 (78)\ttotal: 343ms\tremaining: 4s\n",
      "79:\tlearn: 0.5203521\ttest: 0.5089666\tbest: 0.5089666 (79)\ttotal: 348ms\tremaining: 4s\n",
      "80:\tlearn: 0.5200100\ttest: 0.5089356\tbest: 0.5089356 (80)\ttotal: 352ms\tremaining: 4s\n",
      "81:\tlearn: 0.5199108\ttest: 0.5088443\tbest: 0.5088443 (81)\ttotal: 353ms\tremaining: 3.95s\n",
      "82:\tlearn: 0.5194116\ttest: 0.5084870\tbest: 0.5084870 (82)\ttotal: 355ms\tremaining: 3.92s\n",
      "83:\tlearn: 0.5192573\ttest: 0.5083811\tbest: 0.5083811 (83)\ttotal: 357ms\tremaining: 3.9s\n",
      "84:\tlearn: 0.5188877\ttest: 0.5079409\tbest: 0.5079409 (84)\ttotal: 360ms\tremaining: 3.88s\n",
      "85:\tlearn: 0.5184316\ttest: 0.5076091\tbest: 0.5076091 (85)\ttotal: 365ms\tremaining: 3.88s\n",
      "86:\tlearn: 0.5182994\ttest: 0.5075822\tbest: 0.5075822 (86)\ttotal: 367ms\tremaining: 3.85s\n",
      "87:\tlearn: 0.5177679\ttest: 0.5072816\tbest: 0.5072816 (87)\ttotal: 371ms\tremaining: 3.85s\n",
      "88:\tlearn: 0.5176891\ttest: 0.5071838\tbest: 0.5071838 (88)\ttotal: 372ms\tremaining: 3.81s\n",
      "89:\tlearn: 0.5173382\ttest: 0.5068974\tbest: 0.5068974 (89)\ttotal: 376ms\tremaining: 3.81s\n",
      "90:\tlearn: 0.5171969\ttest: 0.5068008\tbest: 0.5068008 (90)\ttotal: 378ms\tremaining: 3.78s\n",
      "91:\tlearn: 0.5170786\ttest: 0.5067085\tbest: 0.5067085 (91)\ttotal: 379ms\tremaining: 3.74s\n",
      "92:\tlearn: 0.5166537\ttest: 0.5064940\tbest: 0.5064940 (92)\ttotal: 384ms\tremaining: 3.74s\n",
      "93:\tlearn: 0.5162615\ttest: 0.5060885\tbest: 0.5060885 (93)\ttotal: 387ms\tremaining: 3.73s\n",
      "94:\tlearn: 0.5158727\ttest: 0.5056677\tbest: 0.5056677 (94)\ttotal: 389ms\tremaining: 3.7s\n",
      "95:\tlearn: 0.5155174\ttest: 0.5052651\tbest: 0.5052651 (95)\ttotal: 390ms\tremaining: 3.67s\n",
      "96:\tlearn: 0.5151378\ttest: 0.5049303\tbest: 0.5049303 (96)\ttotal: 395ms\tremaining: 3.68s\n",
      "97:\tlearn: 0.5150389\ttest: 0.5048471\tbest: 0.5048471 (97)\ttotal: 397ms\tremaining: 3.65s\n",
      "98:\tlearn: 0.5146473\ttest: 0.5047088\tbest: 0.5047088 (98)\ttotal: 401ms\tremaining: 3.65s\n",
      "99:\tlearn: 0.5145445\ttest: 0.5046448\tbest: 0.5046448 (99)\ttotal: 402ms\tremaining: 3.62s\n",
      "100:\tlearn: 0.5144659\ttest: 0.5045811\tbest: 0.5045811 (100)\ttotal: 403ms\tremaining: 3.59s\n",
      "101:\tlearn: 0.5141009\ttest: 0.5042537\tbest: 0.5042537 (101)\ttotal: 406ms\tremaining: 3.58s\n",
      "102:\tlearn: 0.5137605\ttest: 0.5038268\tbest: 0.5038268 (102)\ttotal: 407ms\tremaining: 3.55s\n",
      "103:\tlearn: 0.5132963\ttest: 0.5035051\tbest: 0.5035051 (103)\ttotal: 412ms\tremaining: 3.55s\n",
      "104:\tlearn: 0.5129954\ttest: 0.5031585\tbest: 0.5031585 (104)\ttotal: 414ms\tremaining: 3.52s\n",
      "105:\tlearn: 0.5126446\ttest: 0.5027051\tbest: 0.5027051 (105)\ttotal: 416ms\tremaining: 3.51s\n",
      "106:\tlearn: 0.5123845\ttest: 0.5024726\tbest: 0.5024726 (106)\ttotal: 417ms\tremaining: 3.48s\n",
      "107:\tlearn: 0.5120765\ttest: 0.5022440\tbest: 0.5022440 (107)\ttotal: 424ms\tremaining: 3.5s\n",
      "108:\tlearn: 0.5118622\ttest: 0.5020696\tbest: 0.5020696 (108)\ttotal: 428ms\tremaining: 3.5s\n",
      "109:\tlearn: 0.5117635\ttest: 0.5019390\tbest: 0.5019390 (109)\ttotal: 429ms\tremaining: 3.47s\n",
      "110:\tlearn: 0.5116337\ttest: 0.5018632\tbest: 0.5018632 (110)\ttotal: 431ms\tremaining: 3.45s\n",
      "111:\tlearn: 0.5113604\ttest: 0.5016428\tbest: 0.5016428 (111)\ttotal: 433ms\tremaining: 3.43s\n",
      "112:\tlearn: 0.5110634\ttest: 0.5015936\tbest: 0.5015936 (112)\ttotal: 437ms\tremaining: 3.43s\n",
      "113:\tlearn: 0.5107528\ttest: 0.5011831\tbest: 0.5011831 (113)\ttotal: 438ms\tremaining: 3.4s\n",
      "114:\tlearn: 0.5104146\ttest: 0.5011010\tbest: 0.5011010 (114)\ttotal: 443ms\tremaining: 3.4s\n",
      "115:\tlearn: 0.5101361\ttest: 0.5010910\tbest: 0.5010910 (115)\ttotal: 447ms\tremaining: 3.4s\n",
      "116:\tlearn: 0.5097747\ttest: 0.5011070\tbest: 0.5010910 (115)\ttotal: 451ms\tremaining: 3.4s\n",
      "117:\tlearn: 0.5094246\ttest: 0.5010271\tbest: 0.5010271 (117)\ttotal: 455ms\tremaining: 3.4s\n",
      "118:\tlearn: 0.5090587\ttest: 0.5008714\tbest: 0.5008714 (118)\ttotal: 463ms\tremaining: 3.43s\n",
      "119:\tlearn: 0.5088246\ttest: 0.5006838\tbest: 0.5006838 (119)\ttotal: 465ms\tremaining: 3.41s\n",
      "120:\tlearn: 0.5085336\ttest: 0.5006172\tbest: 0.5006172 (120)\ttotal: 470ms\tremaining: 3.41s\n",
      "121:\tlearn: 0.5084470\ttest: 0.5005407\tbest: 0.5005407 (121)\ttotal: 471ms\tremaining: 3.39s\n",
      "122:\tlearn: 0.5082227\ttest: 0.5003292\tbest: 0.5003292 (122)\ttotal: 474ms\tremaining: 3.38s\n",
      "123:\tlearn: 0.5080929\ttest: 0.5002010\tbest: 0.5002010 (123)\ttotal: 475ms\tremaining: 3.36s\n",
      "124:\tlearn: 0.5078636\ttest: 0.4999696\tbest: 0.4999696 (124)\ttotal: 477ms\tremaining: 3.34s\n",
      "125:\tlearn: 0.5076515\ttest: 0.4998544\tbest: 0.4998544 (125)\ttotal: 483ms\tremaining: 3.35s\n",
      "126:\tlearn: 0.5074420\ttest: 0.4995841\tbest: 0.4995841 (126)\ttotal: 484ms\tremaining: 3.33s\n",
      "127:\tlearn: 0.5071347\ttest: 0.4995186\tbest: 0.4995186 (127)\ttotal: 488ms\tremaining: 3.33s\n",
      "128:\tlearn: 0.5068738\ttest: 0.4994135\tbest: 0.4994135 (128)\ttotal: 496ms\tremaining: 3.35s\n",
      "129:\tlearn: 0.5066950\ttest: 0.4991787\tbest: 0.4991787 (129)\ttotal: 502ms\tremaining: 3.36s\n",
      "130:\tlearn: 0.5065425\ttest: 0.4990156\tbest: 0.4990156 (130)\ttotal: 507ms\tremaining: 3.36s\n",
      "131:\tlearn: 0.5063031\ttest: 0.4989059\tbest: 0.4989059 (131)\ttotal: 514ms\tremaining: 3.38s\n",
      "132:\tlearn: 0.5060279\ttest: 0.4987612\tbest: 0.4987612 (132)\ttotal: 518ms\tremaining: 3.38s\n",
      "133:\tlearn: 0.5058058\ttest: 0.4988209\tbest: 0.4987612 (132)\ttotal: 544ms\tremaining: 3.52s\n",
      "134:\tlearn: 0.5056555\ttest: 0.4987319\tbest: 0.4987319 (134)\ttotal: 554ms\tremaining: 3.55s\n",
      "135:\tlearn: 0.5054796\ttest: 0.4985215\tbest: 0.4985215 (135)\ttotal: 558ms\tremaining: 3.54s\n",
      "136:\tlearn: 0.5052291\ttest: 0.4984785\tbest: 0.4984785 (136)\ttotal: 562ms\tremaining: 3.54s\n",
      "137:\tlearn: 0.5050176\ttest: 0.4982957\tbest: 0.4982957 (137)\ttotal: 564ms\tremaining: 3.52s\n",
      "138:\tlearn: 0.5048471\ttest: 0.4980924\tbest: 0.4980924 (138)\ttotal: 565ms\tremaining: 3.5s\n",
      "139:\tlearn: 0.5046765\ttest: 0.4979870\tbest: 0.4979870 (139)\ttotal: 570ms\tremaining: 3.5s\n",
      "140:\tlearn: 0.5045219\ttest: 0.4978685\tbest: 0.4978685 (140)\ttotal: 571ms\tremaining: 3.48s\n",
      "141:\tlearn: 0.5042967\ttest: 0.4978834\tbest: 0.4978685 (140)\ttotal: 585ms\tremaining: 3.54s\n",
      "142:\tlearn: 0.5041019\ttest: 0.4978920\tbest: 0.4978685 (140)\ttotal: 596ms\tremaining: 3.57s\n",
      "143:\tlearn: 0.5039474\ttest: 0.4978198\tbest: 0.4978198 (143)\ttotal: 606ms\tremaining: 3.6s\n",
      "144:\tlearn: 0.5037005\ttest: 0.4978140\tbest: 0.4978140 (144)\ttotal: 612ms\tremaining: 3.61s\n",
      "145:\tlearn: 0.5036414\ttest: 0.4978194\tbest: 0.4978140 (144)\ttotal: 613ms\tremaining: 3.58s\n",
      "146:\tlearn: 0.5034867\ttest: 0.4977098\tbest: 0.4977098 (146)\ttotal: 616ms\tremaining: 3.57s\n",
      "147:\tlearn: 0.5034648\ttest: 0.4976669\tbest: 0.4976669 (147)\ttotal: 617ms\tremaining: 3.55s\n",
      "148:\tlearn: 0.5032357\ttest: 0.4976623\tbest: 0.4976623 (148)\ttotal: 621ms\tremaining: 3.55s\n",
      "149:\tlearn: 0.5030912\ttest: 0.4976514\tbest: 0.4976514 (149)\ttotal: 625ms\tremaining: 3.54s\n",
      "150:\tlearn: 0.5029028\ttest: 0.4975477\tbest: 0.4975477 (150)\ttotal: 629ms\tremaining: 3.54s\n",
      "151:\tlearn: 0.5028392\ttest: 0.4975144\tbest: 0.4975144 (151)\ttotal: 631ms\tremaining: 3.52s\n",
      "152:\tlearn: 0.5027969\ttest: 0.4974681\tbest: 0.4974681 (152)\ttotal: 632ms\tremaining: 3.5s\n",
      "153:\tlearn: 0.5027682\ttest: 0.4974519\tbest: 0.4974519 (153)\ttotal: 633ms\tremaining: 3.48s\n",
      "154:\tlearn: 0.5027350\ttest: 0.4974321\tbest: 0.4974321 (154)\ttotal: 634ms\tremaining: 3.46s\n",
      "155:\tlearn: 0.5026101\ttest: 0.4973189\tbest: 0.4973189 (155)\ttotal: 636ms\tremaining: 3.44s\n",
      "156:\tlearn: 0.5024953\ttest: 0.4972656\tbest: 0.4972656 (156)\ttotal: 638ms\tremaining: 3.42s\n",
      "157:\tlearn: 0.5024772\ttest: 0.4972283\tbest: 0.4972283 (157)\ttotal: 638ms\tremaining: 3.4s\n",
      "158:\tlearn: 0.5024566\ttest: 0.4971873\tbest: 0.4971873 (158)\ttotal: 639ms\tremaining: 3.38s\n",
      "159:\tlearn: 0.5024310\ttest: 0.4971492\tbest: 0.4971492 (159)\ttotal: 640ms\tremaining: 3.36s\n",
      "160:\tlearn: 0.5023608\ttest: 0.4970728\tbest: 0.4970728 (160)\ttotal: 642ms\tremaining: 3.34s\n",
      "161:\tlearn: 0.5022078\ttest: 0.4969194\tbest: 0.4969194 (161)\ttotal: 645ms\tremaining: 3.33s\n",
      "162:\tlearn: 0.5021333\ttest: 0.4968251\tbest: 0.4968251 (162)\ttotal: 646ms\tremaining: 3.32s\n",
      "163:\tlearn: 0.5020055\ttest: 0.4967408\tbest: 0.4967408 (163)\ttotal: 649ms\tremaining: 3.31s\n",
      "164:\tlearn: 0.5019449\ttest: 0.4967638\tbest: 0.4967408 (163)\ttotal: 651ms\tremaining: 3.29s\n",
      "165:\tlearn: 0.5017294\ttest: 0.4968492\tbest: 0.4967408 (163)\ttotal: 655ms\tremaining: 3.29s\n",
      "166:\tlearn: 0.5015725\ttest: 0.4967804\tbest: 0.4967408 (163)\ttotal: 666ms\tremaining: 3.32s\n",
      "167:\tlearn: 0.5015162\ttest: 0.4967464\tbest: 0.4967408 (163)\ttotal: 671ms\tremaining: 3.32s\n",
      "168:\tlearn: 0.5014762\ttest: 0.4967413\tbest: 0.4967408 (163)\ttotal: 674ms\tremaining: 3.31s\n",
      "169:\tlearn: 0.5012967\ttest: 0.4967743\tbest: 0.4967408 (163)\ttotal: 681ms\tremaining: 3.33s\n",
      "170:\tlearn: 0.5010656\ttest: 0.4966815\tbest: 0.4966815 (170)\ttotal: 692ms\tremaining: 3.36s\n",
      "171:\tlearn: 0.5008335\ttest: 0.4965994\tbest: 0.4965994 (171)\ttotal: 706ms\tremaining: 3.4s\n",
      "172:\tlearn: 0.5007898\ttest: 0.4966180\tbest: 0.4965994 (171)\ttotal: 714ms\tremaining: 3.41s\n",
      "173:\tlearn: 0.5006108\ttest: 0.4966715\tbest: 0.4965994 (171)\ttotal: 723ms\tremaining: 3.43s\n",
      "174:\tlearn: 0.5004796\ttest: 0.4966736\tbest: 0.4965994 (171)\ttotal: 732ms\tremaining: 3.45s\n",
      "175:\tlearn: 0.5003411\ttest: 0.4965623\tbest: 0.4965623 (175)\ttotal: 735ms\tremaining: 3.44s\n",
      "176:\tlearn: 0.5003223\ttest: 0.4965394\tbest: 0.4965394 (176)\ttotal: 741ms\tremaining: 3.45s\n",
      "177:\tlearn: 0.5003104\ttest: 0.4965175\tbest: 0.4965175 (177)\ttotal: 744ms\tremaining: 3.44s\n",
      "178:\tlearn: 0.5001929\ttest: 0.4963544\tbest: 0.4963544 (178)\ttotal: 746ms\tremaining: 3.42s\n",
      "179:\tlearn: 0.5001133\ttest: 0.4963052\tbest: 0.4963052 (179)\ttotal: 750ms\tremaining: 3.42s\n",
      "180:\tlearn: 0.5000310\ttest: 0.4962180\tbest: 0.4962180 (180)\ttotal: 753ms\tremaining: 3.4s\n",
      "181:\tlearn: 0.5000071\ttest: 0.4962035\tbest: 0.4962035 (181)\ttotal: 754ms\tremaining: 3.39s\n",
      "182:\tlearn: 0.4998448\ttest: 0.4963351\tbest: 0.4962035 (181)\ttotal: 769ms\tremaining: 3.43s\n",
      "183:\tlearn: 0.4997047\ttest: 0.4963860\tbest: 0.4962035 (181)\ttotal: 777ms\tremaining: 3.45s\n",
      "184:\tlearn: 0.4996922\ttest: 0.4963626\tbest: 0.4962035 (181)\ttotal: 780ms\tremaining: 3.44s\n",
      "185:\tlearn: 0.4994674\ttest: 0.4964626\tbest: 0.4962035 (181)\ttotal: 794ms\tremaining: 3.47s\n",
      "186:\tlearn: 0.4994095\ttest: 0.4964742\tbest: 0.4962035 (181)\ttotal: 798ms\tremaining: 3.47s\n",
      "187:\tlearn: 0.4993159\ttest: 0.4963783\tbest: 0.4962035 (181)\ttotal: 800ms\tremaining: 3.45s\n",
      "188:\tlearn: 0.4992444\ttest: 0.4962976\tbest: 0.4962035 (181)\ttotal: 805ms\tremaining: 3.45s\n",
      "189:\tlearn: 0.4991354\ttest: 0.4961419\tbest: 0.4961419 (189)\ttotal: 806ms\tremaining: 3.43s\n",
      "190:\tlearn: 0.4991222\ttest: 0.4961144\tbest: 0.4961144 (190)\ttotal: 807ms\tremaining: 3.42s\n",
      "191:\tlearn: 0.4989798\ttest: 0.4961808\tbest: 0.4961144 (190)\ttotal: 811ms\tremaining: 3.41s\n",
      "192:\tlearn: 0.4987854\ttest: 0.4962803\tbest: 0.4961144 (190)\ttotal: 815ms\tremaining: 3.41s\n",
      "193:\tlearn: 0.4987431\ttest: 0.4962381\tbest: 0.4961144 (190)\ttotal: 816ms\tremaining: 3.39s\n",
      "194:\tlearn: 0.4986373\ttest: 0.4962775\tbest: 0.4961144 (190)\ttotal: 820ms\tremaining: 3.39s\n",
      "195:\tlearn: 0.4985629\ttest: 0.4962477\tbest: 0.4961144 (190)\ttotal: 825ms\tremaining: 3.38s\n",
      "196:\tlearn: 0.4985448\ttest: 0.4962481\tbest: 0.4961144 (190)\ttotal: 826ms\tremaining: 3.37s\n",
      "197:\tlearn: 0.4983724\ttest: 0.4963058\tbest: 0.4961144 (190)\ttotal: 831ms\tremaining: 3.36s\n",
      "198:\tlearn: 0.4982854\ttest: 0.4963409\tbest: 0.4961144 (190)\ttotal: 833ms\tremaining: 3.35s\n",
      "199:\tlearn: 0.4982184\ttest: 0.4963603\tbest: 0.4961144 (190)\ttotal: 836ms\tremaining: 3.34s\n",
      "200:\tlearn: 0.4981953\ttest: 0.4963615\tbest: 0.4961144 (190)\ttotal: 838ms\tremaining: 3.33s\n",
      "201:\tlearn: 0.4981060\ttest: 0.4962482\tbest: 0.4961144 (190)\ttotal: 839ms\tremaining: 3.31s\n",
      "202:\tlearn: 0.4980203\ttest: 0.4961621\tbest: 0.4961144 (190)\ttotal: 841ms\tremaining: 3.3s\n",
      "203:\tlearn: 0.4979260\ttest: 0.4961005\tbest: 0.4961005 (203)\ttotal: 843ms\tremaining: 3.29s\n",
      "204:\tlearn: 0.4978661\ttest: 0.4960381\tbest: 0.4960381 (204)\ttotal: 845ms\tremaining: 3.28s\n",
      "205:\tlearn: 0.4977632\ttest: 0.4961360\tbest: 0.4960381 (204)\ttotal: 850ms\tremaining: 3.27s\n",
      "206:\tlearn: 0.4976288\ttest: 0.4963278\tbest: 0.4960381 (204)\ttotal: 854ms\tremaining: 3.27s\n",
      "207:\tlearn: 0.4975448\ttest: 0.4964256\tbest: 0.4960381 (204)\ttotal: 863ms\tremaining: 3.29s\n",
      "208:\tlearn: 0.4973952\ttest: 0.4964492\tbest: 0.4960381 (204)\ttotal: 868ms\tremaining: 3.28s\n",
      "209:\tlearn: 0.4973653\ttest: 0.4964428\tbest: 0.4960381 (204)\ttotal: 869ms\tremaining: 3.27s\n",
      "210:\tlearn: 0.4972803\ttest: 0.4964264\tbest: 0.4960381 (204)\ttotal: 874ms\tremaining: 3.27s\n",
      "211:\tlearn: 0.4971426\ttest: 0.4964798\tbest: 0.4960381 (204)\ttotal: 878ms\tremaining: 3.26s\n",
      "212:\tlearn: 0.4970650\ttest: 0.4965248\tbest: 0.4960381 (204)\ttotal: 881ms\tremaining: 3.25s\n",
      "213:\tlearn: 0.4969727\ttest: 0.4965186\tbest: 0.4960381 (204)\ttotal: 884ms\tremaining: 3.25s\n",
      "214:\tlearn: 0.4969572\ttest: 0.4964819\tbest: 0.4960381 (204)\ttotal: 885ms\tremaining: 3.23s\n",
      "215:\tlearn: 0.4968547\ttest: 0.4964496\tbest: 0.4960381 (204)\ttotal: 890ms\tremaining: 3.23s\n",
      "216:\tlearn: 0.4968447\ttest: 0.4964339\tbest: 0.4960381 (204)\ttotal: 891ms\tremaining: 3.22s\n",
      "217:\tlearn: 0.4967500\ttest: 0.4964949\tbest: 0.4960381 (204)\ttotal: 897ms\tremaining: 3.22s\n",
      "218:\tlearn: 0.4966677\ttest: 0.4966233\tbest: 0.4960381 (204)\ttotal: 901ms\tremaining: 3.21s\n",
      "219:\tlearn: 0.4966237\ttest: 0.4965677\tbest: 0.4960381 (204)\ttotal: 903ms\tremaining: 3.2s\n",
      "220:\tlearn: 0.4965093\ttest: 0.4966043\tbest: 0.4960381 (204)\ttotal: 908ms\tremaining: 3.2s\n",
      "221:\tlearn: 0.4964601\ttest: 0.4966913\tbest: 0.4960381 (204)\ttotal: 912ms\tremaining: 3.19s\n",
      "222:\tlearn: 0.4963974\ttest: 0.4965917\tbest: 0.4960381 (204)\ttotal: 913ms\tremaining: 3.18s\n",
      "223:\tlearn: 0.4963388\ttest: 0.4966089\tbest: 0.4960381 (204)\ttotal: 915ms\tremaining: 3.17s\n",
      "224:\tlearn: 0.4963294\ttest: 0.4966058\tbest: 0.4960381 (204)\ttotal: 916ms\tremaining: 3.15s\n",
      "225:\tlearn: 0.4961886\ttest: 0.4967707\tbest: 0.4960381 (204)\ttotal: 920ms\tremaining: 3.15s\n",
      "226:\tlearn: 0.4960747\ttest: 0.4968825\tbest: 0.4960381 (204)\ttotal: 924ms\tremaining: 3.15s\n",
      "227:\tlearn: 0.4959756\ttest: 0.4969196\tbest: 0.4960381 (204)\ttotal: 929ms\tremaining: 3.14s\n",
      "228:\tlearn: 0.4958587\ttest: 0.4970879\tbest: 0.4960381 (204)\ttotal: 933ms\tremaining: 3.14s\n",
      "229:\tlearn: 0.4957100\ttest: 0.4972605\tbest: 0.4960381 (204)\ttotal: 937ms\tremaining: 3.14s\n",
      "230:\tlearn: 0.4956421\ttest: 0.4972575\tbest: 0.4960381 (204)\ttotal: 942ms\tremaining: 3.13s\n",
      "231:\tlearn: 0.4954873\ttest: 0.4974452\tbest: 0.4960381 (204)\ttotal: 946ms\tremaining: 3.13s\n",
      "232:\tlearn: 0.4954475\ttest: 0.4973884\tbest: 0.4960381 (204)\ttotal: 947ms\tremaining: 3.12s\n",
      "233:\tlearn: 0.4954186\ttest: 0.4974046\tbest: 0.4960381 (204)\ttotal: 949ms\tremaining: 3.1s\n",
      "234:\tlearn: 0.4953636\ttest: 0.4974167\tbest: 0.4960381 (204)\ttotal: 951ms\tremaining: 3.09s\n",
      "235:\tlearn: 0.4953397\ttest: 0.4974618\tbest: 0.4960381 (204)\ttotal: 952ms\tremaining: 3.08s\n",
      "236:\tlearn: 0.4952045\ttest: 0.4975745\tbest: 0.4960381 (204)\ttotal: 957ms\tremaining: 3.08s\n",
      "237:\tlearn: 0.4951457\ttest: 0.4974701\tbest: 0.4960381 (204)\ttotal: 958ms\tremaining: 3.07s\n",
      "238:\tlearn: 0.4950899\ttest: 0.4973785\tbest: 0.4960381 (204)\ttotal: 959ms\tremaining: 3.05s\n",
      "239:\tlearn: 0.4950516\ttest: 0.4973358\tbest: 0.4960381 (204)\ttotal: 960ms\tremaining: 3.04s\n",
      "240:\tlearn: 0.4950047\ttest: 0.4973720\tbest: 0.4960381 (204)\ttotal: 963ms\tremaining: 3.03s\n",
      "241:\tlearn: 0.4948806\ttest: 0.4973783\tbest: 0.4960381 (204)\ttotal: 967ms\tremaining: 3.03s\n",
      "242:\tlearn: 0.4948240\ttest: 0.4973040\tbest: 0.4960381 (204)\ttotal: 969ms\tremaining: 3.02s\n",
      "243:\tlearn: 0.4947656\ttest: 0.4972798\tbest: 0.4960381 (204)\ttotal: 971ms\tremaining: 3.01s\n",
      "244:\tlearn: 0.4946818\ttest: 0.4972825\tbest: 0.4960381 (204)\ttotal: 978ms\tremaining: 3.01s\n",
      "245:\tlearn: 0.4945828\ttest: 0.4973958\tbest: 0.4960381 (204)\ttotal: 983ms\tremaining: 3.01s\n",
      "246:\tlearn: 0.4945798\ttest: 0.4973823\tbest: 0.4960381 (204)\ttotal: 984ms\tremaining: 3s\n",
      "247:\tlearn: 0.4945560\ttest: 0.4974010\tbest: 0.4960381 (204)\ttotal: 986ms\tremaining: 2.99s\n",
      "248:\tlearn: 0.4944898\ttest: 0.4974000\tbest: 0.4960381 (204)\ttotal: 989ms\tremaining: 2.98s\n",
      "249:\tlearn: 0.4943912\ttest: 0.4974981\tbest: 0.4960381 (204)\ttotal: 993ms\tremaining: 2.98s\n",
      "250:\tlearn: 0.4943465\ttest: 0.4975498\tbest: 0.4960381 (204)\ttotal: 995ms\tremaining: 2.97s\n",
      "251:\tlearn: 0.4942907\ttest: 0.4975716\tbest: 0.4960381 (204)\ttotal: 997ms\tremaining: 2.96s\n",
      "252:\tlearn: 0.4942445\ttest: 0.4975322\tbest: 0.4960381 (204)\ttotal: 999ms\tremaining: 2.95s\n",
      "253:\tlearn: 0.4941499\ttest: 0.4975581\tbest: 0.4960381 (204)\ttotal: 1s\tremaining: 2.95s\n",
      "254:\tlearn: 0.4941145\ttest: 0.4975031\tbest: 0.4960381 (204)\ttotal: 1s\tremaining: 2.94s\n",
      "Stopped by overfitting detector  (50 iterations wait)\n",
      "\n",
      "bestTest = 0.4960381329\n",
      "bestIteration = 204\n",
      "\n",
      "Shrink model to first 205 iterations.\n"
     ]
    },
    {
     "data": {
      "text/plain": [
       "<catboost.core.CatBoostClassifier at 0x7d11a06a19c0>"
      ]
     },
     "execution_count": 24,
     "metadata": {},
     "output_type": "execute_result"
    }
   ],
   "source": [
    "catboost_model = CatBoostClassifier(\n",
    "    iterations = 1000,\n",
    "    learning_rate = 0.01,\n",
    "    reg_lambda=0.5,\n",
    "    eval_metric='Logloss',\n",
    "    max_depth = 9,\n",
    "    colsample_bylevel =  0.5872678,\n",
    "    random_strength = 2.24931,\n",
    "    random_state = 42,\n",
    "    bootstrap_type = 'Bayesian',\n",
    "    bagging_temperature= 1.867636,\n",
    "    auto_class_weights = 'Balanced'\n",
    "    )\n",
    "\n",
    "catboost_model.fit(X_train,y_train,eval_set = [(X_test, y_test)],cat_features=categorical_features, use_best_model=True, early_stopping_rounds=50)"
   ]
  },
  {
   "cell_type": "code",
   "execution_count": 28,
   "id": "9944c552-dc76-4575-bc9e-c1990e7ab861",
   "metadata": {},
   "outputs": [],
   "source": [
    "y_pred_test = catboost_model.predict(X_test)\n",
    "y_pred_train = catboost_model.predict(X_train)\n",
    "y_pred_val = catboost_model.predict(X_val)\n",
    "y_pred_rem = catboost_model.predict(X_remaining)"
   ]
  },
  {
   "cell_type": "markdown",
   "id": "cef6d30b-43db-487d-92cb-6a590ccaa743",
   "metadata": {},
   "source": [
    "### TRAIN"
   ]
  },
  {
   "cell_type": "code",
   "execution_count": 29,
   "id": "0804df31-c16d-41ac-a814-5778af5f8d6b",
   "metadata": {},
   "outputs": [
    {
     "name": "stdout",
     "output_type": "stream",
     "text": [
      "Confusion Matrix:\n",
      "[[317 367]\n",
      " [ 10 680]]\n"
     ]
    }
   ],
   "source": [
    "# Confusion Matrix\n",
    "conf_matrix = confusion_matrix(y_train, y_pred_train)\n",
    "print(\"Confusion Matrix:\")\n",
    "print(conf_matrix)"
   ]
  },
  {
   "cell_type": "code",
   "execution_count": 30,
   "id": "507d78fc-6a27-4027-984d-eba54a720593",
   "metadata": {},
   "outputs": [
    {
     "name": "stdout",
     "output_type": "stream",
     "text": [
      "Accuracy on trn set: 0.7256186317321689\n"
     ]
    }
   ],
   "source": [
    "# Evaluating the model\n",
    "accuracy = accuracy_score(y_train, y_pred_train)\n",
    "print(f\"Accuracy on trn set: {accuracy}\")"
   ]
  },
  {
   "cell_type": "code",
   "execution_count": 31,
   "id": "551282c9-5ae7-47e0-9b33-1b06946689b6",
   "metadata": {},
   "outputs": [
    {
     "name": "stdout",
     "output_type": "stream",
     "text": [
      "f1 on train set: 0.7829591249280369\n"
     ]
    }
   ],
   "source": [
    "# Evaluating the model\n",
    "f1 = f1_score(y_train, y_pred_train)\n",
    "print(f\"f1 on train set: {f1}\")"
   ]
  },
  {
   "cell_type": "code",
   "execution_count": 32,
   "id": "cd823a06-c921-4dda-8412-14f6c5361b43",
   "metadata": {},
   "outputs": [
    {
     "name": "stdout",
     "output_type": "stream",
     "text": [
      "f1 on train set: 0.7053708017906012\n"
     ]
    }
   ],
   "source": [
    "# Evaluating the model\n",
    "f1 = f1_score(y_train, y_pred_train,average='weighted')\n",
    "print(f\"f1 on train set: {f1}\")"
   ]
  },
  {
   "cell_type": "code",
   "execution_count": 33,
   "id": "9dd5ea95-c488-4827-9823-dc2bd0cef586",
   "metadata": {},
   "outputs": [
    {
     "data": {
      "text/plain": [
       "0.5271213994827005"
      ]
     },
     "execution_count": 33,
     "metadata": {},
     "output_type": "execute_result"
    }
   ],
   "source": [
    "matthews_corrcoef(y_train, y_pred_train)"
   ]
  },
  {
   "cell_type": "markdown",
   "id": "776356e3-cf38-4cb2-bfd2-556925d284fb",
   "metadata": {},
   "source": [
    "### TEST"
   ]
  },
  {
   "cell_type": "code",
   "execution_count": 34,
   "id": "4fbeb101-b6a8-4a08-ab4e-023558c08bec",
   "metadata": {},
   "outputs": [
    {
     "name": "stdout",
     "output_type": "stream",
     "text": [
      "Confusion Matrix:\n",
      "[[ 77  72]\n",
      " [  2 144]]\n"
     ]
    }
   ],
   "source": [
    "# Confusion Matrix\n",
    "conf_matrix = confusion_matrix(y_test, y_pred_test)\n",
    "print(\"Confusion Matrix:\")\n",
    "print(conf_matrix)"
   ]
  },
  {
   "cell_type": "code",
   "execution_count": 35,
   "id": "3c1c5f09-b50b-4f6c-866c-f483e65c9247",
   "metadata": {},
   "outputs": [
    {
     "name": "stdout",
     "output_type": "stream",
     "text": [
      "Accuracy on test set: 0.7491525423728813\n"
     ]
    }
   ],
   "source": [
    "# Evaluating the model\n",
    "accuracy = accuracy_score(y_test, y_pred_test)\n",
    "print(f\"Accuracy on test set: {accuracy}\")"
   ]
  },
  {
   "cell_type": "code",
   "execution_count": 36,
   "id": "08c1c857-c136-459a-8205-fa4ad5a86af0",
   "metadata": {},
   "outputs": [
    {
     "name": "stdout",
     "output_type": "stream",
     "text": [
      "f1 on test set: 0.7955801104972375\n"
     ]
    }
   ],
   "source": [
    "# Evaluating the model\n",
    "f1 = f1_score(y_test, y_pred_test)\n",
    "print(f\"f1 on test set: {f1}\")"
   ]
  },
  {
   "cell_type": "code",
   "execution_count": 37,
   "id": "fdec9f1f-95a1-46f0-9071-10c76400a863",
   "metadata": {},
   "outputs": [
    {
     "name": "stdout",
     "output_type": "stream",
     "text": [
      "f1 on test set: 0.734898464439965\n"
     ]
    }
   ],
   "source": [
    "# Evaluating the model\n",
    "f1 = f1_score(y_test, y_pred_test,average='weighted')\n",
    "print(f\"f1 on test set: {f1}\")"
   ]
  },
  {
   "cell_type": "code",
   "execution_count": 38,
   "id": "d2e25bae-0008-476f-a91f-c532bb0cd3f0",
   "metadata": {},
   "outputs": [
    {
     "data": {
      "text/plain": [
       "0.5680232352086584"
      ]
     },
     "execution_count": 38,
     "metadata": {},
     "output_type": "execute_result"
    }
   ],
   "source": [
    "matthews_corrcoef(y_test, y_pred_test)"
   ]
  },
  {
   "cell_type": "markdown",
   "id": "a0287dd8-7256-4d65-8bd1-a04e2d8e2c0a",
   "metadata": {},
   "source": [
    "### Validation"
   ]
  },
  {
   "cell_type": "code",
   "execution_count": 39,
   "id": "49a03766-1e18-4b99-ab58-2b0281666efa",
   "metadata": {},
   "outputs": [
    {
     "name": "stdout",
     "output_type": "stream",
     "text": [
      "Confusion Matrix:\n",
      "[[ 78  71]\n",
      " [  2 144]]\n"
     ]
    }
   ],
   "source": [
    "# Confusion Matrix\n",
    "conf_matrix = confusion_matrix(y_val, y_pred_val)\n",
    "print(\"Confusion Matrix:\")\n",
    "print(conf_matrix)"
   ]
  },
  {
   "cell_type": "code",
   "execution_count": 40,
   "id": "d618d963-4d3a-45c4-997d-b23199cab350",
   "metadata": {},
   "outputs": [
    {
     "name": "stdout",
     "output_type": "stream",
     "text": [
      "Accuracy on val set: 0.752542372881356\n"
     ]
    }
   ],
   "source": [
    "# Evaluating the model\n",
    "accuracy = accuracy_score(y_val, y_pred_val)\n",
    "print(f\"Accuracy on val set: {accuracy}\")"
   ]
  },
  {
   "cell_type": "code",
   "execution_count": 41,
   "id": "31384afe-32ee-47d2-9ca6-d8bc446df878",
   "metadata": {},
   "outputs": [
    {
     "name": "stdout",
     "output_type": "stream",
     "text": [
      "f1 on val set: 0.7977839335180056\n"
     ]
    }
   ],
   "source": [
    "# Evaluating the model\n",
    "f1 = f1_score(y_val, y_pred_val)\n",
    "print(f\"f1 on val set: {f1}\")"
   ]
  },
  {
   "cell_type": "code",
   "execution_count": 42,
   "id": "48a779d5-4ee2-4235-a9c8-068823b013aa",
   "metadata": {},
   "outputs": [
    {
     "name": "stdout",
     "output_type": "stream",
     "text": [
      "f1 on val set: 0.7389106362703131\n"
     ]
    }
   ],
   "source": [
    "# Evaluating the model\n",
    "f1 = f1_score(y_val, y_pred_val,average='weighted')\n",
    "print(f\"f1 on val set: {f1}\")"
   ]
  },
  {
   "cell_type": "code",
   "execution_count": 43,
   "id": "c76bd822-55d4-4883-8af7-b0d789b0ca34",
   "metadata": {},
   "outputs": [
    {
     "data": {
      "text/plain": [
       "0.5733208823653075"
      ]
     },
     "execution_count": 43,
     "metadata": {},
     "output_type": "execute_result"
    }
   ],
   "source": [
    "matthews_corrcoef(y_val, y_pred_val)"
   ]
  },
  {
   "cell_type": "markdown",
   "id": "fb9e9dcc-7ea4-4a8f-aa5c-615b70f3de77",
   "metadata": {},
   "source": [
    "### Remaining train"
   ]
  },
  {
   "cell_type": "code",
   "execution_count": 44,
   "id": "aecd5f0d-605f-4e92-847a-2d978b083520",
   "metadata": {},
   "outputs": [
    {
     "data": {
      "text/plain": [
       "array([[613, 686],\n",
       "       [  0,   0]])"
      ]
     },
     "execution_count": 44,
     "metadata": {},
     "output_type": "execute_result"
    }
   ],
   "source": [
    "confusion_matrix(y_remaining, y_pred_rem)"
   ]
  },
  {
   "cell_type": "code",
   "execution_count": 45,
   "id": "830ee959-0578-4a50-9b84-43e403f965a2",
   "metadata": {},
   "outputs": [
    {
     "data": {
      "text/plain": [
       "0.4719014626635874"
      ]
     },
     "execution_count": 45,
     "metadata": {},
     "output_type": "execute_result"
    }
   ],
   "source": [
    "accuracy_score(y_remaining, y_pred_rem)"
   ]
  },
  {
   "cell_type": "code",
   "execution_count": 46,
   "id": "501ea3cb-954e-43e9-819b-769a367b8150",
   "metadata": {},
   "outputs": [
    {
     "data": {
      "text/plain": [
       "0.641213389121339"
      ]
     },
     "execution_count": 46,
     "metadata": {},
     "output_type": "execute_result"
    }
   ],
   "source": [
    "f1_score(y_remaining, y_pred_rem,average='weighted')"
   ]
  },
  {
   "cell_type": "code",
   "execution_count": 47,
   "id": "c8ec159c-c03b-4f42-97bd-962f57e475d6",
   "metadata": {},
   "outputs": [
    {
     "data": {
      "text/plain": [
       "0.0"
      ]
     },
     "execution_count": 47,
     "metadata": {},
     "output_type": "execute_result"
    }
   ],
   "source": [
    "f1_score(y_remaining, y_pred_rem)"
   ]
  },
  {
   "cell_type": "code",
   "execution_count": 48,
   "id": "78ffbafa-1177-4f73-ae66-f1e1834e51b3",
   "metadata": {},
   "outputs": [
    {
     "data": {
      "text/plain": [
       "0.0"
      ]
     },
     "execution_count": 48,
     "metadata": {},
     "output_type": "execute_result"
    }
   ],
   "source": [
    "matthews_corrcoef(y_remaining, y_pred_rem)"
   ]
  },
  {
   "cell_type": "code",
   "execution_count": null,
   "id": "dfd1f2c2-d460-4e50-8400-3262863220d5",
   "metadata": {},
   "outputs": [],
   "source": []
  },
  {
   "cell_type": "code",
   "execution_count": 38,
   "id": "8ef59e26-7126-4f59-938d-64d47c563c49",
   "metadata": {},
   "outputs": [],
   "source": [
    "# # Predict probabilities for the positive class\n",
    "# y_prob_test = catboost_model.predict_proba(X_test)[:, 1]"
   ]
  },
  {
   "cell_type": "code",
   "execution_count": 39,
   "id": "9ec16ccc-5058-40f6-8870-38abe256cb44",
   "metadata": {},
   "outputs": [
    {
     "name": "stdout",
     "output_type": "stream",
     "text": [
      "Best Threshold: 0.107\n",
      "Best F1 Score: 0.7776890864658422\n"
     ]
    }
   ],
   "source": [
    "# # Calculate F1 scores for different threshold values\n",
    "# threshold_values = np.arange(0, 1.0, 0.001)\n",
    "# f1_scores = []\n",
    "# for threshold in threshold_values:\n",
    "#     y_pred_threshold = (y_prob_test > threshold).astype(int)\n",
    "#     f1_scores.append(f1_score(y_test, y_pred_threshold))\n",
    "\n",
    "# # Find the threshold value with the highest F1 score\n",
    "# best_threshold = threshold_values[np.argmax(f1_scores)]\n",
    "# best_f1_score = np.max(f1_scores)\n",
    "\n",
    "# print(\"Best Threshold:\", best_threshold)\n",
    "# print(\"Best F1 Score:\", best_f1_score)"
   ]
  },
  {
   "cell_type": "code",
   "execution_count": 466,
   "id": "380dd2b5-464e-4d39-b953-52d8871e7804",
   "metadata": {},
   "outputs": [
    {
     "name": "stderr",
     "output_type": "stream",
     "text": [
      "[I 2024-04-10 14:52:17,763] A new study created in memory with name: no-name-e0e9c395-4134-4344-b2c7-311f9b9c6c0c\n",
      "[I 2024-04-10 14:52:19,095] Trial 0 finished with value: 0.773157441927158 and parameters: {'max_depth': 5, 'colsample_bylevel': 0.9655000144869412, 'random_strength': 7.587945476302646, 'bagging_temperature': 3.0334265725654794}. Best is trial 0 with value: 0.773157441927158.\n",
      "[I 2024-04-10 14:52:20,267] Trial 1 finished with value: 0.773157441927158 and parameters: {'max_depth': 4, 'colsample_bylevel': 0.40919616423534183, 'random_strength': 1.5227525095137953, 'bagging_temperature': 4.344263114297182}. Best is trial 0 with value: 0.773157441927158.\n",
      "[I 2024-04-10 14:52:21,985] Trial 2 finished with value: 0.7728256166161834 and parameters: {'max_depth': 7, 'colsample_bylevel': 0.7956508044572318, 'random_strength': 1.185260448662222, 'bagging_temperature': 4.852558275593772}. Best is trial 0 with value: 0.773157441927158.\n",
      "[I 2024-04-10 14:52:23,630] Trial 3 finished with value: 0.773157441927158 and parameters: {'max_depth': 9, 'colsample_bylevel': 0.44863737747479326, 'random_strength': 2.636424704863906, 'bagging_temperature': 0.9986820982818257}. Best is trial 0 with value: 0.773157441927158.\n",
      "[I 2024-04-10 14:52:24,882] Trial 4 finished with value: 0.773157441927158 and parameters: {'max_depth': 5, 'colsample_bylevel': 0.6673295021425665, 'random_strength': 4.887505167779041, 'bagging_temperature': 1.5270227869704056}. Best is trial 0 with value: 0.773157441927158.\n",
      "[I 2024-04-10 14:52:26,347] Trial 5 finished with value: 0.773157441927158 and parameters: {'max_depth': 7, 'colsample_bylevel': 0.3976457024564293, 'random_strength': 3.629301836816963, 'bagging_temperature': 1.8951730321390896}. Best is trial 0 with value: 0.773157441927158.\n",
      "[I 2024-04-10 14:52:27,788] Trial 6 finished with value: 0.7733792312105565 and parameters: {'max_depth': 6, 'colsample_bylevel': 0.8496231729751094, 'random_strength': 2.7970640394252375, 'bagging_temperature': 2.619748748226697}. Best is trial 6 with value: 0.7733792312105565.\n",
      "[I 2024-04-10 14:52:29,193] Trial 7 finished with value: 0.773157441927158 and parameters: {'max_depth': 7, 'colsample_bylevel': 0.3325152889039984, 'random_strength': 6.467903667112945, 'bagging_temperature': 0.9355682060677285}. Best is trial 6 with value: 0.7733792312105565.\n",
      "[I 2024-04-10 14:52:30,255] Trial 8 finished with value: 0.773157441927158 and parameters: {'max_depth': 3, 'colsample_bylevel': 0.9642198760773333, 'random_strength': 9.690688297671034, 'bagging_temperature': 4.06114700577066}. Best is trial 6 with value: 0.7733792312105565.\n",
      "[I 2024-04-10 14:52:31,508] Trial 9 finished with value: 0.773157441927158 and parameters: {'max_depth': 5, 'colsample_bylevel': 0.3683704798044687, 'random_strength': 7.158097238609412, 'bagging_temperature': 2.2567472193240468}. Best is trial 6 with value: 0.7733792312105565.\n",
      "[I 2024-04-10 14:52:34,325] Trial 10 finished with value: 0.7729049066435084 and parameters: {'max_depth': 10, 'colsample_bylevel': 0.7942935563690107, 'random_strength': 4.318558954489875, 'bagging_temperature': 3.235011146321001}. Best is trial 6 with value: 0.7733792312105565.\n",
      "[I 2024-04-10 14:52:35,614] Trial 11 finished with value: 0.773157441927158 and parameters: {'max_depth': 5, 'colsample_bylevel': 0.9353653566977622, 'random_strength': 8.459506179292722, 'bagging_temperature': 3.0943129058749554}. Best is trial 6 with value: 0.7733792312105565.\n",
      "[I 2024-04-10 14:52:37,082] Trial 12 finished with value: 0.773157441927158 and parameters: {'max_depth': 6, 'colsample_bylevel': 0.8587814722181347, 'random_strength': 6.561501198297789, 'bagging_temperature': 3.0032415353244537}. Best is trial 6 with value: 0.7733792312105565.\n",
      "[I 2024-04-10 14:52:38,145] Trial 13 finished with value: 0.773157441927158 and parameters: {'max_depth': 3, 'colsample_bylevel': 0.6713760051228972, 'random_strength': 8.217638254545285, 'bagging_temperature': 3.797768387885018}. Best is trial 6 with value: 0.7733792312105565.\n",
      "[I 2024-04-10 14:52:39,643] Trial 14 finished with value: 0.773157441927158 and parameters: {'max_depth': 8, 'colsample_bylevel': 0.9984024212048728, 'random_strength': 2.9425243664159697, 'bagging_temperature': 0.32182950393798126}. Best is trial 6 with value: 0.7733792312105565.\n",
      "[I 2024-04-10 14:52:41,027] Trial 15 finished with value: 0.773157441927158 and parameters: {'max_depth': 6, 'colsample_bylevel': 0.5419856216737866, 'random_strength': 5.61714391972837, 'bagging_temperature': 2.5533834990808284}. Best is trial 6 with value: 0.7733792312105565.\n",
      "[I 2024-04-10 14:52:42,195] Trial 16 finished with value: 0.773157441927158 and parameters: {'max_depth': 4, 'colsample_bylevel': 0.8524535751783247, 'random_strength': 9.888521960565548, 'bagging_temperature': 3.5383521212161333}. Best is trial 6 with value: 0.7733792312105565.\n",
      "[I 2024-04-10 14:52:43,809] Trial 17 finished with value: 0.7733792312105565 and parameters: {'max_depth': 8, 'colsample_bylevel': 0.7625990077046007, 'random_strength': 8.199302952715406, 'bagging_temperature': 2.56888602469508}. Best is trial 6 with value: 0.7733792312105565.\n",
      "[I 2024-04-10 14:52:45,452] Trial 18 finished with value: 0.7733792312105565 and parameters: {'max_depth': 8, 'colsample_bylevel': 0.7242348840052308, 'random_strength': 5.502947913469961, 'bagging_temperature': 2.388398119464234}. Best is trial 6 with value: 0.7733792312105565.\n",
      "[I 2024-04-10 14:52:47,445] Trial 19 finished with value: 0.7738043946574752 and parameters: {'max_depth': 9, 'colsample_bylevel': 0.5872678982438706, 'random_strength': 2.249315537973288, 'bagging_temperature': 1.8676359039328798}. Best is trial 19 with value: 0.7738043946574752.\n",
      "[I 2024-04-10 14:52:49,476] Trial 20 finished with value: 0.7738043946574752 and parameters: {'max_depth': 10, 'colsample_bylevel': 0.575553720133409, 'random_strength': 1.9447402345556335, 'bagging_temperature': 1.5417838421702066}. Best is trial 19 with value: 0.7738043946574752.\n",
      "[I 2024-04-10 14:52:51,300] Trial 21 finished with value: 0.7738043946574752 and parameters: {'max_depth': 10, 'colsample_bylevel': 0.5530660698251124, 'random_strength': 1.908587963848776, 'bagging_temperature': 1.5030750193145466}. Best is trial 19 with value: 0.7738043946574752.\n",
      "[I 2024-04-10 14:52:53,278] Trial 22 finished with value: 0.7738043946574752 and parameters: {'max_depth': 10, 'colsample_bylevel': 0.5558259489094572, 'random_strength': 1.9553783697198706, 'bagging_temperature': 1.5587206360533907}. Best is trial 19 with value: 0.7738043946574752.\n",
      "[I 2024-04-10 14:52:54,978] Trial 23 finished with value: 0.7733792312105565 and parameters: {'max_depth': 9, 'colsample_bylevel': 0.5577143762946979, 'random_strength': 2.1646034865415524, 'bagging_temperature': 0.898327979735081}. Best is trial 19 with value: 0.7738043946574752.\n",
      "[I 2024-04-10 14:52:57,058] Trial 24 finished with value: 0.773663737213658 and parameters: {'max_depth': 9, 'colsample_bylevel': 0.4957862420351063, 'random_strength': 1.0326156855911552, 'bagging_temperature': 1.4835500893838698}. Best is trial 19 with value: 0.7738043946574752.\n",
      "[I 2024-04-10 14:52:58,646] Trial 25 finished with value: 0.773157441927158 and parameters: {'max_depth': 10, 'colsample_bylevel': 0.6284610454371007, 'random_strength': 3.5203556201707107, 'bagging_temperature': 0.25757700630111424}. Best is trial 19 with value: 0.7738043946574752.\n",
      "[I 2024-04-10 14:53:00,416] Trial 26 finished with value: 0.7734251686038169 and parameters: {'max_depth': 9, 'colsample_bylevel': 0.6113770129805524, 'random_strength': 4.1194270725340125, 'bagging_temperature': 1.9877991265515125}. Best is trial 19 with value: 0.7738043946574752.\n",
      "[I 2024-04-10 14:53:02,309] Trial 27 finished with value: 0.7738043946574752 and parameters: {'max_depth': 10, 'colsample_bylevel': 0.49483613889686306, 'random_strength': 2.0546218076013214, 'bagging_temperature': 1.2256260364286393}. Best is trial 19 with value: 0.7738043946574752.\n",
      "[I 2024-04-10 14:53:03,867] Trial 28 finished with value: 0.773157441927158 and parameters: {'max_depth': 10, 'colsample_bylevel': 0.58520383308744, 'random_strength': 3.2341623466447933, 'bagging_temperature': 0.5394634927117344}. Best is trial 19 with value: 0.7738043946574752.\n",
      "[I 2024-04-10 14:53:05,938] Trial 29 finished with value: 0.7732524552281917 and parameters: {'max_depth': 9, 'colsample_bylevel': 0.49780217647073705, 'random_strength': 1.7081761666273834, 'bagging_temperature': 2.0391207428236067}. Best is trial 19 with value: 0.7738043946574752.\n",
      "[I 2024-04-10 14:53:07,572] Trial 30 finished with value: 0.7733792312105565 and parameters: {'max_depth': 8, 'colsample_bylevel': 0.7196753995807468, 'random_strength': 2.4483885262288028, 'bagging_temperature': 1.3075843743191438}. Best is trial 19 with value: 0.7738043946574752.\n",
      "[I 2024-04-10 14:53:09,796] Trial 31 finished with value: 0.773663737213658 and parameters: {'max_depth': 10, 'colsample_bylevel': 0.5579667277487029, 'random_strength': 1.7623080129265691, 'bagging_temperature': 1.7170811729933342}. Best is trial 19 with value: 0.7738043946574752.\n",
      "[I 2024-04-10 14:53:11,932] Trial 32 finished with value: 0.773663737213658 and parameters: {'max_depth': 10, 'colsample_bylevel': 0.4453963975072823, 'random_strength': 1.6546623140133119, 'bagging_temperature': 1.7021875584795803}. Best is trial 19 with value: 0.7738043946574752.\n",
      "[I 2024-04-10 14:53:13,841] Trial 33 finished with value: 0.7738043946574752 and parameters: {'max_depth': 9, 'colsample_bylevel': 0.53183744551605, 'random_strength': 1.135190904631183, 'bagging_temperature': 1.107579346252325}. Best is trial 19 with value: 0.7738043946574752.\n",
      "[I 2024-04-10 14:53:15,482] Trial 34 finished with value: 0.7737121538240781 and parameters: {'max_depth': 10, 'colsample_bylevel': 0.6064638109581891, 'random_strength': 2.233059230613133, 'bagging_temperature': 0.6544424207879083}. Best is trial 19 with value: 0.7738043946574752.\n",
      "[I 2024-04-10 14:53:17,080] Trial 35 finished with value: 0.773157441927158 and parameters: {'max_depth': 9, 'colsample_bylevel': 0.46095199230154205, 'random_strength': 4.096950405019491, 'bagging_temperature': 1.5475303405276555}. Best is trial 19 with value: 0.7738043946574752.\n",
      "[I 2024-04-10 14:53:19,038] Trial 36 finished with value: 0.7738043946574752 and parameters: {'max_depth': 10, 'colsample_bylevel': 0.6621017271132374, 'random_strength': 2.7672126752683903, 'bagging_temperature': 1.8314920188284909}. Best is trial 19 with value: 0.7738043946574752.\n",
      "[I 2024-04-10 14:53:21,682] Trial 37 finished with value: 0.7724437998549674 and parameters: {'max_depth': 9, 'colsample_bylevel': 0.6444633855837583, 'random_strength': 4.821990284627481, 'bagging_temperature': 4.948360152107364}. Best is trial 19 with value: 0.7738043946574752.\n",
      "[I 2024-04-10 14:53:23,635] Trial 38 finished with value: 0.773663737213658 and parameters: {'max_depth': 8, 'colsample_bylevel': 0.7060853397053664, 'random_strength': 1.4168529790947533, 'bagging_temperature': 2.1703506024011276}. Best is trial 19 with value: 0.7738043946574752.\n",
      "[I 2024-04-10 14:53:25,410] Trial 39 finished with value: 0.7737582543784094 and parameters: {'max_depth': 10, 'colsample_bylevel': 0.4285550230667182, 'random_strength': 2.479092872735521, 'bagging_temperature': 1.409899011033318}. Best is trial 19 with value: 0.7738043946574752.\n",
      "[I 2024-04-10 14:53:27,005] Trial 40 finished with value: 0.773157441927158 and parameters: {'max_depth': 9, 'colsample_bylevel': 0.5872778906993172, 'random_strength': 3.177674883889231, 'bagging_temperature': 0.8055879765404079}. Best is trial 19 with value: 0.7738043946574752.\n",
      "[I 2024-04-10 14:53:28,812] Trial 41 finished with value: 0.7737582543784094 and parameters: {'max_depth': 10, 'colsample_bylevel': 0.5036090989531368, 'random_strength': 1.9437512022422982, 'bagging_temperature': 1.1722381157311246}. Best is trial 19 with value: 0.7738043946574752.\n",
      "[I 2024-04-10 14:53:30,550] Trial 42 finished with value: 0.7737121538240781 and parameters: {'max_depth': 10, 'colsample_bylevel': 0.3897268228906938, 'random_strength': 2.1140134323430857, 'bagging_temperature': 1.2874580092550116}. Best is trial 19 with value: 0.7738043946574752.\n",
      "[I 2024-04-10 14:53:32,693] Trial 43 finished with value: 0.773663737213658 and parameters: {'max_depth': 10, 'colsample_bylevel': 0.4698468353158653, 'random_strength': 1.388663996086897, 'bagging_temperature': 1.5896366395944053}. Best is trial 19 with value: 0.7738043946574752.\n",
      "[I 2024-04-10 14:53:36,078] Trial 44 finished with value: 0.7721592560302237 and parameters: {'max_depth': 10, 'colsample_bylevel': 0.5197842202632182, 'random_strength': 3.6509829946696772, 'bagging_temperature': 4.633119691930617}. Best is trial 19 with value: 0.7738043946574752.\n",
      "[I 2024-04-10 14:53:37,701] Trial 45 finished with value: 0.773157441927158 and parameters: {'max_depth': 9, 'colsample_bylevel': 0.3097282907253116, 'random_strength': 2.5885827455552373, 'bagging_temperature': 1.0611023339675898}. Best is trial 19 with value: 0.7738043946574752.\n",
      "[I 2024-04-10 14:53:40,372] Trial 46 finished with value: 0.7729049066435084 and parameters: {'max_depth': 10, 'colsample_bylevel': 0.5765131417331442, 'random_strength': 3.1021014797959525, 'bagging_temperature': 2.782460628151329}. Best is trial 19 with value: 0.7738043946574752.\n",
      "[I 2024-04-10 14:53:41,958] Trial 47 finished with value: 0.7737121538240781 and parameters: {'max_depth': 7, 'colsample_bylevel': 0.483567703851027, 'random_strength': 1.8996399510063262, 'bagging_temperature': 2.2213524062619294}. Best is trial 19 with value: 0.7738043946574752.\n",
      "[I 2024-04-10 14:53:43,736] Trial 48 finished with value: 0.7737582543784094 and parameters: {'max_depth': 9, 'colsample_bylevel': 0.6911101604922394, 'random_strength': 3.7283081491637198, 'bagging_temperature': 1.8574190167713738}. Best is trial 19 with value: 0.7738043946574752.\n",
      "[I 2024-04-10 14:53:45,315] Trial 49 finished with value: 0.773157441927158 and parameters: {'max_depth': 10, 'colsample_bylevel': 0.41179755036106336, 'random_strength': 4.9643781891331455, 'bagging_temperature': 1.2744419599657002}. Best is trial 19 with value: 0.7738043946574752.\n",
      "[I 2024-04-10 14:53:46,767] Trial 50 finished with value: 0.773157441927158 and parameters: {'max_depth': 7, 'colsample_bylevel': 0.5291262639426767, 'random_strength': 1.3941574870837554, 'bagging_temperature': 0.5404967050177814}. Best is trial 19 with value: 0.7738043946574752.\n",
      "[I 2024-04-10 14:53:48,687] Trial 51 finished with value: 0.7738043946574752 and parameters: {'max_depth': 9, 'colsample_bylevel': 0.5387983666417283, 'random_strength': 1.0616199124018708, 'bagging_temperature': 1.0981132924403012}. Best is trial 19 with value: 0.7738043946574752.\n",
      "[I 2024-04-10 14:53:50,362] Trial 52 finished with value: 0.7733792312105565 and parameters: {'max_depth': 9, 'colsample_bylevel': 0.6190249366402086, 'random_strength': 2.254497060236366, 'bagging_temperature': 0.775001786849833}. Best is trial 19 with value: 0.7738043946574752.\n",
      "[I 2024-04-10 14:53:52,179] Trial 53 finished with value: 0.773663737213658 and parameters: {'max_depth': 8, 'colsample_bylevel': 0.5650916478530155, 'random_strength': 1.264406329679597, 'bagging_temperature': 1.6835710037811942}. Best is trial 19 with value: 0.7738043946574752.\n",
      "[I 2024-04-10 14:53:53,833] Trial 54 finished with value: 0.7733792312105565 and parameters: {'max_depth': 9, 'colsample_bylevel': 0.5370768069015447, 'random_strength': 2.756986017938118, 'bagging_temperature': 0.9702410317396248}. Best is trial 19 with value: 0.7738043946574752.\n",
      "[I 2024-04-10 14:53:56,334] Trial 55 finished with value: 0.7729049066435084 and parameters: {'max_depth': 10, 'colsample_bylevel': 0.5070169121334348, 'random_strength': 1.6718312332875678, 'bagging_temperature': 2.019683851774012}. Best is trial 19 with value: 0.7738043946574752.\n",
      "[I 2024-04-10 14:53:58,842] Trial 56 finished with value: 0.7729049066435084 and parameters: {'max_depth': 10, 'colsample_bylevel': 0.6391347539145937, 'random_strength': 1.0298909508634304, 'bagging_temperature': 1.4140923736708002}. Best is trial 19 with value: 0.7738043946574752.\n",
      "[I 2024-04-10 14:54:00,691] Trial 57 finished with value: 0.773663737213658 and parameters: {'max_depth': 8, 'colsample_bylevel': 0.6032653924087072, 'random_strength': 2.001919858908346, 'bagging_temperature': 2.3066911988002268}. Best is trial 19 with value: 0.7738043946574752.\n",
      "[I 2024-04-10 14:54:01,907] Trial 58 finished with value: 0.773157441927158 and parameters: {'max_depth': 4, 'colsample_bylevel': 0.4423775954499598, 'random_strength': 2.3996010597519195, 'bagging_temperature': 1.1715940319963072}. Best is trial 19 with value: 0.7738043946574752.\n",
      "[I 2024-04-10 14:54:03,283] Trial 59 finished with value: 0.773157441927158 and parameters: {'max_depth': 6, 'colsample_bylevel': 0.4782733798042521, 'random_strength': 1.5147788691842565, 'bagging_temperature': 0.37408147639023903}. Best is trial 19 with value: 0.7738043946574752.\n",
      "[I 2024-04-10 14:54:05,163] Trial 60 finished with value: 0.7738043946574752 and parameters: {'max_depth': 9, 'colsample_bylevel': 0.5576346472852436, 'random_strength': 6.405237054324974, 'bagging_temperature': 2.749280381693739}. Best is trial 19 with value: 0.7738043946574752.\n",
      "[I 2024-04-10 14:54:07,187] Trial 61 finished with value: 0.7738043946574752 and parameters: {'max_depth': 10, 'colsample_bylevel': 0.6919370076984349, 'random_strength': 2.647926965021445, 'bagging_temperature': 1.8105323728070952}. Best is trial 19 with value: 0.7738043946574752.\n",
      "[I 2024-04-10 14:54:09,191] Trial 62 finished with value: 0.7738043946574752 and parameters: {'max_depth': 10, 'colsample_bylevel': 0.6627985588534555, 'random_strength': 2.7827223856769416, 'bagging_temperature': 1.8577641316215352}. Best is trial 19 with value: 0.7738043946574752.\n",
      "[I 2024-04-10 14:54:10,751] Trial 63 finished with value: 0.773157441927158 and parameters: {'max_depth': 10, 'colsample_bylevel': 0.7509633599719905, 'random_strength': 9.120170440710323, 'bagging_temperature': 1.5730936304700895}. Best is trial 19 with value: 0.7738043946574752.\n",
      "[I 2024-04-10 14:54:12,469] Trial 64 finished with value: 0.7733792312105565 and parameters: {'max_depth': 10, 'colsample_bylevel': 0.5888490482172046, 'random_strength': 3.4086604849818776, 'bagging_temperature': 1.3919229916674831}. Best is trial 19 with value: 0.7738043946574752.\n",
      "[I 2024-04-10 14:54:14,409] Trial 65 finished with value: 0.7738043946574752 and parameters: {'max_depth': 9, 'colsample_bylevel': 0.6543384357865052, 'random_strength': 2.948775613790795, 'bagging_temperature': 2.0624667917054227}. Best is trial 19 with value: 0.7738043946574752.\n",
      "[I 2024-04-10 14:54:17,098] Trial 66 finished with value: 0.7729049066435084 and parameters: {'max_depth': 10, 'colsample_bylevel': 0.5132233699618068, 'random_strength': 1.8826861240479524, 'bagging_temperature': 2.360956446037553}. Best is trial 19 with value: 0.7738043946574752.\n",
      "[I 2024-04-10 14:54:18,769] Trial 67 finished with value: 0.7737121538240781 and parameters: {'max_depth': 9, 'colsample_bylevel': 0.5471078038110767, 'random_strength': 2.2291300482252283, 'bagging_temperature': 0.9431212218531984}. Best is trial 19 with value: 0.7738043946574752.\n",
      "[I 2024-04-10 14:54:20,972] Trial 68 finished with value: 0.773663737213658 and parameters: {'max_depth': 10, 'colsample_bylevel': 0.5972320767081299, 'random_strength': 1.6606441738986106, 'bagging_temperature': 1.7028265585763611}. Best is trial 19 with value: 0.7738043946574752.\n",
      "[I 2024-04-10 14:54:22,834] Trial 69 finished with value: 0.7738043946574752 and parameters: {'max_depth': 9, 'colsample_bylevel': 0.633060009188886, 'random_strength': 1.3701893200373074, 'bagging_temperature': 1.2474392786876025}. Best is trial 19 with value: 0.7738043946574752.\n",
      "[I 2024-04-10 14:54:24,864] Trial 70 finished with value: 0.7738043946574752 and parameters: {'max_depth': 10, 'colsample_bylevel': 0.677966419433557, 'random_strength': 2.0497943423975578, 'bagging_temperature': 1.4959217573160992}. Best is trial 19 with value: 0.7738043946574752.\n",
      "[I 2024-04-10 14:54:26,844] Trial 71 finished with value: 0.7738043946574752 and parameters: {'max_depth': 9, 'colsample_bylevel': 0.5344547014639418, 'random_strength': 1.015675356714871, 'bagging_temperature': 1.118838401686736}. Best is trial 19 with value: 0.7738043946574752.\n",
      "[I 2024-04-10 14:54:28,663] Trial 72 finished with value: 0.7738043946574752 and parameters: {'max_depth': 9, 'colsample_bylevel': 0.5771209442202232, 'random_strength': 1.262097321706293, 'bagging_temperature': 0.7509295454866549}. Best is trial 19 with value: 0.7738043946574752.\n",
      "[I 2024-04-10 14:54:30,496] Trial 73 finished with value: 0.7738043946574752 and parameters: {'max_depth': 10, 'colsample_bylevel': 0.5646304423782617, 'random_strength': 1.6203788717146939, 'bagging_temperature': 1.0116654235491218}. Best is trial 19 with value: 0.7738043946574752.\n",
      "[I 2024-04-10 14:54:32,275] Trial 74 finished with value: 0.7738043946574752 and parameters: {'max_depth': 8, 'colsample_bylevel': 0.49324522919778746, 'random_strength': 1.1505519481829403, 'bagging_temperature': 1.6059103855287797}. Best is trial 19 with value: 0.7738043946574752.\n",
      "[I 2024-04-10 14:54:34,234] Trial 75 finished with value: 0.7738043946574752 and parameters: {'max_depth': 9, 'colsample_bylevel': 0.620589479793159, 'random_strength': 2.4992539686562436, 'bagging_temperature': 1.9439461143219714}. Best is trial 19 with value: 0.7738043946574752.\n",
      "[I 2024-04-10 14:54:36,079] Trial 76 finished with value: 0.7738043946574752 and parameters: {'max_depth': 10, 'colsample_bylevel': 0.46233614452963395, 'random_strength': 1.8932311873626513, 'bagging_temperature': 1.381413031160987}. Best is trial 19 with value: 0.7738043946574752.\n",
      "[I 2024-04-10 14:54:37,661] Trial 77 finished with value: 0.7733792312105565 and parameters: {'max_depth': 10, 'colsample_bylevel': 0.5460479043258408, 'random_strength': 2.268199986578028, 'bagging_temperature': 0.6685624403396188}. Best is trial 19 with value: 0.7738043946574752.\n",
      "[I 2024-04-10 14:54:39,333] Trial 78 finished with value: 0.7733792312105565 and parameters: {'max_depth': 8, 'colsample_bylevel': 0.5147162687002357, 'random_strength': 2.9760220001157607, 'bagging_temperature': 1.7671294040015881}. Best is trial 19 with value: 0.7738043946574752.\n",
      "[I 2024-04-10 14:54:41,135] Trial 79 finished with value: 0.7738043946574752 and parameters: {'max_depth': 9, 'colsample_bylevel': 0.5780100040873497, 'random_strength': 1.4903513941592386, 'bagging_temperature': 1.1357424059042027}. Best is trial 19 with value: 0.7738043946574752.\n",
      "[I 2024-04-10 14:54:42,254] Trial 80 finished with value: 0.773157441927158 and parameters: {'max_depth': 3, 'colsample_bylevel': 0.3620468183479544, 'random_strength': 6.05766154779452, 'bagging_temperature': 2.1396002275058263}. Best is trial 19 with value: 0.7738043946574752.\n",
      "[I 2024-04-10 14:54:44,208] Trial 81 finished with value: 0.7738043946574752 and parameters: {'max_depth': 9, 'colsample_bylevel': 0.550204771239823, 'random_strength': 6.363618787646869, 'bagging_temperature': 2.9241614551542403}. Best is trial 19 with value: 0.7738043946574752.\n",
      "[I 2024-04-10 14:54:46,370] Trial 82 finished with value: 0.773663737213658 and parameters: {'max_depth': 9, 'colsample_bylevel': 0.8813441427562383, 'random_strength': 6.898912912658508, 'bagging_temperature': 3.3641927786016517}. Best is trial 19 with value: 0.7738043946574752.\n",
      "[I 2024-04-10 14:54:48,290] Trial 83 finished with value: 0.7738043946574752 and parameters: {'max_depth': 10, 'colsample_bylevel': 0.5259807656542212, 'random_strength': 5.822789856997948, 'bagging_temperature': 2.7023129866342064}. Best is trial 19 with value: 0.7738043946574752.\n",
      "[I 2024-04-10 14:54:50,623] Trial 84 finished with value: 0.7724437998549674 and parameters: {'max_depth': 9, 'colsample_bylevel': 0.6069892764371232, 'random_strength': 1.7749749491757747, 'bagging_temperature': 2.5133011819501996}. Best is trial 19 with value: 0.7738043946574752.\n",
      "[I 2024-04-10 14:54:52,090] Trial 85 finished with value: 0.773157441927158 and parameters: {'max_depth': 7, 'colsample_bylevel': 0.48636356828748134, 'random_strength': 7.895511327377359, 'bagging_temperature': 0.8878803403017479}. Best is trial 19 with value: 0.7738043946574752.\n",
      "[I 2024-04-10 14:54:53,730] Trial 86 finished with value: 0.7733792312105565 and parameters: {'max_depth': 8, 'colsample_bylevel': 0.5631045934100836, 'random_strength': 2.382309426224876, 'bagging_temperature': 1.51093807683562}. Best is trial 19 with value: 0.7738043946574752.\n",
      "[I 2024-04-10 14:54:56,043] Trial 87 finished with value: 0.773663737213658 and parameters: {'max_depth': 10, 'colsample_bylevel': 0.5259438142813018, 'random_strength': 5.064652283686462, 'bagging_temperature': 3.076549600560349}. Best is trial 19 with value: 0.7738043946574752.\n",
      "[I 2024-04-10 14:54:57,369] Trial 88 finished with value: 0.773157441927158 and parameters: {'max_depth': 5, 'colsample_bylevel': 0.6276055869145795, 'random_strength': 7.06044497627709, 'bagging_temperature': 4.097959124536246}. Best is trial 19 with value: 0.7738043946574752.\n",
      "[I 2024-04-10 14:55:00,476] Trial 89 finished with value: 0.7721592560302237 and parameters: {'max_depth': 10, 'colsample_bylevel': 0.593134287990791, 'random_strength': 1.2390002816048915, 'bagging_temperature': 2.479147484219928}. Best is trial 19 with value: 0.7738043946574752.\n",
      "[I 2024-04-10 14:55:02,016] Trial 90 finished with value: 0.773157441927158 and parameters: {'max_depth': 9, 'colsample_bylevel': 0.431175497091674, 'random_strength': 6.6486908014401935, 'bagging_temperature': 1.2675538843837646}. Best is trial 19 with value: 0.7738043946574752.\n",
      "[I 2024-04-10 14:55:04,081] Trial 91 finished with value: 0.7738043946574752 and parameters: {'max_depth': 10, 'colsample_bylevel': 0.6890580189358796, 'random_strength': 2.66359734792452, 'bagging_temperature': 1.882375609987166}. Best is trial 19 with value: 0.7738043946574752.\n",
      "[I 2024-04-10 14:55:06,060] Trial 92 finished with value: 0.7738043946574752 and parameters: {'max_depth': 10, 'colsample_bylevel': 0.7373890243224752, 'random_strength': 2.6424008454044965, 'bagging_temperature': 1.7414047182118788}. Best is trial 19 with value: 0.7738043946574752.\n",
      "[I 2024-04-10 14:55:07,631] Trial 93 finished with value: 0.773157441927158 and parameters: {'max_depth': 10, 'colsample_bylevel': 0.7095528257389992, 'random_strength': 7.4505551148095215, 'bagging_temperature': 1.607294368154411}. Best is trial 19 with value: 0.7738043946574752.\n",
      "[I 2024-04-10 14:55:10,578] Trial 94 finished with value: 0.7724437998549674 and parameters: {'max_depth': 10, 'colsample_bylevel': 0.5647203537686556, 'random_strength': 2.1340050158790813, 'bagging_temperature': 2.843310507162701}. Best is trial 19 with value: 0.7738043946574752.\n",
      "[I 2024-04-10 14:55:12,275] Trial 95 finished with value: 0.7733792312105565 and parameters: {'max_depth': 9, 'colsample_bylevel': 0.6495679516076764, 'random_strength': 4.590129758786164, 'bagging_temperature': 1.7894804802719115}. Best is trial 19 with value: 0.7738043946574752.\n",
      "[I 2024-04-10 14:55:14,043] Trial 96 finished with value: 0.7737121538240781 and parameters: {'max_depth': 10, 'colsample_bylevel': 0.6717157032079638, 'random_strength': 3.298102088213418, 'bagging_temperature': 1.4184774435896237}. Best is trial 19 with value: 0.7738043946574752.\n",
      "[I 2024-04-10 14:55:16,166] Trial 97 finished with value: 0.7732524552281917 and parameters: {'max_depth': 9, 'colsample_bylevel': 0.5441563261891079, 'random_strength': 1.8343816633726755, 'bagging_temperature': 2.0816756269422414}. Best is trial 19 with value: 0.7738043946574752.\n",
      "[I 2024-04-10 14:55:18,740] Trial 98 finished with value: 0.7727930535455861 and parameters: {'max_depth': 10, 'colsample_bylevel': 0.7903087705040015, 'random_strength': 5.357517373205258, 'bagging_temperature': 3.223855964958403}. Best is trial 19 with value: 0.7738043946574752.\n",
      "[I 2024-04-10 14:55:20,611] Trial 99 finished with value: 0.7738043946574752 and parameters: {'max_depth': 10, 'colsample_bylevel': 0.503200364192506, 'random_strength': 2.0862646237261626, 'bagging_temperature': 1.335698901617242}. Best is trial 19 with value: 0.7738043946574752.\n",
      "[I 2024-04-10 14:55:22,252] Trial 100 finished with value: 0.7737582543784094 and parameters: {'max_depth': 8, 'colsample_bylevel': 0.581033631106283, 'random_strength': 1.5522181254051342, 'bagging_temperature': 1.0751654753766273}. Best is trial 19 with value: 0.7738043946574752.\n",
      "[I 2024-04-10 14:55:24,282] Trial 101 finished with value: 0.7738043946574752 and parameters: {'max_depth': 10, 'colsample_bylevel': 0.6620022494112325, 'random_strength': 2.3987222631623824, 'bagging_temperature': 1.8560838113200644}. Best is trial 19 with value: 0.7738043946574752.\n",
      "[I 2024-04-10 14:55:26,004] Trial 102 finished with value: 0.7733792312105565 and parameters: {'max_depth': 10, 'colsample_bylevel': 0.6878991546652888, 'random_strength': 3.9246213702603194, 'bagging_temperature': 1.4915567534336018}. Best is trial 19 with value: 0.7738043946574752.\n",
      "[I 2024-04-10 14:55:28,229] Trial 103 finished with value: 0.773663737213658 and parameters: {'max_depth': 10, 'colsample_bylevel': 0.6137524418241669, 'random_strength': 2.8053997845307665, 'bagging_temperature': 2.2373430325540076}. Best is trial 19 with value: 0.7738043946574752.\n",
      "[I 2024-04-10 14:55:30,238] Trial 104 finished with value: 0.7738043946574752 and parameters: {'max_depth': 10, 'colsample_bylevel': 0.6433234697179949, 'random_strength': 3.0762986090010704, 'bagging_temperature': 1.9777363531280805}. Best is trial 19 with value: 0.7738043946574752.\n",
      "[I 2024-04-10 14:55:32,044] Trial 105 finished with value: 0.7737121538240781 and parameters: {'max_depth': 9, 'colsample_bylevel': 0.7035175097756994, 'random_strength': 2.916187102017579, 'bagging_temperature': 1.6554962154269377}. Best is trial 19 with value: 0.7738043946574752.\n",
      "[I 2024-04-10 14:55:34,174] Trial 106 finished with value: 0.773663737213658 and parameters: {'max_depth': 10, 'colsample_bylevel': 0.5584385513993528, 'random_strength': 1.1662339730726532, 'bagging_temperature': 1.2167211763883965}. Best is trial 19 with value: 0.7738043946574752.\n",
      "[I 2024-04-10 14:55:36,141] Trial 107 finished with value: 0.7738043946574752 and parameters: {'max_depth': 9, 'colsample_bylevel': 0.5336327797924769, 'random_strength': 2.0139933566334833, 'bagging_temperature': 1.845598540714946}. Best is trial 19 with value: 0.7738043946574752.\n",
      "[I 2024-04-10 14:55:39,003] Trial 108 finished with value: 0.7724437998549674 and parameters: {'max_depth': 10, 'colsample_bylevel': 0.6596881333740734, 'random_strength': 1.7350897031976635, 'bagging_temperature': 2.438275997930828}. Best is trial 19 with value: 0.7738043946574752.\n",
      "[I 2024-04-10 14:55:40,491] Trial 109 finished with value: 0.7733792312105565 and parameters: {'max_depth': 6, 'colsample_bylevel': 0.4749801522593125, 'random_strength': 2.297118934665428, 'bagging_temperature': 2.6376678571917904}. Best is trial 19 with value: 0.7738043946574752.\n",
      "[I 2024-04-10 14:55:42,114] Trial 110 finished with value: 0.7733792312105565 and parameters: {'max_depth': 9, 'colsample_bylevel': 0.7244915455414297, 'random_strength': 2.72992441931036, 'bagging_temperature': 0.8394480181071021}. Best is trial 19 with value: 0.7738043946574752.\n",
      "[I 2024-04-10 14:55:43,979] Trial 111 finished with value: 0.7738043946574752 and parameters: {'max_depth': 9, 'colsample_bylevel': 0.6335927395225416, 'random_strength': 3.4372060495362975, 'bagging_temperature': 2.1389738776183753}. Best is trial 19 with value: 0.7738043946574752.\n",
      "[I 2024-04-10 14:55:45,876] Trial 112 finished with value: 0.7738043946574752 and parameters: {'max_depth': 9, 'colsample_bylevel': 0.6591479207169446, 'random_strength': 2.8553072406084454, 'bagging_temperature': 2.030072425417846}. Best is trial 19 with value: 0.7738043946574752.\n",
      "[I 2024-04-10 14:55:47,838] Trial 113 finished with value: 0.7738043946574752 and parameters: {'max_depth': 10, 'colsample_bylevel': 0.5972034284162454, 'random_strength': 2.5426329196888564, 'bagging_temperature': 1.7819905226893646}. Best is trial 19 with value: 0.7738043946574752.\n",
      "[I 2024-04-10 14:55:49,673] Trial 114 finished with value: 0.7738043946574752 and parameters: {'max_depth': 9, 'colsample_bylevel': 0.5147830324987793, 'random_strength': 3.1176055570501173, 'bagging_temperature': 1.9213959859944376}. Best is trial 19 with value: 0.7738043946574752.\n",
      "[I 2024-04-10 14:55:51,991] Trial 115 finished with value: 0.7732524552281917 and parameters: {'max_depth': 10, 'colsample_bylevel': 0.5726576295073329, 'random_strength': 1.363759723268088, 'bagging_temperature': 1.6390519692660463}. Best is trial 19 with value: 0.7738043946574752.\n",
      "[I 2024-04-10 14:55:53,875] Trial 116 finished with value: 0.7738043946574752 and parameters: {'max_depth': 10, 'colsample_bylevel': 0.6191984064791375, 'random_strength': 2.148151044051872, 'bagging_temperature': 1.4357167432574287}. Best is trial 19 with value: 0.7738043946574752.\n",
      "[I 2024-04-10 14:55:55,673] Trial 117 finished with value: 0.7738043946574752 and parameters: {'max_depth': 9, 'colsample_bylevel': 0.7712620308060855, 'random_strength': 1.9419403649586746, 'bagging_temperature': 1.3466301581211102}. Best is trial 19 with value: 0.7738043946574752.\n",
      "[I 2024-04-10 14:55:57,988] Trial 118 finished with value: 0.7729049066435084 and parameters: {'max_depth': 9, 'colsample_bylevel': 0.6772374809022227, 'random_strength': 1.550865452134593, 'bagging_temperature': 2.3318977467076776}. Best is trial 19 with value: 0.7738043946574752.\n",
      "[I 2024-04-10 14:55:59,842] Trial 119 finished with value: 0.7737582543784094 and parameters: {'max_depth': 10, 'colsample_bylevel': 0.5543762106171718, 'random_strength': 2.640651399540083, 'bagging_temperature': 1.5396120156563369}. Best is trial 19 with value: 0.7738043946574752.\n",
      "[I 2024-04-10 14:56:01,886] Trial 120 finished with value: 0.7738043946574752 and parameters: {'max_depth': 10, 'colsample_bylevel': 0.49496284092759557, 'random_strength': 1.0257794892885446, 'bagging_temperature': 1.0235254234187166}. Best is trial 19 with value: 0.7738043946574752.\n",
      "[I 2024-04-10 14:56:03,723] Trial 121 finished with value: 0.7738043946574752 and parameters: {'max_depth': 9, 'colsample_bylevel': 0.6364149411010013, 'random_strength': 1.3802657206772433, 'bagging_temperature': 1.1910240721570677}. Best is trial 19 with value: 0.7738043946574752.\n",
      "[I 2024-04-10 14:56:05,350] Trial 122 finished with value: 0.7733792312105565 and parameters: {'max_depth': 8, 'colsample_bylevel': 0.5924716869145404, 'random_strength': 1.6866114668367356, 'bagging_temperature': 1.2656776608682845}. Best is trial 19 with value: 0.7738043946574752.\n",
      "[I 2024-04-10 14:56:07,422] Trial 123 finished with value: 0.773663737213658 and parameters: {'max_depth': 9, 'colsample_bylevel': 0.6065745774846495, 'random_strength': 1.3265120172171576, 'bagging_temperature': 1.647837492108248}. Best is trial 19 with value: 0.7738043946574752.\n",
      "[I 2024-04-10 14:56:09,133] Trial 124 finished with value: 0.7737582543784094 and parameters: {'max_depth': 8, 'colsample_bylevel': 0.6453721497162452, 'random_strength': 2.4588965024719713, 'bagging_temperature': 1.7609351075787947}. Best is trial 19 with value: 0.7738043946574752.\n",
      "[I 2024-04-10 14:56:10,859] Trial 125 finished with value: 0.7733792312105565 and parameters: {'max_depth': 9, 'colsample_bylevel': 0.5403552658846057, 'random_strength': 1.8636018248440678, 'bagging_temperature': 1.0973586119387664}. Best is trial 19 with value: 0.7738043946574752.\n",
      "[I 2024-04-10 14:56:13,299] Trial 126 finished with value: 0.7729049066435084 and parameters: {'max_depth': 10, 'colsample_bylevel': 0.698823971360204, 'random_strength': 1.185819179355935, 'bagging_temperature': 1.5162274137339409}. Best is trial 19 with value: 0.7738043946574752.\n",
      "[I 2024-04-10 14:56:15,349] Trial 127 finished with value: 0.773663737213658 and parameters: {'max_depth': 9, 'colsample_bylevel': 0.6285457759214608, 'random_strength': 2.2589265504234763, 'bagging_temperature': 2.073966972767386}. Best is trial 19 with value: 0.7738043946574752.\n",
      "[I 2024-04-10 14:56:17,350] Trial 128 finished with value: 0.7738043946574752 and parameters: {'max_depth': 10, 'colsample_bylevel': 0.5765522858697167, 'random_strength': 1.5208306762729116, 'bagging_temperature': 1.307976479962191}. Best is trial 19 with value: 0.7738043946574752.\n",
      "[I 2024-04-10 14:56:19,065] Trial 129 finished with value: 0.7737121538240781 and parameters: {'max_depth': 9, 'colsample_bylevel': 0.654030075510363, 'random_strength': 1.7592905561983914, 'bagging_temperature': 0.9527507428038046}. Best is trial 19 with value: 0.7738043946574752.\n",
      "[I 2024-04-10 14:56:21,304] Trial 130 finished with value: 0.773663737213658 and parameters: {'max_depth': 10, 'colsample_bylevel': 0.5204140676081683, 'random_strength': 2.2052940327304666, 'bagging_temperature': 1.9386997250206846}. Best is trial 19 with value: 0.7738043946574752.\n",
      "[I 2024-04-10 14:56:23,286] Trial 131 finished with value: 0.7738043946574752 and parameters: {'max_depth': 10, 'colsample_bylevel': 0.6753384945110641, 'random_strength': 2.099125812080941, 'bagging_temperature': 1.5052110243339074}. Best is trial 19 with value: 0.7738043946574752.\n",
      "[I 2024-04-10 14:56:25,219] Trial 132 finished with value: 0.7738043946574752 and parameters: {'max_depth': 10, 'colsample_bylevel': 0.6874611134769897, 'random_strength': 2.001473106794829, 'bagging_temperature': 1.4311673996601157}. Best is trial 19 with value: 0.7738043946574752.\n",
      "[I 2024-04-10 14:56:27,075] Trial 133 finished with value: 0.7738043946574752 and parameters: {'max_depth': 10, 'colsample_bylevel': 0.6229152965650104, 'random_strength': 2.897992751092664, 'bagging_temperature': 1.7041934377124268}. Best is trial 19 with value: 0.7738043946574752.\n",
      "[I 2024-04-10 14:56:28,854] Trial 134 finished with value: 0.7737582543784094 and parameters: {'max_depth': 10, 'colsample_bylevel': 0.7150639066813993, 'random_strength': 2.503994421391036, 'bagging_temperature': 1.1799615868489652}. Best is trial 19 with value: 0.7738043946574752.\n",
      "[I 2024-04-10 14:56:30,447] Trial 135 finished with value: 0.773157441927158 and parameters: {'max_depth': 9, 'colsample_bylevel': 0.7436912966712833, 'random_strength': 6.302554021745811, 'bagging_temperature': 1.5774051950128274}. Best is trial 19 with value: 0.7738043946574752.\n",
      "[I 2024-04-10 14:56:32,950] Trial 136 finished with value: 0.7729049066435084 and parameters: {'max_depth': 10, 'colsample_bylevel': 0.6771330181867626, 'random_strength': 1.4570381935994337, 'bagging_temperature': 1.8689563692972522}. Best is trial 19 with value: 0.7738043946574752.\n",
      "[I 2024-04-10 14:56:34,836] Trial 137 finished with value: 0.7737582543784094 and parameters: {'max_depth': 10, 'colsample_bylevel': 0.5847876413933135, 'random_strength': 2.333533367400868, 'bagging_temperature': 1.3501961166073653}. Best is trial 19 with value: 0.7738043946574752.\n",
      "[I 2024-04-10 14:56:36,634] Trial 138 finished with value: 0.7733792312105565 and parameters: {'max_depth': 9, 'colsample_bylevel': 0.5459994782171455, 'random_strength': 1.9166942634933448, 'bagging_temperature': 1.2353250939900873}. Best is trial 19 with value: 0.7738043946574752.\n",
      "[I 2024-04-10 14:56:38,694] Trial 139 finished with value: 0.7738043946574752 and parameters: {'max_depth': 10, 'colsample_bylevel': 0.5661902379132445, 'random_strength': 1.6388791993180887, 'bagging_temperature': 1.4497471503501078}. Best is trial 19 with value: 0.7738043946574752.\n",
      "[I 2024-04-10 14:56:40,920] Trial 140 finished with value: 0.7732524552281917 and parameters: {'max_depth': 9, 'colsample_bylevel': 0.666018165209807, 'random_strength': 1.1601954248027437, 'bagging_temperature': 1.7584999615793269}. Best is trial 19 with value: 0.7738043946574752.\n",
      "[I 2024-04-10 14:56:42,778] Trial 141 finished with value: 0.7738043946574752 and parameters: {'max_depth': 9, 'colsample_bylevel': 0.5296703207345622, 'random_strength': 1.1879737695484673, 'bagging_temperature': 1.069912983037084}. Best is trial 19 with value: 0.7738043946574752.\n",
      "[I 2024-04-10 14:56:44,570] Trial 142 finished with value: 0.7738043946574752 and parameters: {'max_depth': 9, 'colsample_bylevel': 0.5070610685189574, 'random_strength': 1.0289404269507278, 'bagging_temperature': 0.8808383336067066}. Best is trial 19 with value: 0.7738043946574752.\n",
      "[I 2024-04-10 14:56:46,214] Trial 143 finished with value: 0.7734251686038169 and parameters: {'max_depth': 8, 'colsample_bylevel': 0.5306548279152191, 'random_strength': 1.3699278890028035, 'bagging_temperature': 1.1484911556289041}. Best is trial 19 with value: 0.7738043946574752.\n",
      "[I 2024-04-10 14:56:48,424] Trial 144 finished with value: 0.7729049066435084 and parameters: {'max_depth': 9, 'colsample_bylevel': 0.7275765320400954, 'random_strength': 1.0001422332357235, 'bagging_temperature': 1.5807944380910746}. Best is trial 19 with value: 0.7738043946574752.\n",
      "[I 2024-04-10 14:56:49,746] Trial 145 finished with value: 0.773157441927158 and parameters: {'max_depth': 5, 'colsample_bylevel': 0.6070466912271626, 'random_strength': 1.7719918836793016, 'bagging_temperature': 2.1923235306403317}. Best is trial 19 with value: 0.7738043946574752.\n",
      "[I 2024-04-10 14:56:51,308] Trial 146 finished with value: 0.773157441927158 and parameters: {'max_depth': 10, 'colsample_bylevel': 0.5571879581921806, 'random_strength': 3.2623358359363372, 'bagging_temperature': 0.673666584371718}. Best is trial 19 with value: 0.7738043946574752.\n",
      "[I 2024-04-10 14:56:53,063] Trial 147 finished with value: 0.7737121538240781 and parameters: {'max_depth': 10, 'colsample_bylevel': 0.5432941193243201, 'random_strength': 2.660502958160807, 'bagging_temperature': 1.3437610020942294}. Best is trial 19 with value: 0.7738043946574752.\n",
      "[I 2024-04-10 14:56:54,632] Trial 148 finished with value: 0.773157441927158 and parameters: {'max_depth': 9, 'colsample_bylevel': 0.4576944806066764, 'random_strength': 8.822246373838922, 'bagging_temperature': 1.6772720466004376}. Best is trial 19 with value: 0.7738043946574752.\n",
      "[I 2024-04-10 14:56:56,986] Trial 149 finished with value: 0.7729049066435084 and parameters: {'max_depth': 10, 'colsample_bylevel': 0.6469661066999678, 'random_strength': 1.6035095858017163, 'bagging_temperature': 1.8126300195699598}. Best is trial 19 with value: 0.7738043946574752.\n",
      "[I 2024-04-10 14:56:59,330] Trial 150 finished with value: 0.7727930535455861 and parameters: {'max_depth': 9, 'colsample_bylevel': 0.492608182725369, 'random_strength': 2.100865759229927, 'bagging_temperature': 2.774661853568934}. Best is trial 19 with value: 0.7738043946574752.\n",
      "[I 2024-04-10 14:57:01,011] Trial 151 finished with value: 0.7737582543784094 and parameters: {'max_depth': 9, 'colsample_bylevel': 0.568020681674668, 'random_strength': 1.3322289297784073, 'bagging_temperature': 0.604485467066066}. Best is trial 19 with value: 0.7738043946574752.\n",
      "[I 2024-04-10 14:57:03,577] Trial 152 finished with value: 0.7724437998549674 and parameters: {'max_depth': 9, 'colsample_bylevel': 0.5830170856201233, 'random_strength': 1.21076085608524, 'bagging_temperature': 2.9542784357939182}. Best is trial 19 with value: 0.7738043946574752.\n",
      "[I 2024-04-10 14:57:05,189] Trial 153 finished with value: 0.7733792312105565 and parameters: {'max_depth': 9, 'colsample_bylevel': 0.5172996799009663, 'random_strength': 1.461228475106411, 'bagging_temperature': 0.14064419965605812}. Best is trial 19 with value: 0.7738043946574752.\n",
      "[I 2024-04-10 14:57:06,865] Trial 154 finished with value: 0.7734251686038169 and parameters: {'max_depth': 9, 'colsample_bylevel': 0.595299908865634, 'random_strength': 1.9679228339397132, 'bagging_temperature': 0.747497981663203}. Best is trial 19 with value: 0.7738043946574752.\n",
      "[I 2024-04-10 14:57:08,549] Trial 155 finished with value: 0.7733792312105565 and parameters: {'max_depth': 10, 'colsample_bylevel': 0.550964613581969, 'random_strength': 2.4508810478646446, 'bagging_temperature': 1.0049085744869386}. Best is trial 19 with value: 0.7738043946574752.\n",
      "[I 2024-04-10 14:57:10,064] Trial 156 finished with value: 0.773157441927158 and parameters: {'max_depth': 10, 'colsample_bylevel': 0.5714805114096753, 'random_strength': 7.46237930196529, 'bagging_temperature': 1.2821619056092393}. Best is trial 19 with value: 0.7738043946574752.\n",
      "[I 2024-04-10 14:57:11,603] Trial 157 finished with value: 0.773157441927158 and parameters: {'max_depth': 9, 'colsample_bylevel': 0.6890002486146268, 'random_strength': 5.789654185783059, 'bagging_temperature': 0.7582751888876085}. Best is trial 19 with value: 0.7738043946574752.\n",
      "[I 2024-04-10 14:57:13,297] Trial 158 finished with value: 0.7738043946574752 and parameters: {'max_depth': 8, 'colsample_bylevel': 0.6157891073748754, 'random_strength': 3.022770513002659, 'bagging_temperature': 2.0211891211580144}. Best is trial 19 with value: 0.7738043946574752.\n",
      "[I 2024-04-10 14:57:15,403] Trial 159 finished with value: 0.773663737213658 and parameters: {'max_depth': 10, 'colsample_bylevel': 0.5344144084481048, 'random_strength': 1.0092511521876093, 'bagging_temperature': 1.125807534958013}. Best is trial 19 with value: 0.7738043946574752.\n",
      "[I 2024-04-10 14:57:16,589] Trial 160 finished with value: 0.773157441927158 and parameters: {'max_depth': 4, 'colsample_bylevel': 0.6358003466390391, 'random_strength': 1.795353087614693, 'bagging_temperature': 1.4546421822530065}. Best is trial 19 with value: 0.7738043946574752.\n",
      "[I 2024-04-10 14:57:18,280] Trial 161 finished with value: 0.7737121538240781 and parameters: {'max_depth': 10, 'colsample_bylevel': 0.5576540359288239, 'random_strength': 1.5700285459875127, 'bagging_temperature': 0.4105073069888167}. Best is trial 19 with value: 0.7738043946574752.\n",
      "[I 2024-04-10 14:57:20,322] Trial 162 finished with value: 0.7738043946574752 and parameters: {'max_depth': 10, 'colsample_bylevel': 0.5749267699670512, 'random_strength': 1.3184983764594955, 'bagging_temperature': 1.1021091481590735}. Best is trial 19 with value: 0.7738043946574752.\n",
      "[I 2024-04-10 14:57:22,111] Trial 163 finished with value: 0.7737582543784094 and parameters: {'max_depth': 10, 'colsample_bylevel': 0.6669084206646998, 'random_strength': 1.6068619752314484, 'bagging_temperature': 0.9462976898743043}. Best is trial 19 with value: 0.7738043946574752.\n",
      "[I 2024-04-10 14:57:23,635] Trial 164 finished with value: 0.773157441927158 and parameters: {'max_depth': 10, 'colsample_bylevel': 0.5988197742092133, 'random_strength': 6.73594236779689, 'bagging_temperature': 0.98860873156117}. Best is trial 19 with value: 0.7738043946574752.\n",
      "[I 2024-04-10 14:57:25,287] Trial 165 finished with value: 0.7733792312105565 and parameters: {'max_depth': 10, 'colsample_bylevel': 0.7026115127414493, 'random_strength': 2.2743396521651014, 'bagging_temperature': 0.8337814267056335}. Best is trial 19 with value: 0.7738043946574752.\n",
      "[I 2024-04-10 14:57:27,174] Trial 166 finished with value: 0.7738043946574752 and parameters: {'max_depth': 9, 'colsample_bylevel': 0.5390976795139333, 'random_strength': 2.071844069546601, 'bagging_temperature': 1.5893862216921848}. Best is trial 19 with value: 0.7738043946574752.\n",
      "[I 2024-04-10 14:57:29,062] Trial 167 finished with value: 0.7738043946574752 and parameters: {'max_depth': 9, 'colsample_bylevel': 0.5091234453718739, 'random_strength': 1.228884782245499, 'bagging_temperature': 1.2044779655486844}. Best is trial 19 with value: 0.7738043946574752.\n",
      "[I 2024-04-10 14:57:31,385] Trial 168 finished with value: 0.773663737213658 and parameters: {'max_depth': 10, 'colsample_bylevel': 0.5589574843820578, 'random_strength': 1.8328100766959543, 'bagging_temperature': 1.934210212145888}. Best is trial 19 with value: 0.7738043946574752.\n",
      "[I 2024-04-10 14:57:33,213] Trial 169 finished with value: 0.7737582543784094 and parameters: {'max_depth': 10, 'colsample_bylevel': 0.5255344828053448, 'random_strength': 2.700775958517877, 'bagging_temperature': 1.409009482503918}. Best is trial 19 with value: 0.7738043946574752.\n",
      "[I 2024-04-10 14:57:34,909] Trial 170 finished with value: 0.7737121538240781 and parameters: {'max_depth': 9, 'colsample_bylevel': 0.9291123565815064, 'random_strength': 1.4714990498656055, 'bagging_temperature': 0.48566015477859886}. Best is trial 19 with value: 0.7738043946574752.\n",
      "[I 2024-04-10 14:57:36,531] Trial 171 finished with value: 0.7733792312105565 and parameters: {'max_depth': 7, 'colsample_bylevel': 0.47395632710069036, 'random_strength': 1.205760172604036, 'bagging_temperature': 1.5657629439603746}. Best is trial 19 with value: 0.7738043946574752.\n",
      "[I 2024-04-10 14:57:38,407] Trial 172 finished with value: 0.7732062942110581 and parameters: {'max_depth': 8, 'colsample_bylevel': 0.5846072056519179, 'random_strength': 1.1008217236403872, 'bagging_temperature': 1.6763329504398223}. Best is trial 19 with value: 0.7738043946574752.\n",
      "[I 2024-04-10 14:57:40,400] Trial 173 finished with value: 0.7738043946574752 and parameters: {'max_depth': 9, 'colsample_bylevel': 0.4841275962045399, 'random_strength': 1.7110760420115227, 'bagging_temperature': 1.7851254635834357}. Best is trial 19 with value: 0.7738043946574752.\n",
      "[I 2024-04-10 14:57:42,493] Trial 174 finished with value: 0.773663737213658 and parameters: {'max_depth': 10, 'colsample_bylevel': 0.5478689720873994, 'random_strength': 1.3716524159929278, 'bagging_temperature': 1.2671805360841564}. Best is trial 19 with value: 0.7738043946574752.\n",
      "[I 2024-04-10 14:57:44,186] Trial 175 finished with value: 0.7737582543784094 and parameters: {'max_depth': 8, 'colsample_bylevel': 0.5200178814631808, 'random_strength': 1.9747562132965113, 'bagging_temperature': 1.4792220123995565}. Best is trial 19 with value: 0.7738043946574752.\n",
      "[I 2024-04-10 14:57:45,939] Trial 176 finished with value: 0.7737582543784094 and parameters: {'max_depth': 9, 'colsample_bylevel': 0.4962528044072786, 'random_strength': 1.551661091215685, 'bagging_temperature': 1.038873447725948}. Best is trial 19 with value: 0.7738043946574752.\n",
      "[I 2024-04-10 14:57:47,937] Trial 177 finished with value: 0.7738043946574752 and parameters: {'max_depth': 10, 'colsample_bylevel': 0.685570134698515, 'random_strength': 2.3628535463762566, 'bagging_temperature': 1.6509342263078892}. Best is trial 19 with value: 0.7738043946574752.\n",
      "[I 2024-04-10 14:57:50,230] Trial 178 finished with value: 0.7729049066435084 and parameters: {'max_depth': 9, 'colsample_bylevel': 0.6550095764868392, 'random_strength': 1.019199079165128, 'bagging_temperature': 1.8960438926283614}. Best is trial 19 with value: 0.7738043946574752.\n",
      "[I 2024-04-10 14:57:51,798] Trial 179 finished with value: 0.773157441927158 and parameters: {'max_depth': 10, 'colsample_bylevel': 0.57368298405484, 'random_strength': 5.288826129301272, 'bagging_temperature': 1.3631792782222516}. Best is trial 19 with value: 0.7738043946574752.\n",
      "[I 2024-04-10 14:57:53,383] Trial 180 finished with value: 0.773157441927158 and parameters: {'max_depth': 9, 'colsample_bylevel': 0.5626006684794547, 'random_strength': 4.430352269419389, 'bagging_temperature': 1.17769979100723}. Best is trial 19 with value: 0.7738043946574752.\n",
      "[I 2024-04-10 14:57:55,328] Trial 181 finished with value: 0.7738043946574752 and parameters: {'max_depth': 9, 'colsample_bylevel': 0.6178884301495182, 'random_strength': 2.8196296999532824, 'bagging_temperature': 1.948913065032202}. Best is trial 19 with value: 0.7738043946574752.\n",
      "[I 2024-04-10 14:57:57,294] Trial 182 finished with value: 0.773663737213658 and parameters: {'max_depth': 9, 'colsample_bylevel': 0.6362962742255205, 'random_strength': 2.6050236766018333, 'bagging_temperature': 2.101633812169937}. Best is trial 19 with value: 0.7738043946574752.\n",
      "[I 2024-04-10 14:57:59,164] Trial 183 finished with value: 0.7738043946574752 and parameters: {'max_depth': 9, 'colsample_bylevel': 0.6017103252526098, 'random_strength': 2.517137753457022, 'bagging_temperature': 1.7284998684663069}. Best is trial 19 with value: 0.7738043946574752.\n",
      "[I 2024-04-10 14:58:00,721] Trial 184 finished with value: 0.7733792312105565 and parameters: {'max_depth': 7, 'colsample_bylevel': 0.6530450114499557, 'random_strength': 2.1056964166397925, 'bagging_temperature': 1.8400412287971382}. Best is trial 19 with value: 0.7738043946574752.\n",
      "[I 2024-04-10 14:58:02,988] Trial 185 finished with value: 0.7732524552281917 and parameters: {'max_depth': 10, 'colsample_bylevel': 0.6223000223481951, 'random_strength': 2.226655132592208, 'bagging_temperature': 2.0365611375992465}. Best is trial 19 with value: 0.7738043946574752.\n",
      "[I 2024-04-10 14:58:05,518] Trial 186 finished with value: 0.7724437998549674 and parameters: {'max_depth': 9, 'colsample_bylevel': 0.5901955683636492, 'random_strength': 1.225388080969294, 'bagging_temperature': 2.6896191553742113}. Best is trial 19 with value: 0.7738043946574752.\n",
      "[I 2024-04-10 14:58:07,493] Trial 187 finished with value: 0.7738043946574752 and parameters: {'max_depth': 10, 'colsample_bylevel': 0.67716617857282, 'random_strength': 1.8920260736000856, 'bagging_temperature': 1.5456106305347372}. Best is trial 19 with value: 0.7738043946574752.\n",
      "[I 2024-04-10 14:58:09,191] Trial 188 finished with value: 0.7733792312105565 and parameters: {'max_depth': 9, 'colsample_bylevel': 0.5379360364091387, 'random_strength': 1.6627931064231107, 'bagging_temperature': 0.9265180794817942}. Best is trial 19 with value: 0.7738043946574752.\n",
      "[I 2024-04-10 14:58:10,586] Trial 189 finished with value: 0.773157441927158 and parameters: {'max_depth': 6, 'colsample_bylevel': 0.5090078033784925, 'random_strength': 2.4024538314644657, 'bagging_temperature': 1.815491743553709}. Best is trial 19 with value: 0.7738043946574752.\n",
      "[I 2024-04-10 14:58:12,324] Trial 190 finished with value: 0.7733792312105565 and parameters: {'max_depth': 10, 'colsample_bylevel': 0.6657465465182612, 'random_strength': 2.8606127295370123, 'bagging_temperature': 1.2977744017763093}. Best is trial 19 with value: 0.7738043946574752.\n",
      "[I 2024-04-10 14:58:14,197] Trial 191 finished with value: 0.7738043946574752 and parameters: {'max_depth': 10, 'colsample_bylevel': 0.4862401014206421, 'random_strength': 1.833124649159932, 'bagging_temperature': 1.3776669035497764}. Best is trial 19 with value: 0.7738043946574752.\n",
      "[I 2024-04-10 14:58:16,359] Trial 192 finished with value: 0.773663737213658 and parameters: {'max_depth': 10, 'colsample_bylevel': 0.4357089862823604, 'random_strength': 1.4353936097966464, 'bagging_temperature': 1.6114090503368839}. Best is trial 19 with value: 0.7738043946574752.\n",
      "[I 2024-04-10 14:58:18,141] Trial 193 finished with value: 0.7737582543784094 and parameters: {'max_depth': 10, 'colsample_bylevel': 0.45272253700499643, 'random_strength': 2.1657945281252142, 'bagging_temperature': 1.0654865138711842}. Best is trial 19 with value: 0.7738043946574752.\n",
      "[I 2024-04-10 14:58:20,157] Trial 194 finished with value: 0.7738043946574752 and parameters: {'max_depth': 10, 'colsample_bylevel': 0.46458890010569986, 'random_strength': 1.9754642511369993, 'bagging_temperature': 1.4587370423154136}. Best is trial 19 with value: 0.7738043946574752.\n",
      "[I 2024-04-10 14:58:22,032] Trial 195 finished with value: 0.7738043946574752 and parameters: {'max_depth': 9, 'colsample_bylevel': 0.5540349945506419, 'random_strength': 1.3511701598228214, 'bagging_temperature': 1.188818837679948}. Best is trial 19 with value: 0.7738043946574752.\n",
      "[I 2024-04-10 14:58:25,043] Trial 196 finished with value: 0.7724437998549674 and parameters: {'max_depth': 10, 'colsample_bylevel': 0.5760569863754579, 'random_strength': 1.6913591720871053, 'bagging_temperature': 2.5858667795830104}. Best is trial 19 with value: 0.7738043946574752.\n",
      "[I 2024-04-10 14:58:27,850] Trial 197 finished with value: 0.7724437998549674 and parameters: {'max_depth': 10, 'colsample_bylevel': 0.5321649601237954, 'random_strength': 2.561850904135589, 'bagging_temperature': 2.871906998912965}. Best is trial 19 with value: 0.7738043946574752.\n",
      "[I 2024-04-10 14:58:29,769] Trial 198 finished with value: 0.7738043946574752 and parameters: {'max_depth': 9, 'colsample_bylevel': 0.6342835277297545, 'random_strength': 2.3152614792450588, 'bagging_temperature': 1.7383779626369873}. Best is trial 19 with value: 0.7738043946574752.\n",
      "[I 2024-04-10 14:58:32,493] Trial 199 finished with value: 0.7729049066435084 and parameters: {'max_depth': 10, 'colsample_bylevel': 0.5664581698643879, 'random_strength': 1.2124252849597492, 'bagging_temperature': 1.9658579477676446}. Best is trial 19 with value: 0.7738043946574752.\n"
     ]
    },
    {
     "name": "stdout",
     "output_type": "stream",
     "text": [
      "Best hyperparameters: {'max_depth': 9, 'colsample_bylevel': 0.5872678982438706, 'random_strength': 2.249315537973288, 'bagging_temperature': 1.8676359039328798}\n",
      "Best F1: 0.7738043946574752\n"
     ]
    }
   ],
   "source": [
    "def objective(trial):\n",
    "    params = {\n",
    "        \"iterations\":500,\n",
    "        #\"logging_level\":'silent',\n",
    "        #\"verbose\":0,\n",
    "        \"learning_rate\": 0.01,\n",
    "        \"max_depth\": trial.suggest_int(\"max_depth\", 3,10),\n",
    "        # \"min_data_in_leaf\": trial.suggest_int(\"min_data_in_leaf\", 20,100),\n",
    "        \"random_state\": 42,\n",
    "        # \"subsample\": trial.suggest_uniform('subsample', 0.5, 1.0),\n",
    "        \"colsample_bylevel\": trial.suggest_float('colsample_bylevel', 0.3, 1.0),\n",
    "        \"random_strength\": trial.suggest_float(\"random_strength\", 1, 10.0),\n",
    "        \"bagging_temperature\": trial.suggest_float(\"bagging_temperature\", 0.1, 5.0),\n",
    "        \"bootstrap_type\": 'Bayesian',\n",
    "        \"eval_metric\":'Logloss',\n",
    "        \"auto_class_weights\":'Balanced'\n",
    "    }\n",
    "\n",
    "    model = catboost.CatBoostClassifier(**params, silent=True)\n",
    "    model.fit(X_train, y_train)\n",
    "    # model.fit(pool)\n",
    "    y_pred_test = model.predict(X_test)\n",
    "    f1 = f1_score(y_test, y_pred_test)\n",
    "    # y_pred_val = model.predict(X_val)\n",
    "    # f1 = f1_score(y_val, y_pred_val)\n",
    "    return f1\n",
    "\n",
    "sampler = TPESampler(seed=42)\n",
    "study = optuna.create_study(direction='maximize',sampler=sampler)\n",
    "study.optimize(objective, n_trials=200)\n",
    "print('Best hyperparameters:', study.best_params)\n",
    "print('Best F1:', study.best_value)"
   ]
  },
  {
   "cell_type": "code",
   "execution_count": null,
   "id": "8789f356-7d76-4a3c-89db-d16b8e5ae43a",
   "metadata": {},
   "outputs": [],
   "source": []
  }
 ],
 "metadata": {
  "kernelspec": {
   "display_name": "Python 3 (ipykernel)",
   "language": "python",
   "name": "python3"
  },
  "language_info": {
   "codemirror_mode": {
    "name": "ipython",
    "version": 3
   },
   "file_extension": ".py",
   "mimetype": "text/x-python",
   "name": "python",
   "nbconvert_exporter": "python",
   "pygments_lexer": "ipython3",
   "version": "3.10.12"
  }
 },
 "nbformat": 4,
 "nbformat_minor": 5
}
