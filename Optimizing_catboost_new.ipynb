{
 "cells": [
  {
   "cell_type": "code",
   "execution_count": 1,
   "metadata": {
    "colab": {
     "base_uri": "https://localhost:8080/"
    },
    "id": "Cca5m0Eza6Hw",
    "outputId": "c49efa95-96d4-4b4c-d884-46ca85459a07"
   },
   "outputs": [],
   "source": [
    "# !pip install catboost\n",
    "# !pip install optuna"
   ]
  },
  {
   "cell_type": "code",
   "execution_count": 2,
   "metadata": {
    "id": "r6_Q3KO7aeFA"
   },
   "outputs": [],
   "source": [
    "import pandas as pd\n",
    "import matplotlib.pyplot as plt\n",
    "import numpy as np\n",
    "import re\n",
    "import catboost\n",
    "from sklearn.model_selection import train_test_split\n",
    "from catboost import CatBoostClassifier,Pool\n",
    "from sklearn.metrics import f1_score,confusion_matrix,accuracy_score\n",
    "import optuna\n",
    "from optuna.samplers import TPESampler\n",
    "%matplotlib inline"
   ]
  },
  {
   "cell_type": "code",
   "execution_count": 3,
   "metadata": {
    "colab": {
     "base_uri": "https://localhost:8080/"
    },
    "id": "NbWxe4SQdjqc",
    "outputId": "438c5fd8-4718-414e-f0a6-1c20187609fe"
   },
   "outputs": [
    {
     "data": {
      "text/plain": [
       "(335113, 210)"
      ]
     },
     "execution_count": 3,
     "metadata": {},
     "output_type": "execute_result"
    }
   ],
   "source": [
    "df= pd.read_csv('Top_20_df.csv')\n",
    "df.shape"
   ]
  },
  {
   "cell_type": "code",
   "execution_count": 4,
   "metadata": {},
   "outputs": [],
   "source": [
    "df= df.sample(50000)"
   ]
  },
  {
   "cell_type": "code",
   "execution_count": 5,
   "metadata": {
    "id": "dkaZZXA5m0-6"
   },
   "outputs": [],
   "source": [
    "# Splitting the dataset into X and y\n",
    "X = df.drop('target', axis=1)  # Features: all columns except 'target'\n",
    "y = df['target']"
   ]
  },
  {
   "cell_type": "code",
   "execution_count": 6,
   "metadata": {},
   "outputs": [],
   "source": [
    "for column in X.columns:\n",
    "    # Convert to string, including NaNs which become 'nan'\n",
    "    X[column] = X[column].astype(str)\n",
    "\n",
    "    # Optional: Replace 'nan' with a placeholder such as 'missing'\n",
    "    X[column] = X[column].replace('nan', 'missing')"
   ]
  },
  {
   "cell_type": "code",
   "execution_count": 7,
   "metadata": {
    "id": "xhQNu-qBm1Bh"
   },
   "outputs": [],
   "source": [
    "# Splitting dataset into training and testing set\n",
    "X_train, X_test, y_train, y_test = train_test_split(X, y, test_size=0.2, random_state=42)"
   ]
  },
  {
   "cell_type": "code",
   "execution_count": 8,
   "metadata": {},
   "outputs": [],
   "source": [
    "categorical_features = ['ContactMonth', 'ContactHour', 'os_112', 'os_110', 's_247_71',\n",
    "       's_239_8', 's_247_75', 's_239_7', 's_248_74', 's_247_77', 's_239_9',\n",
    "       's_241_68', 's_241_69', 's_247_78', 's_239_10', 's_247_73']"
   ]
  },
  {
   "cell_type": "code",
   "execution_count": 9,
   "metadata": {},
   "outputs": [],
   "source": [
    "pool = Pool(X_train, y_train, cat_features=categorical_features, feature_names=list(X.columns))"
   ]
  },
  {
   "cell_type": "markdown",
   "metadata": {
    "id": "YQ6gbNm5bhxi"
   },
   "source": [
    "**HYPERPARAMETER_TUNING**"
   ]
  },
  {
   "cell_type": "code",
   "execution_count": 10,
   "metadata": {
    "colab": {
     "base_uri": "https://localhost:8080/"
    },
    "id": "5SmIIdUhaoz9",
    "outputId": "015062c7-a140-4950-b849-5684beae368d"
   },
   "outputs": [
    {
     "name": "stderr",
     "output_type": "stream",
     "text": [
      "[I 2024-04-09 05:04:18,687] A new study created in memory with name: no-name-074a41bf-d6c6-45e9-9393-9a5b3f450bfb\n",
      "[I 2024-04-09 05:04:25,091] Trial 0 finished with value: 0.1814003370614371 and parameters: {'max_depth': 5, 'colsample_bylevel': 0.9655000144869412, 'random_strength': 7.587945476302646, 'bagging_temperature': 3.073560724145776}. Best is trial 0 with value: 0.1814003370614371.\n",
      "[I 2024-04-09 05:04:30,746] Trial 1 finished with value: 0.18120496703970565 and parameters: {'max_depth': 4, 'colsample_bylevel': 0.40919616423534183, 'random_strength': 1.5227525095137953, 'bagging_temperature': 4.3576454997196885}. Best is trial 0 with value: 0.1814003370614371.\n",
      "[I 2024-04-09 05:04:40,154] Trial 2 finished with value: 0.18339489320700178 and parameters: {'max_depth': 7, 'colsample_bylevel': 0.7956508044572318, 'random_strength': 1.185260448662222, 'bagging_temperature': 4.855567290377572}. Best is trial 2 with value: 0.18339489320700178.\n",
      "[I 2024-04-09 05:04:50,669] Trial 3 finished with value: 0.1814003370614371 and parameters: {'max_depth': 9, 'colsample_bylevel': 0.44863737747479326, 'random_strength': 2.636424704863906, 'bagging_temperature': 1.0803416472964824}. Best is trial 2 with value: 0.18339489320700178.\n",
      "[I 2024-04-09 05:04:56,966] Trial 4 finished with value: 0.1814003370614371 and parameters: {'max_depth': 5, 'colsample_bylevel': 0.6673295021425665, 'random_strength': 4.887505167779041, 'bagging_temperature': 1.597899872950601}. Best is trial 2 with value: 0.18339489320700178.\n",
      "[I 2024-04-09 05:05:04,798] Trial 5 finished with value: 0.1814003370614371 and parameters: {'max_depth': 7, 'colsample_bylevel': 0.3976457024564293, 'random_strength': 3.629301836816963, 'bagging_temperature': 1.95853684780972}. Best is trial 2 with value: 0.18339489320700178.\n",
      "[I 2024-04-09 05:05:12,027] Trial 6 finished with value: 0.1811494252873563 and parameters: {'max_depth': 6, 'colsample_bylevel': 0.8496231729751094, 'random_strength': 2.7970640394252375, 'bagging_temperature': 2.668325304385336}. Best is trial 2 with value: 0.18339489320700178.\n",
      "[I 2024-04-09 05:05:19,306] Trial 7 finished with value: 0.1814003370614371 and parameters: {'max_depth': 7, 'colsample_bylevel': 0.3325152889039984, 'random_strength': 6.467903667112945, 'bagging_temperature': 1.0185157936989992}. Best is trial 2 with value: 0.18339489320700178.\n",
      "[I 2024-04-09 05:05:24,505] Trial 8 finished with value: 0.1814003370614371 and parameters: {'max_depth': 3, 'colsample_bylevel': 0.9642198760773333, 'random_strength': 9.690688297671034, 'bagging_temperature': 4.080307270959013}. Best is trial 2 with value: 0.18339489320700178.\n",
      "[I 2024-04-09 05:05:30,851] Trial 9 finished with value: 0.1814003370614371 and parameters: {'max_depth': 5, 'colsample_bylevel': 0.3683704798044687, 'random_strength': 7.158097238609412, 'bagging_temperature': 2.3127319699500863}. Best is trial 2 with value: 0.18339489320700178.\n",
      "[I 2024-04-09 05:06:00,234] Trial 10 finished with value: 0.18340917045852292 and parameters: {'max_depth': 10, 'colsample_bylevel': 0.6911956287802271, 'random_strength': 1.0679258738466366, 'bagging_temperature': 4.784439744721293}. Best is trial 10 with value: 0.18340917045852292.\n",
      "[I 2024-04-09 05:06:29,660] Trial 11 finished with value: 0.1829289579333217 and parameters: {'max_depth': 10, 'colsample_bylevel': 0.703218998004135, 'random_strength': 1.1328597564633878, 'bagging_temperature': 4.935757434863935}. Best is trial 10 with value: 0.18340917045852292.\n",
      "[I 2024-04-09 05:06:45,083] Trial 12 finished with value: 0.18172999191592562 and parameters: {'max_depth': 9, 'colsample_bylevel': 0.801562612566032, 'random_strength': 4.072228883522929, 'bagging_temperature': 3.5463483120324533}. Best is trial 10 with value: 0.18340917045852292.\n",
      "[I 2024-04-09 05:06:57,298] Trial 13 finished with value: 0.18336673346693386 and parameters: {'max_depth': 8, 'colsample_bylevel': 0.5626203129562162, 'random_strength': 1.1496775485957973, 'bagging_temperature': 4.834159396250918}. Best is trial 10 with value: 0.18340917045852292.\n",
      "[I 2024-04-09 05:07:26,633] Trial 14 finished with value: 0.18222761129395462 and parameters: {'max_depth': 10, 'colsample_bylevel': 0.7952924825772281, 'random_strength': 2.4580173578000926, 'bagging_temperature': 3.7536536762989385}. Best is trial 10 with value: 0.18340917045852292.\n",
      "[I 2024-04-09 05:07:38,717] Trial 15 finished with value: 0.18252176717188004 and parameters: {'max_depth': 8, 'colsample_bylevel': 0.5419856216737866, 'random_strength': 5.218346969990579, 'bagging_temperature': 4.462116172980337}. Best is trial 10 with value: 0.18340917045852292.\n",
      "[I 2024-04-09 05:07:50,703] Trial 16 finished with value: 0.1819650937297996 and parameters: {'max_depth': 8, 'colsample_bylevel': 0.728547420945826, 'random_strength': 2.1911539210728455, 'bagging_temperature': 3.2950137728336517}. Best is trial 10 with value: 0.18340917045852292.\n",
      "[I 2024-04-09 05:08:00,702] Trial 17 finished with value: 0.1814003370614371 and parameters: {'max_depth': 9, 'colsample_bylevel': 0.5940648518559457, 'random_strength': 3.6920918330765424, 'bagging_temperature': 0.3791759455859962}. Best is trial 10 with value: 0.18340917045852292.\n",
      "[I 2024-04-09 05:08:08,129] Trial 18 finished with value: 0.1814003370614371 and parameters: {'max_depth': 6, 'colsample_bylevel': 0.8701698921191149, 'random_strength': 9.226803533168262, 'bagging_temperature': 3.9547331812945052}. Best is trial 10 with value: 0.18340917045852292.\n",
      "[I 2024-04-09 05:08:37,835] Trial 19 finished with value: 0.1835277729409716 and parameters: {'max_depth': 10, 'colsample_bylevel': 0.753924992178457, 'random_strength': 1.7381814533879734, 'bagging_temperature': 4.980881548933823}. Best is trial 19 with value: 0.1835277729409716.\n",
      "[I 2024-04-09 05:09:05,667] Trial 20 finished with value: 0.18332184700206755 and parameters: {'max_depth': 10, 'colsample_bylevel': 0.4928528218704994, 'random_strength': 4.277746845220503, 'bagging_temperature': 4.407578870192958}. Best is trial 19 with value: 0.1835277729409716.\n",
      "[I 2024-04-09 05:09:22,228] Trial 21 finished with value: 0.18327919302444862 and parameters: {'max_depth': 9, 'colsample_bylevel': 0.7613200233662817, 'random_strength': 1.5627706489721365, 'bagging_temperature': 4.852495289833845}. Best is trial 19 with value: 0.1835277729409716.\n",
      "[I 2024-04-09 05:09:51,578] Trial 22 finished with value: 0.18336812804453723 and parameters: {'max_depth': 10, 'colsample_bylevel': 0.6438908602862294, 'random_strength': 1.9756977611299955, 'bagging_temperature': 4.474812891019392}. Best is trial 19 with value: 0.1835277729409716.\n",
      "[I 2024-04-09 05:10:03,854] Trial 23 finished with value: 0.18392709196354598 and parameters: {'max_depth': 8, 'colsample_bylevel': 0.8881125747771268, 'random_strength': 3.094192632005244, 'bagging_temperature': 4.85156890138041}. Best is trial 23 with value: 0.18392709196354598.\n",
      "[I 2024-04-09 05:10:20,150] Trial 24 finished with value: 0.18308423913043478 and parameters: {'max_depth': 9, 'colsample_bylevel': 0.8852509703438315, 'random_strength': 3.2955136229250632, 'bagging_temperature': 4.099677655908044}. Best is trial 23 with value: 0.18392709196354598.\n",
      "[I 2024-04-09 05:10:31,351] Trial 25 finished with value: 0.18261140542224993 and parameters: {'max_depth': 8, 'colsample_bylevel': 0.9065769904878758, 'random_strength': 3.206439680520115, 'bagging_temperature': 3.078276053214194}. Best is trial 23 with value: 0.18392709196354598.\n",
      "[I 2024-04-09 05:11:00,729] Trial 26 finished with value: 0.184 and parameters: {'max_depth': 10, 'colsample_bylevel': 0.6428942498704581, 'random_strength': 1.9927441618164687, 'bagging_temperature': 4.585929450059818}. Best is trial 26 with value: 0.184.\n",
      "[I 2024-04-09 05:11:15,264] Trial 27 finished with value: 0.18272684679056692 and parameters: {'max_depth': 9, 'colsample_bylevel': 0.6170191589180547, 'random_strength': 6.163205207550328, 'bagging_temperature': 3.6227691281660643}. Best is trial 26 with value: 0.184.\n",
      "[I 2024-04-09 05:11:44,687] Trial 28 finished with value: 0.1830155979202773 and parameters: {'max_depth': 10, 'colsample_bylevel': 0.7418916920437039, 'random_strength': 4.534294793243444, 'bagging_temperature': 4.528259023652136}. Best is trial 26 with value: 0.184.\n",
      "[I 2024-04-09 05:11:55,987] Trial 29 finished with value: 0.18139390168014935 and parameters: {'max_depth': 8, 'colsample_bylevel': 0.9882413697485162, 'random_strength': 8.368811542739161, 'bagging_temperature': 4.117243381814284}. Best is trial 26 with value: 0.184.\n",
      "[I 2024-04-09 05:12:11,804] Trial 30 finished with value: 0.1817285573447256 and parameters: {'max_depth': 9, 'colsample_bylevel': 0.9411872746857333, 'random_strength': 1.9318710349737842, 'bagging_temperature': 2.959341152096614}. Best is trial 26 with value: 0.184.\n",
      "[I 2024-04-09 05:12:41,111] Trial 31 finished with value: 0.18353434714210803 and parameters: {'max_depth': 10, 'colsample_bylevel': 0.6727250370088712, 'random_strength': 3.0100339956109115, 'bagging_temperature': 4.962681591735521}. Best is trial 26 with value: 0.184.\n",
      "[I 2024-04-09 05:13:11,497] Trial 32 finished with value: 0.18339100346020762 and parameters: {'max_depth': 10, 'colsample_bylevel': 0.8361750229220658, 'random_strength': 2.8481286066628866, 'bagging_temperature': 4.989275220463159}. Best is trial 26 with value: 0.184.\n",
      "[I 2024-04-09 05:13:40,813] Trial 33 finished with value: 0.18309119551899178 and parameters: {'max_depth': 10, 'colsample_bylevel': 0.6252983095810034, 'random_strength': 1.7622840470317784, 'bagging_temperature': 4.618275965743514}. Best is trial 26 with value: 0.184.\n",
      "[I 2024-04-09 05:13:57,403] Trial 34 finished with value: 0.18243587565823 and parameters: {'max_depth': 9, 'colsample_bylevel': 0.517127699604205, 'random_strength': 2.35663248516836, 'bagging_temperature': 4.158140193816511}. Best is trial 26 with value: 0.184.\n",
      "[I 2024-04-09 05:14:03,176] Trial 35 finished with value: 0.1812327506899724 and parameters: {'max_depth': 4, 'colsample_bylevel': 0.6754152265685165, 'random_strength': 3.206703535163808, 'bagging_temperature': 4.64649285071043}. Best is trial 26 with value: 0.184.\n",
      "[I 2024-04-09 05:14:15,284] Trial 36 finished with value: 0.18259162303664922 and parameters: {'max_depth': 8, 'colsample_bylevel': 0.7709682652258513, 'random_strength': 3.9200291337037143, 'bagging_temperature': 4.300945995751002}. Best is trial 26 with value: 0.184.\n",
      "[I 2024-04-09 05:14:24,316] Trial 37 finished with value: 0.18117393313819133 and parameters: {'max_depth': 7, 'colsample_bylevel': 0.5836222859201703, 'random_strength': 5.737196803731155, 'bagging_temperature': 3.8684926577271126}. Best is trial 26 with value: 0.184.\n",
      "[I 2024-04-09 05:14:41,383] Trial 38 finished with value: 0.1834360027378508 and parameters: {'max_depth': 9, 'colsample_bylevel': 0.7122640087900424, 'random_strength': 2.89064214759739, 'bagging_temperature': 4.987855176708671}. Best is trial 26 with value: 0.184.\n",
      "[I 2024-04-09 05:14:49,386] Trial 39 finished with value: 0.18238600874453467 and parameters: {'max_depth': 6, 'colsample_bylevel': 0.8069976199289647, 'random_strength': 1.6590835493996787, 'bagging_temperature': 4.6675885018751435}. Best is trial 26 with value: 0.184.\n",
      "[I 2024-04-09 05:15:06,950] Trial 40 finished with value: 0.1814003370614371 and parameters: {'max_depth': 10, 'colsample_bylevel': 0.9160183643058817, 'random_strength': 4.6988682890372715, 'bagging_temperature': 1.4703036794281714}. Best is trial 26 with value: 0.184.\n",
      "[I 2024-04-09 05:15:23,788] Trial 41 finished with value: 0.18389628113271922 and parameters: {'max_depth': 9, 'colsample_bylevel': 0.7040205142754143, 'random_strength': 2.9163661069284386, 'bagging_temperature': 4.99718477162089}. Best is trial 26 with value: 0.184.\n",
      "[I 2024-04-09 05:15:40,723] Trial 42 finished with value: 0.1828668363019508 and parameters: {'max_depth': 9, 'colsample_bylevel': 0.656506017099262, 'random_strength': 2.5972470172687063, 'bagging_temperature': 4.299805884392171}. Best is trial 26 with value: 0.184.\n",
      "[I 2024-04-09 05:16:10,343] Trial 43 finished with value: 0.18353105373342637 and parameters: {'max_depth': 10, 'colsample_bylevel': 0.6747766043400192, 'random_strength': 3.397088192911654, 'bagging_temperature': 4.723443346671252}. Best is trial 26 with value: 0.184.\n",
      "[I 2024-04-09 05:16:39,964] Trial 44 finished with value: 0.1834319526627219 and parameters: {'max_depth': 10, 'colsample_bylevel': 0.6751416683495958, 'random_strength': 3.5697586977566322, 'bagging_temperature': 4.64060704515652}. Best is trial 26 with value: 0.184.\n",
      "[I 2024-04-09 05:16:51,831] Trial 45 finished with value: 0.1814003370614371 and parameters: {'max_depth': 9, 'colsample_bylevel': 0.459119626807457, 'random_strength': 5.057966996056662, 'bagging_temperature': 2.322095081037178}. Best is trial 26 with value: 0.184.\n",
      "[I 2024-04-09 05:17:21,349] Trial 46 finished with value: 0.1827358162199791 and parameters: {'max_depth': 10, 'colsample_bylevel': 0.6045719173323447, 'random_strength': 3.065923648860114, 'bagging_temperature': 4.331018456618806}. Best is trial 26 with value: 0.184.\n",
      "[I 2024-04-09 05:17:33,872] Trial 47 finished with value: 0.18303425774877652 and parameters: {'max_depth': 8, 'colsample_bylevel': 0.6441458499298606, 'random_strength': 3.5901721141263874, 'bagging_temperature': 4.651119774268502}. Best is trial 26 with value: 0.184.\n",
      "[I 2024-04-09 05:17:43,484] Trial 48 finished with value: 0.1824270451283687 and parameters: {'max_depth': 7, 'colsample_bylevel': 0.7066972694995958, 'random_strength': 2.4162231478264053, 'bagging_temperature': 4.834373463115303}. Best is trial 26 with value: 0.184.\n",
      "[I 2024-04-09 05:18:11,574] Trial 49 finished with value: 0.18287671232876712 and parameters: {'max_depth': 10, 'colsample_bylevel': 0.5573623439632485, 'random_strength': 2.1908221159829804, 'bagging_temperature': 3.383876789582643}. Best is trial 26 with value: 0.184.\n",
      "[I 2024-04-09 05:18:27,855] Trial 50 finished with value: 0.18314290445437986 and parameters: {'max_depth': 9, 'colsample_bylevel': 0.7266454291452465, 'random_strength': 4.23829870391026, 'bagging_temperature': 3.887494379073309}. Best is trial 26 with value: 0.184.\n",
      "[I 2024-04-09 05:18:58,568] Trial 51 finished with value: 0.18327805899807995 and parameters: {'max_depth': 10, 'colsample_bylevel': 0.8261004821097583, 'random_strength': 1.321278063870433, 'bagging_temperature': 4.983985086218163}. Best is trial 26 with value: 0.184.\n",
      "[I 2024-04-09 05:19:29,041] Trial 52 finished with value: 0.1839000693962526 and parameters: {'max_depth': 10, 'colsample_bylevel': 0.7595021333226878, 'random_strength': 2.6942927560565586, 'bagging_temperature': 4.767850252740663}. Best is trial 26 with value: 0.184.\n",
      "[I 2024-04-09 05:19:59,443] Trial 53 finished with value: 0.1834607366226546 and parameters: {'max_depth': 10, 'colsample_bylevel': 0.6889554727138478, 'random_strength': 2.6554664545399067, 'bagging_temperature': 4.672922452695283}. Best is trial 26 with value: 0.184.\n",
      "[I 2024-04-09 05:20:16,421] Trial 54 finished with value: 0.18327099625977558 and parameters: {'max_depth': 9, 'colsample_bylevel': 0.7809321836076792, 'random_strength': 3.4593046927812257, 'bagging_temperature': 4.748259651177271}. Best is trial 26 with value: 0.184.\n",
      "[I 2024-04-09 05:20:45,562] Trial 55 finished with value: 0.18276400208080457 and parameters: {'max_depth': 10, 'colsample_bylevel': 0.6364502892290492, 'random_strength': 3.86788097709998, 'bagging_temperature': 4.2347570709482}. Best is trial 26 with value: 0.184.\n",
      "[I 2024-04-09 05:21:02,470] Trial 56 finished with value: 0.18309137489325364 and parameters: {'max_depth': 9, 'colsample_bylevel': 0.5848043514947167, 'random_strength': 2.098015535880918, 'bagging_temperature': 4.517071984445486}. Best is trial 26 with value: 0.184.\n",
      "[I 2024-04-09 05:21:07,636] Trial 57 finished with value: 0.1814003370614371 and parameters: {'max_depth': 3, 'colsample_bylevel': 0.861584023137761, 'random_strength': 2.814626531474753, 'bagging_temperature': 4.8101591541937925}. Best is trial 26 with value: 0.184.\n",
      "[I 2024-04-09 05:21:24,599] Trial 58 finished with value: 0.1814003370614371 and parameters: {'max_depth': 10, 'colsample_bylevel': 0.7311847329833437, 'random_strength': 3.0317292665606597, 'bagging_temperature': 0.43131012062084384}. Best is trial 26 with value: 0.184.\n",
      "[I 2024-04-09 05:21:41,609] Trial 59 finished with value: 0.18359308100702176 and parameters: {'max_depth': 9, 'colsample_bylevel': 0.6669207343160601, 'random_strength': 1.2764995523022247, 'bagging_temperature': 4.428450187468538}. Best is trial 26 with value: 0.184.\n",
      "[I 2024-04-09 05:21:54,085] Trial 60 finished with value: 0.18352310783657066 and parameters: {'max_depth': 8, 'colsample_bylevel': 0.7523371019211152, 'random_strength': 1.3725177843388718, 'bagging_temperature': 4.408416950342156}. Best is trial 26 with value: 0.184.\n",
      "[I 2024-04-09 05:22:11,097] Trial 61 finished with value: 0.18393162393162393 and parameters: {'max_depth': 9, 'colsample_bylevel': 0.6727235216787448, 'random_strength': 1.0643544370497153, 'bagging_temperature': 4.8216483319459895}. Best is trial 26 with value: 0.184.\n",
      "[I 2024-04-09 05:22:27,980] Trial 62 finished with value: 0.183461210571185 and parameters: {'max_depth': 9, 'colsample_bylevel': 0.6996878234707867, 'random_strength': 1.1242139747847464, 'bagging_temperature': 4.494597695742267}. Best is trial 26 with value: 0.184.\n",
      "[I 2024-04-09 05:22:40,299] Trial 63 finished with value: 0.1834162520729685 and parameters: {'max_depth': 8, 'colsample_bylevel': 0.6594664316688422, 'random_strength': 1.4400183350948819, 'bagging_temperature': 4.8458428923757815}. Best is trial 26 with value: 0.184.\n",
      "[I 2024-04-09 05:22:56,861] Trial 64 finished with value: 0.18383356070941337 and parameters: {'max_depth': 9, 'colsample_bylevel': 0.6148969792747254, 'random_strength': 1.765973224110096, 'bagging_temperature': 3.980268449803105}. Best is trial 26 with value: 0.184.\n",
      "[I 2024-04-09 05:23:09,149] Trial 65 finished with value: 0.1834104428288169 and parameters: {'max_depth': 8, 'colsample_bylevel': 0.6126327328435422, 'random_strength': 1.7918346201150295, 'bagging_temperature': 4.167781998263709}. Best is trial 26 with value: 0.184.\n",
      "[I 2024-04-09 05:23:18,525] Trial 66 finished with value: 0.18150031786395424 and parameters: {'max_depth': 7, 'colsample_bylevel': 0.6258349937595722, 'random_strength': 2.137767490656994, 'bagging_temperature': 3.948874928162232}. Best is trial 26 with value: 0.184.\n",
      "[I 2024-04-09 05:23:35,786] Trial 67 finished with value: 0.18347079616226225 and parameters: {'max_depth': 9, 'colsample_bylevel': 0.30186757289409694, 'random_strength': 1.0526106791329846, 'bagging_temperature': 3.6759667246902956}. Best is trial 26 with value: 0.184.\n",
      "[I 2024-04-09 05:23:52,381] Trial 68 finished with value: 0.18327919302444862 and parameters: {'max_depth': 9, 'colsample_bylevel': 0.5400077420330853, 'random_strength': 1.5109871843079554, 'bagging_temperature': 4.504428544212361}. Best is trial 26 with value: 0.184.\n",
      "[I 2024-04-09 05:24:04,708] Trial 69 finished with value: 0.18388531883341572 and parameters: {'max_depth': 8, 'colsample_bylevel': 0.7849804346598633, 'random_strength': 1.910413089187833, 'bagging_temperature': 4.36324691496516}. Best is trial 26 with value: 0.184.\n",
      "[I 2024-04-09 05:24:16,872] Trial 70 finished with value: 0.18220547271833523 and parameters: {'max_depth': 8, 'colsample_bylevel': 0.7926415387202433, 'random_strength': 2.5077396839267405, 'bagging_temperature': 4.023561243390483}. Best is trial 26 with value: 0.184.\n",
      "[I 2024-04-09 05:24:33,610] Trial 71 finished with value: 0.1842643051771117 and parameters: {'max_depth': 9, 'colsample_bylevel': 0.7179614526903358, 'random_strength': 1.955567016446361, 'bagging_temperature': 4.368709928510957}. Best is trial 71 with value: 0.1842643051771117.\n",
      "[I 2024-04-09 05:24:45,907] Trial 72 finished with value: 0.18507963118189438 and parameters: {'max_depth': 8, 'colsample_bylevel': 0.8265696390811549, 'random_strength': 1.9174377139397225, 'bagging_temperature': 4.813032687802946}. Best is trial 72 with value: 0.18507963118189438.\n",
      "[I 2024-04-09 05:24:53,772] Trial 73 finished with value: 0.18292873923257635 and parameters: {'max_depth': 6, 'colsample_bylevel': 0.8244066797863369, 'random_strength': 2.035397666690538, 'bagging_temperature': 4.830800555667728}. Best is trial 72 with value: 0.18507963118189438.\n",
      "[I 2024-04-09 05:25:05,842] Trial 74 finished with value: 0.1826302729528536 and parameters: {'max_depth': 8, 'colsample_bylevel': 0.8948500001662545, 'random_strength': 2.2784514343706936, 'bagging_temperature': 4.284005714103491}. Best is trial 72 with value: 0.18507963118189438.\n",
      "[I 2024-04-09 05:25:15,254] Trial 75 finished with value: 0.18327716257422563 and parameters: {'max_depth': 7, 'colsample_bylevel': 0.8132898336582197, 'random_strength': 1.952050409888118, 'bagging_temperature': 4.757533562138569}. Best is trial 72 with value: 0.18507963118189438.\n",
      "[I 2024-04-09 05:25:27,522] Trial 76 finished with value: 0.18278497839813893 and parameters: {'max_depth': 8, 'colsample_bylevel': 0.7727741177855684, 'random_strength': 2.6306592726019753, 'bagging_temperature': 4.595409256063454}. Best is trial 72 with value: 0.18507963118189438.\n",
      "[I 2024-04-09 05:25:36,974] Trial 77 finished with value: 0.18311195445920303 and parameters: {'max_depth': 7, 'colsample_bylevel': 0.8464394962104783, 'random_strength': 7.905925933837667, 'bagging_temperature': 4.9983775042474266}. Best is trial 72 with value: 0.18507963118189438.\n",
      "[I 2024-04-09 05:25:46,219] Trial 78 finished with value: 0.1814003370614371 and parameters: {'max_depth': 8, 'colsample_bylevel': 0.9289277520428658, 'random_strength': 6.954261998709006, 'bagging_temperature': 1.7935510529456131}. Best is trial 72 with value: 0.18507963118189438.\n",
      "[I 2024-04-09 05:25:52,075] Trial 79 finished with value: 0.1810926949048496 and parameters: {'max_depth': 4, 'colsample_bylevel': 0.8744781941956835, 'random_strength': 1.6429960282757303, 'bagging_temperature': 4.8753326380397395}. Best is trial 72 with value: 0.18507963118189438.\n",
      "[I 2024-04-09 05:26:08,662] Trial 80 finished with value: 0.1830220713073005 and parameters: {'max_depth': 9, 'colsample_bylevel': 0.7487613718848946, 'random_strength': 2.3262188221533435, 'bagging_temperature': 3.7775182943378107}. Best is trial 72 with value: 0.18507963118189438.\n",
      "[I 2024-04-09 05:26:25,497] Trial 81 finished with value: 0.1852041688023236 and parameters: {'max_depth': 9, 'colsample_bylevel': 0.7270667916313567, 'random_strength': 1.6404702537843523, 'bagging_temperature': 4.538473007790868}. Best is trial 81 with value: 0.1852041688023236.\n",
      "[I 2024-04-09 05:26:37,858] Trial 82 finished with value: 0.1835860250494397 and parameters: {'max_depth': 8, 'colsample_bylevel': 0.7169037738406298, 'random_strength': 1.8354230222061558, 'bagging_temperature': 4.539743475127791}. Best is trial 81 with value: 0.1852041688023236.\n",
      "[I 2024-04-09 05:26:54,751] Trial 83 finished with value: 0.18241042345276873 and parameters: {'max_depth': 9, 'colsample_bylevel': 0.6922004645944029, 'random_strength': 1.409049694772188, 'bagging_temperature': 4.418355787762912}. Best is trial 81 with value: 0.1852041688023236.\n",
      "[I 2024-04-09 05:27:11,482] Trial 84 finished with value: 0.1838373483683581 and parameters: {'max_depth': 9, 'colsample_bylevel': 0.7382796582949303, 'random_strength': 2.7480554591082154, 'bagging_temperature': 4.738167190092025}. Best is trial 81 with value: 0.1852041688023236.\n",
      "[I 2024-04-09 05:27:18,296] Trial 85 finished with value: 0.1813710421149708 and parameters: {'max_depth': 5, 'colsample_bylevel': 0.7633406827165887, 'random_strength': 1.5781516344661872, 'bagging_temperature': 4.577854892798244}. Best is trial 81 with value: 0.1852041688023236.\n",
      "[I 2024-04-09 05:27:29,740] Trial 86 finished with value: 0.18198757763975154 and parameters: {'max_depth': 8, 'colsample_bylevel': 0.7913665905641185, 'random_strength': 2.392337193023986, 'bagging_temperature': 2.726615838171319}. Best is trial 81 with value: 0.1852041688023236.\n",
      "[I 2024-04-09 05:27:47,119] Trial 87 finished with value: 0.18430500940331682 and parameters: {'max_depth': 9, 'colsample_bylevel': 0.8435297326834067, 'random_strength': 1.0356454773361679, 'bagging_temperature': 4.191989719690506}. Best is trial 81 with value: 0.1852041688023236.\n",
      "[I 2024-04-09 05:28:04,281] Trial 88 finished with value: 0.18327919302444862 and parameters: {'max_depth': 9, 'colsample_bylevel': 0.8461329962024283, 'random_strength': 1.0893734647500857, 'bagging_temperature': 4.201815213549699}. Best is trial 81 with value: 0.1852041688023236.\n",
      "[I 2024-04-09 05:28:34,786] Trial 89 finished with value: 0.18295870360690017 and parameters: {'max_depth': 10, 'colsample_bylevel': 0.891647549940554, 'random_strength': 2.1246115031563675, 'bagging_temperature': 4.666488811485031}. Best is trial 81 with value: 0.1852041688023236.\n",
      "[I 2024-04-09 05:28:51,913] Trial 90 finished with value: 0.18371179784872801 and parameters: {'max_depth': 9, 'colsample_bylevel': 0.9766358421079586, 'random_strength': 1.1827194385192425, 'bagging_temperature': 4.862864828203992}. Best is trial 81 with value: 0.1852041688023236.\n",
      "[I 2024-04-09 05:29:08,788] Trial 91 finished with value: 0.18355836609126644 and parameters: {'max_depth': 9, 'colsample_bylevel': 0.8160699071795007, 'random_strength': 1.9149893731793082, 'bagging_temperature': 4.4001770935515}. Best is trial 81 with value: 0.1852041688023236.\n",
      "[I 2024-04-09 05:29:20,974] Trial 92 finished with value: 0.18333611621305726 and parameters: {'max_depth': 8, 'colsample_bylevel': 0.7243364100431323, 'random_strength': 1.0094386636027697, 'bagging_temperature': 4.104843542816768}. Best is trial 81 with value: 0.1852041688023236.\n",
      "[I 2024-04-09 05:29:51,069] Trial 93 finished with value: 0.18295870360690017 and parameters: {'max_depth': 10, 'colsample_bylevel': 0.7790880090230402, 'random_strength': 1.6449578676967243, 'bagging_temperature': 4.755612864994544}. Best is trial 81 with value: 0.1852041688023236.\n",
      "[I 2024-04-09 05:30:21,381] Trial 94 finished with value: 0.1833391425583827 and parameters: {'max_depth': 10, 'colsample_bylevel': 0.8655927631328962, 'random_strength': 1.345435172039377, 'bagging_temperature': 4.334488493967932}. Best is trial 81 with value: 0.1852041688023236.\n",
      "[I 2024-04-09 05:30:38,749] Trial 95 finished with value: 0.1837011884550085 and parameters: {'max_depth': 9, 'colsample_bylevel': 0.9498619667569237, 'random_strength': 3.0795224016605025, 'bagging_temperature': 4.5978452825160705}. Best is trial 81 with value: 0.1852041688023236.\n",
      "[I 2024-04-09 05:30:48,441] Trial 96 finished with value: 0.18341307814992025 and parameters: {'max_depth': 7, 'colsample_bylevel': 0.8363683315156983, 'random_strength': 2.509778471767275, 'bagging_temperature': 4.922693405711163}. Best is trial 81 with value: 0.1852041688023236.\n",
      "[I 2024-04-09 05:31:05,499] Trial 97 finished with value: 0.18336451777513182 and parameters: {'max_depth': 9, 'colsample_bylevel': 0.6897637673408403, 'random_strength': 2.034984121184008, 'bagging_temperature': 4.2631512100283695}. Best is trial 81 with value: 0.1852041688023236.\n",
      "[I 2024-04-09 05:31:18,015] Trial 98 finished with value: 0.18345263858831362 and parameters: {'max_depth': 8, 'colsample_bylevel': 0.7422509348326395, 'random_strength': 1.550618363744917, 'bagging_temperature': 4.7074255715719575}. Best is trial 81 with value: 0.1852041688023236.\n",
      "[I 2024-04-09 05:31:47,912] Trial 99 finished with value: 0.18465269357353195 and parameters: {'max_depth': 10, 'colsample_bylevel': 0.7163971508881531, 'random_strength': 3.301584930902236, 'bagging_temperature': 4.877436564227611}. Best is trial 81 with value: 0.1852041688023236.\n",
      "[I 2024-04-09 05:32:17,336] Trial 100 finished with value: 0.18276400208080457 and parameters: {'max_depth': 10, 'colsample_bylevel': 0.6448221320540493, 'random_strength': 3.853387566697635, 'bagging_temperature': 4.992699598908212}. Best is trial 81 with value: 0.1852041688023236.\n",
      "[I 2024-04-09 05:32:47,132] Trial 101 finished with value: 0.18279383763198892 and parameters: {'max_depth': 10, 'colsample_bylevel': 0.7119716488579905, 'random_strength': 3.377143162088304, 'bagging_temperature': 4.899795147391348}. Best is trial 81 with value: 0.1852041688023236.\n",
      "[I 2024-04-09 05:33:17,409] Trial 102 finished with value: 0.18397212543554006 and parameters: {'max_depth': 10, 'colsample_bylevel': 0.8002993236985527, 'random_strength': 2.255405595599772, 'bagging_temperature': 4.4655479101813995}. Best is trial 81 with value: 0.1852041688023236.\n",
      "[I 2024-04-09 05:33:47,522] Trial 103 finished with value: 0.1835883171070932 and parameters: {'max_depth': 10, 'colsample_bylevel': 0.7577192748832282, 'random_strength': 2.7519923083260434, 'bagging_temperature': 4.555873656029177}. Best is trial 81 with value: 0.1852041688023236.\n",
      "[I 2024-04-09 05:34:18,061] Trial 104 finished with value: 0.18289290681502085 and parameters: {'max_depth': 10, 'colsample_bylevel': 0.7980977115707797, 'random_strength': 2.933606234624455, 'bagging_temperature': 4.800821236388452}. Best is trial 81 with value: 0.1852041688023236.\n",
      "[I 2024-04-09 05:34:48,181] Trial 105 finished with value: 0.18307665686104863 and parameters: {'max_depth': 10, 'colsample_bylevel': 0.6844304446740639, 'random_strength': 3.2417265056329767, 'bagging_temperature': 4.476569067854338}. Best is trial 81 with value: 0.1852041688023236.\n",
      "[I 2024-04-09 05:35:18,605] Trial 106 finished with value: 0.1837800208840933 and parameters: {'max_depth': 10, 'colsample_bylevel': 0.7058172824305943, 'random_strength': 2.224522216483158, 'bagging_temperature': 4.69059611075047}. Best is trial 81 with value: 0.1852041688023236.\n",
      "[I 2024-04-09 05:35:35,748] Trial 107 finished with value: 0.18406169665809768 and parameters: {'max_depth': 9, 'colsample_bylevel': 0.7202152155076332, 'random_strength': 1.2480635330557552, 'bagging_temperature': 4.899113083794965}. Best is trial 81 with value: 0.1852041688023236.\n",
      "[I 2024-04-09 05:36:05,645] Trial 108 finished with value: 0.18311327310632383 and parameters: {'max_depth': 10, 'colsample_bylevel': 0.7322060215032994, 'random_strength': 5.494148745960514, 'bagging_temperature': 4.887887412861955}. Best is trial 81 with value: 0.1852041688023236.\n",
      "[I 2024-04-09 05:36:22,531] Trial 109 finished with value: 0.18380594465322855 and parameters: {'max_depth': 9, 'colsample_bylevel': 0.6592922248528227, 'random_strength': 1.2796489462795992, 'bagging_temperature': 4.585167510157271}. Best is trial 81 with value: 0.1852041688023236.\n",
      "[I 2024-04-09 05:36:53,180] Trial 110 finished with value: 0.18419220055710306 and parameters: {'max_depth': 10, 'colsample_bylevel': 0.9155577301201901, 'random_strength': 1.7915141999632187, 'bagging_temperature': 4.756057435896024}. Best is trial 81 with value: 0.1852041688023236.\n",
      "[I 2024-04-09 05:37:23,552] Trial 111 finished with value: 0.18387997208653176 and parameters: {'max_depth': 10, 'colsample_bylevel': 0.8298925808057441, 'random_strength': 1.4714412295853074, 'bagging_temperature': 4.805631822812875}. Best is trial 81 with value: 0.1852041688023236.\n",
      "[I 2024-04-09 05:37:53,982] Trial 112 finished with value: 0.18412808910546466 and parameters: {'max_depth': 10, 'colsample_bylevel': 0.9065183522146955, 'random_strength': 1.7214531859134157, 'bagging_temperature': 4.698211143081072}. Best is trial 81 with value: 0.1852041688023236.\n",
      "[I 2024-04-09 05:38:24,729] Trial 113 finished with value: 0.1841556636553162 and parameters: {'max_depth': 10, 'colsample_bylevel': 0.9110790021678963, 'random_strength': 1.707839308280898, 'bagging_temperature': 4.460509298568184}. Best is trial 81 with value: 0.1852041688023236.\n",
      "[I 2024-04-09 05:38:55,758] Trial 114 finished with value: 0.18315274379587557 and parameters: {'max_depth': 10, 'colsample_bylevel': 0.9258271689864732, 'random_strength': 1.7240370695989302, 'bagging_temperature': 4.4590877405676945}. Best is trial 81 with value: 0.1852041688023236.\n",
      "[I 2024-04-09 05:39:26,630] Trial 115 finished with value: 0.18346703871642833 and parameters: {'max_depth': 10, 'colsample_bylevel': 0.9054696891432646, 'random_strength': 1.2558297633570525, 'bagging_temperature': 4.248687899028062}. Best is trial 81 with value: 0.1852041688023236.\n",
      "[I 2024-04-09 05:39:57,079] Trial 116 finished with value: 0.1826086956521739 and parameters: {'max_depth': 10, 'colsample_bylevel': 0.8806915732199918, 'random_strength': 1.7309009461182177, 'bagging_temperature': 4.070430385377863}. Best is trial 81 with value: 0.1852041688023236.\n",
      "[I 2024-04-09 05:40:23,111] Trial 117 finished with value: 0.18161326678473677 and parameters: {'max_depth': 10, 'colsample_bylevel': 0.9565159010204618, 'random_strength': 1.519362443026436, 'bagging_temperature': 2.1613191689637214}. Best is trial 81 with value: 0.1852041688023236.\n",
      "[I 2024-04-09 05:40:34,878] Trial 118 finished with value: 0.1814003370614371 and parameters: {'max_depth': 9, 'colsample_bylevel': 0.9088307196056848, 'random_strength': 1.1958134343034177, 'bagging_temperature': 0.8383157031586888}. Best is trial 81 with value: 0.1852041688023236.\n",
      "[I 2024-04-09 05:41:05,535] Trial 119 finished with value: 0.18334206390780514 and parameters: {'max_depth': 10, 'colsample_bylevel': 0.9279839717654527, 'random_strength': 1.8768582075390179, 'bagging_temperature': 4.642409476504055}. Best is trial 81 with value: 0.1852041688023236.\n",
      "[I 2024-04-09 05:41:36,050] Trial 120 finished with value: 0.18305676855895198 and parameters: {'max_depth': 10, 'colsample_bylevel': 0.8559469403063289, 'random_strength': 1.0052630860802176, 'bagging_temperature': 4.369500983577712}. Best is trial 81 with value: 0.1852041688023236.\n",
      "[I 2024-04-09 05:41:52,941] Trial 121 finished with value: 0.18284154869520725 and parameters: {'max_depth': 9, 'colsample_bylevel': 0.9406875957733107, 'random_strength': 2.0575705113262126, 'bagging_temperature': 4.726138633482846}. Best is trial 81 with value: 0.1852041688023236.\n",
      "[I 2024-04-09 05:42:09,634] Trial 122 finished with value: 0.18400950602614158 and parameters: {'max_depth': 9, 'colsample_bylevel': 0.9155666334464696, 'random_strength': 2.323761035785559, 'bagging_temperature': 4.51152227155878}. Best is trial 81 with value: 0.1852041688023236.\n",
      "[I 2024-04-09 05:42:26,330] Trial 123 finished with value: 0.18293725423149257 and parameters: {'max_depth': 9, 'colsample_bylevel': 0.9934172968772633, 'random_strength': 2.252233665802041, 'bagging_temperature': 4.5234543370825495}. Best is trial 81 with value: 0.1852041688023236.\n",
      "[I 2024-04-09 05:42:43,210] Trial 124 finished with value: 0.18437285812200138 and parameters: {'max_depth': 9, 'colsample_bylevel': 0.9715220925250686, 'random_strength': 1.6468216045935584, 'bagging_temperature': 4.445292161707348}. Best is trial 81 with value: 0.1852041688023236.\n",
      "[I 2024-04-09 05:43:13,552] Trial 125 finished with value: 0.1834638816362054 and parameters: {'max_depth': 10, 'colsample_bylevel': 0.898819645244669, 'random_strength': 1.857618969617171, 'bagging_temperature': 4.1812430728817755}. Best is trial 81 with value: 0.1852041688023236.\n",
      "[I 2024-04-09 05:43:30,385] Trial 126 finished with value: 0.18355510064824293 and parameters: {'max_depth': 9, 'colsample_bylevel': 0.9750035184140913, 'random_strength': 1.638290643971534, 'bagging_temperature': 4.35603033463265}. Best is trial 81 with value: 0.1852041688023236.\n",
      "[I 2024-04-09 05:44:00,738] Trial 127 finished with value: 0.1826086956521739 and parameters: {'max_depth': 10, 'colsample_bylevel': 0.9426178511465683, 'random_strength': 1.3835975682429487, 'bagging_temperature': 3.495861074534453}. Best is trial 81 with value: 0.1852041688023236.\n",
      "[I 2024-04-09 05:44:17,429] Trial 128 finished with value: 0.18318523581681476 and parameters: {'max_depth': 9, 'colsample_bylevel': 0.8849711664464576, 'random_strength': 2.4305860751735606, 'bagging_temperature': 4.44526850169943}. Best is trial 81 with value: 0.1852041688023236.\n",
      "[I 2024-04-09 05:44:34,174] Trial 129 finished with value: 0.18389628113271922 and parameters: {'max_depth': 9, 'colsample_bylevel': 0.966461428519735, 'random_strength': 2.0805285343670534, 'bagging_temperature': 4.5419146727663975}. Best is trial 81 with value: 0.1852041688023236.\n",
      "[I 2024-04-09 05:45:04,407] Trial 130 finished with value: 0.18359511343804538 and parameters: {'max_depth': 10, 'colsample_bylevel': 0.8753371775086796, 'random_strength': 1.7313887099416525, 'bagging_temperature': 4.620543632357998}. Best is trial 81 with value: 0.1852041688023236.\n",
      "[I 2024-04-09 05:45:20,608] Trial 131 finished with value: 0.18208661417322836 and parameters: {'max_depth': 9, 'colsample_bylevel': 0.9271238431265352, 'random_strength': 9.968809662341299, 'bagging_temperature': 4.8926438992645265}. Best is trial 81 with value: 0.1852041688023236.\n",
      "[I 2024-04-09 05:45:37,508] Trial 132 finished with value: 0.1829039413069442 and parameters: {'max_depth': 9, 'colsample_bylevel': 0.9120628137016129, 'random_strength': 1.3951865012645854, 'bagging_temperature': 4.714038110872272}. Best is trial 81 with value: 0.1852041688023236.\n",
      "[I 2024-04-09 05:45:53,944] Trial 133 finished with value: 0.18157181571815717 and parameters: {'max_depth': 9, 'colsample_bylevel': 0.6740166040152553, 'random_strength': 1.5377998357026463, 'bagging_temperature': 3.2250506039542914}. Best is trial 81 with value: 0.1852041688023236.\n",
      "[I 2024-04-09 05:46:10,744] Trial 134 finished with value: 0.18381344307270234 and parameters: {'max_depth': 9, 'colsample_bylevel': 0.8474364360542032, 'random_strength': 1.195560750630177, 'bagging_temperature': 4.303747442505477}. Best is trial 81 with value: 0.1852041688023236.\n",
      "[I 2024-04-09 05:46:40,703] Trial 135 finished with value: 0.18320876064661915 and parameters: {'max_depth': 10, 'colsample_bylevel': 0.6312483211264418, 'random_strength': 1.9252839151445043, 'bagging_temperature': 4.793781602624664}. Best is trial 81 with value: 0.1852041688023236.\n",
      "[I 2024-04-09 05:46:57,796] Trial 136 finished with value: 0.1830288543623015 and parameters: {'max_depth': 9, 'colsample_bylevel': 0.7223802201002295, 'random_strength': 2.2324485805533127, 'bagging_temperature': 4.466828468833523}. Best is trial 81 with value: 0.1852041688023236.\n",
      "[I 2024-04-09 05:47:28,844] Trial 137 finished with value: 0.1833071963756752 and parameters: {'max_depth': 10, 'colsample_bylevel': 0.9636463998803884, 'random_strength': 1.687550632416118, 'bagging_temperature': 4.636534247701581}. Best is trial 81 with value: 0.1852041688023236.\n",
      "[I 2024-04-09 05:47:46,021] Trial 138 finished with value: 0.1838096868047236 and parameters: {'max_depth': 9, 'colsample_bylevel': 0.8054239140303273, 'random_strength': 1.0180176706356976, 'bagging_temperature': 4.9193861517379}. Best is trial 81 with value: 0.1852041688023236.\n",
      "[I 2024-04-09 05:48:03,067] Trial 139 finished with value: 0.18389628113271922 and parameters: {'max_depth': 9, 'colsample_bylevel': 0.980858138946741, 'random_strength': 1.4704761328352676, 'bagging_temperature': 4.5566746918896746}. Best is trial 81 with value: 0.1852041688023236.\n",
      "[I 2024-04-09 05:48:33,128] Trial 140 finished with value: 0.18248048568950564 and parameters: {'max_depth': 10, 'colsample_bylevel': 0.8638566959447133, 'random_strength': 2.565143663180203, 'bagging_temperature': 4.151959292940738}. Best is trial 81 with value: 0.1852041688023236.\n",
      "[I 2024-04-09 05:48:50,046] Trial 141 finished with value: 0.18371893744644388 and parameters: {'max_depth': 9, 'colsample_bylevel': 0.8878576495100662, 'random_strength': 1.9021225531836927, 'bagging_temperature': 4.819080345134721}. Best is trial 81 with value: 0.1852041688023236.\n",
      "[I 2024-04-09 05:49:20,598] Trial 142 finished with value: 0.1833391425583827 and parameters: {'max_depth': 10, 'colsample_bylevel': 0.9185033352323975, 'random_strength': 2.3894943801064508, 'bagging_temperature': 4.701492325974509}. Best is trial 81 with value: 0.1852041688023236.\n",
      "[I 2024-04-09 05:49:28,246] Trial 143 finished with value: 0.1814274750575595 and parameters: {'max_depth': 6, 'colsample_bylevel': 0.9384755426675331, 'random_strength': 8.842998483445154, 'bagging_temperature': 4.396966495500097}. Best is trial 81 with value: 0.1852041688023236.\n",
      "[I 2024-04-09 05:49:45,127] Trial 144 finished with value: 0.18262502133469877 and parameters: {'max_depth': 9, 'colsample_bylevel': 0.4085475846257655, 'random_strength': 1.2941787449023816, 'bagging_temperature': 4.999081450445661}. Best is trial 81 with value: 0.1852041688023236.\n",
      "[I 2024-04-09 05:50:15,523] Trial 145 finished with value: 0.1828312728539091 and parameters: {'max_depth': 10, 'colsample_bylevel': 0.8965914325216526, 'random_strength': 2.091615388790436, 'bagging_temperature': 4.779592496345825}. Best is trial 81 with value: 0.1852041688023236.\n",
      "[I 2024-04-09 05:50:27,833] Trial 146 finished with value: 0.18269711618603102 and parameters: {'max_depth': 8, 'colsample_bylevel': 0.5999995097001579, 'random_strength': 1.7962408030410912, 'bagging_temperature': 4.62698330219142}. Best is trial 81 with value: 0.1852041688023236.\n",
      "[I 2024-04-09 05:50:44,998] Trial 147 finished with value: 0.1837153609305508 and parameters: {'max_depth': 9, 'colsample_bylevel': 0.6982724915012483, 'random_strength': 1.6453198687844521, 'bagging_temperature': 4.8867725894107}. Best is trial 81 with value: 0.1852041688023236.\n",
      "[I 2024-04-09 05:51:15,624] Trial 148 finished with value: 0.18345448251990307 and parameters: {'max_depth': 10, 'colsample_bylevel': 0.8196652211259381, 'random_strength': 4.378149839472313, 'bagging_temperature': 4.494164672032322}. Best is trial 81 with value: 0.1852041688023236.\n",
      "[I 2024-04-09 05:51:46,119] Trial 149 finished with value: 0.18336516756381316 and parameters: {'max_depth': 10, 'colsample_bylevel': 0.8348536464904049, 'random_strength': 2.2474401809924522, 'bagging_temperature': 4.254475347033784}. Best is trial 81 with value: 0.1852041688023236.\n",
      "[I 2024-04-09 05:52:02,503] Trial 150 finished with value: 0.18269230769230768 and parameters: {'max_depth': 9, 'colsample_bylevel': 0.6534309796147135, 'random_strength': 1.2555600046533417, 'bagging_temperature': 2.8200769177818117}. Best is trial 81 with value: 0.1852041688023236.\n",
      "[I 2024-04-09 05:52:32,745] Trial 151 finished with value: 0.18317952289744036 and parameters: {'max_depth': 10, 'colsample_bylevel': 0.7641038070633616, 'random_strength': 2.5622704585061524, 'bagging_temperature': 4.721809688732883}. Best is trial 81 with value: 0.1852041688023236.\n",
      "[I 2024-04-09 05:53:02,629] Trial 152 finished with value: 0.1834607366226546 and parameters: {'max_depth': 10, 'colsample_bylevel': 0.7748098278875706, 'random_strength': 2.663045818736403, 'bagging_temperature': 4.822314113674352}. Best is trial 81 with value: 0.1852041688023236.\n",
      "[I 2024-04-09 05:53:32,618] Trial 153 finished with value: 0.18364867210553723 and parameters: {'max_depth': 10, 'colsample_bylevel': 0.7425387246762083, 'random_strength': 2.854524022815795, 'bagging_temperature': 4.651477468734944}. Best is trial 81 with value: 0.1852041688023236.\n",
      "[I 2024-04-09 05:54:02,165] Trial 154 finished with value: 0.18331580792148616 and parameters: {'max_depth': 10, 'colsample_bylevel': 0.7132377384210191, 'random_strength': 2.0122744613764447, 'bagging_temperature': 4.5524195745413785}. Best is trial 81 with value: 0.1852041688023236.\n",
      "[I 2024-04-09 05:54:18,771] Trial 155 finished with value: 0.1835389555517999 and parameters: {'max_depth': 9, 'colsample_bylevel': 0.7509206559780354, 'random_strength': 6.367259563081536, 'bagging_temperature': 4.911349701046294}. Best is trial 81 with value: 0.1852041688023236.\n",
      "[I 2024-04-09 05:54:48,211] Trial 156 finished with value: 0.1835245046923879 and parameters: {'max_depth': 10, 'colsample_bylevel': 0.6828165300571182, 'random_strength': 2.391366884819341, 'bagging_temperature': 4.772037454385182}. Best is trial 81 with value: 0.1852041688023236.\n",
      "[I 2024-04-09 05:55:05,009] Trial 157 finished with value: 0.18287076451557976 and parameters: {'max_depth': 9, 'colsample_bylevel': 0.7284696408865566, 'random_strength': 3.0957776271245088, 'bagging_temperature': 4.399422183486149}. Best is trial 81 with value: 0.1852041688023236.\n",
      "[I 2024-04-09 05:55:35,046] Trial 158 finished with value: 0.1834319526627219 and parameters: {'max_depth': 10, 'colsample_bylevel': 0.7893973481351324, 'random_strength': 1.4531687430752196, 'bagging_temperature': 4.6874076057328}. Best is trial 81 with value: 0.1852041688023236.\n",
      "[I 2024-04-09 05:55:47,520] Trial 159 finished with value: 0.18336673346693386 and parameters: {'max_depth': 8, 'colsample_bylevel': 0.9109025443946511, 'random_strength': 2.1487955228551874, 'bagging_temperature': 4.564471047152625}. Best is trial 81 with value: 0.1852041688023236.\n",
      "[I 2024-04-09 05:56:18,239] Trial 160 finished with value: 0.1833391425583827 and parameters: {'max_depth': 10, 'colsample_bylevel': 0.8713076269888473, 'random_strength': 1.904331758970782, 'bagging_temperature': 4.866468328020347}. Best is trial 81 with value: 0.1852041688023236.\n",
      "[I 2024-04-09 05:56:31,815] Trial 161 finished with value: 0.18075622502305563 and parameters: {'max_depth': 9, 'colsample_bylevel': 0.7043561961284063, 'random_strength': 2.8540467659431537, 'bagging_temperature': 2.4445522919104508}. Best is trial 81 with value: 0.1852041688023236.\n",
      "[I 2024-04-09 05:56:38,635] Trial 162 finished with value: 0.18151001540832049 and parameters: {'max_depth': 5, 'colsample_bylevel': 0.719748252972656, 'random_strength': 3.1929973409414116, 'bagging_temperature': 4.965540795925473}. Best is trial 81 with value: 0.1852041688023236.\n",
      "[I 2024-04-09 05:56:55,746] Trial 163 finished with value: 0.18345201763309596 and parameters: {'max_depth': 9, 'colsample_bylevel': 0.7378205442227751, 'random_strength': 3.5880114093636464, 'bagging_temperature': 4.765052782611747}. Best is trial 81 with value: 0.1852041688023236.\n",
      "[I 2024-04-09 05:57:12,945] Trial 164 finished with value: 0.18402185046090816 and parameters: {'max_depth': 9, 'colsample_bylevel': 0.664696553930341, 'random_strength': 1.5437049391087194, 'bagging_temperature': 4.994726344324991}. Best is trial 81 with value: 0.1852041688023236.\n",
      "[I 2024-04-09 05:57:29,985] Trial 165 finished with value: 0.18330773169482847 and parameters: {'max_depth': 9, 'colsample_bylevel': 0.661461855705726, 'random_strength': 1.5631620182656913, 'bagging_temperature': 4.4704422261451615}. Best is trial 81 with value: 0.1852041688023236.\n",
      "[I 2024-04-09 05:57:35,367] Trial 166 finished with value: 0.1814003370614371 and parameters: {'max_depth': 3, 'colsample_bylevel': 0.8101076024430505, 'random_strength': 1.703341990954506, 'bagging_temperature': 1.3479201740448237}. Best is trial 81 with value: 0.1852041688023236.\n",
      "[I 2024-04-09 05:57:52,260] Trial 167 finished with value: 0.18388039181990032 and parameters: {'max_depth': 9, 'colsample_bylevel': 0.8565270939878428, 'random_strength': 1.342631465321538, 'bagging_temperature': 4.85328302571071}. Best is trial 81 with value: 0.1852041688023236.\n",
      "[I 2024-04-09 05:58:21,897] Trial 168 finished with value: 0.18315018315018314 and parameters: {'max_depth': 10, 'colsample_bylevel': 0.673321478532294, 'random_strength': 1.1190544308146988, 'bagging_temperature': 4.630224324065526}. Best is trial 81 with value: 0.1852041688023236.\n",
      "[I 2024-04-09 05:58:34,466] Trial 169 finished with value: 0.18412698412698414 and parameters: {'max_depth': 8, 'colsample_bylevel': 0.6412865301821075, 'random_strength': 2.0182221873245827, 'bagging_temperature': 4.994939777218889}. Best is trial 81 with value: 0.1852041688023236.\n",
      "[I 2024-04-09 05:58:46,832] Trial 170 finished with value: 0.18380526577247888 and parameters: {'max_depth': 8, 'colsample_bylevel': 0.630792602389534, 'random_strength': 1.968599955365792, 'bagging_temperature': 4.953801168239527}. Best is trial 81 with value: 0.1852041688023236.\n",
      "[I 2024-04-09 05:58:59,529] Trial 171 finished with value: 0.18357487922705315 and parameters: {'max_depth': 8, 'colsample_bylevel': 0.6425060188279141, 'random_strength': 1.8023942119500265, 'bagging_temperature': 4.763604821572822}. Best is trial 81 with value: 0.1852041688023236.\n",
      "[I 2024-04-09 05:59:12,056] Trial 172 finished with value: 0.18381253116170848 and parameters: {'max_depth': 8, 'colsample_bylevel': 0.621091542397413, 'random_strength': 2.279359553807871, 'bagging_temperature': 4.99981487712652}. Best is trial 81 with value: 0.1852041688023236.\n",
      "[I 2024-04-09 05:59:21,658] Trial 173 finished with value: 0.18345093008338678 and parameters: {'max_depth': 7, 'colsample_bylevel': 0.9521695829109378, 'random_strength': 1.5793069837915572, 'bagging_temperature': 4.87976767165201}. Best is trial 81 with value: 0.1852041688023236.\n",
      "[I 2024-04-09 05:59:34,619] Trial 174 finished with value: 0.18342504585626146 and parameters: {'max_depth': 8, 'colsample_bylevel': 0.6535496194688665, 'random_strength': 2.0667685838953425, 'bagging_temperature': 4.710935128770048}. Best is trial 81 with value: 0.1852041688023236.\n",
      "[I 2024-04-09 05:59:51,966] Trial 175 finished with value: 0.18421955403087478 and parameters: {'max_depth': 9, 'colsample_bylevel': 0.6936537578953189, 'random_strength': 1.427108959197271, 'bagging_temperature': 4.829841699917808}. Best is trial 81 with value: 0.1852041688023236.\n",
      "[I 2024-04-09 06:00:08,993] Trial 176 finished with value: 0.18491401328111698 and parameters: {'max_depth': 9, 'colsample_bylevel': 0.6799212949358153, 'random_strength': 1.4082477743097543, 'bagging_temperature': 4.328387680710304}. Best is trial 81 with value: 0.1852041688023236.\n",
      "[I 2024-04-09 06:00:26,049] Trial 177 finished with value: 0.18415197672428546 and parameters: {'max_depth': 9, 'colsample_bylevel': 0.6891485683081495, 'random_strength': 1.1608716376783774, 'bagging_temperature': 4.336435310023449}. Best is trial 81 with value: 0.1852041688023236.\n",
      "[I 2024-04-09 06:00:43,152] Trial 178 finished with value: 0.18337032610551476 and parameters: {'max_depth': 9, 'colsample_bylevel': 0.688418368878015, 'random_strength': 1.4072905727045217, 'bagging_temperature': 4.312876174578673}. Best is trial 81 with value: 0.1852041688023236.\n",
      "[I 2024-04-09 06:01:00,029] Trial 179 finished with value: 0.1836211318174047 and parameters: {'max_depth': 9, 'colsample_bylevel': 0.6886954024043936, 'random_strength': 1.1983679799827787, 'bagging_temperature': 4.047749331408823}. Best is trial 81 with value: 0.1852041688023236.\n",
      "[I 2024-04-09 06:01:17,172] Trial 180 finished with value: 0.18389628113271922 and parameters: {'max_depth': 9, 'colsample_bylevel': 0.697041352194951, 'random_strength': 1.5074103629906732, 'bagging_temperature': 4.210567047833744}. Best is trial 81 with value: 0.1852041688023236.\n",
      "[I 2024-04-09 06:01:34,296] Trial 181 finished with value: 0.18268738261908826 and parameters: {'max_depth': 9, 'colsample_bylevel': 0.6623370908792796, 'random_strength': 1.0658673140297492, 'bagging_temperature': 4.353167511148391}. Best is trial 81 with value: 0.1852041688023236.\n",
      "[I 2024-04-09 06:01:51,507] Trial 182 finished with value: 0.18300429184549355 and parameters: {'max_depth': 9, 'colsample_bylevel': 0.9994451945379834, 'random_strength': 1.0006067168627883, 'bagging_temperature': 4.466299613993}. Best is trial 81 with value: 0.1852041688023236.\n",
      "[I 2024-04-09 06:02:08,663] Trial 183 finished with value: 0.1840301576422207 and parameters: {'max_depth': 9, 'colsample_bylevel': 0.675808010116863, 'random_strength': 1.2325425049928285, 'bagging_temperature': 4.591387702019584}. Best is trial 81 with value: 0.1852041688023236.\n",
      "[I 2024-04-09 06:02:25,777] Trial 184 finished with value: 0.18382978723404256 and parameters: {'max_depth': 9, 'colsample_bylevel': 0.6734947393017556, 'random_strength': 1.6465529335479685, 'bagging_temperature': 4.535691110457471}. Best is trial 81 with value: 0.1852041688023236.\n",
      "[I 2024-04-09 06:02:42,965] Trial 185 finished with value: 0.1824381926683717 and parameters: {'max_depth': 9, 'colsample_bylevel': 0.6424859734028167, 'random_strength': 1.305805041495819, 'bagging_temperature': 4.358132288631783}. Best is trial 81 with value: 0.1852041688023236.\n",
      "[I 2024-04-09 06:03:00,073] Trial 186 finished with value: 0.1840762164001361 and parameters: {'max_depth': 9, 'colsample_bylevel': 0.7000940896844032, 'random_strength': 1.7923446678869608, 'bagging_temperature': 4.577095280415201}. Best is trial 81 with value: 0.1852041688023236.\n",
      "[I 2024-04-09 06:03:17,259] Trial 187 finished with value: 0.18381344307270234 and parameters: {'max_depth': 9, 'colsample_bylevel': 0.7061968620440143, 'random_strength': 1.728036175618924, 'bagging_temperature': 4.600999261294916}. Best is trial 81 with value: 0.1852041688023236.\n",
      "[I 2024-04-09 06:03:34,378] Trial 188 finished with value: 0.18393162393162393 and parameters: {'max_depth': 9, 'colsample_bylevel': 0.6808311226150802, 'random_strength': 1.4536544696828595, 'bagging_temperature': 4.245672604599841}. Best is trial 81 with value: 0.1852041688023236.\n",
      "[I 2024-04-09 06:03:51,414] Trial 189 finished with value: 0.18437285812200138 and parameters: {'max_depth': 9, 'colsample_bylevel': 0.7156500686670196, 'random_strength': 1.7969670321536364, 'bagging_temperature': 4.621082555849232}. Best is trial 81 with value: 0.1852041688023236.\n",
      "[I 2024-04-09 06:04:08,522] Trial 190 finished with value: 0.18356493395093498 and parameters: {'max_depth': 9, 'colsample_bylevel': 0.7113550500693138, 'random_strength': 1.2369246695839404, 'bagging_temperature': 4.428304795367851}. Best is trial 81 with value: 0.1852041688023236.\n",
      "[I 2024-04-09 06:04:25,256] Trial 191 finished with value: 0.18404490559618983 and parameters: {'max_depth': 9, 'colsample_bylevel': 0.6980354511216506, 'random_strength': 1.8997580092802189, 'bagging_temperature': 4.606281439490909}. Best is trial 81 with value: 0.1852041688023236.\n",
      "[I 2024-04-09 06:04:42,213] Trial 192 finished with value: 0.18362452894826994 and parameters: {'max_depth': 9, 'colsample_bylevel': 0.691830414162162, 'random_strength': 1.8112200158926268, 'bagging_temperature': 4.677630814269148}. Best is trial 81 with value: 0.1852041688023236.\n",
      "[I 2024-04-09 06:04:58,990] Trial 193 finished with value: 0.18333333333333332 and parameters: {'max_depth': 9, 'colsample_bylevel': 0.7200720515212773, 'random_strength': 1.5712701490247705, 'bagging_temperature': 4.542595946494918}. Best is trial 81 with value: 0.1852041688023236.\n",
      "[I 2024-04-09 06:05:15,908] Trial 194 finished with value: 0.18334188472721052 and parameters: {'max_depth': 9, 'colsample_bylevel': 0.6982867737037035, 'random_strength': 1.8407571979497546, 'bagging_temperature': 4.623371635252019}. Best is trial 81 with value: 0.1852041688023236.\n",
      "[I 2024-04-09 06:05:32,899] Trial 195 finished with value: 0.1835518474374255 and parameters: {'max_depth': 9, 'colsample_bylevel': 0.36774648071159705, 'random_strength': 1.371302882544034, 'bagging_temperature': 4.796370064867169}. Best is trial 81 with value: 0.1852041688023236.\n",
      "[I 2024-04-09 06:05:50,164] Trial 196 finished with value: 0.1836211318174047 and parameters: {'max_depth': 9, 'colsample_bylevel': 0.7232178640344705, 'random_strength': 1.6658913367446384, 'bagging_temperature': 4.7240079771676}. Best is trial 81 with value: 0.1852041688023236.\n",
      "[I 2024-04-09 06:06:07,058] Trial 197 finished with value: 0.18404490559618983 and parameters: {'max_depth': 9, 'colsample_bylevel': 0.6667283850897247, 'random_strength': 1.913712756927056, 'bagging_temperature': 4.899625490175969}. Best is trial 81 with value: 0.1852041688023236.\n",
      "[I 2024-04-09 06:06:23,895] Trial 198 finished with value: 0.18396711202466598 and parameters: {'max_depth': 9, 'colsample_bylevel': 0.6666217637214412, 'random_strength': 1.4729585487882046, 'bagging_temperature': 4.897982815583158}. Best is trial 81 with value: 0.1852041688023236.\n",
      "[I 2024-04-09 06:06:40,905] Trial 199 finished with value: 0.18287076451557976 and parameters: {'max_depth': 9, 'colsample_bylevel': 0.6782291813652662, 'random_strength': 1.8899116670616476, 'bagging_temperature': 4.851874391343575}. Best is trial 81 with value: 0.1852041688023236.\n"
     ]
    },
    {
     "name": "stdout",
     "output_type": "stream",
     "text": [
      "Best hyperparameters: {'max_depth': 9, 'colsample_bylevel': 0.7270667916313567, 'random_strength': 1.6404702537843523, 'bagging_temperature': 4.538473007790868}\n",
      "Best F1: 0.1852041688023236\n"
     ]
    }
   ],
   "source": [
    "def objective(trial):\n",
    "    params = {\n",
    "        \"iterations\":500,\n",
    "        #\"logging_level\":'silent',\n",
    "        #\"verbose\":0,\n",
    "        \"learning_rate\": 0.01,\n",
    "        \"max_depth\": trial.suggest_int(\"max_depth\", 3,10),\n",
    "        # \"min_data_in_leaf\": trial.suggest_int(\"min_data_in_leaf\", 20,100),\n",
    "        \"random_state\": 42,\n",
    "        # \"subsample\": trial.suggest_uniform('subsample', 0.5, 1.0),\n",
    "        \"colsample_bylevel\": trial.suggest_float('colsample_bylevel', 0.3, 1.0),\n",
    "        \"random_strength\": trial.suggest_float(\"random_strength\", 1, 10.0),\n",
    "        \"bagging_temperature\": trial.suggest_float(\"bagging_temperature\", 0.2, 5.0),\n",
    "        \"bootstrap_type\": 'Bayesian',\n",
    "        \"eval_metric\":'Logloss',\n",
    "        \"auto_class_weights\":'Balanced'\n",
    "    }\n",
    "\n",
    "    model = catboost.CatBoostClassifier(**params, silent=True)\n",
    "    # model.fit(X_train, y_train)\n",
    "    model.fit(pool)\n",
    "    # y_pred_test = model.predict_proba(X_test)\n",
    "    y_pred_test = model.predict(X_test)\n",
    "    f1 = f1_score(y_test, y_pred_test)\n",
    "    return f1\n",
    "\n",
    "sampler = TPESampler(seed=42)\n",
    "study = optuna.create_study(direction='maximize',sampler=sampler)\n",
    "study.optimize(objective, n_trials=200)\n",
    "\n",
    "print('Best hyperparameters:', study.best_params)\n",
    "print('Best F1:', study.best_value)"
   ]
  },
  {
   "cell_type": "code",
   "execution_count": 11,
   "metadata": {
    "id": "JyMOmKkvb0Un"
   },
   "outputs": [],
   "source": [
    "#[I 2024-01-24 13:19:08,146] Trial 23 finished with value: 0.7698620649790703 and parameters: {'max_depth': 10, 'min_data_in_leaf': 85, 'colsample_bylevel': 0.7016150314426027, 'random_strength': 8.542169542677488, 'bagging_temperature': 8.681806510285387}. Best is trial 23 with value: 0.7698620649790703."
   ]
  },
  {
   "cell_type": "code",
   "execution_count": 12,
   "metadata": {
    "id": "_nkFsxvLgcIG"
   },
   "outputs": [],
   "source": [
    "# Best hyperparameters: {'max_depth': 5, 'colsample_bylevel': 0.8574269294896714, 'random_strength': 4.887505167779041, 'bagging_temperature': 3.2666768318813983}\n",
    "# Best F1: 0.9351504102964708\n",
    "#Trial 0 finished with value: 0.9204353814269528 and parameters: {'max_depth': 5, 'colsample_bylevel': 0.9655000144869412, 'random_strength': 7.587945476302646, 'bagging_temperature': 3.073560724145776}. Best is trial 0 with value: 0.9204353814269528."
   ]
  }
 ],
 "metadata": {
  "accelerator": "GPU",
  "colab": {
   "gpuType": "T4",
   "provenance": []
  },
  "kernelspec": {
   "display_name": "Python 3 (ipykernel)",
   "language": "python",
   "name": "python3"
  },
  "language_info": {
   "codemirror_mode": {
    "name": "ipython",
    "version": 3
   },
   "file_extension": ".py",
   "mimetype": "text/x-python",
   "name": "python",
   "nbconvert_exporter": "python",
   "pygments_lexer": "ipython3",
   "version": "3.10.12"
  }
 },
 "nbformat": 4,
 "nbformat_minor": 4
}
